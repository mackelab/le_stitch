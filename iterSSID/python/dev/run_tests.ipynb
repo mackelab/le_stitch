{
 "cells": [
  {
   "cell_type": "code",
   "execution_count": null,
   "metadata": {
    "collapsed": true
   },
   "outputs": [],
   "source": [
    "%matplotlib inline\n",
    "import os\n",
    "import numpy as np\n",
    "\n",
    "np.random.seed(0)\n",
    "\n",
    "os.chdir('../core')\n",
    "from script_like import run_test\n",
    "\n",
    "ns = (3,10,30)\n",
    "Ts = (100, 1000, 10000)\n",
    "num_reps = 1\n",
    "\n",
    "# fully observed\n",
    "p,n,T,k,l = 1000,50,1000,5,5\n",
    "sub_pops = (np.arange(p), np.arange(p))\n",
    "max_iter_nl = 100\n",
    "\n",
    "for n in ns:\n",
    "    for rep in range(num_reps):\n",
    "        save_file = 'test_p' + str(p) + 'n' + str(n) + 'T' + str(T) + 'k' + str(k) + 'l' + str(l)\n",
    "        save_file = save_file + '_fullyObs_nr' + str(rep)\n",
    "        #print('save_file')\n",
    "        run_test(p,n,T,k,l,sub_pops,max_iter_nl=max_iter_nl, save_file = save_file)"
   ]
  }
 ],
 "metadata": {
  "kernelspec": {
   "display_name": "Python 3",
   "language": "python",
   "name": "python3"
  },
  "language_info": {
   "codemirror_mode": {
    "name": "ipython",
    "version": 3
   },
   "file_extension": ".py",
   "mimetype": "text/x-python",
   "name": "python",
   "nbconvert_exporter": "python",
   "pygments_lexer": "ipython3",
   "version": "3.5.0"
  }
 },
 "nbformat": 4,
 "nbformat_minor": 0
}
