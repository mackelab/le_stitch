{
 "cells": [
  {
   "cell_type": "markdown",
   "metadata": {},
   "source": [
    "# Getting started"
   ]
  },
  {
   "cell_type": "markdown",
   "metadata": {},
   "source": [
    "## Importing tensorflow and defining the two core objects Graph and Session\n",
    "\n",
    "- graph is what collects all computations\n",
    "- session is the execution environment\n",
    "- there's always a (default) graph, sess apparently needs to be initialised"
   ]
  },
  {
   "cell_type": "code",
   "execution_count": null,
   "metadata": {
    "collapsed": false
   },
   "outputs": [],
   "source": [
    "import tensorflow as tf\n",
    "\n",
    "def_graph = tf.get_default_graph() # doesn't do anything, but nice to know we can touch the graph\n",
    "sess = tf.Session()\n"
   ]
  },
  {
   "cell_type": "markdown",
   "metadata": {},
   "source": [
    "# 'Construction' phase"
   ]
  },
  {
   "cell_type": "markdown",
   "metadata": {},
   "source": [
    "## adding to the computational graph"
   ]
  },
  {
   "cell_type": "code",
   "execution_count": null,
   "metadata": {
    "collapsed": false
   },
   "outputs": [],
   "source": [
    "# invoking tf.constant(), tf.matrix() etc. automatically adds to the graph. Assigning gives just a pointer\n",
    "a = tf.constant(10)\n",
    "assert a.graph is def_graph\n",
    "b = tf.constant(10)\n",
    "assert b.graph is def_graph\n",
    "\n",
    "print(sess.run(a+b))\n",
    "sum_ = a+b\n",
    "print(sess.run(sum_))\n",
    "\n",
    "ops = tf.get_default_graph().get_operations()\n",
    "\n",
    "for i in ops:\n",
    "    print(i is a)\n",
    "    print(i.graph is def_graph)"
   ]
  },
  {
   "cell_type": "markdown",
   "metadata": {},
   "source": [
    "### Let's try out making a second graph and adding stuff to it"
   ]
  },
  {
   "cell_type": "code",
   "execution_count": null,
   "metadata": {
    "collapsed": false
   },
   "outputs": [],
   "source": [
    "g = tf.Graph()\n",
    "with g.as_default():\n",
    "    c = tf.constant(10)\n",
    "    assert c.graph is g\n",
    "    \n",
    "    "
   ]
  },
  {
   "cell_type": "markdown",
   "metadata": {
    "collapsed": false,
    "scrolled": true
   },
   "source": [
    "### Finalising graphs (making them read-only)"
   ]
  },
  {
   "cell_type": "code",
   "execution_count": null,
   "metadata": {
    "collapsed": false
   },
   "outputs": [],
   "source": [
    "g.finalize()\n",
    "\n",
    "print('is g finalised?', g.finalized)\n",
    "print('now try adding to g')\n",
    "try:\n",
    "    with g.as_default():\n",
    "        d = tf.constant(10)\n",
    "except: \n",
    "    print('didnt let us ...')"
   ]
  },
  {
   "cell_type": "markdown",
   "metadata": {},
   "source": [
    "# Running phase"
   ]
  },
  {
   "cell_type": "markdown",
   "metadata": {},
   "source": [
    "## simple example using variables"
   ]
  },
  {
   "cell_type": "code",
   "execution_count": null,
   "metadata": {
    "collapsed": false
   },
   "outputs": [],
   "source": [
    "# Create a Variable, that will be initialized to the scalar value 0.\n",
    "state = tf.Variable(0, name=\"counter\")\n",
    "\n",
    "# Create an Op to add one to `state`.\n",
    "\n",
    "one = tf.constant(1)\n",
    "new_value = tf.add(state, one)\n",
    "update = tf.assign(state, new_value)\n",
    "\n",
    "# Variables must be initialized by running an `init` Op after having\n",
    "# launched the graph.  We first have to add the `init` Op to the graph.\n",
    "init_op = tf.initialize_all_variables()\n",
    "\n",
    "# Launch the graph and run the ops.\n",
    "with tf.Session() as sess:\n",
    "  # Run the 'init' op\n",
    "  sess.run(init_op)\n",
    "  # Print the initial value of 'state'\n",
    "  print(sess.run(state))\n",
    "  # Run the op that updates 'state' and print 'state'.\n",
    "  for _ in range(3):\n",
    "    sess.run(update)\n",
    "    print(sess.run(state))\n"
   ]
  },
  {
   "cell_type": "markdown",
   "metadata": {},
   "source": [
    "# An applied example ..."
   ]
  },
  {
   "cell_type": "code",
   "execution_count": null,
   "metadata": {
    "collapsed": false,
    "scrolled": true
   },
   "outputs": [],
   "source": [
    "%matplotlib notebook\n",
    "import tensorflow as tf\n",
    "import numpy as np\n",
    "import matplotlib.pyplot as plt\n",
    "\n",
    "def_graph = tf.get_default_graph() # doesn't do anything, but nice to know we can touch the graph\n",
    "sess = tf.Session()\n",
    "\n",
    "def matpow(M, n):\n",
    "    if n < 1: #Abstract cases where n < 1\n",
    "        return M\n",
    "    else:\n",
    "        return tf.matmul(M, matpow(M, n-1))\n",
    "\n",
    "p, n = 20, 3\n",
    "k, l = 3, 3\n",
    "\n",
    "gamma = 1.\n",
    "\n",
    "C_true = np.asarray(np.random.normal(size=(p,n)), dtype=np.float32)\n",
    "B_true = np.asarray(np.random.normal(size=(n,n)), dtype=np.float32)\n",
    "Pi_true = B_true.dot(B_true.T)\n",
    "\n",
    "A_true = np.random.normal(size=(n,n))\n",
    "A_true /= np.atleast_2d(np.sqrt(np.sum(A_true**2, axis=0)))\n",
    "A_true = A_true.dot( np.diag( np.linspace(0.8, 1.05, n))).dot(np.linalg.inv(A_true))\n",
    "A_true = np.asarray(A_true, dtype=np.float32)\n",
    "\n",
    "A_0 = 0.9 * np.asarray(np.eye(n), dtype=np.float32)\n",
    "\n",
    "print('sig(A_0)', np.linalg.svd(A_0)[1])\n",
    "print('eig(A_0)', np.linalg.eigvals(A_0))\n",
    "\n",
    "C  = tf.Variable(initial_value=tf.random_normal(shape=(p,n)), name='C')  # note how we may not use \n",
    "A  = tf.Variable(initial_value=A_0, name='A')                            # the tf.constants p_, n_.\n",
    "Pi = tf.Variable(initial_value=tf.random_normal(shape=(n,n)), name='Pi') # tf wants fixed (numpy) numbers\n",
    "\n",
    "loss = tf.zeros(1, name ='loss_m'+str(0))\n",
    "Qm_models, Qm_emps = [], []\n",
    "\n",
    "for m in range(1,k+l):\n",
    "    Qm_models.append(tf.matmul(tf.matmul(C, \n",
    "                                         tf.matmul( matpow(A, m), \n",
    "                                                    Pi)), \n",
    "                               tf.transpose(C), \n",
    "                     name='Qm_model'+str(m)))\n",
    "    Qm_emps.append(  tf.matmul(tf.matmul(C_true, \n",
    "                                         tf.matmul( matpow(A_true, m), \n",
    "                                                    Pi_true)), \n",
    "                               tf.transpose(C_true), \n",
    "                   name='Q_emp'+str(m)))\n",
    "    loss = tf.add(loss, \n",
    "                  tf.reduce_mean(tf.squared_difference(Qm_models[-1], \n",
    "                                                       Qm_emps[-1], \n",
    "                                                       name='SE'+str(m)), \n",
    "                                 name='MSE'+str(m)), \n",
    "                  name ='loss_m'+str(m))\n",
    "    \n",
    "loss_barrier = tf.log( tf.matrix_determinant( tf.sub(np.asarray(np.eye(n),dtype=np.float32), \n",
    "                                                     tf.matmul(A, tf.transpose(A)) ) ),\n",
    "                       name='loss_barrer')\n",
    "loss_final = tf.sub(loss, tf.mul(tf.constant(gamma) , loss_barrier), name='loss_final')\n",
    "\n",
    "loss2use = loss_final\n",
    "\n",
    "optimizer = tf.train.GradientDescentOptimizer(0.00001)\n",
    "\n",
    "global_step = tf.Variable(0, name='global_step', trainable=False)\n",
    "train_op = optimizer.minimize(loss2use, global_step=global_step)\n",
    "\n",
    "init = tf.initialize_all_variables()\n",
    "\n",
    "#tf.scalar_summary(loss.op.name, loss)\n",
    "#summary_op = tf.merge_all_summaries()\n",
    "#summary_writer = tf.train.SummaryWriter(FLAGS.train_dir, sess.graph)\n",
    "\n",
    "sess.run(init)\n",
    "\n",
    "err = np.sum([np.mean( (sess.run(Qm_emps[m]) - sess.run(Qm_models[m]))**2 ) for m in range(k+l-1)]) \n",
    "bar = gamma * np.log( np.linalg.det( np.eye(n) - sess.run(A).dot(sess.run(A).T)))\n",
    "print('initial error', err - bar)\n",
    "print('(and what tf thinks it was):', sess.run(loss2use) )"
   ]
  },
  {
   "cell_type": "code",
   "execution_count": null,
   "metadata": {
    "collapsed": false,
    "scrolled": true
   },
   "outputs": [],
   "source": [
    "\n",
    "\n",
    "max_iter = 10000\n",
    "loss_values = np.zeros(max_iter)\n",
    "\n",
    "print('pre training')\n",
    "plt.figure(figsize=(12,8))\n",
    "for m in range(1,k+l):\n",
    "    plt.subplot(2,k+l-1,m)\n",
    "    plt.imshow(sess.run(Qm_emps[m-1]), interpolation='none')\n",
    "    plt.subplot(2,k+l-1,k+l-1 + m)\n",
    "    plt.imshow(sess.run(Qm_models[m-1]), interpolation='none')\n",
    "plt.show()\n",
    "\n",
    "for t in range(max_iter):\n",
    "    _, loss_values[t] = sess.run([train_op, loss2use])\n",
    "\n",
    "plt.figure(figsize=(12,5))\n",
    "plt.plot(loss_values)\n",
    "plt.show()\n",
    "\n",
    "print('post training')\n",
    "plt.figure(figsize=(12,8))\n",
    "for m in range(1,k+l):\n",
    "    plt.subplot(2,k+l-1,m)\n",
    "    plt.imshow(sess.run(Qm_emps[m-1]), interpolation='none')\n",
    "    plt.subplot(2,k+l-1,k+l-1 + m)\n",
    "    plt.imshow(sess.run(Qm_models[m-1]), interpolation='none')\n",
    "plt.show()\n",
    "\n",
    "print('post-training error', \n",
    "      np.sum([np.mean( (sess.run(Qm_emps[m]) - sess.run(Qm_models[m]))**2 ) for m in range(k+l-1)]) )\n",
    "print('(and what tf thinks it was):', sess.run(loss) )\n",
    "\n",
    "\n",
    "print('current barrier value', sess.run(loss_barrier))\n",
    "print('actual barrier value',  \n",
    "      gamma * np.log( np.linalg.det( np.eye(n) - sess.run(A).dot(sess.run(A).T)) ))\n",
    "\n",
    "print('true spectrum', np.linalg.svd(A_true)[1])\n",
    "print('est. spectrum', np.linalg.svd(sess.run(A))[1])\n",
    "\n"
   ]
  },
  {
   "cell_type": "code",
   "execution_count": null,
   "metadata": {
    "collapsed": true
   },
   "outputs": [],
   "source": []
  }
 ],
 "metadata": {
  "kernelspec": {
   "display_name": "Python 3",
   "language": "python",
   "name": "python3"
  },
  "language_info": {
   "codemirror_mode": {
    "name": "ipython",
    "version": 3
   },
   "file_extension": ".py",
   "mimetype": "text/x-python",
   "name": "python",
   "nbconvert_exporter": "python",
   "pygments_lexer": "ipython3",
   "version": "3.5.1"
  }
 },
 "nbformat": 4,
 "nbformat_minor": 0
}
