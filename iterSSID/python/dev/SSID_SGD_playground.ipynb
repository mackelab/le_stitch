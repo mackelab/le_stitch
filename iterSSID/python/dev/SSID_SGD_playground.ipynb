{
 "cells": [
  {
   "cell_type": "markdown",
   "metadata": {},
   "source": [
    "# Stochastic gradient descent\n",
    "- three variants\n",
    "    - size-1 mini-batches (batch_size = 1), zips through all observed entries of $\\mbox{cov}(y_{t+m},y_t)$ and computes gradients from one at time\n",
    "    - column mini-batches (batch_size = p), zips through all columns of $\\mbox{cov}(y_{t+m},y_t)$ and computes gradients from observed entries \n",
    "    - batch-gradients (batch_size = None), computes a full gradient using all observed entries $\\mbox{cov}(y_{t+m},y_t)$ at the same time"
   ]
  },
  {
   "cell_type": "code",
   "execution_count": null,
   "metadata": {
    "collapsed": false,
    "scrolled": true
   },
   "outputs": [],
   "source": [
    "%matplotlib inline\n",
    "import matplotlib.pyplot as plt\n",
    "import numpy as np\n",
    "import scipy as sp\n",
    "from scipy.optimize import fmin_bfgs, check_grad\n",
    "import glob, os\n",
    "\n",
    "os.chdir('../core')\n",
    "from utility import get_subpop_stats, comp_model_covariances\n",
    "from SSID_Hankel_loss import l2_sis_setup, g_l2_Hankel_sis, plot_outputs_l2_gradient_test, yy_Hankel_cov_mat\n",
    "from SSID_Hankel_loss import l2_sis_draw, adam_zip\n",
    "os.chdir('../dev')\n",
    "\n",
    "p,n = 10,3\n",
    "k,l = 3,3\n",
    "\n",
    "batch_size = None\n",
    "\n",
    "a, b1, b2, e = 0.001, 0.9, 0.99, 1e-8\n",
    "max_iter = 1000\n",
    "\n",
    "# create subpopulations\n",
    "sub_pops = (np.arange(0,p//2+1), np.arange(p//2-1,p))\n",
    "if p < 200:\n",
    "    print('sub_pops', sub_pops)\n",
    "obs_idx, idx_grp, co_obs, overlaps, overlap_grp, idx_overlap, Om, Ovw, Ovc = \\\n",
    "    get_subpop_stats(sub_pops, p, verbose=False)\n",
    "\n",
    "for rep in range(1):\n",
    "    #\"\"\"\n",
    "    C_true      = np.random.normal(size=(p,n))\n",
    "    \n",
    "    V = np.random.normal(size=(n,n))\n",
    "    V /= np.sqrt(np.sum(V**2,axis=0)).reshape(1,-1)\n",
    "    A_true = V.dot(np.diag(np.linspace(0.7, 0.95, n))).dot(np.linalg.inv(V))\n",
    "    \n",
    "    B_true      = np.random.normal(size=(n,n))/np.sqrt(n)    \n",
    "    Pi_true     = B_true.dot(B_true.T) #np.eye(n) \n",
    "    \n",
    "    Qs = comp_model_covariances({'A': A_true, 'Pi': Pi_true, 'C': C_true}, k+l, Om)\n",
    "    Qs_full = comp_model_covariances({'A': A_true, 'Pi': Pi_true, 'C': C_true}, k+l)\n",
    "\n",
    "    \n",
    "    A_0  = np.diag(np.random.uniform(low=0.7, high=0.8, size=n))\n",
    "    B_0  = np.eye(n) #np.random.normal(size=(n,n))\n",
    "    Pi_0 = B_0.dot(B_0.T)\n",
    "    C_0  = np.random.normal(size=(p,n))\n",
    "    pars_0 = np.hstack((A_0.reshape(n*n,),\n",
    "                        B_0.reshape(n*n,),\n",
    "                        C_0.reshape(p*n,)))\n",
    "\n",
    "    f_i, _ = l2_sis_setup(k,l,n,Qs,Om,idx_grp,obs_idx)\n",
    "    def g_i(theta, idx_use, idx_co):\n",
    "        return g_l2_Hankel_sis(theta,k,l,n,Qs,idx_use,idx_co)\n",
    "    \n",
    "    #\"\"\"\n",
    "\n",
    "    def converged(theta_old, theta, e, t):\n",
    "        if t >= max_iter:\n",
    "            return True\n",
    "        return np.abs(f_i(theta_old) - f_i(theta)) < e\n",
    "    \n",
    "    print('starting descent')\n",
    "    pars_est_vec, fs = adam_zip(f_i,g_i,pars_0.copy(),a,b1,b2,e,max_iter,converged,Om,idx_grp,co_obs,batch_size)\n",
    "    \n",
    "    A_est = pars_est_vec[:n*n].reshape(n,n)\n",
    "    B_est = pars_est_vec[n*n:2*n*n].reshape(n,n)\n",
    "    Pi_est = B_est.dot(B_est.T)\n",
    "    C_est = pars_est_vec[-p*n:].reshape(p,n)\n",
    "    \n",
    "    pars_init = {'A': A_0, 'C': C_0, 'Pi': Pi_0, 'B': B_0}\n",
    "    pars_est  = {'A': A_est, 'C': C_est, 'Pi': Pi_est, 'B': B_est}\n",
    "    pars_true = {'A': A_true, 'C': C_true, 'Pi': Pi_true, 'B': B_true}\n",
    "    plot_outputs_l2_gradient_test(pars_true, pars_init, pars_est, k, l, Qs, \n",
    "                                       Qs_full, Om, Ovc, Ovw, f_i, g_i, if_flip = True)\n",
    "    \n",
    "    plt.figure(figsize=(20,8))\n",
    "    plt.plot(fs[:max_iter])\n",
    "    plt.show()\n",
    "    \n"
   ]
  },
  {
   "cell_type": "markdown",
   "metadata": {},
   "source": [
    "# Do another round (same number of steps)"
   ]
  },
  {
   "cell_type": "code",
   "execution_count": null,
   "metadata": {
    "collapsed": false
   },
   "outputs": [],
   "source": [
    "pars_est_vec, fs = adam_zip(f_i,g_i,pars_est_vec.copy(),a,b1,b2,e,converged,Om,idx_grp,co_obs,v_0=v_0)"
   ]
  },
  {
   "cell_type": "code",
   "execution_count": null,
   "metadata": {
    "collapsed": false,
    "scrolled": true
   },
   "outputs": [],
   "source": [
    "A_est = pars_est_vec[:n*n].reshape(n,n)\n",
    "B_est = pars_est_vec[n*n:2*n*n].reshape(n,n)\n",
    "Pi_est = B_est.dot(B_est.T)\n",
    "C_est = pars_est_vec[-p*n:].reshape(p,n)\n",
    "\n",
    "pars_init = {'A': A_0, 'C': C_0, 'Pi': Pi_0, 'B': B_0}\n",
    "pars_est  = {'A': A_est, 'C': C_est, 'Pi': Pi_est, 'B': B_est}\n",
    "pars_true = {'A': A_true, 'C': C_true, 'Pi': Pi_true, 'B': B_true}\n",
    "plot_outputs_l2_gradient_test(pars_true, pars_init, pars_est, 5, 5, Qs, \n",
    "                                   Qs_full, Om, Ovc, Ovw, f_i, g_i, if_flip = True)\n",
    "\n",
    "plt.figure(figsize=(20,8))\n",
    "plt.plot(fs[:max_iter])\n",
    "plt.show()\n"
   ]
  },
  {
   "cell_type": "code",
   "execution_count": null,
   "metadata": {
    "collapsed": false
   },
   "outputs": [],
   "source": [
    "os.chdir('../core')\n",
    "from utility import get_subpop_stats, comp_model_covariances\n",
    "from SSID_Hankel_loss import l2_sis_setup, g_l2_Hankel_sis, plot_outputs_l2_gradient_test, yy_Hankel_cov_mat\n",
    "os.chdir('../dev')\n",
    "\n",
    "A_est = pars_est_vec[:n*n].reshape(n,n).copy()\n",
    "B_est = pars_est_vec[n*n:2*n*n].reshape(n,n).copy()\n",
    "Pi_est = B_est.dot(B_est.T).copy()\n",
    "C_est = pars_est_vec[-p*n:].reshape(p,n).copy()\n",
    "\n",
    "H_true = yy_Hankel_cov_mat(C_true,A_true,Pi_true,5,5,np.ones((p,p),dtype=bool))        \n",
    "H_emp = yy_Hankel_cov_mat(C_true,A_true,Pi_true,5,5,Om)\n",
    "H_emp[np.where(H_emp==0)] = np.nan\n",
    "\n",
    "\n",
    "H_est = yy_Hankel_cov_mat(C_est,A_est,Pi_est,5,5,np.ones((p,p),dtype=bool))\n",
    "\n",
    "H_obs = yy_Hankel_cov_mat(C_est,A_est,Pi_est,5,5,Om)\n",
    "H_obs[np.where(H_obs==0)] = np.nan\n",
    "\n",
    "plt.figure(figsize=(20,9))\n",
    "plt.subplot(1,2,1)\n",
    "plt.plot(H_true[np.isnan(H_emp)], H_est[np.isnan(H_obs)], 'k.')\n",
    "plt.xlabel('true un-observed covariances(all time lags)')\n",
    "plt.ylabel('est. stitchted covariances(all time lags)')\n",
    "plt.subplot(1,2,2)\n",
    "plt.plot(H_emp, H_obs, 'k.')\n",
    "plt.xlabel('true observed covariances(all time lags)')\n",
    "plt.ylabel('est. observed covariances(all time lags)')\n",
    "plt.show()"
   ]
  },
  {
   "cell_type": "code",
   "execution_count": null,
   "metadata": {
    "collapsed": false
   },
   "outputs": [],
   "source": [
    "from scipy.io import savemat # store results for comparison with Matlab code   \n",
    "\n",
    "pars_true_vec = np.hstack((A_true.reshape(n*n,),\n",
    "                    B_true.reshape(n*n,),\n",
    "                    C_true.reshape(p*n,)))\n",
    "\n",
    "os.chdir('../fits/')\n",
    "\n",
    "save_file = 'p500n20r2.npz'\n",
    "\n",
    "save_file_m = {'A_true':A_true,\n",
    "               'B_true':B_true,\n",
    "               'Pi_true' : Pi_true, \n",
    "               'C_true' : C_true,\n",
    "               'A_0':A_0,\n",
    "               'B_0':B_0,\n",
    "               'Pi_0':Pi_0,\n",
    "               'C_0':C_0,\n",
    "               'A_est':A_est,\n",
    "               'B_est':B_est,\n",
    "               'Pi_est' : Pi_est, \n",
    "               'C_est' : C_est}\n",
    "\n",
    "savemat(save_file,save_file_m) # does the actual saving\n",
    "\n",
    "np.savez(save_file, \n",
    "         pars_0_vec=pars_0,\n",
    "         pars_true_vec=pars_true_vec, \n",
    "         pars_est_vec=pars_est_vec)  "
   ]
  }
 ],
 "metadata": {
  "kernelspec": {
   "display_name": "Python 3",
   "language": "python",
   "name": "python3"
  },
  "language_info": {
   "codemirror_mode": {
    "name": "ipython",
    "version": 3
   },
   "file_extension": ".py",
   "mimetype": "text/x-python",
   "name": "python",
   "nbconvert_exporter": "python",
   "pygments_lexer": "ipython3",
   "version": "3.5.1"
  }
 },
 "nbformat": 4,
 "nbformat_minor": 0
}
