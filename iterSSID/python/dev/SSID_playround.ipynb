{
 "cells": [
  {
   "cell_type": "code",
   "execution_count": null,
   "metadata": {
    "collapsed": false
   },
   "outputs": [],
   "source": [
    "%matplotlib inline\n",
    "import matplotlib.pyplot as plt\n",
    "import numpy as np\n",
    "from scipy.io import loadmat\n",
    "import glob, os\n",
    "\n",
    "os.chdir('../core')\n",
    "import stitching_ssid as ssid\n",
    "\n",
    "os.chdir('../../../../pyRRHDLDS/core')\n",
    "import ssm_scripts\n",
    "\n",
    "import pprint"
   ]
  },
  {
   "cell_type": "code",
   "execution_count": null,
   "metadata": {
    "collapsed": false,
    "scrolled": false
   },
   "outputs": [],
   "source": [
    "%matplotlib inline\n",
    "from timeit import default_timer as timer\n",
    "\n",
    "\n",
    "p, n, m, T = 20, 3, 2, 150\n",
    "\n",
    "print('\\n Chosen system and simulation sizes: ')\n",
    "print(' (p, n, m, T) = ', (p, n, m, T))\n",
    "\n",
    "pars_true, options = ssm_scripts.gen_pars(x_dim=n, y_dim=p, u_dim=m, pars_in=None, obs_scheme=None, \n",
    "                                 gen_A='full', lts=np.linspace(0.95, 0.99, n), gen_B='random', gen_Q='identity', \n",
    "                                 gen_mu0='zero', gen_d='zero', gen_R='zero', diag_R_flag=True)\n",
    "pars_true['D'] = np.random.normal(size=(p,m))\n",
    "\n",
    "# Return function sim_sys() that returns output given inputs\n",
    "sim_sys = ssid.d_system(pars_true, stype='LTI')\n",
    "\n",
    "# Fix input signal (given system matrices, will fix the output!)\n",
    "inputs = np.random.normal(0,1,size=(T,m))\n",
    "\n",
    "# Compute x, y\n",
    "data, stateseq = sim_sys(inputs)\n",
    "\n",
    "##############\n",
    "# new stuff  #\n",
    "##############\n",
    "\n",
    "sub_pops = (np.arange(0,10), np.arange(5,15), np.arange(10,20))\n",
    "r = len(sub_pops)\n",
    "\n",
    "k,l = n,n\n",
    "comp_A_from='observability'\n",
    "observ = np.zeros((k*p, r*n))\n",
    "L22 = np.nan * np.empty((k*p, k*sum([sub_pops[i].size for i in range(r)])))\n",
    "for i in range(r):\n",
    "    data_i = data[:,sub_pops[i]]\n",
    "    W_i = ssid.input_output_Hankel_mat(data_i, inputs, k, l, N=T-k-l+1)\n",
    "\n",
    "    start = timer()\n",
    "    L = np.linalg.qr(W_i, mode='r').T\n",
    "    L22_i = L[k*m:,k*m:]\n",
    "    end = timer()\n",
    "    \n",
    "    rho_k = np.hstack( [sub_pops[i]+kr*p for kr in range(r)] )\n",
    "    idx_n = k*sum([sub_pops[j].size for j in range(i)]) + np.arange(k*sub_pops[i].size,dtype=int)\n",
    "    L22[np.ix_(rho_k, idx_n)] = L22_i.copy()\n",
    "\n",
    "plt.figure(figsize=(20,5))\n",
    "plt.subplot(1,2,1)\n",
    "plt.imshow(L22, interpolation='none')\n",
    "plt.colorbar()\n",
    "plt.subplot(1,2,2)\n",
    "Z = ssid.soft_impute(L22, n, max_iter=5000)\n",
    "plt.imshow(Z, interpolation='none')\n",
    "plt.colorbar()\n",
    "\n",
    "U,s,V = np.linalg.svd(Z)\n",
    "sqs = np.sqrt(s)\n",
    "n = np.sum(np.abs(sqs)>1e-3) # latent dimensionality determined from data!\n",
    "U, sqS, V = U[:,:n], np.diag(sqs[:n]), V[:n,:]\n",
    "observ = U.dot(sqS)\n",
    "\n",
    "if comp_A_from == 'observability':\n",
    "    A = ssid.comp_A(observ, p, k, comp_A_from)\n",
    "if comp_A_from == 'reachability':\n",
    "    A = ssid.comp_A(reach, m, l, comp_A_from)\n",
    "\n",
    "pars_est = {'A' : A, \n",
    "            'B' : None,\n",
    "            'C' : observ[:p,:n],\n",
    "            'D' : None}\n",
    "\n",
    "ssid.rotate_latent_bases_obs(np.arange(p), np.arange(p), pars_true, pars_est, overwrite=True)\n",
    "\n",
    "plt.figure(figsize=(20,8))\n",
    "plt.subplot(1,3,1)\n",
    "plt.imshow(pars_true['C'], interpolation='none')\n",
    "plt.subplot(1,3,2)\n",
    "plt.imshow(pars_est['C'], interpolation='none')\n",
    "plt.subplot(1,3,3)\n",
    "plt.plot(pars_true['C'], pars_est['C'], '.')\n",
    "plt.show()            \n",
    "\n",
    "    "
   ]
  },
  {
   "cell_type": "code",
   "execution_count": null,
   "metadata": {
    "collapsed": false
   },
   "outputs": [],
   "source": [
    "X_true = np.random.normal(size=(10,3)).dot(np.random.normal(size=(3,10)))\n",
    "X = X_true.copy()\n",
    "\n",
    "idx_nan =np.unravel_index(np.random.choice(X.size,X.size//10,False),X.shape)\n",
    "X[idx_nan] = np.nan\n",
    "\n",
    "plt.figure(figsize=(20,8))\n",
    "plt.subplot(1,3,1)\n",
    "plt.imshow(X_true, interpolation='none')\n",
    "\n",
    "plt.subplot(1,3,2)\n",
    "plt.imshow(X, interpolation='none')\n",
    "\n",
    "Z = ssid.soft_impute(X, 3, max_iter=500)\n",
    " \n",
    "plt.subplot(1,3,3)\n",
    "plt.imshow(Z, interpolation='none')\n",
    "plt.show()\n",
    "\n",
    "np.mean( (X_true[idx_nan] - Z[idx_nan])**2 )\n"
   ]
  },
  {
   "cell_type": "code",
   "execution_count": null,
   "metadata": {
    "collapsed": false
   },
   "outputs": [],
   "source": [
    "X_true[idx_nan],Z[idx_nan]"
   ]
  },
  {
   "cell_type": "markdown",
   "metadata": {},
   "source": [
    "# Generate LTI system\n",
    "\n",
    "$ y_t = C x_t + D u_t $  \n",
    "\n",
    "$ x_{t+1} = A x_t + B u_t $\n",
    "\n",
    "$ y_t \\in \\mathbb{R}^p, x_t \\in \\mathbb{R}^n ,u_t \\in \\mathbb{R}^m, t \\in \\{0, \\ldots, T \\}  $ "
   ]
  },
  {
   "cell_type": "code",
   "execution_count": null,
   "metadata": {
    "collapsed": false
   },
   "outputs": [],
   "source": [
    "p, n, m, T = 4, 3, 2, 100\n",
    "\n",
    "print('\\n Chosen system and simulation sizes: ')\n",
    "print(' (p, n, m, T) = ', (p, n, m, T))\n",
    "\n",
    "pars_true, options = ssm_scripts.gen_pars(x_dim=n, y_dim=p, u_dim=m, pars_in=None, obs_scheme=None, \n",
    "                                 gen_A='full', lts=np.linspace(0.95, 0.99, n), gen_B='random', gen_Q='identity', \n",
    "                                 gen_mu0='zero', gen_d='zero', gen_R='zero', diag_R_flag=True)\n",
    "pars_true['D'] = np.random.normal(size=(p,m))\n",
    "\n",
    "# Return function sim_sys() that returns output given inputs\n",
    "sim_sys = ssid.d_system(pars_true, stype='LTI')\n",
    "\n",
    "# Fix input signal (given system matrices, will fix the output!)\n",
    "inputs = np.random.normal(0,1,size=(T,m))\n",
    "\n",
    "# Compute x, y\n",
    "data, stateseq = sim_sys(inputs)\n",
    "\n",
    "# Visualize    \n",
    "print('\\n Generated input, output and state trajectories:')\n",
    "plt.figure(figsize=(17,3))\n",
    "plt.subplot(1,3,3)\n",
    "plt.plot(data)\n",
    "plt.title('y')\n",
    "plt.subplot(1,3,2)\n",
    "plt.plot(stateseq)\n",
    "plt.title('x')\n",
    "plt.subplot(1,3,1)\n",
    "plt.plot(inputs)\n",
    "plt.title('u')\n",
    "plt.show()"
   ]
  },
  {
   "cell_type": "markdown",
   "metadata": {
    "collapsed": false
   },
   "source": [
    "# Ho-Kalman's method \n",
    "\n",
    "Ho-Kalman reconstructs the system matrices $A,B,C,D$ from the impulse responses $G_t$ of the system.\n",
    "\n",
    "We will use the true system matrices to simulate the impulse reponses $G_t$, as the system ouput $y_t$ of a system at rest ($x_0 = 0$) upon stimulation with an impulse at $t=0$, i.e. $u_0 = 1, u_t = 0$ for $t>0$.\n",
    "\n",
    "- ground truth input response functions (using ground-truth $A,B,C,D$), \n",
    "- system initially at rest x_0 = 0\n",
    "- impulse responses of length $k+l \\geq 2n$ are sufficient\n",
    "- latent dimensionality $\\hat{n}$ is estimated from the (Hankel matrix of) impulse responses\n",
    "- $(A,B,C)$ has to be minimal for this to work, i.e. $(A,C)$ being observable, $(B,C)$ being reachable\n",
    "- there is two ways to get $A$ (reachability or observability matrix), both are implemented\n"
   ]
  },
  {
   "cell_type": "code",
   "execution_count": null,
   "metadata": {
    "collapsed": false,
    "scrolled": false
   },
   "outputs": [],
   "source": [
    "# set-up \n",
    "k, l = n, n # algorithm is guaranteed to work (given assumptions are met) if k,l are at least ground-truth n\n",
    "G_true = ssid.d_calc_impulse_responses(pars_true)\n",
    "comp_A_from = 'observability' # can get A either from observability or from reachability matrix\n",
    "\n",
    "# Do Ho-Kalman\n",
    "pars_est, obs_est , reach_est , _ , n_est = ssid.Ho_Kalman(G_true,k,l,comp_A_from)\n",
    "pars_est['mu0'] = np.zeros(n)\n",
    "\n",
    "# Since there is no noise, we can just check system identification by feeding novel inputs into the true and\n",
    "# our reconstructed system - the outputs should be identical (note this depends on knowing that x(0)=0)\n",
    "inputs = np.random.normal(0,1,size=(T,m))\n",
    "data, stateseq = sim_sys(inputs)\n",
    "data_est, stateseq_est = ssid.d_sim_system_LTI(pars_est, inputs)\n",
    "print('')\n",
    "print('true and estimated latent dim. : (n, n_hat) = ', (n, n_est))\n",
    "\n",
    "err = ssid.data_reconstruction_MSE(data, data_est)\n",
    "print('\\n We check system identification quality by comparing true and estimated outputs to *novel* inputs \\n ')\n",
    "print('worst-cell reconstruction MSE = ', err.max())\n",
    "print('average reconstruction MSE = ', err.mean())\n",
    "\n",
    "# Visualize    \n",
    "plt.figure(figsize=(17,10))\n",
    "plt.subplot(2,2,1)\n",
    "plt.plot(data)\n",
    "plt.title('y')\n",
    "plt.subplot(2,2,3)\n",
    "plt.plot(data_est)\n",
    "plt.title('y_est')\n",
    "plt.subplot(2,2,2)\n",
    "plt.plot(stateseq)\n",
    "plt.title('x')\n",
    "plt.subplot(2,2,4)\n",
    "plt.plot(stateseq_est)\n",
    "plt.title('x_est')\n",
    "plt.show()"
   ]
  },
  {
   "cell_type": "markdown",
   "metadata": {},
   "source": [
    "# naive Ho-Kalman's method on systems not at rest\n",
    "\n",
    "- imulse input $$ u_t =\n",
    "\\left\\{\n",
    "\t\\begin{array}{ll}\n",
    "\t\t1 & \\mbox{if } t = 0 \\\\\n",
    "\t\t0   & \\mbox{if } 0 < t < 2n\n",
    "\t\\end{array}\n",
    "\\right.$$\n",
    "- estimating input responses from output data of system\n",
    "- assuming $x_0 =0$ even though the system initially is **not** at rest\n"
   ]
  },
  {
   "cell_type": "code",
   "execution_count": null,
   "metadata": {
    "collapsed": false
   },
   "outputs": [],
   "source": [
    "k, l = n, n # algorithm is guaranteed to work (given assumptions are met) if k,l are at least n\n",
    "Gs, X0 = ssid.d_est_input_responses(pars_true,k+l,0)\n",
    "pars_est, obs_est , reach_est , _ , n_est = ssid.Ho_Kalman(Gs[0:],k,l,comp_A_from)\n",
    "\n",
    "print('\\n Applying Ho-Kalman to improper impulse responses of the ground-truth system')\n",
    "print('(improper means that x(0)~=0, so that the impulse responses superimpose with CA^{t-1}x(0))')\n",
    "\n",
    "print('\\n The estimated parameters B,D will be wrong, but we can correct using the ground-truth x(0)')\n",
    "\n",
    "print('\\n true and estimated D \\n')\n",
    "print(pars_true['D'])\n",
    "print('')\n",
    "print(pars_est['D'])\n",
    "print('\\n true and estimated C*B \\n')\n",
    "print(pars_true['C'].dot(pars_true['B']))\n",
    "print('')\n",
    "print(pars_est['C'].dot(pars_est['B']))\n",
    "print('\\n true and estimated C*A*B \\n')\n",
    "print(pars_true['C'].dot(pars_true['A'].dot(pars_true['B'])))\n",
    "print('')\n",
    "print(pars_est['C'].dot(pars_est['A']).dot(pars_est['B']))\n",
    "\n",
    "print('\\n true and estimated tilde{D} (correcting with true x(0)) \\n ')\n",
    "print(pars_true['D'] + pars_true['C'].dot(X0.T))\n",
    "print('')\n",
    "print(pars_est['D'])\n",
    "\n",
    "print('\\n true and estimated tilde{C}*tilde{B} (correcting with true x(0)) \\n')\n",
    "print(pars_true['C'].dot(pars_true['B']) + pars_true['C'].dot(pars_true['A'].dot(X0.T)))\n",
    "print('')\n",
    "print(pars_est['C'].dot(pars_est['B']))\n",
    "\n",
    "\n"
   ]
  },
  {
   "cell_type": "markdown",
   "metadata": {},
   "source": [
    "# corrected Ho-Kalman's method on systems not at rest\n",
    "\n",
    "- extended imulse input $$ u_t =\n",
    "\\left\\{\n",
    "\t\\begin{array}{ll}\n",
    "        0 & \\mbox{if } -n < t < 0 \\\\\n",
    "\t\t1 & \\mbox{if } t = 0 \\\\\n",
    "\t\t0 & \\mbox{if } 0 < t < 2n\n",
    "\t\\end{array}\n",
    "\\right.$$\n",
    "- estimating input responses from output data of system\n",
    "- using Ho-Kalman ill-assuming $x_0 =0$, then correcting the system matrix estimates\n"
   ]
  },
  {
   "cell_type": "code",
   "execution_count": null,
   "metadata": {
    "collapsed": false
   },
   "outputs": [],
   "source": [
    "k, l = n, n # algorithm is guaranteed to work (given assumptions are met) if k,l are at least n\n",
    "pars_est, sqs, n_est, X0_est = ssid.Ho_Kalman_nonzero_init(pars_true, k, l)\n",
    "\n",
    "print('\\n Applying Ho-Kalman to improper impulse responses of the ground-truth system')\n",
    "print(' and correcting for this using observability and an extended (zero-padded) input sequence')\n",
    "print('\\n true and estimated D')\n",
    "print(pars_true['D'])\n",
    "print('')\n",
    "print(pars_est['D'])\n",
    "print('\\n true and estimated C*B')\n",
    "print(pars_true['C'].dot(pars_true['B']))\n",
    "print('')\n",
    "print(pars_est['C'].dot(pars_est['B']))\n",
    "print('\\n true and estimated C*A*B')\n",
    "print(pars_true['C'].dot(pars_true['A'].dot(pars_true['B'])))\n",
    "print('')\n",
    "print(pars_est['C'].dot(pars_est['A']).dot(pars_est['B']))\n"
   ]
  },
  {
   "cell_type": "markdown",
   "metadata": {},
   "source": [
    "# stitching Ho-Kalman for systems not at rest, stitching impulse responses\n",
    "\n",
    "- extended imulse input $$ u_t =\n",
    "\\left\\{\n",
    "\t\\begin{array}{ll}\n",
    "        0 & \\mbox{if } -n < t < 0 \\\\\n",
    "\t\t1 & \\mbox{if } t = 0 \\\\\n",
    "\t\t0 & \\mbox{if } 0 < t < 2n\n",
    "\t\\end{array}\n",
    "\\right.$$\n",
    "- estimating input responses $G^i_t$ individually for each subpopulation from output data of system\n",
    "- using Ho-Kalman on each subpopulation, ill-assuming $x_0 =0$ and then correcting the system matrix estimates $(A^i, B^i, C^i, D^i)$\n",
    "- stitching the subpopulations by stitching the impulse responses ($G^i_t \\rightarrow G_t$) before applying Ho-Kalman once more (now for the whole system)\n"
   ]
  },
  {
   "cell_type": "code",
   "execution_count": null,
   "metadata": {
    "collapsed": false
   },
   "outputs": [],
   "source": [
    "k, l = n, n # algorithm is guaranteed to work (given assumptions are met) if k,l are at least n\n",
    "sub_pops = ((0,1), (1,2), (2,3))\n",
    "method = 'impulses' # stitching using impulse responses\n",
    "pars_est, n_est = ssid.stitching_Ho_Kalman(pars_true, sub_pops, k, method=method)\n",
    "\n",
    "print('\\n true and estimated D')\n",
    "print(pars_true['D'])\n",
    "print('')\n",
    "print(pars_est['D'])\n",
    "print('\\n true and estimated C*B')\n",
    "print(pars_true['C'].dot(pars_true['B']))\n",
    "print('')\n",
    "print(pars_est['C'].dot(pars_est['B']))\n",
    "print('\\n true and estimated C*A*B')\n",
    "print(pars_true['C'].dot(pars_true['A'].dot(pars_true['B'])))\n",
    "print('')\n",
    "print(pars_est['C'].dot(pars_est['A']).dot(pars_est['B']))"
   ]
  },
  {
   "cell_type": "markdown",
   "metadata": {
    "collapsed": false
   },
   "source": [
    "# stitching Ho-Kalman for systems not at rest, aligning system matrices\n",
    "\n",
    "- extended imulse input $$ u_t =\n",
    "\\left\\{\n",
    "\t\\begin{array}{ll}\n",
    "        0 & \\mbox{if } -n < t < 0 \\\\\n",
    "\t\t1 & \\mbox{if } t = 0 \\\\\n",
    "\t\t0 & \\mbox{if } 0 < t < 2n\n",
    "\t\\end{array}\n",
    "\\right.$$\n",
    "- estimating input responses $G^i_t$ individually for each subpopulation from output data of system\n",
    "- using Ho-Kalman on each subpopulation, ill-assuming $x_0 =0$ and then correcting the system matrix estimates $(A^i, B^i, C^i, D^i)$\n",
    "- stitching the subpopulations by explictily rotating the obtained subpopulation system matrices $(A^i, B^i, C^i, D^i)$ using constraints obtained from observability matrices $\\mathcal{O}_k$ and reachability matrices $\\mathcal{C}_l$ under pairs of subpopulations $i \\neq j$\n"
   ]
  },
  {
   "cell_type": "code",
   "execution_count": null,
   "metadata": {
    "collapsed": false
   },
   "outputs": [],
   "source": [
    "k, l = n, n # algorithm is guaranteed to work (given assumptions are met) if k,l are at least n\n",
    "sub_pops = (np.array((0,1)), np.array((1,2)), np.array((2,3)))\n",
    "\n",
    "method = 'parameters_reach' # '_reach' to use reachability matrix, '_obs' for using observability matrix\n",
    "\n",
    "pars_est, n_est = ssid.stitching_Ho_Kalman(pars_true, sub_pops, k, method=method)\n",
    "\n",
    "print('\\n true and estimated D')\n",
    "print(pars_true['D'])\n",
    "print('')\n",
    "print(pars_est['D'])\n",
    "print('\\n true and estimated C*B')\n",
    "print(pars_true['C'].dot(pars_true['B']))\n",
    "print('')\n",
    "print(pars_est['C'].dot(pars_est['B']))\n",
    "print('\\n true and estimated C*A*B')\n",
    "print(pars_true['C'].dot(pars_true['A'].dot(pars_true['B'])))\n",
    "print('')\n",
    "print(pars_est['C'].dot(pars_est['A']).dot(pars_est['B']))\n"
   ]
  }
 ],
 "metadata": {
  "kernelspec": {
   "display_name": "Python 3",
   "language": "python",
   "name": "python3"
  },
  "language_info": {
   "codemirror_mode": {
    "name": "ipython",
    "version": 3
   },
   "file_extension": ".py",
   "mimetype": "text/x-python",
   "name": "python",
   "nbconvert_exporter": "python",
   "pygments_lexer": "ipython3",
   "version": "3.5.1"
  }
 },
 "nbformat": 4,
 "nbformat_minor": 0
}
