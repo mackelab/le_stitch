{
 "cells": [
  {
   "cell_type": "markdown",
   "metadata": {},
   "source": [
    "# selecting light-sheet fluorescence microscopy pixels for analysis"
   ]
  },
  {
   "cell_type": "markdown",
   "metadata": {},
   "source": [
    "## loading data"
   ]
  },
  {
   "cell_type": "code",
   "execution_count": null,
   "metadata": {
    "collapsed": false
   },
   "outputs": [],
   "source": [
    "% matplotlib inline\n",
    "import matplotlib.pyplot as plt\n",
    "import numpy as np\n",
    "import scipy as sp\n",
    "import glob, os, psutil, time\n",
    "import seaborn\n",
    "\n",
    "data_path = '../fits/lsfm/grid_quick/'\n",
    "y_vars = np.load(data_path + 'y_vars.npy')\n",
    "y_means = np.load(data_path + 'y_means.npy') # using variance only for now"
   ]
  },
  {
   "cell_type": "markdown",
   "metadata": {},
   "source": [
    "## pixel set selection"
   ]
  },
  {
   "cell_type": "code",
   "execution_count": null,
   "metadata": {
    "collapsed": false
   },
   "outputs": [],
   "source": [
    "bins = np.linspace(np.log10(y_vars.min()), np.log10(y_vars.max()), 50)\n",
    "\n",
    "plt.figure(figsize=(16,5))\n",
    "\n",
    "plt.subplot(1,3,1)\n",
    "idx_large = np.where(y_vars.reshape(-1) > 8 * 1e-13)[0]\n",
    "plt.hist(np.log10(y_vars.reshape(-1)), bins=bins)\n",
    "plt.hold(True)\n",
    "plt.hist(np.log10(y_vars.reshape(-1)[idx_large]), bins=bins)\n",
    "plt.xlabel('log_{10} variance')\n",
    "plt.ylabel('counts')\n",
    "plt.legend(('all', 'selected'))\n",
    "plt.title('large pixel set')\n",
    "\n",
    "plt.subplot(1,3,2)\n",
    "idx_medium = np.where(y_vars.reshape(-1) > 1e-12)[0]\n",
    "plt.hist(np.log10(y_vars.reshape(-1)), bins=bins)\n",
    "plt.hold(True)\n",
    "plt.hist(np.log10(y_vars.reshape(-1)[idx_medium]), bins=bins)\n",
    "plt.xlabel('log_{10} variance')\n",
    "plt.ylabel('counts')\n",
    "plt.legend(('all', 'selected'))\n",
    "plt.title('medium pixel set')\n",
    "\n",
    "plt.subplot(1,3,3)\n",
    "idx_small = np.where(y_vars.reshape(-1) > 1e-11)[0]\n",
    "plt.hist(np.log10(y_vars.reshape(-1)), bins=bins)\n",
    "plt.hold(True)\n",
    "plt.hist(np.log10(y_vars.reshape(-1)[idx_small]), bins=bins)\n",
    "plt.xlabel('log_{10} variance')\n",
    "plt.ylabel('counts')\n",
    "plt.legend(('all', 'selected'))\n",
    "plt.title('small pixel set')\n",
    "plt.show()\n",
    "\n",
    "print('large idx set size ',  len(idx_large))\n",
    "print('medium idx set size ', len(idx_medium))\n",
    "print('small idx set size ',  len(idx_small))\n",
    "\n"
   ]
  },
  {
   "cell_type": "markdown",
   "metadata": {},
   "source": [
    "## locating selected pixels within the image stack"
   ]
  },
  {
   "cell_type": "code",
   "execution_count": null,
   "metadata": {
    "collapsed": false
   },
   "outputs": [],
   "source": [
    "nx, ny, nz = 41, 1024, 2048\n",
    "p_full = nx * ny * nz\n",
    "\n",
    "idx_occ = np.zeros(p_full, dtype=bool)\n",
    "idx_occ[idx_large] = True\n",
    "occ_large = idx_occ.reshape(nx,ny,nz).copy()\n",
    "\n",
    "idx_occ = np.zeros(p_full, dtype=bool)\n",
    "idx_occ[idx_medium] = True\n",
    "occ_medium = idx_occ.reshape(nx,ny,nz).copy()\n",
    "\n",
    "idx_occ = np.zeros(p_full, dtype=bool)\n",
    "idx_occ[idx_small] = True\n",
    "occ_small = idx_occ.reshape(nx,ny,nz).copy()\n",
    "\n",
    "rel_dens_large = np.zeros((nx))\n",
    "rel_dens_medium = np.zeros((nx))\n",
    "rel_dens_small = np.zeros((nx))\n",
    "\n",
    "for i in range(nx):\n",
    "    plt.figure(figsize=(16, 4))\n",
    "    plt.subplot(1,4,1)\n",
    "    plt.imshow(y_means[i,:,:], interpolation='None')\n",
    "    plt.grid('off')\n",
    "    plt.title('z = ' + str(i))\n",
    "    plt.subplot(1,4,2)\n",
    "    plt.imshow(occ_large[i,:,:], interpolation='None')\n",
    "    plt.grid('off')\n",
    "    rel_dens_large[i] = occ_large[i,:,:].sum()\n",
    "    if i == 0:\n",
    "        plt.title('large idx set, # = ' + str(rel_dens_large[i]))\n",
    "    else:\n",
    "        plt.title('z = ' + str(i) + ', # = ' + str(rel_dens_large[i]))\n",
    "    plt.subplot(1,4,3)\n",
    "    plt.imshow(occ_medium[i,:,:], interpolation='None')\n",
    "    rel_dens_medium[i] = occ_medium[i,:,:].sum()\n",
    "    if i == 0:\n",
    "        plt.title('medium idx set, # = ' + str(rel_dens_medium[i]))\n",
    "    else:\n",
    "        plt.title('z = ' + str(i) + ', # = ' + str(rel_dens_medium[i]))\n",
    "    plt.grid('off')\n",
    "    plt.subplot(1,4,4)\n",
    "    plt.imshow(occ_small[i,:,:], interpolation='None')\n",
    "    rel_dens_small[i] = occ_small[i,:,:].sum()\n",
    "    if i == 0:\n",
    "        plt.title('small idx set, # = ' + str(rel_dens_small[i]))\n",
    "    else:\n",
    "        plt.title('z = ' + str(i) + ', # = ' + str(rel_dens_small[i]))\n",
    "    plt.grid('off')\n",
    "    plt.show()\n",
    "\n",
    "print(rel_dens_large.sum())    \n",
    "print(rel_dens_medium.sum())    \n",
    "print(rel_dens_small.sum())    \n",
    "rel_dens_large /= rel_dens_large.sum()\n",
    "rel_dens_medium /= rel_dens_medium.sum()\n",
    "rel_dens_small /= rel_dens_small.sum()\n",
    "\n",
    "plt.figure(figsize=(16, 8))\n",
    "plt.subplot(1,2,1)\n",
    "plt.plot(np.arange(nx)+1, rel_dens_large, 'b')\n",
    "plt.hold('on')\n",
    "plt.plot(np.arange(nx)+1, rel_dens_medium, 'r')\n",
    "plt.plot(np.arange(nx)+1, rel_dens_small, 'g')\n",
    "plt.title('distr. of cells accross image planes')\n",
    "plt.xlabel('z plane')\n",
    "plt.ylabel('distr. # cells')\n",
    "\n",
    "plt.subplot(1,2,2)\n",
    "plt.plot(np.arange(nx)+1, np.cumsum(rel_dens_large), 'b')\n",
    "plt.hold('on')\n",
    "plt.plot(np.arange(nx)+1, np.cumsum(rel_dens_medium), 'r')\n",
    "plt.plot(np.arange(nx)+1, np.cumsum(rel_dens_small), 'g')\n",
    "plt.plot((0, nx), [0.5, 0.5], 'k--')\n",
    "plt.plot((21, 21), [0, 1], 'r--')\n",
    "plt.xlabel('z plane')\n",
    "plt.ylabel('cum. distr. # cells')\n",
    "plt.title('cum. distr. (plane z=21 is natural overlap)')\n",
    "plt.show()\n"
   ]
  },
  {
   "cell_type": "code",
   "execution_count": null,
   "metadata": {
    "collapsed": true
   },
   "outputs": [],
   "source": [
    "np.save(data_path + 'idx_large', idx_large)\n",
    "np.save(data_path + 'idx_medium', idx_medium)\n",
    "np.save(data_path + 'idx_small', idx_small)\n"
   ]
  },
  {
   "cell_type": "markdown",
   "metadata": {},
   "source": [
    "# extracting selected cells\n",
    "- original data is in frames per time\n",
    "- for data analysis, we want to keep this 'time-major' (row-major for T x p matrices)\n",
    "- warning: computing variances and means (axis=0) can be horribly slow this way (would be better in column-major)..."
   ]
  },
  {
   "cell_type": "code",
   "execution_count": null,
   "metadata": {
    "collapsed": false
   },
   "outputs": [],
   "source": [
    "% matplotlib inline\n",
    "import matplotlib.pyplot as plt\n",
    "import numpy as np\n",
    "import scipy as sp\n",
    "import glob, os, psutil, time\n",
    "import seaborn\n",
    "from ssidid import progprint_xrange\n",
    "import bz2\n",
    "\n",
    "idx_str = 'medium'\n",
    "\n",
    "data_path = '/media/marcel/636f7b46-1fd1-4600-b69e-86d2ed82002c/stitching/hankel/zebrafish/'\n",
    "idx_curr = np.load(data_path + 'idx_' + idx_str + '.npy')\n",
    "\n",
    "p, T = len(idx_curr),1200\n",
    "print('(p,T)', (p,T))"
   ]
  },
  {
   "cell_type": "code",
   "execution_count": null,
   "metadata": {
    "collapsed": false
   },
   "outputs": [],
   "source": [
    "mmap = True\n",
    "\n",
    "if mmap:\n",
    "    y = np.memmap(data_path+'y_' + idx_str, dtype=np.float, mode='w+', shape=(T,p))\n",
    "else:\n",
    "    y = np.NaN * np.ones((T,p), dtype=np.float)\n",
    "    \n",
    "for i in progprint_xrange(1200, perline=20):\n",
    "    t = i \n",
    "    filename = '/media/marcel/636f7b46-1fd1-4600-b69e-86d2ed82002c/stitching/data/dOMR0/TM' + (\"%05d\" % t) + '_CM0_CHN00.stack.bz2'\n",
    "    dfile = bz2.BZ2File(filename,compresslevel=1)\n",
    "    y[i,:] = np.frombuffer(dfile.read(), dtype=np.float16)[idx_curr] \n",
    "    if mmap:\n",
    "        del y # releases RAM, forces flush to disk\n",
    "        y = np.memmap(data_path+'y_' + idx_str, dtype=np.float, mode='r+', shape=(T,p))\n",
    "\n",
    "if mmap:\n",
    "    del y # releases RAM, forces flush to disk\n",
    "    y = np.memmap(data_path+'y_' + idx_str, dtype=np.float, mode='r', shape=(T,p))\n",
    "else:\n",
    "    np.save(data_path + 'y_' + idx_str, y)"
   ]
  },
  {
   "cell_type": "code",
   "execution_count": null,
   "metadata": {
    "collapsed": false
   },
   "outputs": [],
   "source": [
    "y = np.memmap(data_path+'y_' + idx_str, dtype=np.float, mode='r', shape=(T,p))\n",
    "yvar, ymean  = np.var(y,axis=0), np.mean(y,axis=0)"
   ]
  },
  {
   "cell_type": "code",
   "execution_count": null,
   "metadata": {
    "collapsed": false
   },
   "outputs": [],
   "source": [
    "yz = np.memmap(data_path + 'y_' + idx_str + '_zscore', dtype=np.float, mode='w+', shape=(T,p))\n",
    "for i in progprint_xrange(T, perline=20):\n",
    "    yz[i,:] = (y[i,:] - ymean) / np.sqrt(yvar)\n",
    "    if mmap:\n",
    "        del y # releases RAM, forces flush to disk\n",
    "        del yz\n",
    "        y = np.memmap(data_path+'y_' + idx_str, dtype=np.float, mode='r', shape=(T,p))\n",
    "        yz = np.memmap(data_path + 'y_' + idx_str + '_zscore', dtype=np.float, mode='r+', shape=(T,p))\n",
    "del y\n",
    "del yz"
   ]
  }
 ],
 "metadata": {
  "kernelspec": {
   "display_name": "Python 3",
   "language": "python",
   "name": "python3"
  },
  "language_info": {
   "codemirror_mode": {
    "name": "ipython",
    "version": 3
   },
   "file_extension": ".py",
   "mimetype": "text/x-python",
   "name": "python",
   "nbconvert_exporter": "python",
   "pygments_lexer": "ipython3",
   "version": "3.5.1"
  }
 },
 "nbformat": 4,
 "nbformat_minor": 0
}
