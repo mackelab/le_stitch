{
 "cells": [
  {
   "cell_type": "code",
   "execution_count": null,
   "metadata": {
    "collapsed": false
   },
   "outputs": [],
   "source": [
    "%matplotlib inline\n",
    "import matplotlib.pyplot as plt\n",
    "import numpy as np\n",
    "import scipy as sp\n",
    "import glob, os, psutil, time\n",
    "from scipy import linalg as la\n",
    "from ssidid.SSID_Hankel_loss import run_bad, plot_slim, print_slim, f_l2_Hankel_nl, f_l2_Hankel_comp_Q_Om\n",
    "from ssidid.utility import get_subpop_stats, gen_data\n",
    "from ssidid import ObservationScheme\n",
    "from subtracking import Grouse, calc_subspace_proj_error\n",
    "import py4sid\n",
    "\n",
    "rnd_seed = 0\n",
    "\n",
    "# define problem size\n",
    "lag_range = np.arange(8)\n",
    "kl_ = np.max(lag_range)+1\n",
    "p, n = 200, 4\n",
    "T = 1000\n",
    "\n",
    "dtype=np.float32\n",
    "\n",
    "nr = 0 # number of real eigenvalues\n",
    "snr = (0.1, 0.1)\n",
    "whiten = True\n",
    "eig_m_r, eig_M_r, eig_m_c, eig_M_c = 0.98, 0.99, 0.98, 0.99\n",
    "mmap, chunksize, sso = False, np.min((p,10000)), True\n",
    "\n",
    "data_path, save_file = '/home/mackelab/Desktop/Projects/Stitching/code/le_stitch/python/fits/', 'test'\n",
    "verbose=True\n",
    "\n",
    "#np.random.seed(rnd_seed)\n",
    "pars_true, x, y, _, _ = gen_data(p,n,lag_range,T, nr,\n",
    "                                 eig_m_r, eig_M_r, \n",
    "                                 eig_m_c, eig_M_c,\n",
    "                                 mmap, chunksize,\n",
    "                                 data_path,\n",
    "                                 snr=snr, whiten=whiten,\n",
    "                                 dtype=dtype)        \n",
    "if mmap:\n",
    "    y = np.memmap(data_path+'y', dtype=dtype, mode='r+', shape=(T,p))\n",
    "y -= y.mean(axis=0)\n",
    "pars_true['X'] = np.vstack([ np.linalg.matrix_power(pars_true['A'],m).dot(pars_true['Pi']) for m in lag_range])\n",
    "\n",
    "plt.figure(figsize=(20,5))\n",
    "plt.plot(x[:100,:])\n",
    "plt.show()\n",
    "\n",
    "np.linalg.eigvals(pars_true['A'])\n",
    "\n",
    "y_ = y.copy()\n"
   ]
  },
  {
   "cell_type": "code",
   "execution_count": null,
   "metadata": {
    "collapsed": true
   },
   "outputs": [],
   "source": [
    "def principal_angle(A, B):\n",
    "    \"A and B must be column-orthogonal.\"    \n",
    "    A = np.atleast_2d(A).T if (A.ndim<2) else A\n",
    "    B = np.atleast_2d(B).T if (B.ndim<2) else B\n",
    "    A = la.orth(A)\n",
    "    B = la.orth(B)\n",
    "    svd = la.svd(A.T.dot(B))\n",
    "    return np.arccos(np.minimum(svd[1], 1.0)) / (np.pi/2)"
   ]
  },
  {
   "cell_type": "code",
   "execution_count": null,
   "metadata": {
    "collapsed": false
   },
   "outputs": [],
   "source": [
    "import numpy as np\n",
    "\n",
    "class Super_res():\n",
    "    \"\"\" very minimalistic wrapper class for numpy array. \n",
    "    Increases resolution along first axis by factor r.\n",
    "    - written only to meet basic requirements of ssidid code\n",
    "    - does not work with outer indexing such as np.ix_()\n",
    "    - does not support coppying, value assignment, ...    \n",
    "    \"\"\"\n",
    "    \n",
    "    def __init__(self, y, r):\n",
    "        self._y = y\n",
    "        self._r = r\n",
    "        \n",
    "        assert len(y.shape) == 2\n",
    "        self.shape = (y.shape[0] * self._r, y.shape[1])\n",
    "        self.dtype  = y.dtype\n",
    "        \n",
    "    def __getitem__(self, t):\n",
    "        if isinstance(t, tuple):\n",
    "            return np.atleast_2d(self._y[t[0]//self._r])[:,t[1]]\n",
    "        else:\n",
    "            return self._y[t//self._r]\n",
    "        \n",
    "        \n",
    "        \n",
    "\"\"\" overwriting the code for computing the time-lagged covariances \"\"\"        \n",
    "# only part in the whole module that requires outer indexing via np.ix_ # \n",
    "def f_l2_Hankel_comp_Q_Om(n,y,lag_range,obs_scheme,idx_a,idx_b,W,sso=False,\n",
    "                          mmap=False,data_path=None,ts=None,ms=None):\n",
    "\n",
    "    T,p = y.shape\n",
    "    kl_ = np.max(lag_range)+1\n",
    "    pa, pb = len(idx_a), len(idx_b)\n",
    "    idx_grp = obs_scheme.idx_grp\n",
    "\n",
    "    ts = range(T-kl_) if ts is None else ts\n",
    "    ms = range(len(lag_range)) if ms is None else ms\n",
    "\n",
    "    Qs = [np.zeros((pa,pb), dtype=y.dtype) for m in range(len(lag_range))]\n",
    "    Om = [np.zeros((pa,pb), dtype=bool) for m in range(len(lag_range))]\n",
    "\n",
    "    if sso: \n",
    "        get_obs_idx = obs_scheme.gen_get_idx_grp()\n",
    "        get_coobs_intervals = obs_scheme.gen_get_coobs_intervals(lag_range)\n",
    "        idx_grp = obs_scheme.idx_grp\n",
    "        for j in range(len(idx_grp)):\n",
    "            b = np.intersect1d(idx_grp[j], idx_b)\n",
    "            b_Q = np.in1d(idx_b, b)\n",
    "            for i in range(len(idx_grp)):\n",
    "                a = np.intersect1d(idx_grp[i], idx_a)\n",
    "                a_Q = np.in1d(idx_a, a)\n",
    "                for m in ms:\n",
    "                    idx_coobs_ijm = get_coobs_intervals(j,i,m) # note ordering of j,i\n",
    "                    if len(idx_coobs_ijm) > 0:                    \n",
    "                        \n",
    "                        \"\"\" following line is the ONLY change needed ... \"\"\"\n",
    "                        Qs[m][np.ix_(a_Q,b_Q)] = y[idx_coobs_ijm,a].T.dot(y[idx_coobs_ijm-m,b])\n",
    "                        Om[m][np.ix_(a_Q,b_Q)] = True\n",
    "    else:\n",
    "        get_observed = obs_scheme.gen_get_observed()\n",
    "        for m in ms:\n",
    "            m_ = lag_range[m]\n",
    "            for t in ts:\n",
    "                a = np.intersect1d(get_observed(t+m_), idx_a)\n",
    "                b = np.intersect1d(get_observed(t),    idx_b)\n",
    "                a_Q = np.in1d(idx_a, a)\n",
    "                b_Q = np.in1d(idx_b, b)\n",
    "\n",
    "                Qs[m][np.ix_(a_Q, b_Q)] += np.outer(y[t+m_,a], y[t,b])\n",
    "                Om[m][np.ix_(a_Q, b_Q)] = True\n",
    "\n",
    "    if np.all(W[0].shape == (len(idx_grp), len(idx_grp))):\n",
    "        for m in ms:\n",
    "            for i in range(len(idx_grp)):\n",
    "                for j in range(len(idx_grp)):\n",
    "\n",
    "                    a = np.in1d(idx_a, np.intersect1d(idx_grp[i], idx_a))\n",
    "                    b = np.in1d(idx_b, np.intersect1d(idx_grp[j], idx_b))\n",
    "\n",
    "                    Qs[m][np.ix_(a, b)] *= W[m][i,j]\n",
    "\n",
    "    elif np.all(W[0].shape == (p, p)):\n",
    "        for m in ms:\n",
    "            Qs[m] = Qs[m] * W[m][np.ix_(idx_a,idx_b)]\n",
    "\n",
    "    else:\n",
    "        raise Exception('shape misfit for weights W[m] at time-lag m=0')\n",
    "\n",
    "    if mmap: # probably computing the Qs is costly\n",
    "        for m in range(len(lag_range)):\n",
    "            np.save(data_path+'Qs_'+str(lag_range[m]), Qs[m])\n",
    "\n",
    "    return Qs, Om        \n"
   ]
  },
  {
   "cell_type": "code",
   "execution_count": null,
   "metadata": {
    "collapsed": false
   },
   "outputs": [],
   "source": [
    "\n",
    "# create subpopulations\n",
    "nsp = 1\n",
    "lag_range = np.arange(2*nsp)\n",
    "#y = Super_res(y_, 1)\n",
    "T, p = y.shape\n",
    "\n",
    "#nsp -= 1\n",
    "sub_pops = [np.arange(i*p//nsp, (i+1)*p//nsp) for i in range(nsp-1)]\n",
    "sub_pops.append(np.arange((nsp-1)*p//nsp, p))\n",
    "#sub_pops.append(np.array([]))\n",
    "#nsp += 1\n",
    "\n",
    "\n",
    "# pass-and-flyback pattern\n",
    "reps = T//(nsp)\n",
    "obs_pops = np.concatenate([ np.arange(len(sub_pops)) for r in range(reps) ])\n",
    "obs_time = np.linspace(0,T, len(obs_pops)+1)[1:].astype(int)\n",
    "\n",
    "\n",
    "# up-down pattern\n",
    "#reps = T//(2*nsp)\n",
    "#obs_pops = np.hstack([np.hstack((np.arange(1,len(sub_pops)),np.arange(len(sub_pops)-1)[::-1])) for i in range(reps)])\n",
    "#obs_pops = np.hstack([np.arange(1), obs_pops, np.arange(1,len(sub_pops))])\n",
    "#obs_time = np.array([i*T//len(obs_pops) for i in range(1,len(obs_pops)+1)])\n",
    "\n",
    "obs_scheme = ObservationScheme(p=p, T=T, \n",
    "                                sub_pops=sub_pops, \n",
    "                                obs_pops=obs_pops, \n",
    "                                obs_time=obs_time)\n",
    "\n",
    "idx_a, idx_b = np.arange(p), np.arange(p)\n",
    "W = obs_scheme.comp_coocurrence_weights(lag_range, sso=sso, idx_a=idx_a, idx_b=idx_b)\n",
    "obs_scheme.gen_mask_from_scheme()\n",
    "plt.figure(figsize=(20,5))\n",
    "plt.imshow(obs_scheme.mask[:100,:].T, interpolation='None', aspect='auto')\n",
    "plt.show()\n",
    "\n",
    "\n",
    "print('computing time-lagged covariances')\n",
    "Qs, Om = f_l2_Hankel_comp_Q_Om(n=n,y=y,lag_range=lag_range,obs_scheme=obs_scheme,\n",
    "                      idx_a=idx_a,idx_b=idx_b,W=W,sso=True,\n",
    "                      mmap=mmap,data_path=data_path,ts=None,ms=None)    \n",
    "\n"
   ]
  },
  {
   "cell_type": "code",
   "execution_count": null,
   "metadata": {
    "collapsed": false,
    "scrolled": true
   },
   "outputs": [],
   "source": [
    "pars_est = 'default'\n",
    "#lag_range = np.arange(2)\n",
    "\n",
    "from ssidid.icml_scripts import run_default\n",
    "\n",
    "rnd_seed = np.random.get_state()\n",
    "pars_est, traces, ts= run_default(\n",
    "            alphas    = (0.01, 0.001), \n",
    "            b1s       = (0.98, 0.95), \n",
    "            a_decays  = (0.98, 0.98), \n",
    "            batch_sizes = (1, 10), \n",
    "            max_zip_sizes =  (1000,250), \n",
    "            max_iters = (50, 50 ),\n",
    "            parametrizations = ('nl', 'ln'),\n",
    "            pars_est=pars_est, pars_true=pars_true, n=n, \n",
    "            y=y, sso=sso, obs_scheme=obs_scheme, lag_range=lag_range, \n",
    "            idx_a=idx_a, idx_b=idx_b,Qs=Qs,Om=Om, W=W,\n",
    "            traces=[[], [], []], ts = [], dtype=dtype)    \n",
    "print('time =', sum(ts))"
   ]
  },
  {
   "cell_type": "code",
   "execution_count": null,
   "metadata": {
    "collapsed": false
   },
   "outputs": [],
   "source": [
    "idx_a, idx_b = np.arange(p), np.arange(p)\n",
    "obs_scheme_full = ObservationScheme(p=p, T=T)\n",
    "W_full = obs_scheme_full.comp_coocurrence_weights(lag_range, sso=sso, idx_a=idx_a, idx_b=idx_b)\n",
    "Qs, _ = f_l2_Hankel_comp_Q_Om(n=n,y=y,lag_range=lag_range,obs_scheme=obs_scheme_full,\n",
    "                      idx_a=idx_a,idx_b=idx_b,W=W_full,sso=True,\n",
    "                      mmap=mmap,data_path=data_path,ts=None,ms=None)   "
   ]
  },
  {
   "cell_type": "code",
   "execution_count": null,
   "metadata": {
    "collapsed": false
   },
   "outputs": [],
   "source": [
    "\n",
    "ev_est = np.linalg.eigvals(np.linalg.matrix_power(pars_est['A'], 5))\n",
    "ev_true =  np.linalg.eigvals(np.linalg.matrix_power(pars_true['A'], 5))\n",
    "plt.plot(  np.real(ev_est), np.imag(ev_est), 'ro')\n",
    "plt.plot(  np.real(ev_true), np.imag(ev_true), 'kx')\n",
    "plt.show()\n",
    "\n"
   ]
  },
  {
   "cell_type": "code",
   "execution_count": null,
   "metadata": {
    "collapsed": false
   },
   "outputs": [],
   "source": [
    "pars = pars_est\n",
    "C, X, R = pars['C'].copy(), pars['X'], pars['R']\n",
    "A = pars['A']\n",
    "Pi = pars['X'][:n, :]\n",
    "\n",
    "for i in range(len(sub_pops)):\n",
    "    if len(sub_pops[i]) > 0:\n",
    "        C[sub_pops[i],:] = C[sub_pops[i],:].dot(np.linalg.matrix_power(A, np.mod(i, len(sub_pops))))\n",
    "\n",
    "for m in range(len(lag_range)):\n",
    "    #idx_a, idx_b = sub_pops[i], sub_pops[j]\n",
    "    idx_a, idx_b = np.arange(p), np.arange(p)\n",
    "    \n",
    "    #Am = np.linalg.matrix_power(A, -np.mod(m, len(sub_pops)))\n",
    "    #Am = np.eye(n)    \n",
    "    #Qest = C[idx_a,:].dot(Am).dot(X[m*n : (m+1)*n, : ]).dot(C[idx_b, :].T) + (m==0) * np.diag(R)[np.ix_(idx_a, idx_b)]\n",
    "    \n",
    "    Qest = C[idx_a,:].dot(  np.linalg.matrix_power(A,0).dot(Pi)     ).dot(C[idx_b,:].T)\n",
    "    \n",
    "    Qys = np.cov(y_[m:y_.shape[0]-kl_+m,:].T, y_[:y_.shape[0]-kl_, :].T)[:p, p:]\n",
    "\n",
    "    plt.figure(figsize=(12,7))\n",
    "    plt.subplot(2,4,1)\n",
    "    plt.imshow(Qs[m][np.ix_(idx_a, idx_b)], interpolation='None')\n",
    "    plt.title('emp. (fast time-scale)')\n",
    "    plt.colorbar()\n",
    "    #plt.ylabel('m = ' _ str*kag)\n",
    "    plt.subplot(2,4,5)\n",
    "    #plt.plot(Qs[m][np.ix_(idx_a, idx_b)].reshape(-1), Qest.reshape(-1), '.')\n",
    "    plt.plot(Qs[m][Om[m]], Qest[Om[m]], '.')\n",
    "    plt.xlabel('emp. (fast time-scale)')\n",
    "    plt.ylabel('est.')\n",
    "    plt.subplot(2,4,2)\n",
    "    plt.imshow(Qest, interpolation='None')\n",
    "    plt.title('est.')\n",
    "    plt.colorbar()\n",
    "    plt.subplot(2,4,6)\n",
    "    plt.plot(Qs[m][np.ix_(idx_a, idx_b)].reshape(-1), Qys[np.ix_(idx_a, idx_b)].reshape(-1), '.')\n",
    "    plt.xlabel('emp. (fast time-scale)')\n",
    "    plt.ylabel('emp. (orig. time-scale)')\n",
    "    plt.subplot(2,4,3)\n",
    "    plt.imshow(Qys[np.ix_(idx_a, idx_b)], interpolation='None')\n",
    "    plt.colorbar()\n",
    "    plt.title('emp. (orig. time-scale)')\n",
    "    plt.subplot(2,4,7)\n",
    "    #plt.plot(Qys[np.ix_(idx_a, idx_b)].reshape(-1), Qest.reshape(-1), '.')\n",
    "    plt.plot(Qs[m][np.invert(Om[m])], Qest[np.invert(Om[m])], '.')\n",
    "\n",
    "    plt.xlabel('emp. (orig. time-scale)')\n",
    "    plt.ylabel('est.')\n",
    "    \n",
    "    plt.subplot(2,4,4)\n",
    "    plt.imshow(Om[m], interpolation='None')\n",
    "    plt.title('observation scheme at lag s =' +str(lag_range[m]))\n",
    "    plt.show()\n"
   ]
  },
  {
   "cell_type": "code",
   "execution_count": null,
   "metadata": {
    "collapsed": false
   },
   "outputs": [],
   "source": [
    "C = pars_est['C'].copy() \n",
    "A = pars_est['A']\n",
    "\n",
    "for j in range(len(sub_pops)):\n",
    "    C = pars_est['C'].copy() \n",
    "    for i in range(len(sub_pops)):\n",
    "        if len(sub_pops[i]) > 0:\n",
    "            C[sub_pops[i],:] = C[sub_pops[i],:].dot(np.linalg.matrix_power(A, np.mod(i+j, len(sub_pops))))\n",
    "    print(principal_angle(C, pars_true['C']))"
   ]
  },
  {
   "cell_type": "code",
   "execution_count": null,
   "metadata": {
    "collapsed": false
   },
   "outputs": [],
   "source": [
    "principal_angle(C, pars_true['C'])"
   ]
  },
  {
   "cell_type": "code",
   "execution_count": null,
   "metadata": {
    "collapsed": false
   },
   "outputs": [],
   "source": [
    "principal_angle(pars_est['C'], pars_true['C'])"
   ]
  },
  {
   "cell_type": "code",
   "execution_count": null,
   "metadata": {
    "collapsed": false
   },
   "outputs": [],
   "source": [
    "Pi = X[:n, :]\n",
    "plt.subplot(1,2,1)\n",
    "plt.imshow(C.dot(np.linalg.inv(pars_est['A'])).dot(Pi).dot(C.T), interpolation='None')\n",
    "plt.subplot(1,2,2)\n",
    "plt.imshow(Qs[5], interpolation='None')\n",
    "plt.show()"
   ]
  },
  {
   "cell_type": "code",
   "execution_count": null,
   "metadata": {
    "collapsed": false
   },
   "outputs": [],
   "source": [
    "plt.imshow(pars_est['Pi'], interpolation='None')\n",
    "plt.show()"
   ]
  },
  {
   "cell_type": "code",
   "execution_count": null,
   "metadata": {
    "collapsed": false
   },
   "outputs": [],
   "source": [
    "\n",
    "plt.figure(figsize=(20, 3))\n",
    "plt.subplot(1,2,1)\n",
    "plt.imshow(pars_true['X'].T, interpolation='None', aspect='auto', clim=[-1,1])\n",
    "plt.colorbar()\n",
    "plt.title('true X')\n",
    "plt.subplot(1,2,2)\n",
    "plt.imshow(pars_est['X'].T, interpolation='None', aspect='auto', clim=[-1,1])\n",
    "plt.colorbar()\n",
    "plt.title('est. X')\n",
    "plt.show()\n",
    "\n",
    "m = 5\n",
    "\n",
    "ev_true = np.linalg.eigvals(np.linalg.matrix_power(pars_true['A'], m))\n",
    "ev_est  = np.linalg.eigvals(np.linalg.matrix_power(pars_est['A'], m))\n",
    "\n",
    "plt.plot(np.real(ev_true), np.imag(ev_true), 'kx', markersize=10)\n",
    "plt.plot(np.real(ev_est ), np.imag(ev_est), 'r*', markersize=10)\n"
   ]
  },
  {
   "cell_type": "code",
   "execution_count": null,
   "metadata": {
    "collapsed": false
   },
   "outputs": [],
   "source": [
    "from ssidid.icml_scripts import run_default\n",
    "\n",
    "rnd_seed = np.random.get_state()\n",
    "pars_est, traces, ts= run_default(\n",
    "            alphas    = (0.01, 0.001), \n",
    "            b1s       = (0.98, 0.95), \n",
    "            a_decays  = (0.98, 0.98), \n",
    "            batch_sizes = (1, 10), \n",
    "            max_zip_sizes =  (1000,250), \n",
    "            max_iters = (100, 100 ),\n",
    "            parametrizations = ('ln', 'ln'),\n",
    "            pars_est='default', pars_true=pars_true, n=n, \n",
    "            y=y, sso=sso, obs_scheme=obs_scheme, lag_range=lag_range, \n",
    "            idx_a=idx_a, idx_b=idx_b,Qs=Qs,Om=Om, W=W,\n",
    "            traces=[[], [], []], ts = [])    "
   ]
  },
  {
   "cell_type": "code",
   "execution_count": null,
   "metadata": {
    "collapsed": false
   },
   "outputs": [],
   "source": [
    "\n",
    "plt.figure(figsize=(20, 3))\n",
    "plt.subplot(1,2,1)\n",
    "plt.imshow(pars_true['X'].T, interpolation='None', aspect='auto', clim=[-1,1])\n",
    "plt.colorbar()\n",
    "plt.title('true X')\n",
    "plt.subplot(1,2,2)\n",
    "plt.imshow(pars_est['X'].T, interpolation='None', aspect='auto', clim=[-1,1])\n",
    "plt.colorbar()\n",
    "plt.title('est. X')\n",
    "plt.show()\n",
    "\n",
    "m = 1\n",
    "\n",
    "ev_true = np.linalg.eigvals(np.linalg.matrix_power(pars_true['A'], m))\n",
    "ev_est  = np.linalg.eigvals(np.linalg.matrix_power(pars_est['A'], m))\n",
    "\n",
    "plt.plot(np.real(ev_true), np.imag(ev_true), 'kx', markersize=10)\n",
    "plt.plot(np.real(ev_est ), np.imag(ev_est), 'r*', markersize=10)\n"
   ]
  },
  {
   "cell_type": "code",
   "execution_count": null,
   "metadata": {
    "collapsed": true
   },
   "outputs": [],
   "source": [
    "pars_est['R']"
   ]
  },
  {
   "cell_type": "code",
   "execution_count": null,
   "metadata": {
    "collapsed": false
   },
   "outputs": [],
   "source": [
    "\n",
    "def principal_angle(A, B):\n",
    "    \"A and B must be column-orthogonal.\"    \n",
    "    A = np.atleast_2d(A).T if (A.ndim<2) else A\n",
    "    B = np.atleast_2d(B).T if (B.ndim<2) else B\n",
    "    A = la.orth(A)\n",
    "    B = la.orth(B)\n",
    "    svd = la.svd(A.T.dot(B))\n",
    "    return np.arccos(np.minimum(svd[1], 1.0)) / (np.pi/2)\n",
    "\n",
    "print('per-subpops principal angles')\n",
    "C = pars_est['C'].copy()\n",
    "print(principal_angle(pars_true['C'][sub_pops[0],:], C[sub_pops[0],:]))\n",
    "print(principal_angle(pars_true['C'][sub_pops[1],:], C[sub_pops[1],:]))\n",
    "\n",
    "print('final principal angles')\n",
    "C = pars_est['C'].copy()\n",
    "print(principal_angle(pars_true['C'], C))\n",
    "\n",
    "print('final principal angles (sign-flipped)')\n",
    "C = pars_est['C'].copy()\n",
    "C[sub_pops[0],:] *= -1\n",
    "print(principal_angle(pars_true['C'], C))\n"
   ]
  },
  {
   "cell_type": "code",
   "execution_count": null,
   "metadata": {
    "collapsed": false
   },
   "outputs": [],
   "source": [
    "pars = pars_true\n",
    "C, Pi, R = pars['C'], pars['Pi'], pars['R']\n",
    "Qgt = C.dot(Pi).dot(C.T) + np.diag(R)\n",
    "plt.imshow(Qgt * np.invert(Om[0]), interpolation='None')\n",
    "plt.show()\n",
    "\n",
    "pars = pars_est\n",
    "C, Pi, R = pars['C'], pars['Pi'], pars['R']\n",
    "#C[sub_pops[2],:] *= -1\n",
    "Q = C.dot(Pi).dot(C.T) + np.diag(R)\n",
    "plt.imshow(Q * np.invert(Om[0]), interpolation='None')\n",
    "plt.show()\n",
    "\n",
    "res = np.zeros((nsp, nsp))\n",
    "for i in range(nsp):\n",
    "    for j in range(nsp):\n",
    "        Qij = Q[np.ix_(sub_pops[i], sub_pops[j])]\n",
    "        Qgtij = Qgt[np.ix_(sub_pops[i], sub_pops[j])]\n",
    "        res[i,j] = np.corrcoef(Qij.reshape(-1), Qgtij.reshape(-1))[0,1]\n",
    " \n",
    "plt.imshow(res, interpolation='None')\n",
    "plt.colorbar()\n",
    "plt.show()\n",
    "#np.corrcoef(np.cov(y.T)[np.invert(Om[0])], Q[np.invert(Om[0])])\n",
    "\n",
    "\n",
    "#np.corrcoef(np.cov(y.T)[np.invert(Om[0])], np.cov(y[1:T,:].T, y[:T-1,:].T)[:p,p:][np.invert(Om[0])])"
   ]
  },
  {
   "cell_type": "code",
   "execution_count": null,
   "metadata": {
    "collapsed": false
   },
   "outputs": [],
   "source": [
    "C = pars_est['C'].copy()\n",
    "\n",
    "C[np.ix_(sub_pops[0], [0,2,3])] *= -1 \n",
    "\n",
    "print(principal_angle(pars_true['C'], C))\n"
   ]
  },
  {
   "cell_type": "code",
   "execution_count": null,
   "metadata": {
    "collapsed": false
   },
   "outputs": [],
   "source": [
    "plt.imshow(Qs[1][np.ix_(sub_pops[1],sub_pops[0])])"
   ]
  },
  {
   "cell_type": "code",
   "execution_count": null,
   "metadata": {
    "collapsed": false
   },
   "outputs": [],
   "source": [
    "i = 0\n",
    "m_ = 1\n",
    "Qest = pars_est['C'][sub_pops[i],:].dot( pars_est['X'][n:2*n,:]).dot(pars_est['C'][sub_pops[i-m_],:].T)\n",
    "Qgd =  pars_true['C'][sub_pops[i],:].dot(pars_true['A'].dot(pars_true['Pi'])).dot(pars_true['C'][sub_pops[i-m_],:].T)\n",
    "\n",
    "np.corrcoef(Qest.reshape(-1), Qgd.reshape(-1))\n"
   ]
  },
  {
   "cell_type": "code",
   "execution_count": null,
   "metadata": {
    "collapsed": false
   },
   "outputs": [],
   "source": [
    "i = 0\n",
    "principal_angle(pars_true['C'][np.hstack((sub_pops[i], sub_pops[i-1])),:],\n",
    "                pars_est['C'][np.hstack((sub_pops[i], sub_pops[i-1])),:])                "
   ]
  },
  {
   "cell_type": "code",
   "execution_count": null,
   "metadata": {
    "collapsed": false
   },
   "outputs": [],
   "source": [
    "C = pars_est['C'].copy()\n",
    "#C[sub_pops[1],:] *= -1\n",
    "for i in range(len(sub_pops)):\n",
    "    print( principal_angle(pars_true['C'][sub_pops[i],:], C[sub_pops[i],:]) )"
   ]
  },
  {
   "cell_type": "code",
   "execution_count": null,
   "metadata": {
    "collapsed": true
   },
   "outputs": [],
   "source": []
  },
  {
   "cell_type": "code",
   "execution_count": null,
   "metadata": {
    "collapsed": false
   },
   "outputs": [],
   "source": [
    "kl_ = np.max(lag_range)+1\n",
    "A, C = py4sid.estimate_parameters_moments(y,kl_,n)"
   ]
  },
  {
   "cell_type": "code",
   "execution_count": null,
   "metadata": {
    "collapsed": false
   },
   "outputs": [],
   "source": [
    "kl_ = np.max(lag_range)+1\n",
    "A, C = py4sid.estimate_parameters_moments(y,2*n,n)"
   ]
  },
  {
   "cell_type": "code",
   "execution_count": null,
   "metadata": {
    "collapsed": false
   },
   "outputs": [],
   "source": [
    "\n",
    "plt.plot(np.arange(1, n+1), principal_angle(pars_true['C'], C), 'go') \n",
    "plt.plot(np.arange(1, n+1), principal_angle(pars_true['C'], pars_est['C']), 'bo')\n",
    "plt.legend(('classical Hankel SSID', 'SSIDID'), loc=2)\n",
    "plt.xlabel('# latent dim')\n",
    "plt.ylabel('principal angle')\n",
    "plt.axis([0.5, n+0.5, 0, 1.05])\n",
    "plt.show()"
   ]
  },
  {
   "cell_type": "code",
   "execution_count": null,
   "metadata": {
    "collapsed": false
   },
   "outputs": [],
   "source": [
    "from scipy import linalg as la\n",
    "\n",
    "parametrization='nl'\n",
    "sso = True\n",
    "\n",
    "# settings for quick initial SGD fitting phase for our model\n",
    "batch_size, max_zip_size, max_iter = 1, np.inf, 20\n",
    "a, b1, b2, e = 0.01, 0.98, 0.99, 1e-8\n",
    "a_decay = 0.98\n",
    "a_R = 1 * a\n",
    "\n",
    "proj_errors = np.zeros((max_iter,n+1))\n",
    "def principal_angle(A, B):\n",
    "    \"A and B must be column-orthogonal.\"    \n",
    "    A = np.atleast_2d(A).T if (A.ndim<2) else A\n",
    "    B = np.atleast_2d(B).T if (B.ndim<2) else B\n",
    "    A = la.orth(A)\n",
    "    B = la.orth(B)\n",
    "    svd = la.svd(A.T.dot(B))\n",
    "    return np.arccos(np.minimum(svd[1], 1.0)) / (np.pi/2)\n",
    "    \n",
    "def pars_track(pars,t): \n",
    "    C = pars[0]\n",
    "    proj_errors[t] = np.hstack((0, principal_angle(pars_true['C'], C)))\n",
    "            \n",
    "_, pars_est, traces, Qs, Om, W, t = run_bad(lag_range=lag_range,n=n,y=y, idx_a=idx_a, idx_b=idx_b,\n",
    "                                      obs_scheme=obs_scheme,init=pars_est,\n",
    "                                      parametrization=parametrization, sso=sso,\n",
    "                                      Qs=Qs, Om=Om, W=W, \n",
    "                                      alpha=a,b1=b1,b2=b2,e=e,max_iter=max_iter,a_decay=a_decay,\n",
    "                                      batch_size=batch_size,verbose=True, max_epoch_size=max_zip_size,\n",
    "                                      pars_track=pars_track,save_every=np.inf, data_path=data_path)\n",
    "\n",
    "print_slim(Qs,Om,lag_range,pars_est,idx_a,idx_b,traces,False,data_path)\n",
    "print('fitting time was ', t, 's')\n",
    "print('rank of final C_est: ', sp.linalg.orth(pars_est['C']).shape[1])\n",
    "\n",
    "plt.plot(proj_errors[:,1:])\n",
    "plt.show()\n"
   ]
  },
  {
   "cell_type": "code",
   "execution_count": null,
   "metadata": {
    "collapsed": false
   },
   "outputs": [],
   "source": [
    "batch_size, max_zip_size, max_iter = 10, np.inf, 20\n",
    "a, b1, b2, e = 0.005, 0.9, 0.99, 1e-8\n",
    "a_decay = 0.98\n",
    "a_R = 1 * a\n",
    "\n",
    "def pars_track(pars,t): \n",
    "    C = pars[0]\n",
    "    proj_errors[t] = np.hstack((0, principal_angle(pars_true['C'], C)))\n",
    "            \n",
    "_, pars_est, traces, Qs, Om, W, t = run_bad(lag_range=lag_range,n=n,y=y, idx_a=idx_a, idx_b=idx_b,\n",
    "                                      obs_scheme=obs_scheme,init=pars_est,\n",
    "                                      parametrization=parametrization, sso=sso,\n",
    "                                      Qs=Qs, Om=Om, W=W, \n",
    "                                      alpha=a,b1=b1,b2=b2,e=e,max_iter=max_iter,a_decay=a_decay,\n",
    "                                      batch_size=batch_size,verbose=True, max_epoch_size=max_zip_size,\n",
    "                                      pars_track=pars_track,save_every=np.inf, data_path=data_path)\n",
    "\n",
    "print_slim(Qs,Om,lag_range,pars_est,idx_a,idx_b,traces,False,data_path)\n",
    "print('fitting time was ', t, 's')\n",
    "print('rank of final C_est: ', sp.linalg.orth(pars_est['C']).shape[1])\n",
    "\n",
    "plt.plot(proj_errors[:,1:])\n",
    "plt.show()\n"
   ]
  },
  {
   "cell_type": "code",
   "execution_count": null,
   "metadata": {
    "collapsed": false
   },
   "outputs": [],
   "source": [
    "\n",
    "principal_angle(pars_true['C'], C),  principal_angle(pars_true['C'], pars_est['C'])"
   ]
  },
  {
   "cell_type": "code",
   "execution_count": null,
   "metadata": {
    "collapsed": true
   },
   "outputs": [],
   "source": [
    "pars_est = 'default'\n",
    "lag_range = np.arange(1,11)"
   ]
  },
  {
   "cell_type": "code",
   "execution_count": null,
   "metadata": {
    "collapsed": false
   },
   "outputs": [],
   "source": [
    "from scipy import linalg as la\n",
    "\n",
    "parametrization='nl'\n",
    "sso = True\n",
    "\n",
    "# settings for quick initial SGD fitting phase for our model\n",
    "batch_size, max_zip_size, max_iter = 1, np.inf, 20\n",
    "a, b1, b2, e = 0.01, 0.98, 0.99, 1e-8\n",
    "a_decay = 0.98\n",
    "a_R = 1 * a\n",
    "\n",
    "proj_errors = np.zeros((max_iter,n+1))\n",
    "def principal_angle(A, B):\n",
    "    \"A and B must be column-orthogonal.\"    \n",
    "    A = np.atleast_2d(A).T if (A.ndim<2) else A\n",
    "    B = np.atleast_2d(B).T if (B.ndim<2) else B\n",
    "    A = la.orth(A)\n",
    "    B = la.orth(B)\n",
    "    svd = la.svd(A.T.dot(B))\n",
    "    return np.arccos(np.minimum(svd[1], 1.0)) / (np.pi/2)\n",
    "    \n",
    "def pars_track(pars,t): \n",
    "    C = pars[0]\n",
    "    proj_errors[t] = np.hstack((0, principal_angle(pars_true['C'], C)))\n",
    "            \n",
    "_, pars_est, traces, Qs, Om, W, t = run_bad(lag_range=lag_range,n=n,y=y, idx_a=idx_a, idx_b=idx_b,\n",
    "                                      obs_scheme=obs_scheme,init=pars_est,\n",
    "                                      parametrization=parametrization, sso=sso,\n",
    "                                      Qs=Qs, Om=Om, W=W, \n",
    "                                      alpha=a,b1=b1,b2=b2,e=e,max_iter=max_iter,a_decay=a_decay,\n",
    "                                      batch_size=batch_size,verbose=True, max_epoch_size=max_zip_size,\n",
    "                                      pars_track=pars_track,save_every=np.inf, data_path=data_path)\n",
    "\n",
    "print_slim(Qs,Om,lag_range,pars_est,idx_a,idx_b,traces,False,data_path)\n",
    "print('fitting time was ', t, 's')\n",
    "print('rank of final C_est: ', sp.linalg.orth(pars_est['C']).shape[1])\n",
    "\n",
    "plt.plot(proj_errors[:,1:])\n",
    "plt.show()\n"
   ]
  },
  {
   "cell_type": "code",
   "execution_count": null,
   "metadata": {
    "collapsed": false
   },
   "outputs": [],
   "source": [
    "batch_size, max_zip_size, max_iter = 10, np.inf, 20\n",
    "a, b1, b2, e = 0.005, 0.9, 0.99, 1e-8\n",
    "a_decay = 0.98\n",
    "a_R = 1 * a\n",
    "\n",
    "def pars_track(pars,t): \n",
    "    C = pars[0]\n",
    "    proj_errors[t] = np.hstack((0, principal_angle(pars_true['C'], C)))\n",
    "            \n",
    "_, pars_est, traces, Qs, Om, W, t = run_bad(lag_range=lag_range,n=n,y=y, idx_a=idx_a, idx_b=idx_b,\n",
    "                                      obs_scheme=obs_scheme,init=pars_est,\n",
    "                                      parametrization=parametrization, sso=sso,\n",
    "                                      Qs=Qs, Om=Om, W=W, \n",
    "                                      alpha=a,b1=b1,b2=b2,e=e,max_iter=max_iter,a_decay=a_decay,\n",
    "                                      batch_size=batch_size,verbose=True, max_epoch_size=max_zip_size,\n",
    "                                      pars_track=pars_track,save_every=np.inf, data_path=data_path)\n",
    "\n",
    "print_slim(Qs,Om,lag_range,pars_est,idx_a,idx_b,traces,False,data_path)\n",
    "print('fitting time was ', t, 's')\n",
    "print('rank of final C_est: ', sp.linalg.orth(pars_est['C']).shape[1])\n",
    "\n",
    "plt.plot(proj_errors[:,1:])\n",
    "plt.show()\n"
   ]
  },
  {
   "cell_type": "code",
   "execution_count": null,
   "metadata": {
    "collapsed": false
   },
   "outputs": [],
   "source": [
    "\n",
    "plt.plot(np.arange(1, n+1), principal_angle(pars_true['C'], C), 'go') \n",
    "plt.plot(np.arange(1, n+1), principal_angle(pars_true['C'], pars_est['C']), 'bo')\n",
    "plt.legend(('classical Hankel SSID', 'SSIDID'), loc=2)\n",
    "plt.xlabel('# latent dim')\n",
    "plt.ylabel('principal angle')\n",
    "plt.axis([0.5, n+0.5, 0, 1.05])\n",
    "plt.show()"
   ]
  }
 ],
 "metadata": {
  "kernelspec": {
   "display_name": "Python 3",
   "language": "python",
   "name": "python3"
  },
  "language_info": {
   "codemirror_mode": {
    "name": "ipython",
    "version": 3
   },
   "file_extension": ".py",
   "mimetype": "text/x-python",
   "name": "python",
   "nbconvert_exporter": "python",
   "pygments_lexer": "ipython3",
   "version": "3.5.1"
  }
 },
 "nbformat": 4,
 "nbformat_minor": 0
}
