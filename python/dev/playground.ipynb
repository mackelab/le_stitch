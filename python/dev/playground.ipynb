{
 "cells": [
  {
   "cell_type": "code",
   "execution_count": null,
   "metadata": {
    "collapsed": false
   },
   "outputs": [],
   "source": [
    "% matplotlib inline\n",
    "import matplotlib.pyplot as plt\n",
    "import numpy as np\n",
    "import scipy as sp\n",
    "import glob, os, psutil, time\n",
    "from scipy import linalg as la\n",
    "from ssidid.SSID_Hankel_loss import run_bad, plot_slim, print_slim, f_l2_Hankel_nl, f_l2_Hankel_comp_Q_Om\n",
    "from ssidid.utility import get_subpop_stats, gen_data\n",
    "from ssidid import ObservationScheme\n",
    "from subtracking import Grouse, calc_subspace_proj_error\n",
    "import py4sid\n",
    "\n",
    "#np.random.seed(0)\n",
    "\n",
    "# define problem size\n",
    "p, n, T = 1000, 10, 100000\n",
    "lag_range = np.arange(10)\n",
    "\n",
    "# I/O matter\n",
    "mmap, chunksize = True, np.min((p,10000))\n",
    "data_path, save_file = '/home/mackelab/Desktop/Projects/Stitching/code/le_stitch/python/fits/', 'test'\n",
    "verbose=True\n",
    "\n",
    "# create subpopulations\n",
    "obs_scheme = ObservationScheme(p=p,T=T,\n",
    "                               sub_pops=(np.arange(p),), \n",
    "                               obs_pops=(0,),\n",
    "                               obs_time=(T,))\n",
    "\n",
    "# draw system matrices \n",
    "print('(p,n,T) = ', (p,n,T), '\\n')\n",
    "nr = 2 # number of real eigenvalues\n",
    "eig_m_r, eig_M_r, eig_m_c, eig_M_c = 0.8, 0.99, 0.8, 0.99\n",
    "pars_true, x, y, _, _ = gen_data(p,n,lag_range,T, nr,\n",
    "                                             eig_m_r, eig_M_r, \n",
    "                                             eig_m_c, eig_M_c,\n",
    "                                             mmap, chunksize,\n",
    "                                             data_path)\n",
    "pars_est='default'\n",
    "\n",
    "idx_a = np.sort(np.random.choice(p, np.minimum(p,1000), replace=False))\n",
    "idx_b = idx_a.copy()\n",
    "\n",
    "W = obs_scheme.comp_coocurrence_weights(lag_range, sso=True, idx_a=idx_a, idx_b=idx_b)\n",
    "print('computing time-lagged covariances')\n",
    "Qs, Om = f_l2_Hankel_comp_Q_Om(n=n,y=y,lag_range=lag_range,obs_scheme=obs_scheme,\n",
    "                      idx_a=idx_a,idx_b=idx_b,W=W,sso=True,\n",
    "                      mmap=mmap,data_path=data_path,ts=None,ms=None)"
   ]
  },
  {
   "cell_type": "code",
   "execution_count": null,
   "metadata": {
    "collapsed": false
   },
   "outputs": [],
   "source": [
    "kl_ = np.max(lag_range)+1\n",
    "A, C = py4sid.estimate_parameters_moments(y,kl_,n)"
   ]
  },
  {
   "cell_type": "code",
   "execution_count": null,
   "metadata": {
    "collapsed": false
   },
   "outputs": [],
   "source": [
    "from scipy import linalg as la\n",
    "\n",
    "parametrization='nl'\n",
    "sso = True\n",
    "\n",
    "# settings for quick initial SGD fitting phase for our model\n",
    "batch_size, max_zip_size, max_iter = 1, np.inf, 20\n",
    "a, b1, b2, e = 0.01, 0.98, 0.99, 1e-8\n",
    "a_decay = 0.98\n",
    "a_R = 1 * a\n",
    "\n",
    "proj_errors = np.zeros((max_iter,n+1))\n",
    "def principal_angle(A, B):\n",
    "    \"A and B must be column-orthogonal.\"    \n",
    "    A = np.atleast_2d(A).T if (A.ndim<2) else A\n",
    "    B = np.atleast_2d(B).T if (B.ndim<2) else B\n",
    "    A = la.orth(A)\n",
    "    B = la.orth(B)\n",
    "    svd = la.svd(A.T.dot(B))\n",
    "    return np.arccos(np.minimum(svd[1], 1.0)) / (np.pi/2)\n",
    "    \n",
    "def pars_track(pars,t): \n",
    "    C = pars[0]\n",
    "    proj_errors[t] = np.hstack((0, principal_angle(pars_true['C'], C)))\n",
    "            \n",
    "_, pars_est, traces, Qs, Om, W, t = run_bad(lag_range=lag_range,n=n,y=y, idx_a=idx_a, idx_b=idx_b,\n",
    "                                      obs_scheme=obs_scheme,init=pars_est,\n",
    "                                      parametrization=parametrization, sso=sso,\n",
    "                                      Qs=Qs, Om=Om, W=W, return_aux = True,\n",
    "                                      alpha=a,b1=b1,b2=b2,e=e,max_iter=max_iter,a_decay=a_decay,\n",
    "                                      batch_size=batch_size,verbose=True, max_epoch_size=max_zip_size,\n",
    "                                      pars_track=pars_track,save_every=np.inf, data_path=data_path)\n",
    "\n",
    "print_slim(Qs,Om,lag_range,pars_est,idx_a,idx_b,traces,False,data_path)\n",
    "print('fitting time was ', t, 's')\n",
    "print('rank of final C_est: ', sp.linalg.orth(pars_est['C']).shape[1])\n",
    "\n",
    "plt.plot(proj_errors[:,1:])\n",
    "plt.show()\n"
   ]
  },
  {
   "cell_type": "code",
   "execution_count": null,
   "metadata": {
    "collapsed": false
   },
   "outputs": [],
   "source": [
    "\n",
    "principal_angle(pars_true['C'], C),  principal_angle(pars_true['C'], pars_est['C'])"
   ]
  },
  {
   "cell_type": "code",
   "execution_count": null,
   "metadata": {
    "collapsed": false
   },
   "outputs": [],
   "source": [
    "mp,vp = traces[2]"
   ]
  },
  {
   "cell_type": "code",
   "execution_count": null,
   "metadata": {
    "collapsed": false
   },
   "outputs": [],
   "source": [
    "[mp[i].shape for i in range(len(mp))]"
   ]
  },
  {
   "cell_type": "code",
   "execution_count": null,
   "metadata": {
    "collapsed": false
   },
   "outputs": [],
   "source": [
    "[mp[i].shape for i in range(len(vp))]"
   ]
  }
 ],
 "metadata": {
  "kernelspec": {
   "display_name": "Python 3",
   "language": "python",
   "name": "python3"
  },
  "language_info": {
   "codemirror_mode": {
    "name": "ipython",
    "version": 3
   },
   "file_extension": ".py",
   "mimetype": "text/x-python",
   "name": "python",
   "nbconvert_exporter": "python",
   "pygments_lexer": "ipython3",
   "version": "3.5.1"
  }
 },
 "nbformat": 4,
 "nbformat_minor": 0
}
