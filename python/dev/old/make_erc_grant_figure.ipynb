{
 "cells": [
  {
   "cell_type": "code",
   "execution_count": 1,
   "metadata": {
    "collapsed": false
   },
   "outputs": [
    {
     "name": "stderr",
     "output_type": "stream",
     "text": [
      "/home/mackelab/anaconda3/lib/python3.5/site-packages/sklearn/utils/fixes.py:64: DeprecationWarning: inspect.getargspec() is deprecated, use inspect.signature() instead\n",
      "  if 'order' in inspect.getargspec(np.copy)[0]:\n"
     ]
    }
   ],
   "source": [
    "%matplotlib inline\n",
    "import numpy as np\n",
    "import scipy as sp\n",
    "from sklearn.decomposition import PCA\n",
    "import matplotlib.pyplot as plt\n",
    "import glob, os, psutil, time\n"
   ]
  },
  {
   "cell_type": "markdown",
   "metadata": {},
   "source": [
    "# c) simulated data"
   ]
  },
  {
   "cell_type": "code",
   "execution_count": null,
   "metadata": {
    "collapsed": false
   },
   "outputs": [],
   "source": [
    "\n",
    "data_path = '../fits/ERC/nonlinear_fitzhughnagumo/'\n",
    "fig_path = '../figs/'\n",
    "\n",
    "pars=np.load(data_path+'pars_true.npz')['pars'].tolist()\n",
    "pars_est_full   = np.load(data_path+'pars_est_full.npz')['arr_0'].tolist()['pars_est']\n",
    "pars_est_partial= np.load(data_path+'pars_est_partial_cont.npz')['arr_0'].tolist()['pars_est']\n",
    "pars_pca        = np.load(data_path+'pars_pca.npz')['pars'].tolist()\n",
    "#pars_est_pca= np.load(data_path+'pars_est_pca.npz')['pars'].tolist()\n",
    "sub_pops = np.load(data_path+'pars_est_partial_cont.npz')['arr_0'].tolist()['sub_pops']\n",
    "lag_range = range(0,21,4)\n",
    "\n",
    "idx_a = pars['idx_a']\n",
    "idx_b = pars['idx_b']\n",
    "pa, pb = idx_a.size, idx_b.size\n",
    "x=np.load(data_path+'x.npz')['x']\n",
    "\n",
    "p,n = pars['C'].shape\n",
    "T = x.shape[0]\n",
    "k,l = pars['k'],pars['l']\n",
    "\n",
    "mmap, chunksize = True, np.min((T,p))\n",
    "        \n",
    "y = np.memmap(data_path+'y', dtype=np.float, mode='r', shape=(T,p))"
   ]
  },
  {
   "cell_type": "code",
   "execution_count": null,
   "metadata": {
    "collapsed": false
   },
   "outputs": [],
   "source": [
    "I = 0\n",
    "def ddt_const(x):\n",
    "    v,w = x[0],x[1]\n",
    "    return np.array((v - v**3/3 -w + I, 0.08*(v +0.7-0.8*w)))\n",
    "\n",
    "# quiver plot\n",
    "\n",
    "N = 16\n",
    "V, W = np.meshgrid(np.linspace(-2.8,2.8,N), np.linspace(-2.8,2.8,N))\n",
    "dV, dW = np.zeros((N,N)), np.zeros((N,N))\n",
    "for i in range(N):\n",
    "    for j in range(N):\n",
    "        tmp = ddt_const(np.array((V[i,j], W[i,j])))\n",
    "        dV[i,j], dW[i,j] = tmp[0], tmp[1]\n",
    "\n",
    "        \n",
    "plt.figure(figsize=(1,1))\n",
    "plt.quiver(V, W, dV, dW, headwidth=3.5, width=0.005,\n",
    "           edgecolor='None', facecolor='b',linewidth=20, scale=105)\n",
    "\n",
    "ax = plt.subplot(111)\n",
    "ax.get_xaxis().tick_bottom()    \n",
    "ax.get_yaxis().tick_left()    \n",
    "\n",
    "#plt.xlim(tmin, tmax)    \n",
    "#plt.xticks(range(tmin, tmax+1, 50), [str(x) for x in range(tmin, tmax+1, 50)], fontsize=14)    \n",
    "\n",
    "ax.get_xaxis().tick_bottom()    \n",
    "ax.get_yaxis().tick_left()    \n",
    "#plt.xlim(tmin, tmax)    \n",
    "#plt.xticks(range(-2, 3, 2), [str(x) for x in range(-2, 3, 2)], fontsize=14)    \n",
    "#plt.yticks(range(-2, 3, 2), [str(x) for x in range(-2, 3, 2)], fontsize=14)    \n",
    "plt.box('off')\n",
    "plt.axis('off')\n",
    "plt.savefig(fig_path + 'a_quiver_tiny.pdf', bbox_inches=\"tight\"); \n",
    "\n",
    "plt.show()"
   ]
  },
  {
   "cell_type": "markdown",
   "metadata": {},
   "source": [
    "# c) nonlinear dynamics + linear emissions, latent and observed traces"
   ]
  },
  {
   "cell_type": "code",
   "execution_count": null,
   "metadata": {
    "collapsed": false
   },
   "outputs": [],
   "source": [
    "tmin, tmax = 1000, 1500\n",
    "\n",
    "idx_showy = np.arange(15)\n",
    "yshow = y[tmin:tmax,idx_showy]\n",
    "ydiff = yshow.max() - yshow.min()\n",
    "\n",
    "idx_showx = np.array([0,10,1,11,2,12])\n",
    "xshow = x[tmin:tmax,idx_showx]\n",
    "xdiff = xshow.max() - xshow.min()\n",
    "\n",
    "plt.figure(figsize=(2.5,2.5))\n",
    "ax = plt.subplot(111)\n",
    "for i in range(idx_showy.size):\n",
    "    plt.plot(range(tmin,tmax), i*ydiff + yshow[:,i], 'k')\n",
    "    plt.hold(True)\n",
    "    \n",
    "ax.get_xaxis().tick_bottom()    \n",
    "ax.get_yaxis().tick_left()    \n",
    "\n",
    "plt.xlim(tmin, tmax)    \n",
    "plt.xticks(range(tmin, tmax+1, 500), [str(x) for x in range(tmin, tmax+1, 500)], fontsize=14)    \n",
    "\n",
    "ax.get_xaxis().tick_bottom()    \n",
    "ax.get_yaxis().tick_left()    \n",
    "plt.yticks([])    \n",
    "\n",
    "ax.get_xaxis().tick_bottom()    \n",
    "ax.get_yaxis().tick_left()    \n",
    "plt.xlim(tmin, tmax)    \n",
    "\n",
    "plt.tick_params(axis=\"both\", which=\"both\", top=\"off\", left='off', right=\"off\", labelleft=\"on\")    \n",
    "plt.box('off')\n",
    "\n",
    "plt.savefig(fig_path + 'c_simulated_x.pdf', bbox_inches=\"tight\"); \n",
    "plt.show()\n",
    "\n",
    "\n",
    "\n",
    "plt.figure(figsize=(2.5,2.5))\n",
    "ax = plt.subplot(111)\n",
    "\n",
    "for i in range(idx_showx.size):\n",
    "    plt.plot(range(tmin,tmax), -(xdiff+ydiff)-i*xdiff + xshow[:,i], color=[.7,.7,.7])\n",
    "    \n",
    "ax.get_xaxis().tick_bottom()    \n",
    "ax.get_yaxis().tick_left()    \n",
    "\n",
    "plt.xlim(tmin, tmax)    \n",
    "plt.xticks(range(tmin, tmax+1, 500), [str(x) for x in range(tmin, tmax+1, 500)], fontsize=14)    \n",
    "\n",
    "ax.get_xaxis().tick_bottom()    \n",
    "ax.get_yaxis().tick_left()    \n",
    "plt.yticks([])    \n",
    "# Remove the tick marks\n",
    "plt.tick_params(axis=\"both\", which=\"both\", top=\"off\", left='off', right=\"off\", labelleft=\"on\")    \n",
    "plt.box('off')\n",
    "plt.savefig(fig_path + 'c_simulated_z.pdf', bbox_inches=\"tight\"); \n",
    "plt.show()\n"
   ]
  },
  {
   "cell_type": "markdown",
   "metadata": {},
   "source": [
    "# c) quality of fit (snippets of covariance matrices)"
   ]
  },
  {
   "cell_type": "code",
   "execution_count": null,
   "metadata": {
    "collapsed": false
   },
   "outputs": [],
   "source": [
    "sub_pops = (np.arange(5500), np.arange(4500,p))\n",
    "\n",
    "nshow = 16\n",
    "idx_a_show = np.setdiff1d(np.arange(p), sub_pops[1])\n",
    "idx_b_show = np.setdiff1d(np.arange(p), sub_pops[0])\n",
    "\n",
    "idx_a_show = idx_a_show[np.random.choice(len(idx_a_show), nshow, replace=False)]\n",
    "idx_b_show = idx_b_show[np.random.choice(len(idx_b_show), nshow, replace=False)]\n",
    "\n",
    "for m in range(1):\n",
    "    print('computing time-lagged covariance for lag ', str(m))\n",
    "\n",
    "    Qr = np.cov(y[m:m-(k+l),idx_a_show].T, y[:-(k+l),idx_b_show].T)[:idx_a_show.size,idx_b_show.size:]\n",
    "    Qf = (pars_est_full['C'][idx_a_show,:].dot(pars_est_full['X'][:n,:]).dot(pars_est_full['C'][idx_b_show,:].T)) + np.diag(pars_est_full['R'])[np.ix_(idx_a_show,idx_b_show)]\n",
    "    Qp = (pars_est_partial['C'][idx_a_show,:].dot(pars_est_partial['X'][:n,:]).dot(pars_est_partial['C'][idx_b_show,:].T)) + np.diag(pars_est_full['R'])[np.ix_(idx_a_show,idx_b_show)]\n",
    "\n",
    "    cm = np.min((Qr.min(), Qf.min(), Qp.min()))\n",
    "    cM = np.max((Qr.max(), Qf.max(), Qp.max()))\n",
    "    \n",
    "    plt.figure(figsize=(1, 1))\n",
    "    plt.imshow(Qr, interpolation = 'None')\n",
    "    plt.clim(cm, cM)\n",
    "    plt.box('off')\n",
    "    ax = plt.subplot(111)\n",
    "    ax.get_xaxis().tick_bottom()    \n",
    "    ax.get_yaxis().tick_left()    \n",
    "    plt.xticks([])\n",
    "    plt.yticks([])\n",
    "    #plt.title('true')\n",
    "    plt.savefig(fig_path + 'c_simulated_true_cov.png', bbox_inches=0, pad_inches=0, frameon=False,\n",
    "               transparent=True, dpi=300);   \n",
    "    plt.show()\n",
    "    \n",
    "\n",
    "    plt.figure(figsize=(1, 1))\n",
    "    plt.imshow(Qf, interpolation = 'None')\n",
    "    plt.clim(cm, cM)\n",
    "    plt.box('off')\n",
    "    ax = plt.subplot(111)\n",
    "    ax.get_xaxis().tick_bottom()    \n",
    "    ax.get_yaxis().tick_left()    \n",
    "    plt.xticks([])\n",
    "    plt.yticks([])\n",
    "    #plt.title('full')\n",
    "    plt.savefig(fig_path + 'c_simulated_full_cov.png', bbox_inches=0, pad_inches=0, frameon=False,\n",
    "               transparent=True, dpi=300);     \n",
    "    plt.show()\n",
    "    \n",
    "\n",
    "    plt.figure(figsize=(1, 1))\n",
    "    plt.imshow(Qp, interpolation = 'None')\n",
    "    plt.clim(cm, cM)\n",
    "    plt.box('off')\n",
    "    ax = plt.subplot(111)\n",
    "    ax.get_xaxis().tick_bottom()    \n",
    "    ax.get_yaxis().tick_left()    \n",
    "    plt.xticks([])\n",
    "    plt.yticks([])\n",
    "    #plt.title('stitch')\n",
    "    plt.savefig(fig_path + 'c_simulated_stitch_cov.png', bbox_inches=0, pad_inches=0, frameon=False,\n",
    "               transparent=True, dpi=300);     \n",
    "    plt.show()\n"
   ]
  },
  {
   "cell_type": "markdown",
   "metadata": {},
   "source": [
    "# c) combining fully / partially obs traces tau vs. corr"
   ]
  },
  {
   "cell_type": "code",
   "execution_count": null,
   "metadata": {
    "collapsed": false
   },
   "outputs": [],
   "source": [
    "sub_pops = (np.arange(5500), np.arange(4500,p))\n",
    "idx_a = np.setdiff1d(np.arange(p), sub_pops[1])\n",
    "idx_b = np.setdiff1d(np.arange(p), sub_pops[0])\n",
    "pa, pb = idx_a.size, idx_b.size\n",
    "\n",
    "\n",
    "corrs_true, corrs_est_full, corrs_est_partial = np.zeros(len(lag_range)), np.zeros(len(lag_range)), np.zeros(len(lag_range))\n",
    "corrs_est_pca = np.zeros(len(lag_range))\n",
    "kl_ = np.max(lag_range)+1\n",
    "for m in range(0,len(lag_range)):\n",
    "    m_ = lag_range[m]\n",
    "    print('computing time-lagged covariance for lag ', str(m))\n",
    "    \n",
    "    Qf= np.cov(y[m_:m_-kl_,idx_a].T, y[:-kl_,idx_b].T)[:pa,pa:]   \n",
    "\n",
    "    Qr = pars['C'][idx_a,:].dot(np.cov(x[m_:m_-kl_,:].T, x[0:-kl_,:].T)[:n,n:]).dot(pars['C'][idx_b,:].T)\n",
    "    Qr = Qr + np.diag(pars['R'])[idx_a,idx_b] if m == 0 else Qr\n",
    "    \n",
    "    corrs_true[m] = np.corrcoef(Qf.reshape(-1), Qr.reshape(-1))[0,1]\n",
    "    \n",
    "    Qr = pars_est_full['C'][idx_a,:].dot(pars_est_full['X'][m*n:(m+1)*n,:]).dot(pars_est_full['C'][idx_b,:].T)\n",
    "\n",
    "    corrs_est_full[m] = np.corrcoef(Qf.reshape(-1), Qr.reshape(-1))[0,1]\n",
    "\n",
    "    Qr = pars_est_partial['C'][idx_a,:].dot(pars_est_partial['X'][m*n:(m+1)*n,:]).dot(pars_est_partial['C'][idx_b,:].T)\n",
    "\n",
    "    corrs_est_partial[m] = np.corrcoef(Qf.reshape(-1), Qr.reshape(-1))[0,1]\n",
    "    \n",
    "    Qr = pars_pca['C'][idx_a,:].dot(pars_pca['Pi']).dot(pars_pca['C'][idx_b,:].T)\n",
    "    corrs_est_pca[m] = np.corrcoef(Qf.reshape(-1), Qr.reshape(-1))[0,1]\n",
    "    \n",
    "   "
   ]
  },
  {
   "cell_type": "markdown",
   "metadata": {},
   "source": [
    "# (comparison full vs. partial)"
   ]
  },
  {
   "cell_type": "code",
   "execution_count": null,
   "metadata": {
    "collapsed": false,
    "scrolled": true
   },
   "outputs": [],
   "source": [
    "\n",
    "bw = 1.2\n",
    "plt.figure(figsize=(1.5, 1))\n",
    "taus = lag_range\n",
    "for i in range(len(taus)):\n",
    "    plt.plot([taus[i]-bw, taus[i]+bw], [corrs_est_full[i],corrs_est_full[i]], '-', color='b', linewidth=1)\n",
    "    plt.hold(True)\n",
    "    plt.plot([taus[i]-bw, taus[i]+bw], [corrs_est_partial[i],corrs_est_partial[i]], '-', color='r', linewidth=1)\n",
    "\n",
    "plt.axis([-bw, np.max(taus)+bw, 0.8, 1])\n",
    "#plt.legend(('fully obs. fit', 'part. obs. fit', 'part. obs. PCA'), 'lower left')\n",
    "plt.xlabel('time-lag [frames]', fontsize=7)\n",
    "plt.ylabel('corr', fontsize=7)\n",
    "\n",
    "ax = plt.subplot(111)\n",
    "ax.get_xaxis().tick_bottom()    \n",
    "ax.get_yaxis().tick_left()    \n",
    "\n",
    "plt.yticks(np.arange(0.80, 1.01, 0.1), [str(x) for x in np.arange(0.80, 1.01, 0.1)], fontsize=7)    \n",
    "plt.xticks(taus, [str(x) for x in taus], fontsize=7)\n",
    "\n",
    "\n",
    "ax.get_xaxis().tick_bottom()    \n",
    "ax.get_yaxis().tick_left()    \n",
    "plt.tick_params(axis=\"both\", which=\"both\", top=\"off\", right=\"off\", labelleft=\"on\", tickdir='out')    \n",
    "#plt.box('off')\n",
    "\n",
    "plt.box('off')\n",
    "plt.savefig(fig_path + 'c_simulated_performance.pdf', bbox_inches=\"tight\"); \n",
    "plt.show()"
   ]
  },
  {
   "cell_type": "markdown",
   "metadata": {},
   "source": [
    "# (comparison full vs. partial vs. partial PCA vs. ground-truth)"
   ]
  },
  {
   "cell_type": "code",
   "execution_count": null,
   "metadata": {
    "collapsed": false
   },
   "outputs": [],
   "source": [
    "bw = 1.2\n",
    "plt.figure(figsize=(1.5, 1))\n",
    "taus = lag_range\n",
    "for i in range(len(taus)):\n",
    "    plt.plot([taus[i]-bw, taus[i]+bw], [corrs_est_full[i],corrs_est_full[i]], '-', color='b', linewidth=0.5)\n",
    "    plt.hold(True)\n",
    "    plt.plot([taus[i]-bw, taus[i]+bw], [corrs_est_partial[i],corrs_est_partial[i]], '-', color='r', linewidth=0.5)\n",
    "    plt.plot([taus[i]-bw, taus[i]+bw], [corrs_est_pca[i],corrs_est_pca[i]], '-', color='k', linewidth=0.5)\n",
    "    plt.plot([taus[i]-bw, taus[i]+bw], [corrs_true[i],corrs_true[i]], '-', color='g', linewidth=0.5)\n",
    "\n",
    "    \n",
    "plt.axis([-bw, np.max(taus)+bw, -0.2, 1])\n",
    "#plt.legend(('fully obs. fit', 'part. obs. fit', 'part. obs. PCA'), 'lower left')\n",
    "plt.xlabel('time-lag [frames]', fontsize=7)\n",
    "plt.ylabel('corr', fontsize=7)\n",
    "\n",
    "ax = plt.subplot(111)\n",
    "ax.get_xaxis().tick_bottom()    \n",
    "ax.get_yaxis().tick_left()    \n",
    "\n",
    "plt.axis([-bw, np.max(taus)+bw, -0.3, 1.01])\n",
    "plt.yticks(np.arange(0.0, 1.01, 0.5), [str(x) for x in np.arange(0.0, 1.01, 0.5)], fontsize=7)    \n",
    "plt.xticks(taus, [str(x) for x in taus], fontsize=7)\n",
    "\n",
    "plt.tick_params(axis=\"both\", which=\"both\", top=\"off\", right=\"off\", labelleft=\"on\", tickdir='out')    \n",
    "#plt.box('off')\n",
    "\n",
    "plt.box('off')\n",
    "plt.savefig(fig_path + 'c_simulated_performance_pca_grtr.pdf', bbox_inches=\"tight\"); \n",
    "plt.show()\n"
   ]
  },
  {
   "cell_type": "code",
   "execution_count": null,
   "metadata": {
    "collapsed": true
   },
   "outputs": [],
   "source": [
    "from sklearn.decomposition import PCA\n",
    "\n",
    "fig_path = '/home/mackelab/Desktop/Projects/Stitching/code/le_stitch/python/figs/'\n",
    "m_range = range(len(lag_range))\n",
    "kl_ = np.max(lag_range)+1\n",
    "\n",
    "y_masked = np.memmap(data_path+'y_zscore', dtype=np.float, mode='c', shape=(T,p))\n",
    "\n",
    "#y_masked[:obs_time[0], np.setdiff1d(np.arange(p), sub_pops[obs_pops[0]])] = 0\n",
    "#for i in range(1,len(obs_time)):\n",
    "#    y_masked[np.ix_(np.arange(obs_time[i-1],obs_time[i]), np.setdiff1d(np.arange(p), sub_pops[obs_pops[i]]))] = 0\n",
    "    \n",
    "pca = PCA()\n",
    "pca.fit(y_masked)\n",
    "del y_masked\n",
    "\n",
    "pars_pca = {}\n",
    "pars_pca['C'] = pca.components_[:n].T\n",
    "pars_pca['Pi'] = np.diag(pca.explained_variance_[:n])    \n",
    "\n",
    "\n",
    "idxc_a = np.setdiff1d(np.arange(p), sub_pops[1])\n",
    "if len(sub_pops) > 0:\n",
    "    idxc_b = np.setdiff1d(np.arange(p), sub_pops[0]) # those only in subpop #2 \n",
    "else:\n",
    "    idxc_b = idx_a.copy()\n",
    "pa, pb = len(idxc_a), len(idxc_b)\n",
    "\n",
    "pa, pb = 1000, 1000\n",
    "idxc_a = idxc_a[np.sort(np.random.choice(idxc_a.size, pa, replace=False))] # subsample for \\\n",
    "idxc_b = idxc_b[np.sort(np.random.choice(idxc_b.size, pb, replace=False))] # memory reasons\n",
    "\n",
    "\n",
    "Qs = []\n",
    "if mmap:\n",
    "    y = np.memmap(data_path+'y_zscore', dtype=np.float, mode='r', shape=(T,p))\n",
    "    \n",
    "\n",
    "corrs_est = np.zeros((len(m_range), 2))\n",
    "MSE_est = np.zeros((len(m_range), 2))    \n",
    "for m in m_range:\n",
    "    m_ = lag_range[m]\n",
    "    print('computing time-lagged covariance for lag ', str(m_))\n",
    "    Qs.append(None)\n",
    "    if mmap:\n",
    "        Q = np.memmap(data_path+'Qs_'+str(m_), dtype=np.float, \n",
    "                      mode='w+', shape=(pa,pb))\n",
    "    else:\n",
    "        Q = np.empty((pa,pb))\n",
    "    Q[:] = np.cov(y[m_:m_-(kl_),idxc_a].T, y[:-(kl_),idxc_b].T)[:pa,pa:]     \n",
    "    if mmap:\n",
    "        del Q\n",
    "        Qs[m] = np.memmap(data_path+'Qs_'+str(m_), dtype=np.float, \n",
    "                          mode='r', shape=(pa,pb))\n",
    "    else:\n",
    "        Qs[m] = Q\n",
    "            \n",
    "    Q = (pars_est['C'][idxc_a,:].dot(pars_est['X'][m*n:(m+1)*n,:]).dot(pars_est['C'][idxc_b,:].T))\n",
    "    corrs_est[m,0] = np.corrcoef(Qs[m][:].reshape(-1), Q.reshape(-1))[0,1]\n",
    "    MSE_est[m,0] = np.mean( (Qs[m] - Q)**2 )\n",
    "\n",
    "    \"\"\"\n",
    "    plt.figure(figsize=(20,20))\n",
    "    if m_ == 0:\n",
    "        plt.plot(-10,-10, 'r.')    \n",
    "        plt.hold(True)\n",
    "        plt.plot(-10,-10, 'b.')    \n",
    "        plt.plot(Qs[m][:], Q[:], 'r.')\n",
    "        plt.hold(True)\n",
    "        plt.title('corr. est. us:' + str(np.corrcoef(Qs[m][:].reshape(-1), Q.reshape(-1))[0,1]))\n",
    "    \"\"\"\n",
    "    \n",
    "    tmp  = np.abs(Q.reshape(-1) - Qs[m].reshape(-1))\n",
    "        \n",
    "    Q = (pars_pca['C'][idxc_a,:].dot(pars_pca['Pi']).dot(pars_pca['C'][idxc_b,:].T))\n",
    "    corrs_est[m,1] = np.corrcoef(Qs[m][:].reshape(-1), Q.reshape(-1))[0,1]      \n",
    "    MSE_est[m,1] = np.mean( (Qs[m] - Q)**2 )    \n",
    "    \n",
    "    \"\"\"\n",
    "    if m_ == 0:\n",
    "        plt.plot(Qs[m][:], Q[:], 'b.')\n",
    "        plt.plot([-1,1], [-1,1], 'k--')\n",
    "\n",
    "        plt.legend(('stitched', 'naive PCA'), 'northwest')    \n",
    "        plt.axis([-1,1,-1,1])\n",
    "        plt.xlabel('corr. est. PCA:' + str(np.corrcoef(Qs[m][:].reshape(-1), Q.reshape(-1))[0,1]))\n",
    "        plt.savefig(fig_path + 'stitched_covs.png', bbox_inches=\"tight\"); \n",
    "        plt.show()\n",
    "    \"\"\"\n",
    "    \n",
    "    del Q\n",
    "    if mmap:\n",
    "        del y # releases RAM, forces flush to disk\n",
    "        y = np.memmap(data_path+'y_zscore', dtype=np.float, mode='r', shape=(T,p)) \n"
   ]
  },
  {
   "cell_type": "markdown",
   "metadata": {},
   "source": [
    "# scatter plot"
   ]
  },
  {
   "cell_type": "code",
   "execution_count": null,
   "metadata": {
    "collapsed": false
   },
   "outputs": [],
   "source": [
    "sub_pops = (np.arange(5500), np.arange(4500,p))\n",
    "idx_a = np.setdiff1d(np.arange(p), sub_pops[1])\n",
    "idx_b = np.setdiff1d(np.arange(p), sub_pops[0])\n",
    "idx_a = idx_a[np.random.choice(idx_a.size, 1000, replace=False)]\n",
    "idx_b = idx_b[np.random.choice(idx_b.size, 1000, replace=False)]\n",
    "pa, pb = idx_a.size, idx_b.size\n",
    "\n",
    "sub_pops = np.load(data_path+'pars_est_partial_cont.npz')['arr_0'].tolist()['sub_pops']\n",
    "obs_time = np.array([T//2, T])\n",
    "obs_pops = np.arange(len(sub_pops))\n",
    "y_masked = np.memmap(data_path+'y', dtype=np.float, mode='c', shape=(T,p))\n",
    "y_masked[:obs_time[0], np.setdiff1d(np.arange(p), sub_pops[obs_pops[0]])] = 0\n",
    "for i in range(1,len(obs_time)):\n",
    "    y_masked[np.ix_(np.arange(obs_time[i-1],obs_time[i]), np.setdiff1d(np.arange(p), sub_pops[obs_pops[i]]))] = 0    \n",
    "pca = PCA()\n",
    "pca.fit(y_masked)\n",
    "del y_masked\n",
    "pars_pca = {}\n",
    "pars_pca['C'] = pca.components_[:n].T\n",
    "pars_pca['Pi'] = np.diag(pca.explained_variance_[:n])   \n",
    "\n",
    "\n",
    "kl_ = np.max(lag_range)+1\n",
    "for m in range(1):\n",
    "    m_ = lag_range[m]\n",
    "    print('computing time-lagged covariance for lag ', str(m))\n",
    "    \n",
    "    Qemp = np.cov(y[m_:m_-kl_,idx_a].T, y[:-kl_,idx_b].T)[:pa,pa:]       \n",
    "    \n",
    "    Qfull = pars_est_full['C'][idx_a,:].dot(pars_est_full['X'][m*n:(m+1)*n,:]).dot(pars_est_full['C'][idx_b,:].T)\n",
    "\n",
    "\n",
    "    Qstitch = pars_est_partial['C'][idx_a,:].dot(pars_est_partial['X'][m*n:(m+1)*n,:]).dot(pars_est_partial['C'][idx_b,:].T)\n",
    "\n",
    "    \n",
    "    Qpca = pars_pca['C'][idx_a,:].dot(pars_pca['Pi']).dot(pars_pca['C'][idx_b,:].T)\n",
    "    "
   ]
  },
  {
   "cell_type": "code",
   "execution_count": null,
   "metadata": {
    "collapsed": false
   },
   "outputs": [],
   "source": [
    "\n",
    "plt.figure(figsize=(1.2,1.2))\n",
    "ax = plt.subplot(111)\n",
    "ax.get_xaxis().tick_bottom()    \n",
    "ax.get_yaxis().tick_left()   \n",
    "plt.plot(Qemp.reshape(-1), Qstitch.reshape(-1), 'r.', markersize=1)\n",
    "plt.hold(True)\n",
    "plt.plot(Qemp.reshape(-1), Qfull.reshape(-1), 'b.', markersize=1)\n",
    "plt.plot(Qemp.reshape(-1), Qpca.reshape(-1), 'k.', markersize=1)\n",
    "#plt.xlabel('true cov.', fontsize=7)\n",
    "#plt.ylabel('est. cov.', fontsize=7)\n",
    "plt.xticks(range(-1,2), ['' for x in range(-1,2)], fontsize=7)\n",
    "plt.yticks(range(-1,2), ['' for x in range(-1,2)], fontsize=7)\n",
    "plt.axis('equal')\n",
    "plt.box('off')\n",
    "plt.tick_params(axis=\"both\", which=\"both\", top=\"off\", right=\"off\", labelleft=\"on\", tickdir='out')    \n",
    "plt.savefig(fig_path + 'c_simulated_scatter_with_pca_no_ticks.png', bbox_inches=\"tight\", pad_inches=0, frameon=False,\n",
    "               transparent=True, dpi=300);   \n",
    "plt.show()"
   ]
  },
  {
   "cell_type": "code",
   "execution_count": null,
   "metadata": {
    "collapsed": false
   },
   "outputs": [],
   "source": [
    "\n",
    "plt.figure(figsize=(1.2,1.2))\n",
    "ax = plt.subplot(111)\n",
    "ax.get_xaxis().tick_bottom()    \n",
    "ax.get_yaxis().tick_left()   \n",
    "plt.plot(Qemp.reshape(-1), Qstitch.reshape(-1), 'r.', markersize=1)\n",
    "plt.hold(True)\n",
    "#plt.plot(Qemp.reshape(-1), Qpca.reshape(-1), 'k.', markersize=1)\n",
    "plt.plot(Qemp.reshape(-1), Qfull.reshape(-1), 'b.', markersize=1)\n",
    "#plt.xlabel('true cov.', fontsize=7)\n",
    "#plt.ylabel('est. cov.', fontsize=7)\n",
    "plt.xticks(range(-1,2), ['' for x in range(-1,2)], fontsize=7)\n",
    "plt.yticks(range(-1,2), ['' for x in range(-1,2)], fontsize=7)\n",
    "plt.axis('equal')\n",
    "plt.box('off')\n",
    "plt.tick_params(axis=\"both\", which=\"both\", top=\"off\", right=\"off\", labelleft=\"on\", tickdir='out')    \n",
    "plt.savefig(fig_path + 'c_simulated_scatter_no_ticks.png', bbox_inches=\"tight\", pad_inches=0, frameon=False,\n",
    "               transparent=True, dpi=300);   \n",
    "plt.show()"
   ]
  },
  {
   "cell_type": "code",
   "execution_count": null,
   "metadata": {
    "collapsed": false
   },
   "outputs": [],
   "source": [
    "import numpy as np\n",
    "import matplotlib.pyplot as plt\n",
    "\n",
    "data_path = '../fits/ERC/nonlinear_fitzhughnagumo/'\n",
    "fig_path = '../figs/'\n",
    "tmin, tmax = 1000, 1500\n",
    "\n",
    "idx_showx = np.array([0,10,1,11,2,12,3,13,4,14,5,15,6,16,7,17,8,18,9,19]) \n",
    "#idx_showx = np.array([0,10,1,11,2,12])\n",
    "\n",
    "pars_est_partial=np.load(data_path+'pars_est_partial_cont.npz')['arr_0'].tolist()['pars_est']\n",
    "pars_est_full=np.load(data_path+'pars_est_full.npz')['arr_0'].tolist()['pars_est']\n",
    "pars=np.load(data_path+'pars_true.npz')['pars'].tolist()\n",
    "p,n = pars['C'].shape\n",
    "x=np.load(data_path+'x.npz')['x']\n",
    "T = x.shape[0]\n",
    "\n",
    "y = np.memmap(data_path+'y', dtype=np.float, mode='r', shape=(T,p))\n",
    "\n",
    "xshow = x[tmin:tmax,idx_showx]\n",
    "xdiff = xshow.max() - xshow.min()\n",
    "\n",
    "%matplotlib inline\n",
    "idx_t = np.arange(tmin, tmax)\n",
    "idx_x = idx_showx.copy()\n",
    "\n",
    "Cd_true = np.linalg.pinv(pars['C'])\n",
    "\n",
    "Cd_est_full  = np.linalg.pinv(pars_est_full['C'])\n",
    "\n",
    "x_est_raw = Cd_est_full.dot(y.T)\n",
    "Qfull = np.linalg.inv(x_est_raw.dot(np.linalg.pinv(x.T)))\n",
    "\n",
    "#Qfull = np.linalg.pinv(Cd_est_full.dot(pars['C']))\n",
    "x_est_full = (Cd_est_full.dot(y[idx_t,:].T).T).dot(Qfull.T)\n",
    "\n",
    "Cd_est_partial  = np.linalg.pinv(pars_est_partial['C'])\n",
    "\n",
    "x_est_raw = Cd_est_partial.dot(y.T)\n",
    "Qpartial = np.linalg.inv(x_est_raw.dot(np.linalg.pinv(x.T)))\n",
    "#Qpartial = np.linalg.pinv(Cd_est_partial.dot(pars['C']))\n",
    "x_est_partial = ((Cd_est_partial.dot(y[idx_t,:].T)).T).dot(Qpartial.T)\n",
    "\n",
    "plt.figure(figsize=(10,10))\n",
    "\n",
    "plot_stitched = True\n",
    "if plot_stitched:\n",
    "    xdiff *= 1.5\n",
    "for i in range(len(idx_x)): #range(len(idx_x)):\n",
    "    \n",
    "    plt.plot(range(tmin,tmax), -i*xdiff + x[idx_t,idx_x[i]], 'k')\n",
    "    plt.hold(True)\n",
    "    #plt.plot(range(tmin,tmax), -i*xdiff + Cd_true.dot(y[idx_t,:].T).T[:,idx_x[i]], 'r')\n",
    "    plt.plot(range(tmin,tmax), -i*xdiff + x_est_full[:,idx_x[i]], 'g', linewidth=0.5)\n",
    "    \n",
    "    if plot_stitched:\n",
    "        plt.plot(range(tmin,tmax), -i*xdiff + x_est_partial[:,idx_x[i]], 'b', linewidth=0.5)\n",
    "\n",
    "ax = plt.subplot(111)    \n",
    "ax.get_xaxis().tick_bottom()    \n",
    "ax.get_yaxis().tick_left()    \n",
    "\n",
    "plt.xlim(tmin, tmax)    \n",
    "plt.xticks(range(tmin, tmax+1, 500), [str(x) for x in range(tmin, tmax+1, 500)], fontsize=14)    \n",
    "\n",
    "ax.get_xaxis().tick_bottom()    \n",
    "ax.get_yaxis().tick_left()    \n",
    "plt.yticks([])    \n",
    "plt.xlabel('time t', fontsize=14)\n",
    "# Remove the tick marks\n",
    "plt.tick_params(axis=\"both\", which=\"both\", top=\"off\", left='off', right=\"off\", labelleft=\"on\")    \n",
    "plt.box('off')\n",
    "#plt.savefig(fig_path + 'c_identifying_z_select_plus_stitched.pdf', bbox_inches=\"tight\"); \n",
    "plt.show()"
   ]
  },
  {
   "cell_type": "code",
   "execution_count": null,
   "metadata": {
    "collapsed": false
   },
   "outputs": [],
   "source": [
    "plt.imshow(Qfull, interpolation='None')\n",
    "plt.colorbar()\n",
    "plt.show()\n",
    "np.abs(np.linalg.eigvals(Qfull))"
   ]
  },
  {
   "cell_type": "code",
   "execution_count": null,
   "metadata": {
    "collapsed": false
   },
   "outputs": [],
   "source": [
    "plt.imshow(Qpartial, interpolation='None')\n",
    "plt.colorbar()\n",
    "plt.show()\n",
    "\n",
    "np.abs(np.linalg.eigvals(Qpartial))"
   ]
  },
  {
   "cell_type": "code",
   "execution_count": null,
   "metadata": {
    "collapsed": false
   },
   "outputs": [],
   "source": [
    "lag_range = range(0,21,4)\n",
    "kl_ = np.max(lag_range)+1\n",
    "\n",
    "plt.figure(figsize=(6,len(lag_range)*3))\n",
    "\n",
    "#tmp = Qpartial.copy()\n",
    "tmp = np.eye(n)\n",
    "\n",
    "for m in range(len(lag_range)):\n",
    "    m_ = lag_range[m]\n",
    "    Qf= np.cov(x[m_:m_-kl_,:].T, x[:-kl_,:].T)[:n,n:]    \n",
    "    Qr= tmp.dot(pars_est_partial['X'][m*n:(m+1)*n]).dot(tmp.T)\n",
    "    \n",
    "    plt.subplot(len(lag_range),2,2*m+1)\n",
    "    plt.imshow(Qf, interpolation='None')\n",
    "    plt.ylabel('time-lag = ' + str(m_), fontsize=14)\n",
    "    plt.title('ground-truth')\n",
    "    plt.colorbar()\n",
    "    plt.gray()\n",
    "    plt.subplot(len(lag_range),2,2*m+2)\n",
    "    plt.imshow(Qr, interpolation='None')\n",
    "    plt.title('estimated')\n",
    "    plt.colorbar()\n",
    "    plt.gray()\n",
    "plt.savefig(fig_path + 'c_identifying_z_covs_stitched.pdf', bbox_inches=\"tight\"); \n",
    "plt.show()\n",
    "    "
   ]
  },
  {
   "cell_type": "code",
   "execution_count": null,
   "metadata": {
    "collapsed": false
   },
   "outputs": [],
   "source": [
    "lag_range = range(0,21,4)\n",
    "kl_ = np.max(lag_range)+1\n",
    "\n",
    "plt.figure(figsize=(6,len(lag_range)*3))\n",
    "\n",
    "for m in range(len(lag_range)):\n",
    "    m_ = lag_range[m]\n",
    "    Qf= np.cov(x[m_:m_-kl_,:].T, x[:-kl_,:].T)[:n,n:]    \n",
    "    Qr= Qfull.dot(pars_est_full['X'][m*n:(m+1)*n]).dot(Qfull.T)\n",
    "    \n",
    "    plt.subplot(len(lag_range),2,2*m+1)\n",
    "    plt.imshow(Qf, interpolation='None')\n",
    "    plt.ylabel('time-lag = ' + str(m_), fontsize=14)\n",
    "    plt.title('ground-truth')\n",
    "    plt.colorbar()\n",
    "    plt.gray()\n",
    "    plt.subplot(len(lag_range),2,2*m+2)\n",
    "    plt.imshow(Qr, interpolation='None')\n",
    "    plt.title('estimated')\n",
    "    plt.colorbar()\n",
    "    plt.gray()\n",
    "plt.savefig(fig_path + 'c_identifying_z_covs.pdf', bbox_inches=\"tight\"); \n",
    "plt.show()\n",
    "    "
   ]
  },
  {
   "cell_type": "code",
   "execution_count": null,
   "metadata": {
    "collapsed": false
   },
   "outputs": [],
   "source": [
    "Qf.shape"
   ]
  },
  {
   "cell_type": "code",
   "execution_count": null,
   "metadata": {
    "collapsed": true
   },
   "outputs": [],
   "source": []
  },
  {
   "cell_type": "code",
   "execution_count": null,
   "metadata": {
    "collapsed": true
   },
   "outputs": [],
   "source": [
    "\n",
    "\n",
    "\n",
    "\n",
    "\n",
    "\n",
    "\n",
    "\n",
    "\n",
    "\n",
    "\n",
    "\n",
    "\n",
    "\n",
    "\n",
    "\n",
    "\n",
    "\n",
    "\n",
    "\n",
    "\n",
    "\n",
    "\n",
    "\n",
    "\n",
    "\n",
    "\n"
   ]
  },
  {
   "cell_type": "markdown",
   "metadata": {},
   "source": [
    "\n",
    "\n",
    "\n",
    "\n",
    "\n",
    "\n",
    "\n",
    "# d) real data"
   ]
  },
  {
   "cell_type": "code",
   "execution_count": 2,
   "metadata": {
    "collapsed": false
   },
   "outputs": [],
   "source": [
    "\n",
    "data_path = '../fits/lsfm/grid_quick/'\n",
    "fig_path = '../figs/'\n",
    "\n",
    "tmp = np.load(data_path + 'stitch_2pops_zsplit_6_lags.npz')\n",
    "p,n,T = tmp['p'],tmp['n'],tmp['T']\n",
    "lag_range = tmp['lag_range']\n",
    "pars_est_partial = tmp['pars_est'].tolist()\n",
    "sub_pops = tmp['sub_pops']\n",
    "obs_pops = np.arange(len(sub_pops))\n",
    "obs_time = T//len(sub_pops) * np.arange(1,len(sub_pops)+1)\n",
    "    \n",
    "tmp = np.load(data_path + 'full_2pops_zsplit_6_lags.npz')\n",
    "pars_est_full = tmp['pars_est'].tolist()\n",
    "y = np.memmap(data_path+'y_zscore', dtype=np.float, mode='r', shape=(T,p))\n",
    "\n"
   ]
  },
  {
   "cell_type": "code",
   "execution_count": null,
   "metadata": {
    "collapsed": false
   },
   "outputs": [],
   "source": [
    "nz, nx, ny = 41, 1024, 2048\n",
    "filename = '/home/mackelab/data/dOMR0_20150414_112406/TM00000_CM0_CHN00.stack'\n",
    "stack = np.fromfile(filename, dtype=np.float16).reshape(nz, nx, ny).astype(dtype=np.float32)\n",
    "\n",
    "def sig(x):\n",
    "    return 1/(1+np.exp(-x/2.5))\n",
    "    #return x\n",
    "\n",
    "for z in [3, 10, 17]:\n",
    "    plt.figure(figsize=(0.6,1.2))\n",
    "    plt.imshow( sig((stack[z,:,:].T-stack[z,:,:].mean())/np.sqrt(np.var(stack[z,:,:]))), interpolation='None')\n",
    "    plt.gray()\n",
    "    #plt.title('z =' + str(z), fontsize=14)\n",
    "    #plt.yticks([0, 1024, 2048], [str(x) for x in [0, 1024, 2048]], fontsize=14)\n",
    "    #plt.xticks([0, 1024], [str(x) for x in [0, 1024]], fontsize=14)\n",
    "    plt.xticks([])\n",
    "    plt.yticks([])\n",
    "    plt.box('off')\n",
    "    plt.savefig(fig_path + 'a_frame0_z'+ str(z+1) +'.png', bbox_inches=0, pad_inches=0, frameon=False,\n",
    "               transparent=True, dpi=300); \n",
    "    plt.show()"
   ]
  },
  {
   "cell_type": "code",
   "execution_count": null,
   "metadata": {
    "collapsed": false
   },
   "outputs": [],
   "source": [
    "nz, nx, ny = 41, 1024, 2048\n",
    "filename = '/home/mackelab/data/dOMR0_20150414_112406/TM00000_CM0_CHN00.stack'\n",
    "stack = np.fromfile(filename, dtype=np.float16).reshape(nz, nx, ny).astype(dtype=np.float32)\n",
    "\n",
    "def sig(x):\n",
    "    return 1/(1+np.exp(-x/1.5))\n",
    "    #return x\n",
    "\n",
    "for z in [10,14,16]:\n",
    "    plt.figure(figsize=(0.8,1.6))\n",
    "    plt.imshow( sig((stack[z,:,:].T-stack[z,:,:].mean())/np.sqrt(np.var(stack[z,:,:]))), interpolation='None')\n",
    "    plt.gray()\n",
    "    #plt.title('z =' + str(z), fontsize=14)\n",
    "    #plt.yticks([0, 1024, 2048], [str(x) for x in [0, 1024, 2048]], fontsize=14)\n",
    "    #plt.xticks([0, 1024], [str(x) for x in [0, 1024]], fontsize=14)\n",
    "    plt.xticks([])\n",
    "    plt.yticks([])\n",
    "    #plt.box('off')\n",
    "    plt.savefig(fig_path + 'd_frame0_z'+ str(z+1) +'.png', bbox_inches=0, pad_inches=0, frameon=False,\n",
    "               transparent=True, dpi=300); \n",
    "    plt.show()"
   ]
  },
  {
   "cell_type": "markdown",
   "metadata": {},
   "source": [
    "# real data traces (tiny)"
   ]
  },
  {
   "cell_type": "code",
   "execution_count": null,
   "metadata": {
    "collapsed": false
   },
   "outputs": [],
   "source": [
    "tmin, tmax = 790, 910\n",
    "ts = np.arange(tmin, tmax)\n",
    "\n",
    "\n",
    "for j in range(3):\n",
    "    idx_showy = np.random.choice(p, 8, replace=False)\n",
    "    yshow = y[np.ix_(ts,idx_showy)]\n",
    "    ydiff = 0.66*(yshow.max() - yshow.min())\n",
    "\n",
    "    plt.figure(figsize=(0.9,0.8))\n",
    "    ax = plt.subplot(111)\n",
    "    for i in range(idx_showy.size):\n",
    "        plt.plot(range(tmin,tmax), i*ydiff + yshow[:,i], 'k', linewidth=0.5)\n",
    "        plt.hold(True)\n",
    "\n",
    "    ax.get_xaxis().tick_bottom()    \n",
    "    ax.get_yaxis().tick_left()    \n",
    "\n",
    "    plt.xlim(tmin-5, tmax+5)    \n",
    "    plt.xticks([])\n",
    "    #plt.xticks([800,900], [str(x) for x in [800,900]], fontsize=7)    \n",
    "    plt.yticks([])    \n",
    "\n",
    "\n",
    "    plt.tick_params(axis=\"both\", which=\"both\", top=\"off\", left='off', right=\"off\", labelleft=\"on\",tickdir='out')    \n",
    "    #plt.box('off')\n",
    "\n",
    "    plt.savefig(fig_path + 'a_data_traces_' + str(j+1) + '.pdf', bbox_inches=\"tight\"); \n",
    "    plt.show()\n"
   ]
  },
  {
   "cell_type": "code",
   "execution_count": null,
   "metadata": {
    "collapsed": true
   },
   "outputs": [],
   "source": [
    "# real data traces (small)"
   ]
  },
  {
   "cell_type": "code",
   "execution_count": null,
   "metadata": {
    "collapsed": false
   },
   "outputs": [],
   "source": [
    "tmin, tmax = 790, 910\n",
    "ts = np.arange(tmin, tmax)\n",
    "\n",
    "\n",
    "for j in range(3):\n",
    "    idx_showy = np.random.choice(p, 12, replace=False)\n",
    "    yshow = y[np.ix_(ts,idx_showy)]\n",
    "    ydiff = 0.66*(yshow.max() - yshow.min())\n",
    "\n",
    "    plt.figure(figsize=(1.2,1.2))\n",
    "    ax = plt.subplot(111)\n",
    "    for i in range(idx_showy.size):\n",
    "        plt.plot(range(tmin,tmax), i*ydiff + yshow[:,i], 'k', linewidth=0.5)\n",
    "        plt.hold(True)\n",
    "\n",
    "    ax.get_xaxis().tick_bottom()    \n",
    "    ax.get_yaxis().tick_left()    \n",
    "\n",
    "    plt.xlim(tmin-5, tmax+5)    \n",
    "    plt.xticks([])\n",
    "    #plt.xticks([800,900], [str(x) for x in [800,900]], fontsize=7)    \n",
    "    plt.yticks([])    \n",
    "\n",
    "\n",
    "    plt.tick_params(axis=\"both\", which=\"both\", top=\"off\", left='off', right=\"off\", labelleft=\"on\",tickdir='out')    \n",
    "    plt.box('off')\n",
    "\n",
    "    plt.savefig(fig_path + 'd_data_traces_' + str(j+1) + '.pdf', bbox_inches=\"tight\"); \n",
    "    plt.show()\n"
   ]
  },
  {
   "cell_type": "markdown",
   "metadata": {},
   "source": [
    "# d) quality of fit (snippets of covariance matrices)"
   ]
  },
  {
   "cell_type": "code",
   "execution_count": 7,
   "metadata": {
    "collapsed": false
   },
   "outputs": [
    {
     "name": "stdout",
     "output_type": "stream",
     "text": [
      "computing time-lagged covariance for lag  0\n"
     ]
    },
    {
     "data": {
      "image/png": "[encoded data removed]",
      "text/plain": [
       "<matplotlib.figure.Figure at 0x7fa233ea9630>"
      ]
     },
     "metadata": {},
     "output_type": "display_data"
    },
    {
     "data": {
      "image/png": "[encoded data removed]",
      "text/plain": [
       "<matplotlib.figure.Figure at 0x7fa233f28048>"
      ]
     },
     "metadata": {},
     "output_type": "display_data"
    },
    {
     "data": {
      "image/png": "[encoded data removed]",
      "text/plain": [
       "<matplotlib.figure.Figure at 0x7fa2380728d0>"
      ]
     },
     "metadata": {},
     "output_type": "display_data"
    }
   ],
   "source": [
    "nshow = 16\n",
    "idx_a_show = np.setdiff1d(np.arange(p), sub_pops[1])\n",
    "idx_b_show = np.setdiff1d(np.arange(p), sub_pops[0])\n",
    "\n",
    "idx_a_show = idx_a_show[np.random.choice(len(idx_a_show), nshow, replace=False)]\n",
    "idx_b_show = idx_b_show[np.random.choice(len(idx_b_show), nshow, replace=False)]\n",
    "\n",
    "\n",
    "kl_ = np.max(lag_range)+1\n",
    "for m in range(1):\n",
    "    print('computing time-lagged covariance for lag ', str(m))\n",
    "    m_ = lag_range[m]\n",
    "    \n",
    "    Qr = np.cov(y[m_:m_-kl_,idx_a_show].T, y[:-kl_,idx_b_show].T)[:idx_a_show.size,idx_b_show.size:]\n",
    "    Qf = (pars_est_full['C'][idx_a_show,:].dot(pars_est_full['X'][:n,:]).dot(pars_est_full['C'][idx_b_show,:].T)) + np.diag(pars_est_full['R'])[np.ix_(idx_a_show,idx_b_show)]\n",
    "    Qp = (pars_est_partial['C'][idx_a_show,:].dot(pars_est_partial['X'][:n,:]).dot(pars_est_partial['C'][idx_b_show,:].T)) + np.diag(pars_est_full['R'])[np.ix_(idx_a_show,idx_b_show)]\n",
    "\n",
    "    cm = np.min((Qr.min(), Qf.min(), Qp.min()))\n",
    "    cM = np.max((Qr.max(), Qf.max(), Qp.max()))\n",
    "    \n",
    "    plt.figure(figsize=(5, 5))\n",
    "    plt.imshow(Qr, interpolation = 'None')\n",
    "    plt.clim(cm, cM)\n",
    "    plt.box('off')\n",
    "    ax = plt.subplot(111)\n",
    "    ax.get_xaxis().tick_bottom()    \n",
    "    ax.get_yaxis().tick_left()    \n",
    "    plt.xticks([])\n",
    "    plt.yticks([])\n",
    "    plt.savefig(fig_path + 'd_lsfm_true_cov.png', bbox_inches=0, pad_inches=0, frameon=False,\n",
    "               transparent=True, dpi=300);     \n",
    "    plt.show()\n",
    "    \n",
    "\n",
    "    plt.figure(figsize=(5, 5))\n",
    "    plt.imshow(Qf, interpolation = 'None')\n",
    "    plt.clim(cm, cM)\n",
    "    plt.box('off')\n",
    "    ax = plt.subplot(111)\n",
    "    ax.get_xaxis().tick_bottom()    \n",
    "    ax.get_yaxis().tick_left()    \n",
    "    plt.xticks([])\n",
    "    plt.yticks([])\n",
    "    plt.savefig(fig_path + 'd_lsfm_full_cov.png', bbox_inches=0, pad_inches=0, frameon=False,\n",
    "               transparent=True, dpi=300);     \n",
    "    plt.show()\n",
    "    \n",
    "\n",
    "    plt.figure(figsize=(5, 5))\n",
    "    plt.imshow(Qp, interpolation = 'None')\n",
    "    plt.clim(cm, cM)\n",
    "    plt.box('off')\n",
    "    ax = plt.subplot(111)\n",
    "    ax.get_xaxis().tick_bottom()    \n",
    "    ax.get_yaxis().tick_left()    \n",
    "    plt.xticks([])\n",
    "    plt.yticks([])\n",
    "    plt.savefig(fig_path + 'd_lsfm_stitch_cov.png', bbox_inches=0, pad_inches=0, frameon=False,\n",
    "               transparent=True, dpi=300);     \n",
    "    plt.show()\n"
   ]
  },
  {
   "cell_type": "code",
   "execution_count": 17,
   "metadata": {
    "collapsed": false
   },
   "outputs": [
    {
     "name": "stdout",
     "output_type": "stream",
     "text": [
      "computing time-lagged covariance for lag  0\n"
     ]
    },
    {
     "data": {
      "image/png": "[encoded data removed]",
      "text/plain": [
       "<matplotlib.figure.Figure at 0x7fa27834ac18>"
      ]
     },
     "metadata": {},
     "output_type": "display_data"
    },
    {
     "data": {
      "image/png": "[encoded data removed]",
      "text/plain": [
       "<matplotlib.figure.Figure at 0x7fa233f86eb8>"
      ]
     },
     "metadata": {},
     "output_type": "display_data"
    },
    {
     "data": {
      "image/png": "[encoded data removed]",
      "text/plain": [
       "<matplotlib.figure.Figure at 0x7fa238089550>"
      ]
     },
     "metadata": {},
     "output_type": "display_data"
    }
   ],
   "source": [
    "\n",
    "idx_a_show = idx_a_show[np.random.choice(len(idx_a_show), nshow, replace=False)]\n",
    "idx_b_show = idx_b_show[np.random.choice(len(idx_b_show), nshow, replace=False)]\n",
    "kl_ = np.max(lag_range)+1\n",
    "for m in range(1):\n",
    "    print('computing time-lagged covariance for lag ', str(m))\n",
    "    m_ = lag_range[m]\n",
    "    \n",
    "    Qr = np.cov(y[m_:m_-kl_,idx_a_show].T, y[:-kl_,idx_b_show].T)[:idx_a_show.size,idx_b_show.size:]\n",
    "    Qf = (pars_est_full['C'][idx_a_show,:].dot(pars_est_full['X'][:n,:]).dot(pars_est_full['C'][idx_b_show,:].T)) + np.diag(pars_est_full['R'])[np.ix_(idx_a_show,idx_b_show)]\n",
    "    Qp = (pars_est_partial['C'][idx_a_show,:].dot(pars_est_partial['X'][:n,:]).dot(pars_est_partial['C'][idx_b_show,:].T)) + np.diag(pars_est_full['R'])[np.ix_(idx_a_show,idx_b_show)]\n",
    "\n",
    "    cm = np.min((Qr.min(), Qf.min(), Qp.min()))\n",
    "    cM = np.max((Qr.max(), Qf.max(), Qp.max()))\n",
    "    \n",
    "    plt.figure(figsize=(1, 1))\n",
    "    plt.imshow(Qr, interpolation = 'None')\n",
    "    plt.clim(cm, cM)\n",
    "    plt.box('off')\n",
    "    ax = plt.subplot(111)\n",
    "    ax.get_xaxis().tick_bottom()    \n",
    "    ax.get_yaxis().tick_left()    \n",
    "    plt.xticks([])\n",
    "    plt.yticks([])\n",
    "    plt.savefig(fig_path + 'd_lsfm_true_cov.png', bbox_inches=0, pad_inches=0, frameon=False,\n",
    "               transparent=True, dpi=300);     \n",
    "    plt.show()\n",
    "    \n",
    "\n",
    "    plt.figure(figsize=(1, 1))\n",
    "    plt.imshow(Qf, interpolation = 'None')\n",
    "    plt.clim(cm, cM)\n",
    "    plt.box('off')\n",
    "    ax = plt.subplot(111)\n",
    "    ax.get_xaxis().tick_bottom()    \n",
    "    ax.get_yaxis().tick_left()    \n",
    "    plt.xticks([])\n",
    "    plt.yticks([])\n",
    "    plt.savefig(fig_path + 'd_lsfm_full_cov.png', bbox_inches=0, pad_inches=0, frameon=False,\n",
    "               transparent=True, dpi=300);     \n",
    "    plt.show()\n",
    "    \n",
    "\n",
    "    plt.figure(figsize=(1, 1))\n",
    "    plt.imshow(Qp, interpolation = 'None')\n",
    "    plt.clim(cm, cM)\n",
    "    plt.box('off')\n",
    "    ax = plt.subplot(111)\n",
    "    ax.get_xaxis().tick_bottom()    \n",
    "    ax.get_yaxis().tick_left()    \n",
    "    plt.xticks([])\n",
    "    plt.yticks([])\n",
    "    plt.savefig(fig_path + 'd_lsfm_stitch_cov.png', bbox_inches=0, pad_inches=0, frameon=False,\n",
    "               transparent=True, dpi=300);     \n",
    "    plt.show()\n"
   ]
  },
  {
   "cell_type": "code",
   "execution_count": 18,
   "metadata": {
    "collapsed": false
   },
   "outputs": [
    {
     "data": {
      "text/plain": [
       "(array([3205, 2640, 1577, 2920, 2261, 1995, 2527, 3220,   72, 1924, 4494,\n",
       "        4839, 3188, 1821, 3889, 2110]),\n",
       " array([ 7534,  7193,  7737,  6838,  7415,  9753,  6819, 10780,  6889,\n",
       "         9310,  7364,  6286, 10819,  8312,  9557,  6593]))"
      ]
     },
     "execution_count": 18,
     "metadata": {},
     "output_type": "execute_result"
    }
   ],
   "source": [
    "idx_a_show, idx_b_show"
   ]
  },
  {
   "cell_type": "markdown",
   "metadata": {},
   "source": [
    "# d) combining fully / partially obs traces tau vs. corr"
   ]
  },
  {
   "cell_type": "code",
   "execution_count": null,
   "metadata": {
    "collapsed": false
   },
   "outputs": [],
   "source": [
    "from sklearn.decomposition import PCA\n",
    "y_masked = np.memmap(data_path+'y_zscore', dtype=np.float, mode='c', shape=(T,p))\n",
    "y_masked[:obs_time[0], np.setdiff1d(np.arange(p), sub_pops[obs_pops[0]])] = 0\n",
    "for i in range(1,len(obs_time)):\n",
    "    y_masked[np.ix_(np.arange(obs_time[i-1],obs_time[i]), np.setdiff1d(np.arange(p), sub_pops[obs_pops[i]]))] = 0\n",
    "    \n",
    "pca = PCA()\n",
    "pca.fit(y_masked)\n",
    "del y_masked\n",
    "pars_pca = {}\n",
    "pars_pca['C'] = pca.components_[:n].T\n",
    "pars_pca['Pi'] = np.diag(pca.explained_variance_[:n])    \n",
    "\n",
    "print('done PCA')"
   ]
  },
  {
   "cell_type": "code",
   "execution_count": null,
   "metadata": {
    "collapsed": false
   },
   "outputs": [],
   "source": [
    "idx_a = np.setdiff1d(np.arange(p), sub_pops[1])\n",
    "idx_b = np.setdiff1d(np.arange(p), sub_pops[0])\n",
    "pa, pb = idx_a.size, idx_b.size\n",
    "\n",
    "\n",
    "corrs_est_full, corrs_est_partial = np.zeros(len(lag_range)), np.zeros(len(lag_range))\n",
    "corrs_est_pca = np.zeros(len(lag_range))\n",
    "kl_ = np.max(lag_range)+1\n",
    "for m in range(len(lag_range)):\n",
    "    m_ = lag_range[m]\n",
    "    print('computing time-lagged covariance for lag ', str(m_))\n",
    "    Q = np.cov(y[m_:m_-kl_,idx_a].T, y[:-kl_,idx_b].T)[:pa,pa:]     \n",
    "    Qf= np.cov(y[m_:m_-kl_,idx_a].T, y[:-kl_,idx_b].T)[:pa,pa:]   \n",
    "    \n",
    "    Qr = pars_est_full['C'][idx_a,:].dot(pars_est_full['X'][m*n:(m+1)*n,:]).dot(pars_est_full['C'][idx_b,:].T)\n",
    "\n",
    "    corrs_est_full[m] = np.corrcoef(Qf.reshape(-1), Qr.reshape(-1))[0,1]\n",
    "\n",
    "    Qr = pars_est_partial['C'][idx_a,:].dot(pars_est_partial['X'][m*n:(m+1)*n,:]).dot(pars_est_partial['C'][idx_b,:].T)\n",
    "\n",
    "    corrs_est_partial[m] = np.corrcoef(Qf.reshape(-1), Qr.reshape(-1))[0,1]\n",
    "    \n",
    "    Qr = pars_pca['C'][idx_a,:].dot(pars_pca['Pi']).dot(pars_pca['C'][idx_b,:].T)\n",
    "    corrs_est_pca[m] = np.corrcoef(Qf.reshape(-1), Qr.reshape(-1))[0,1]\n"
   ]
  },
  {
   "cell_type": "markdown",
   "metadata": {},
   "source": [
    "# (comparison full vs. partial)"
   ]
  },
  {
   "cell_type": "code",
   "execution_count": null,
   "metadata": {
    "collapsed": false
   },
   "outputs": [],
   "source": [
    "\n",
    "bw = 1.2\n",
    "plt.figure(figsize=(1.5, 1))\n",
    "taus = lag_range\n",
    "for i in range(len(taus)):\n",
    "    plt.plot([taus[i]-bw, taus[i]+bw], [corrs_est_full[i],corrs_est_full[i]], '-', color='b', linewidth=1)\n",
    "    plt.hold(True)\n",
    "    plt.plot([taus[i]-bw, taus[i]+bw], [corrs_est_partial[i],corrs_est_partial[i]], '-', color='r', linewidth=1)\n",
    "\n",
    "#plt.legend(('fully obs. fit', 'part. obs. fit', 'part. obs. PCA'), 'lower left')\n",
    "plt.xlabel('time-lag [frames]', fontsize=7)\n",
    "plt.ylabel('corr', fontsize=7)\n",
    "\n",
    "ax = plt.subplot(111)\n",
    "ax.get_xaxis().tick_bottom()    \n",
    "ax.get_yaxis().tick_left()    \n",
    "\n",
    "\n",
    "plt.axis([-bw, np.max(taus)+bw, 0.45, 0.67])\n",
    "plt.yticks(np.arange(0.45, 0.66, 0.1), [str(x) for x in np.arange(0.45, 0.66, 0.1)], fontsize=7)    \n",
    "plt.xticks(taus, [str(x) for x in taus], fontsize=7)\n",
    "\n",
    "ax.get_xaxis().tick_bottom()    \n",
    "ax.get_yaxis().tick_left()    \n",
    "plt.tick_params(axis=\"both\", which=\"both\", top=\"off\", right=\"off\", labelleft=\"on\", tickdir='out')    \n",
    "#plt.box('off')\n",
    "\n",
    "plt.box('off')\n",
    "plt.savefig(fig_path + 'd_lsfm_performance.pdf', bbox_inches=\"tight\"); \n",
    "plt.show()"
   ]
  },
  {
   "cell_type": "markdown",
   "metadata": {},
   "source": [
    "# (comparison full vs. partial vs. partial PCA vs. ground-truth)"
   ]
  },
  {
   "cell_type": "code",
   "execution_count": null,
   "metadata": {
    "collapsed": false
   },
   "outputs": [],
   "source": [
    "\n",
    "bw = 1.2\n",
    "plt.figure(figsize=(1.5, 1))\n",
    "taus = lag_range\n",
    "for i in range(len(taus)):\n",
    "    plt.plot([taus[i]-bw, taus[i]+bw], [corrs_est_full[i],corrs_est_full[i]], '-', color='b', linewidth=0.5)\n",
    "    plt.hold(True)\n",
    "    plt.plot([taus[i]-bw, taus[i]+bw], [corrs_est_partial[i],corrs_est_partial[i]], '-', color='r', linewidth=0.5)\n",
    "    plt.plot([taus[i]-bw, taus[i]+bw], [corrs_est_pca[i],corrs_est_pca[i]], '-', color='k', linewidth=0.5)\n",
    "\n",
    "    \n",
    "plt.axis([-bw, np.max(taus)+bw, 0.45, 0.71])\n",
    "plt.xlabel('time-lag [frames]', fontsize=7)\n",
    "plt.ylabel('corr', fontsize=7)\n",
    "\n",
    "ax = plt.subplot(111)\n",
    "ax.get_xaxis().tick_bottom()    \n",
    "ax.get_yaxis().tick_left()    \n",
    "\n",
    "plt.yticks(np.arange(0.4, 0.71, 0.1), [str(x) for x in np.arange(0.4, 0.71, 0.1)], fontsize=7)    \n",
    "plt.xticks(taus, [str(x) for x in taus], fontsize=7)\n",
    "\n",
    "ax.get_xaxis().tick_bottom()    \n",
    "ax.get_yaxis().tick_left()    \n",
    "\n",
    "plt.tick_params(axis=\"both\", which=\"both\", top=\"off\", right=\"off\", labelleft=\"on\", tickdir='out')    \n",
    "#plt.box('off')\n",
    "\n",
    "plt.box('off')\n",
    "#plt.legend(('fully obs. fit', 'part. obs. fit', 'part. obs. PCA'), 'upper right')\n",
    "plt.savefig(fig_path + 'd_lsfm_performance_pca.pdf', bbox_inches=\"tight\"); \n",
    "plt.show()\n",
    "\n"
   ]
  },
  {
   "cell_type": "markdown",
   "metadata": {},
   "source": [
    "# scatter plot"
   ]
  },
  {
   "cell_type": "code",
   "execution_count": null,
   "metadata": {
    "collapsed": false
   },
   "outputs": [],
   "source": [
    "idx_a = np.setdiff1d(np.arange(p), sub_pops[1])\n",
    "idx_b = np.setdiff1d(np.arange(p), sub_pops[0])\n",
    "idx_a = idx_a[np.random.choice(idx_a.size, 1000, replace=False)]\n",
    "idx_b = idx_b[np.random.choice(idx_b.size, 1000, replace=False)]\n",
    "pa, pb = idx_a.size, idx_b.size\n",
    "\n",
    "y_masked = np.memmap(data_path+'y_zscore', dtype=np.float, mode='c', shape=(T,p))\n",
    "y_masked[:obs_time[0], np.setdiff1d(np.arange(p), sub_pops[obs_pops[0]])] = 0\n",
    "for i in range(1,len(obs_time)):\n",
    "    y_masked[np.ix_(np.arange(obs_time[i-1],obs_time[i]), np.setdiff1d(np.arange(p), sub_pops[obs_pops[i]]))] = 0    \n",
    "pca = PCA()\n",
    "pca.fit(y_masked)\n",
    "del y_masked\n",
    "pars_pca = {}\n",
    "pars_pca['C'] = pca.components_[:n].T\n",
    "pars_pca['Pi'] = np.diag(pca.explained_variance_[:n])   \n",
    "\n",
    "\n",
    "kl_ = np.max(lag_range)+1\n",
    "for m in range(1):\n",
    "    m_ = lag_range[m]\n",
    "    print('computing time-lagged covariance for lag ', str(m))\n",
    "    \n",
    "    Qemp = np.cov(y[m_:m_-kl_,idx_a].T, y[:-kl_,idx_b].T)[:pa,pa:]       \n",
    "    \n",
    "    Qfull = pars_est_full['C'][idx_a,:].dot(pars_est_full['X'][m*n:(m+1)*n,:]).dot(pars_est_full['C'][idx_b,:].T)\n",
    "\n",
    "\n",
    "    Qstitch = pars_est_partial['C'][idx_a,:].dot(pars_est_partial['X'][m*n:(m+1)*n,:]).dot(pars_est_partial['C'][idx_b,:].T)\n",
    "\n",
    "    \n",
    "    Qpca = pars_pca['C'][idx_a,:].dot(pars_pca['Pi']).dot(pars_pca['C'][idx_b,:].T)\n",
    "    "
   ]
  },
  {
   "cell_type": "code",
   "execution_count": null,
   "metadata": {
    "collapsed": false
   },
   "outputs": [],
   "source": [
    "\n",
    "plt.figure(figsize=(1.2,1.2))\n",
    "ax = plt.subplot(111)\n",
    "ax.get_xaxis().tick_bottom()    \n",
    "ax.get_yaxis().tick_left()   \n",
    "plt.plot(Qemp.reshape(-1), Qstitch.reshape(-1), 'r.', markersize=1)\n",
    "plt.hold(True)\n",
    "plt.plot(Qemp.reshape(-1), Qfull.reshape(-1), 'b.', markersize=1)\n",
    "plt.plot(Qemp.reshape(-1), Qpca.reshape(-1), 'k.', markersize=1)\n",
    "plt.box('off')\n",
    "#plt.xlabel('true cov.', fontsize=7)\n",
    "#plt.ylabel('est. cov.', fontsize=7)\n",
    "#plt.xticks(np.arange(-0.49,0.9,0.5), [str(x) for x in [-0.5,0,0.5]], fontsize=7)\n",
    "#plt.yticks(np.arange(-0.49,0.9,0.5), [str(x) for x in [-0.5,0,0.5]], fontsize=7)\n",
    "plt.xticks(np.arange(-0.49,0.9,0.5), ['' for x in [-0.5,0,0.5]], fontsize=7)\n",
    "plt.yticks(np.arange(-0.49,0.9,0.5), ['' for x in [-0.5,0,0.5]], fontsize=7)\n",
    "plt.axis('equal')\n",
    "plt.tick_params(axis=\"both\", which=\"both\", top=\"off\", right=\"off\", labelleft=\"on\", tickdir='out')    \n",
    "plt.savefig(fig_path + 'd_lsfm_scatter_with_pca_no_ticks.png', bbox_inches=\"tight\", pad_inches=0, frameon=False,\n",
    "               transparent=True, dpi=300);   \n",
    "plt.show()"
   ]
  },
  {
   "cell_type": "code",
   "execution_count": null,
   "metadata": {
    "collapsed": false
   },
   "outputs": [],
   "source": [
    "\n",
    "plt.figure(figsize=(1.2,1.2))\n",
    "ax = plt.subplot(111)\n",
    "ax.get_xaxis().tick_bottom()    \n",
    "ax.get_yaxis().tick_left()   \n",
    "plt.plot(Qemp.reshape(-1), Qstitch.reshape(-1), 'r.', markersize=1)\n",
    "plt.hold(True)\n",
    "#plt.plot(Qemp.reshape(-1), Qpca.reshape(-1), 'k.', markersize=1)\n",
    "plt.plot(Qemp.reshape(-1), Qfull.reshape(-1), 'b.', markersize=1)\n",
    "plt.box('off')\n",
    "#plt.xlabel('true cov.', fontsize=7)\n",
    "#plt.ylabel('est. cov.', fontsize=7)\n",
    "#plt.xticks(np.arange(-0.49,0.9,0.5), [str(x) for x in [-0.5,0,0.5]], fontsize=7)\n",
    "#plt.yticks(np.arange(-0.49,0.9,0.5), [str(x) for x in [-0.5,0,0.5]], fontsize=7)\n",
    "plt.xticks(np.arange(-0.49,0.9,0.5), ['' for x in [-0.5,0,0.5]], fontsize=7)\n",
    "plt.yticks(np.arange(-0.49,0.9,0.5), ['' for x in [-0.5,0,0.5]], fontsize=7)\n",
    "plt.axis('equal')\n",
    "#plt.axis([-0.55, 0.55, -0.55, 0.55])\n",
    "plt.tick_params(axis=\"both\", which=\"both\", top=\"off\", right=\"off\", labelleft=\"on\", tickdir='out')    \n",
    "plt.savefig(fig_path + 'd_lsfm_scatter_no_ticks.png', bbox_inches=\"tight\", pad_inches=0, frameon=False,\n",
    "               transparent=True, dpi=300);   \n",
    "plt.show()"
   ]
  }
 ],
 "metadata": {
  "kernelspec": {
   "display_name": "Python 3",
   "language": "python",
   "name": "python3"
  },
  "language_info": {
   "codemirror_mode": {
    "name": "ipython",
    "version": 3
   },
   "file_extension": ".py",
   "mimetype": "text/x-python",
   "name": "python",
   "nbconvert_exporter": "python",
   "pygments_lexer": "ipython3",
   "version": "3.5.1"
  }
 },
 "nbformat": 4,
 "nbformat_minor": 0
}
