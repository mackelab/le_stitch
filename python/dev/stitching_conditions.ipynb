{
 "cells": [
  {
   "cell_type": "markdown",
   "metadata": {},
   "source": [
    "# case #1 : real, pair-wise different eigenvalues of diagonalizable $A$\n",
    "\n",
    "- $\\sigma(A) = [\\lambda_1, \\ldots, \\lambda_n]$\n",
    "- $\\lambda_1 > \\lambda_2 > \\ldots > \\lambda_n \\in \\mathbb{R}$\n",
    "- assume two \"views\" onto the latent system via $A, \\tilde{A}$, $Q, \\tilde{Q}$ etc.\n",
    "- without loss of generality , assume $\\tilde{A} = \\Lambda = \\mbox{diag}(\\lambda_1, \\ldots, \\lambda_n)$\n",
    "\n",
    "What can we learn from the latent state matrices $A, \\tilde{A}$, and $Q, \\tilde{Q}$ alone, i.e. not looking at $C, \\tilde{C}$?\n",
    "\n",
    "- what we have: $A, \\Lambda$ are similar ($A=M \\Lambda M^{-1}$), $Q$ and $\\tilde{Q}$ are linked via the same $M$ (through $Q = M \\tilde{Q} M^\\top$)\n",
    "\n",
    "Results: \n",
    "\n",
    "- $A=M \\Lambda M^{-1} = WS\\Lambda (WS) ^{-1}$ allows identifying $M=WS$ only up to a matrix $S \\in \\mathbb{R}^{n \\times{} n}$\n",
    "- **restrictions** on $S$ are key now. Seemingly, $S = \\mbox{diag}(s_1, \\ldots, s_n)$ is diagonal - **not entirely sure yet why**\n",
    "- not knowing the per-latent scales $s_i \\in \\mathbb{R}$ is even worse than only not knowing the correct sign   \n",
    "- latent covariances $Q, \\tilde{Q}$ resolve the scales $|s_i|$ \n",
    "- $Q, \\tilde{Q}$  also resolve the signs $\\mbox{sign}(s_i)$ assuming they are not diagonal  \n",
    "\n",
    "The code belows serves to play out those conditions numerically "
   ]
  },
  {
   "cell_type": "code",
   "execution_count": null,
   "metadata": {
    "collapsed": false
   },
   "outputs": [],
   "source": [
    "import numpy as np\n",
    "from scipy import stats as stats\n",
    "\n",
    "p, n = 5, 4\n",
    "\n",
    "M = np.random.normal(size=(n,n)) # change of basis (actually only has to be invertible)\n",
    "\n",
    "# system matrices in first (=standard) coordinate system\n",
    "D = np.sort(np.random.normal(size=n))        # draw real, pairwise different eigenvalues \n",
    "L = np.diag(D)\n",
    "Q = stats.wishart.rvs(df=n, scale=np.eye(n)) \n",
    "C = np.random.normal(size=(p,n))\n",
    "\n",
    "# system matrices in second coordinate system\n",
    "Ar = M.dot(L).dot(np.linalg.inv(M))\n",
    "Qr = M.dot(Q).dot(M.T)\n",
    "Cr = C.dot(np.linalg.inv(M))\n",
    "\n",
    "# recovering original matrices by explicity rotations using established conditions\n",
    "Lh, Wh = np.linalg.eig(Ar)\n",
    "idx = np.argsort(Lh)  \n",
    "Lh, Wh = Lh[idx], Wh[:, idx]\n",
    "\n",
    "Winv = np.linalg.inv(Wh)\n",
    "SQS = Winv.dot(Qr).dot(Winv.T)\n",
    "s = np.sqrt( np.diag(SQS) / np.diag(Q) ) \n",
    "\n",
    "signs = (s*Q*s.reshape(-1,1)) / SQS # all pairwise signs, simple reconstruction approach\n",
    "\n",
    "s *= signs[0,:] # lazy, just align all signs according to first variable\n",
    "\n",
    "print('compare each entry of real nxn base-change matrix M with reconstruction W*S via M /(W*S) : ')\n",
    "print(M / Wh.dot(np.diag(s)))"
   ]
  }
 ],
 "metadata": {
  "kernelspec": {
   "display_name": "Python 3",
   "language": "python",
   "name": "python3"
  },
  "language_info": {
   "codemirror_mode": {
    "name": "ipython",
    "version": 3
   },
   "file_extension": ".py",
   "mimetype": "text/x-python",
   "name": "python",
   "nbconvert_exporter": "python",
   "pygments_lexer": "ipython3",
   "version": "3.5.1"
  }
 },
 "nbformat": 4,
 "nbformat_minor": 0
}
