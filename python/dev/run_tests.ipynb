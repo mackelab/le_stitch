{
 "cells": [
  {
   "cell_type": "code",
   "execution_count": null,
   "metadata": {
    "collapsed": false
   },
   "outputs": [],
   "source": [
    "%matplotlib inline\n",
    "import os\n",
    "import numpy as np\n",
    "\n",
    "np.random.seed(0)\n",
    "\n",
    "os.chdir('../scripts')\n",
    "from script_like import run_test\n",
    "\n",
    "p = 1000\n",
    "k,l = 5,5\n",
    "\n",
    "ns = (3,10,15)\n",
    "Ts = (100, 1000, 10000, np.inf)\n",
    "num_reps = 2\n",
    "\n",
    "max_iter_nl = 1000\n",
    "\n",
    "for rep in range(num_reps):\n",
    "\n",
    "    #\"\"\"\n",
    "    # fully observed\n",
    "    sub_pops = (np.arange(p), np.arange(p))\n",
    "    for n in ns:\n",
    "        save_file = 'sweep_n_T_p' + str(p) + 'n' + str(n) + 'k' + str(k) + 'l' + str(l)\n",
    "        save_file = save_file + '_fullyObs_nr' + str(rep)\n",
    "        #print('save_file')\n",
    "        run_test(p,n,Ts,k,l,sub_pops,max_iter_nl=max_iter_nl, save_file = save_file)\n",
    "    #\"\"\"\n",
    "\n",
    "    #\"\"\"        \n",
    "    # non-overlapping\n",
    "    sub_pops = (np.arange(0,p//2), np.arange(p//2,p))\n",
    "    for n in ns:\n",
    "        save_file = 'sweep_n_T_p' + str(p) + 'n' + str(n) + 'k' + str(k) + 'l' + str(l)\n",
    "        save_file = save_file + '_nonOverlap_nr' + str(rep)\n",
    "        #print('save_file')\n",
    "        run_test(p,n,Ts,k,l,sub_pops,max_iter_nl=max_iter_nl, save_file = save_file)\n",
    "    #\"\"\"\n",
    "\n",
    "    #\"\"\"        \n",
    "    # leap-frogging\n",
    "    assert p == 1000\n",
    "    sub_pops = (np.arange(400), np.arange(200,600), np.arange(400,800), np.arange(600,p))\n",
    "    #assert p == 100\n",
    "    #sub_pops = (np.arange(40), np.arange(20,60), np.arange(40,80), np.arange(60,p))\n",
    "    for n in ns:\n",
    "        save_file = 'sweep_n_T_p' + str(p) + 'n' + str(n) + 'k' + str(k) + 'l' + str(l)\n",
    "        save_file = save_file + '_LeapFrog_nr' + str(rep)\n",
    "        #print('save_file')\n",
    "        run_test(p,n,Ts,k,l,sub_pops,max_iter_nl=max_iter_nl, save_file = save_file)\n",
    "    #\"\"\"\n",
    "        "
   ]
  },
  {
   "cell_type": "code",
   "execution_count": null,
   "metadata": {
    "collapsed": true
   },
   "outputs": [],
   "source": []
  }
 ],
 "metadata": {
  "kernelspec": {
   "display_name": "Python 3",
   "language": "python",
   "name": "python3"
  },
  "language_info": {
   "codemirror_mode": {
    "name": "ipython",
    "version": 3
   },
   "file_extension": ".py",
   "mimetype": "text/x-python",
   "name": "python",
   "nbconvert_exporter": "python",
   "pygments_lexer": "ipython3",
   "version": "3.5.1"
  }
 },
 "nbformat": 4,
 "nbformat_minor": 0
}
