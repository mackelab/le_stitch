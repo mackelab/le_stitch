{
 "cells": [
  {
   "cell_type": "markdown",
   "metadata": {},
   "source": [
    "# Hankel SGD \n",
    "\n",
    "- LSFM data from zebrafish larvae\n",
    "- procedure:\n",
    "\n",
    "-- i) fit PCA to largest subpop\n",
    "\n",
    "-- ii) fit time-lagged covariances $\\{X_m\\}_m$ to largest subpop with $C$ from PCA, $\\alpha_C \\approx 0$ (updating mostly $X_m$ for $m > 0$)\n",
    "\n",
    "-- iii) take $\\{X_m\\}_m$, and parts of C from largest subpop to initialise full-pop model (set $C[i,:]=0$ for $i$ not in largest subpop) \n",
    "\n",
    "-- iv) fit full-pop model for initially $\\alpha_X \\approx 0$, learning the new $C[i,:]$ and $R[i]$\n",
    "\n",
    "-- v) proceed with regular fit, slowly decreasing learning rates / increasing batch sizes as necessary\n",
    "\n"
   ]
  },
  {
   "cell_type": "code",
   "execution_count": 1,
   "metadata": {
    "collapsed": false
   },
   "outputs": [
    {
     "name": "stdout",
     "output_type": "stream",
     "text": [
      "(p,n,k+l,T) =  (11264, 20, 6, 1200) \n",
      "\n"
     ]
    }
   ],
   "source": [
    "%matplotlib inline\n",
    "import numpy as np\n",
    "from scipy import stats\n",
    "import matplotlib.pyplot as plt\n",
    "import bz2\n",
    "\n",
    "import glob, os, psutil, time\n",
    "os.chdir('../core')\n",
    "from text import progprint_xrange\n",
    "from utility import get_subpop_stats, gen_data\n",
    "from SSID_Hankel_loss import run_bad, plot_slim, print_slim\n",
    "os.chdir('../dev')\n",
    "\n",
    "data_path = '../fits/lsfm/grid_quick/'\n",
    "Ts = np.arange(0, 1200, 1)\n",
    "nx, ny, nz = 41, 1024, 2048\n",
    "dx, dy, dz = 4, 32, 64\n",
    "x_sel, y_sel, z_sel = np.arange(0,nx,dx), np.arange(0,ny,dy), np.arange(0,nz,dz)\n",
    "\n",
    "n = 20\n",
    "T = len(Ts)\n",
    "p = len(x_sel) * len(y_sel) * len(z_sel) \n",
    "\n",
    "\n",
    "lag_range = np.arange(0, 21, 4)\n",
    "\n",
    "\n",
    "print('(p,n,k+l,T) = ', (p,n,len(lag_range),T), '\\n')\n",
    "\n",
    "mmap = True"
   ]
  },
  {
   "cell_type": "code",
   "execution_count": null,
   "metadata": {
    "collapsed": true
   },
   "outputs": [],
   "source": [
    "    import numpy as np\n",
    "    data_path = '../fits/lsfm/grid_quick/'\n",
    "    save_file = 'full_2pops_zsplit_6_lags'\n",
    "    tmp = np.load(data_path + save_file + '.npz')\n",
    "    p,n,T = tmp['p'],tmp['n'],tmp['T']\n",
    "    lag_range = tmp['lag_range']\n",
    "    pars_est, pars_pca = tmp['pars_est'].tolist(), tmp['pars_pca'].tolist()\n",
    "    sub_pops = tmp['sub_pops']\n",
    "    obs_pops = np.arange(len(sub_pops))\n",
    "    obs_time = T//len(sub_pops) * np.arange(1,len(sub_pops)+1)\n",
    "    mmap = True\n",
    "    del tmp"
   ]
  },
  {
   "cell_type": "code",
   "execution_count": null,
   "metadata": {
    "collapsed": false
   },
   "outputs": [],
   "source": [
    "lag_range"
   ]
  },
  {
   "cell_type": "markdown",
   "metadata": {},
   "source": [
    "# create subpopulations and observation scheme"
   ]
  },
  {
   "cell_type": "code",
   "execution_count": 2,
   "metadata": {
    "collapsed": false
   },
   "outputs": [],
   "source": [
    "# create subpopulations\n",
    "tmp = np.arange(p)\n",
    "tmp =tmp.reshape(len(x_sel),len(y_sel),len(z_sel))\n",
    "\n",
    "# splitting imaging planes, 2 subpops\n",
    "sub_pops = (tmp[:len(x_sel)//2+1,:,:].reshape(-1),\n",
    "            tmp[len(x_sel)//2:,:,:].reshape(-1))\n",
    "obs_pops = np.array([0,1])\n",
    "obs_time = np.array([T//2, T])\n",
    "\n",
    "# splitting imaging planes, 5 subpops\n",
    "#sub_pops = (tmp[0:3,:,:].reshape(-1),\n",
    "#            tmp[2:5,:,:].reshape(-1),            \n",
    "#            tmp[4:7,:,:].reshape(-1),            \n",
    "#            tmp[6:9,:,:].reshape(-1),            \n",
    "#            tmp[8:11,:,:].reshape(-1))\n",
    "#obs_pops = np.array([0,1,2,3,4])\n",
    "#obs_time = T//len(sub_pops) * np.arange(1,len(sub_pops)+1)\n",
    "\n",
    "#sub_pops = (np.arange(p),)\n",
    "#obs_pops = np.array([0])\n",
    "#obs_time = np.array([T])\n",
    "del tmp\n"
   ]
  },
  {
   "cell_type": "markdown",
   "metadata": {},
   "source": [
    "# Do PCA for comparison"
   ]
  },
  {
   "cell_type": "code",
   "execution_count": null,
   "metadata": {
    "collapsed": false
   },
   "outputs": [],
   "source": [
    "from sklearn.decomposition import PCA\n",
    "\n",
    "p1 = len(sub_pops[0])\n",
    "pa = np.min((p1,1000))\n",
    "pb = np.min((p1,1000))\n",
    "idx_a = np.sort(np.random.choice(p1, pa, replace=False))\n",
    "idx_b = np.sort(np.random.choice(p1, pb, replace=False))\n",
    "\n",
    "\n",
    "Qs = []\n",
    "kl_ = np.max(lag_range)+1\n",
    "if mmap:\n",
    "    y = np.memmap(data_path+'y_zscore', dtype=np.float, mode='r', shape=(T,p))\n",
    "    y = y[:,sub_pops[0]]\n",
    "for m in range(len(lag_range)):\n",
    "    m_ = lag_range[m]\n",
    "    print('computing time-lagged covariance for lag ', str(m_))\n",
    "    Qs.append(None)\n",
    "    if mmap:\n",
    "        Q = np.memmap(data_path+'Qs_'+str(m_), dtype=np.float, \n",
    "                      mode='w+', shape=(pa,pb))\n",
    "    else:\n",
    "        Q = np.empty((pa,pb))\n",
    "    Q[:] = np.cov(y[m_:m_-(kl_),idx_a].T, y[:-(kl_),idx_b].T)[:pa,pa:]     \n",
    "    if mmap:\n",
    "        del Q\n",
    "        Qs[m] = np.memmap(data_path+'Qs_'+str(m_), dtype=np.float, \n",
    "                          mode='r', shape=(pa,pb))\n",
    "    else:\n",
    "        Qs[m] = Q\n",
    "if mmap:\n",
    "    del y # releases RAM, forces flush to disk\n",
    "    y = np.memmap(data_path+'y_zscore', dtype=np.float, mode='r', shape=(T,p)) \n",
    "    y = y[:,sub_pops[0]]\n",
    "\n",
    "\n",
    "obs_idx, idx_grp, co_obs, _, _, _, Om, _, _ = \\\n",
    "    get_subpop_stats(sub_pops=(np.arange(len(sub_pops[0])),), p=len(sub_pops[0]), verbose=False)\n",
    "\n",
    "\n",
    "pca = PCA()\n",
    "pca.fit(y)\n",
    "explained_variance_ratio_ = np.hstack((pca.explained_variance_ratio_, np.zeros(np.max((p1-T,0)))))\n",
    "plt.plot(range(1,p1+1), np.cumsum(explained_variance_ratio_)/np.sum(explained_variance_ratio_))\n",
    "plt.hold(True)\n",
    "plt.plot(np.linspace(0,p+1,np.min((20,p))), \n",
    "         np.cumsum(pca.explained_variance_ratio_[:np.min((20,p))])/np.sum(pca.explained_variance_ratio_), \n",
    "         'r--')\n",
    "plt.legend(('cum. var. expl.', 'first 20, x-axis rescaled'))\n",
    "\n",
    "pars_pca = {}\n",
    "pars_pca['C'] = pca.components_[:n].T\n",
    "pars_pca['Pi'] = np.diag(pca.explained_variance_[:n])    \n",
    "#np.savez(data_path+'pars_pca', \n",
    "#     pars=pars_pca)"
   ]
  },
  {
   "cell_type": "markdown",
   "metadata": {},
   "source": [
    "# initialise X_m, C[sub_pop[i],:] from fit on single subpopulation"
   ]
  },
  {
   "cell_type": "code",
   "execution_count": null,
   "metadata": {
    "collapsed": false
   },
   "outputs": [],
   "source": [
    "t = time.time()\n",
    "verbose = True\n",
    "\n",
    "# fit for a single round to cheaply get initial parameter shapes\n",
    "pars_init, pars_est1, traces = run_bad(lag_range=lag_range, n=n,y=y, Om=None, Qs=Qs, idx_a=idx_a,idx_b=idx_b,\n",
    "                                      sub_pops=(np.arange(p1),),\n",
    "                                      idx_grp=idx_grp,co_obs=co_obs,obs_idx=obs_idx,\n",
    "                                      obs_pops=np.array([0]),obs_time=np.array([T]),\n",
    "                                      init='default',alpha_C=0,\n",
    "                                      max_iter=1,batch_size=1,max_zip_size=1)\n",
    "\n",
    "# settings for fitting algorithm\n",
    "batch_size, max_zip_size, max_iter = 1, 1, 1\n",
    "a_C, a_R, a_X = 0, 0, 0\n",
    "b1, b2, e = 0.9, 0.99, 1e-8\n",
    "pars_est1['C'] = pars_pca['C'].copy()\n",
    "pars_est1['X'][:n,:] = pars_pca['Pi'].copy()\n",
    "_, pars_est1, traces = run_bad(lag_range=lag_range,n=n,y=y, Om = None, Qs=Qs, idx_a=idx_a,idx_b=idx_b,\n",
    "                                      init=pars_est1,sub_pops=(np.arange(p1),),\n",
    "                                      obs_pops=np.array([0]),obs_time=np.array([T]),\n",
    "                                      idx_grp=idx_grp,co_obs=co_obs,obs_idx=obs_idx,\n",
    "                                      alpha_C=a_C, alpha_R=a_R, alpha_X=a_X, \n",
    "                                      b1_C=b1,b2_C=b2,e_C=e,\n",
    "                                      max_iter=max_iter,batch_size=batch_size,\n",
    "                                      verbose=verbose, max_zip_size=max_zip_size)\n",
    "print('\\n PCA initialisation quality: \\n')\n",
    "print_slim(Qs,lag_range,pars_est1,idx_a,idx_b,traces,mmap,data_path)\n",
    "\n",
    "a_C, a_R, a_X = 0.00000001, 0.001, 0.01\n",
    "batch_size, max_zip_size, max_iter = 1, 100, 10\n",
    "_, pars_est1, traces = run_bad(lag_range=lag_range,n=n,y=y, Om = None, Qs=Qs, idx_a=idx_a,idx_b=idx_b,\n",
    "                                      init=pars_est1,sub_pops=(np.arange(p1),),\n",
    "                                      idx_grp=idx_grp,co_obs=co_obs,obs_idx=obs_idx,\n",
    "                                      obs_pops=np.array([0]),obs_time=np.array([T]),\n",
    "                                      alpha_C=a_C, alpha_R=a_R, alpha_X=a_X, \n",
    "                                      b1_C=b1,b2_C=b2,e_C=e,\n",
    "                                      max_iter=max_iter,batch_size=batch_size,\n",
    "                                      verbose=verbose, max_zip_size=max_zip_size)\n",
    "\n",
    "print('\\n initialisation quality : \\n')\n",
    "print_slim(Qs,lag_range,pars_est1,idx_a,idx_b,traces,mmap,data_path)\n",
    "\n",
    "print(y.shape)"
   ]
  },
  {
   "cell_type": "code",
   "execution_count": null,
   "metadata": {
    "collapsed": false
   },
   "outputs": [],
   "source": [
    "a_C, a_R, a_X = 0.00000001, 0.001, 0.1\n",
    "batch_size, max_zip_size, max_iter = 1, 100, 10\n",
    "_, pars_est1, traces = run_bad(lag_range=lag_range,n=n,y=y, Om = None, Qs=Qs, idx_a=idx_a,idx_b=idx_b,\n",
    "                                      init=pars_est1,sub_pops=(np.arange(p1),),\n",
    "                                      idx_grp=idx_grp,co_obs=co_obs,obs_idx=obs_idx,\n",
    "                                      obs_pops=np.array([0]),obs_time=np.array([T]),\n",
    "                                      alpha_C=a_C, alpha_R=a_R, alpha_X=a_X, \n",
    "                                      b1_C=b1,b2_C=b2,e_C=e,\n",
    "                                      max_iter=max_iter,batch_size=batch_size,\n",
    "                                      verbose=verbose, max_zip_size=max_zip_size)\n",
    "\n",
    "print('\\n initialisation quality : \\n')\n",
    "print_slim(Qs,lag_range,pars_est1,idx_a,idx_b,traces,mmap,data_path)"
   ]
  },
  {
   "cell_type": "code",
   "execution_count": null,
   "metadata": {
    "collapsed": false
   },
   "outputs": [],
   "source": [
    "plot_slim(Qs,lag_range,pars_est1,idx_a,idx_b,traces,mmap,data_path)"
   ]
  },
  {
   "cell_type": "markdown",
   "metadata": {},
   "source": [
    "# do fit for all subpopulations"
   ]
  },
  {
   "cell_type": "code",
   "execution_count": null,
   "metadata": {
    "collapsed": true
   },
   "outputs": [],
   "source": [
    "\n",
    "obs_idx, idx_grp, co_obs, _, _, _, Om, _, _ = \\\n",
    "    get_subpop_stats(sub_pops=sub_pops, p=p, verbose=False)\n",
    "\n",
    "    \n",
    "pa = np.min((p,1000))\n",
    "pb = np.min((p,1000))\n",
    "idx_a = np.sort(np.random.choice(p, pa, replace=False))\n",
    "idx_b = np.sort(np.random.choice(p, pb, replace=False))\n",
    "\n",
    "\n",
    "Qs = []\n",
    "kl_ = np.max(lag_range)+1\n",
    "if mmap:\n",
    "    y = np.memmap(data_path+'y_zscore', dtype=np.float, mode='r', shape=(T,p))\n",
    "for m in range(len(lag_range)):\n",
    "    m_ = lag_range[m]\n",
    "    print('computing time-lagged covariance for lag ', str(m_))\n",
    "    Qs.append(None)\n",
    "    if mmap:\n",
    "        Q = np.memmap(data_path+'Qs_'+str(m_), dtype=np.float, \n",
    "                      mode='w+', shape=(pa,pb))\n",
    "    else:\n",
    "        Q = np.empty((pa,pb))\n",
    "    Q[:] = np.cov(y[m_:m_-(kl_),idx_a].T, y[:-(kl_),idx_b].T)[:pa,pa:]     \n",
    "    if mmap:\n",
    "        del Q\n",
    "        Qs[m] = np.memmap(data_path+'Qs_'+str(m_), dtype=np.float, \n",
    "                          mode='r', shape=(pa,pb))\n",
    "    else:\n",
    "        Qs[m] = Q\n",
    "if mmap:\n",
    "    del y # releases RAM, forces flush to disk\n",
    "    y = np.memmap(data_path+'y_zscore', dtype=np.float, mode='r', shape=(T,p)) \n",
    "    \n",
    "t = time.time()\n",
    "\n",
    "pars_init, pars_0, traces = run_bad(lag_range=lag_range,n=n,y=y, Om = None, Qs=Qs, idx_a=idx_a,idx_b=idx_b,\n",
    "                                      sub_pops=sub_pops,\n",
    "                                      idx_grp=idx_grp,co_obs=co_obs,obs_idx=obs_idx,\n",
    "                                      obs_pops=obs_pops,obs_time=obs_time,\n",
    "                                      alpha_C=0, b1_C=b1,b2_C=b2,e_C=e,\n",
    "                                      max_iter=1,batch_size=1,max_zip_size=1)\n",
    "pars_0['C'] *= 0\n",
    "pars_0['C'][sub_pops[0], :] = pars_est1['C'].copy()\n",
    "pars_0['R'][sub_pops[0]] = pars_est1['R'].copy()\n",
    "pars_0['X'] = pars_est1['X'].copy()\n",
    "pars_est = pars_0.copy()\n",
    "print_slim(Qs,lag_range,pars_est,idx_a,idx_b,traces,mmap,data_path)\n",
    "del pars_0\n",
    "\n",
    "batch_size, max_zip_size, max_iter = 1, 100, 10\n",
    "b1, b2, e = 0.9, 0.99, 1e-8\n",
    "a_C, a_R, a_X = 0.0001, 0.001, 0.0001\n",
    "\n",
    "_, pars_est, traces = run_bad(lag_range=lag_range,n=n,y=y, Om = None, Qs=Qs, idx_a=idx_a,idx_b=idx_b,\n",
    "                                      sub_pops=sub_pops,\n",
    "                                      idx_grp=idx_grp,co_obs=co_obs,obs_idx=obs_idx,\n",
    "                                      obs_pops=obs_pops,obs_time=obs_time,init=pars_est,\n",
    "                                      alpha_C=a_C, alpha_R=a_R, alpha_X=a_X, \n",
    "                                      b1_C=b1,b2_C=b2,e_C=e,\n",
    "                                      max_iter=max_iter,batch_size=batch_size,\n",
    "                                      max_zip_size=max_zip_size)\n",
    "plot_slim(Qs,lag_range,pars_est,idx_a,idx_b,traces,mmap,data_path)\n",
    "\n",
    "batch_size, max_zip_size, max_iter = 10, 10, 10\n",
    "b1, b2, e = 0.9, 0.99, 1e-8\n",
    "a_C, a_R, a_X = 0.0001, 0.001, 0.0001\n",
    "\n",
    "_, pars_est, traces = run_bad(lag_range=lag_range,n=n,y=y, Om = None, Qs=Qs, idx_a=idx_a,idx_b=idx_b,\n",
    "                                      sub_pops=sub_pops,\n",
    "                                      idx_grp=idx_grp,co_obs=co_obs,obs_idx=obs_idx,\n",
    "                                      obs_pops=obs_pops,obs_time=obs_time,init=pars_est,\n",
    "                                      alpha_C=a_C, alpha_R=a_R, alpha_X=a_X, \n",
    "                                      b1_C=b1,b2_C=b2,e_C=e,\n",
    "                                      max_iter=max_iter,batch_size=batch_size,\n",
    "                                      max_zip_size=max_zip_size)\n",
    "plot_slim(Qs,lag_range,pars_est,idx_a,idx_b,traces,mmap,data_path)\n",
    "\n",
    "\n",
    "\n",
    "print('fitting time was ', time.time() - t, 's')\n",
    "print('\\n')\n",
    "print(psutil.virtual_memory())\n",
    "print(psutil.swap_memory())\n",
    "\n"
   ]
  },
  {
   "cell_type": "code",
   "execution_count": null,
   "metadata": {
    "collapsed": false
   },
   "outputs": [],
   "source": [
    "obs_idx, idx_grp, co_obs, _, _, _, Om, _, _ = \\\n",
    "    get_subpop_stats(sub_pops=sub_pops, p=p, verbose=False)\n",
    "\n",
    "    \n",
    "pa = np.min((p,1000))\n",
    "pb = np.min((p,1000))\n",
    "idx_a = np.sort(np.random.choice(p, pa, replace=False))\n",
    "idx_b = np.sort(np.random.choice(p, pb, replace=False))\n",
    "\n",
    "Qs = []\n",
    "kl_ = np.max(lag_range)+1\n",
    "if mmap:\n",
    "    y = np.memmap(data_path+'y_zscore', dtype=np.float, mode='r', shape=(T,p))\n",
    "for m in range(len(lag_range)):\n",
    "    m_ = lag_range[m]\n",
    "    print('computing time-lagged covariance for lag ', str(m_))\n",
    "    Qs.append(None)\n",
    "    if mmap:\n",
    "        Q = np.memmap(data_path+'Qs_'+str(m_), dtype=np.float, \n",
    "                      mode='w+', shape=(pa,pb))\n",
    "    else:\n",
    "        Q = np.empty((pa,pb))\n",
    "    Q[:] = np.cov(y[m_:m_-(kl_),idx_a].T, y[:-(kl_),idx_b].T)[:pa,pa:]     \n",
    "    if mmap:\n",
    "        del Q\n",
    "        Qs[m] = np.memmap(data_path+'Qs_'+str(m_), dtype=np.float, \n",
    "                          mode='r', shape=(pa,pb))\n",
    "    else:\n",
    "        Qs[m] = Q\n",
    "if mmap:\n",
    "    del y # releases RAM, forces flush to disk\n",
    "    y = np.memmap(data_path+'y_zscore', dtype=np.float, mode='r', shape=(T,p)) "
   ]
  },
  {
   "cell_type": "code",
   "execution_count": null,
   "metadata": {
    "collapsed": false
   },
   "outputs": [],
   "source": [
    "batch_size, max_zip_size, max_iter = 1, 100, 20\n",
    "b1, b2, e = 0.9, 0.99, 1e-8\n",
    "a_C, a_R, a_X = 0.00001, 0.00001, 0.01\n",
    "\n",
    "_, pars_est, traces = run_bad(lag_range=lag_range,n=n,y=y, Om = None, Qs=Qs, idx_a=idx_a,idx_b=idx_b,\n",
    "                                      sub_pops=sub_pops,\n",
    "                                      idx_grp=idx_grp,co_obs=co_obs,obs_idx=obs_idx,\n",
    "                                      obs_pops=obs_pops,obs_time=obs_time,init=pars_est,\n",
    "                                      alpha_C=a_C, alpha_R=a_R, alpha_X=a_X, \n",
    "                                      b1_C=b1,b2_C=b2,e_C=e,\n",
    "                                      max_iter=max_iter,batch_size=batch_size,\n",
    "                                      max_zip_size=max_zip_size)\n",
    "print_slim(Qs,lag_range,pars_est,idx_a,idx_b,traces,mmap,data_path)\n"
   ]
  },
  {
   "cell_type": "code",
   "execution_count": null,
   "metadata": {
    "collapsed": false
   },
   "outputs": [],
   "source": [
    "plot_slim(Qs,lag_range,pars_est,idx_a,idx_b,traces,mmap,data_path)"
   ]
  },
  {
   "cell_type": "code",
   "execution_count": null,
   "metadata": {
    "collapsed": false
   },
   "outputs": [],
   "source": [
    "if False:\n",
    "    import numpy as np\n",
    "    data_path = '../fits/lsfm/grid_quick/'\n",
    "    save_file = 'full_2pops_zsplit_6_lags'\n",
    "    tmp = np.load(data_path + save_file + '.npz')\n",
    "    p,n,T = tmp['p'],tmp['n'],tmp['T']\n",
    "    lag_range = tmp['lag_range']\n",
    "    pars_est, pars_pca = tmp['pars_est'].tolist(), tmp['pars_pca'].tolist()\n",
    "    sub_pops = tmp['sub_pops']\n",
    "    mmap = True\n",
    "    del tmp"
   ]
  },
  {
   "cell_type": "code",
   "execution_count": null,
   "metadata": {
    "collapsed": true
   },
   "outputs": [],
   "source": []
  },
  {
   "cell_type": "code",
   "execution_count": 26,
   "metadata": {
    "collapsed": false,
    "scrolled": true
   },
   "outputs": [],
   "source": [
    "    import numpy as np\n",
    "    data_path = '../fits/lsfm/grid_quick/'\n",
    "    save_file = 'full_2pops_zsplit_6_lags'\n",
    "    tmp = np.load(data_path + save_file + '.npz')\n",
    "    p,n,T = tmp['p'],tmp['n'],tmp['T']\n",
    "    lag_range = tmp['lag_range']\n",
    "    pars_est, pars_pca = tmp['pars_est'].tolist(), tmp['pars_pca'].tolist()\n",
    "    #sub_pops = tmp['sub_pops']\n",
    "    obs_pops = np.arange(len(sub_pops))\n",
    "    obs_time = T//len(sub_pops) * np.arange(1,len(sub_pops)+1)\n",
    "    mmap = True\n",
    "    del tmp"
   ]
  },
  {
   "cell_type": "code",
   "execution_count": 27,
   "metadata": {
    "collapsed": false
   },
   "outputs": [
    {
     "name": "stdout",
     "output_type": "stream",
     "text": [
      "computing time-lagged covariance for lag  0\n",
      "computing time-lagged covariance for lag  4\n",
      "computing time-lagged covariance for lag  8\n",
      "computing time-lagged covariance for lag  12\n",
      "computing time-lagged covariance for lag  16\n",
      "computing time-lagged covariance for lag  20\n"
     ]
    }
   ],
   "source": [
    "from sklearn.decomposition import PCA\n",
    "\n",
    "fig_path = '/home/mackelab/Desktop/Projects/Stitching/code/le_stitch/python/figs/'\n",
    "m_range = range(len(lag_range))\n",
    "kl_ = np.max(lag_range)+1\n",
    "\n",
    "y_masked = np.memmap(data_path+'y_zscore', dtype=np.float, mode='c', shape=(T,p))\n",
    "\n",
    "#y_masked[:obs_time[0], np.setdiff1d(np.arange(p), sub_pops[obs_pops[0]])] = 0\n",
    "#for i in range(1,len(obs_time)):\n",
    "#    y_masked[np.ix_(np.arange(obs_time[i-1],obs_time[i]), np.setdiff1d(np.arange(p), sub_pops[obs_pops[i]]))] = 0\n",
    "    \n",
    "pca = PCA()\n",
    "pca.fit(y_masked)\n",
    "del y_masked\n",
    "\n",
    "pars_pca = {}\n",
    "pars_pca['C'] = pca.components_[:n].T\n",
    "pars_pca['Pi'] = np.diag(pca.explained_variance_[:n])    \n",
    "\n",
    "\n",
    "idxc_a = sub_pops[0]\n",
    "if len(sub_pops) > 0:\n",
    "    idxc_b = np.setdiff1d(np.arange(p), sub_pops[0]) # those only in subpop #2 \n",
    "else:\n",
    "    idxc_b = idx_a.copy()\n",
    "pa, pb = len(idxc_a), len(idxc_b)\n",
    "\n",
    "pa, pb = 1000, 1000\n",
    "idxc_a = idxc_a[np.sort(np.random.choice(idxc_a.size, pa, replace=False))] # subsample for \\\n",
    "idxc_b = idxc_b[np.sort(np.random.choice(idxc_b.size, pb, replace=False))] # memory reasons\n",
    "\n",
    "\n",
    "Qs = []\n",
    "if mmap:\n",
    "    y = np.memmap(data_path+'y_zscore', dtype=np.float, mode='r', shape=(T,p))\n",
    "    \n",
    "\n",
    "corrs_est = np.zeros((len(m_range), 2))\n",
    "MSE_est = np.zeros((len(m_range), 2))    \n",
    "for m in m_range:\n",
    "    m_ = lag_range[m]\n",
    "    print('computing time-lagged covariance for lag ', str(m_))\n",
    "    Qs.append(None)\n",
    "    if mmap:\n",
    "        Q = np.memmap(data_path+'Qs_'+str(m_), dtype=np.float, \n",
    "                      mode='w+', shape=(pa,pb))\n",
    "    else:\n",
    "        Q = np.empty((pa,pb))\n",
    "    Q[:] = np.cov(y[m_:m_-(kl_),idxc_a].T, y[:-(kl_),idxc_b].T)[:pa,pa:]     \n",
    "    if mmap:\n",
    "        del Q\n",
    "        Qs[m] = np.memmap(data_path+'Qs_'+str(m_), dtype=np.float, \n",
    "                          mode='r', shape=(pa,pb))\n",
    "    else:\n",
    "        Qs[m] = Q\n",
    "            \n",
    "    Q = (pars_est['C'][idxc_a,:].dot(pars_est['X'][m*n:(m+1)*n,:]).dot(pars_est['C'][idxc_b,:].T))\n",
    "    corrs_est[m,0] = np.corrcoef(Qs[m][:].reshape(-1), Q.reshape(-1))[0,1]\n",
    "    MSE_est[m,0] = np.mean( (Qs[m] - Q)**2 )\n",
    "\n",
    "    \"\"\"\n",
    "    plt.figure(figsize=(20,20))\n",
    "    if m_ == 0:\n",
    "        plt.plot(-10,-10, 'r.')    \n",
    "        plt.hold(True)\n",
    "        plt.plot(-10,-10, 'b.')    \n",
    "        plt.plot(Qs[m][:], Q[:], 'r.')\n",
    "        plt.hold(True)\n",
    "        plt.title('corr. est. us:' + str(np.corrcoef(Qs[m][:].reshape(-1), Q.reshape(-1))[0,1]))\n",
    "    \"\"\"\n",
    "    \n",
    "    tmp  = np.abs(Q.reshape(-1) - Qs[m].reshape(-1))\n",
    "        \n",
    "    Q = (pars_pca['C'][idxc_a,:].dot(pars_pca['Pi']).dot(pars_pca['C'][idxc_b,:].T))\n",
    "    corrs_est[m,1] = np.corrcoef(Qs[m][:].reshape(-1), Q.reshape(-1))[0,1]      \n",
    "    MSE_est[m,1] = np.mean( (Qs[m] - Q)**2 )    \n",
    "    \n",
    "    \"\"\"\n",
    "    if m_ == 0:\n",
    "        plt.plot(Qs[m][:], Q[:], 'b.')\n",
    "        plt.plot([-1,1], [-1,1], 'k--')\n",
    "\n",
    "        plt.legend(('stitched', 'naive PCA'), 'northwest')    \n",
    "        plt.axis([-1,1,-1,1])\n",
    "        plt.xlabel('corr. est. PCA:' + str(np.corrcoef(Qs[m][:].reshape(-1), Q.reshape(-1))[0,1]))\n",
    "        plt.savefig(fig_path + 'stitched_covs.png', bbox_inches=\"tight\"); \n",
    "        plt.show()\n",
    "    \"\"\"\n",
    "    \n",
    "    del Q\n",
    "    if mmap:\n",
    "        del y # releases RAM, forces flush to disk\n",
    "        y = np.memmap(data_path+'y_zscore', dtype=np.float, mode='r', shape=(T,p)) \n"
   ]
  },
  {
   "cell_type": "code",
   "execution_count": 29,
   "metadata": {
    "collapsed": false
   },
   "outputs": [
    {
     "data": {
      "image/png": "[encoded data removed]",
      "text/plain": [
       "<matplotlib.figure.Figure at 0x7fddd93ddf28>"
      ]
     },
     "metadata": {},
     "output_type": "display_data"
    }
   ],
   "source": [
    "plt.figure(figsize=(11,6))\n",
    "ax = plt.subplot(121)\n",
    "plt.bar(-.4+np.arange(len(lag_range)), corrs_est[:,0], color='r')\n",
    "plt.hold(True)\n",
    "plt.bar(-.4+np.arange(len(lag_range))+.1, corrs_est[:,1], color='b')\n",
    "plt.xticks(np.arange(len(lag_range)), [str(x) for x in lag_range], fontsize=14)\n",
    "plt.yticks(np.arange(0,0.61, 0.2), fontsize=14)\n",
    "plt.xlabel('time-lag')\n",
    "plt.ylabel('correlation')\n",
    "plt.box('off')\n",
    "ax.get_xaxis().tick_bottom()    \n",
    "ax.get_yaxis().tick_left()    \n",
    "\n",
    "ax = plt.subplot(122)\n",
    "plt.bar(-.4+np.arange(len(lag_range))+.1, MSE_est[:,1], color='b')\n",
    "plt.hold(True)\n",
    "plt.bar(-.4+np.arange(len(lag_range)), MSE_est[:,0], color='r')\n",
    "plt.xticks(np.arange(len(lag_range)), [str(x) for x in lag_range], fontsize=14)\n",
    "plt.yticks(np.arange(0,0.0013,0.0004), fontsize=14)\n",
    "plt.xlabel('time-lag')\n",
    "plt.ylabel('MSE')\n",
    "plt.box('off')\n",
    "ax.get_xaxis().tick_bottom()    \n",
    "ax.get_yaxis().tick_left()    \n",
    "\n",
    "plt.savefig(fig_path + 'd_lsfm_full_us_vs_pca.pdf', bbox_inches=\"tight\");     \n"
   ]
  },
  {
   "cell_type": "code",
   "execution_count": 18,
   "metadata": {
    "collapsed": true
   },
   "outputs": [],
   "source": [
    "    import numpy as np\n",
    "    data_path = '../fits/lsfm/grid_quick/'\n",
    "    save_file = 'stitch_2pops_zsplit_6_lags'\n",
    "    tmp = np.load(data_path + save_file + '.npz')\n",
    "    p,n,T = tmp['p'],tmp['n'],tmp['T']\n",
    "    lag_range = tmp['lag_range']\n",
    "    pars_est, pars_pca = tmp['pars_est'].tolist(), tmp['pars_pca'].tolist()\n",
    "    #sub_pops = tmp['sub_pops']\n",
    "    obs_pops = np.arange(len(sub_pops))\n",
    "    obs_time = T//len(sub_pops) * np.arange(1,len(sub_pops)+1)\n",
    "    mmap = True\n",
    "    del tmp"
   ]
  },
  {
   "cell_type": "code",
   "execution_count": 22,
   "metadata": {
    "collapsed": false
   },
   "outputs": [
    {
     "name": "stdout",
     "output_type": "stream",
     "text": [
      "done PCA\n",
      "computing time-lagged covariance for lag  0\n"
     ]
    },
    {
     "name": "stderr",
     "output_type": "stream",
     "text": [
      "/home/mackelab/anaconda3/lib/python3.5/site-packages/matplotlib/cbook.py:137: MatplotlibDeprecationWarning: The \"loc\" positional argument to legend is deprecated. Please use the \"loc\" keyword instead.\n",
      "  warnings.warn(message, mplDeprecation, stacklevel=1)\n",
      "/home/mackelab/anaconda3/lib/python3.5/site-packages/matplotlib/legend.py:319: UserWarning: Unrecognized location \"northwest\". Falling back on \"best\"; valid locations are\n",
      "\tlower right\n",
      "\tlower center\n",
      "\tright\n",
      "\tlower left\n",
      "\tupper right\n",
      "\tcenter left\n",
      "\tcenter\n",
      "\tbest\n",
      "\tupper left\n",
      "\tupper center\n",
      "\tcenter right\n",
      "\n",
      "  % (loc, '\\n\\t'.join(six.iterkeys(self.codes))))\n"
     ]
    },
    {
     "data": {
      "image/png": "[encoded data removed]",
      "text/plain": [
       "<matplotlib.figure.Figure at 0x7fdddb5baef0>"
      ]
     },
     "metadata": {},
     "output_type": "display_data"
    },
    {
     "name": "stdout",
     "output_type": "stream",
     "text": [
      "computing time-lagged covariance for lag  4\n",
      "computing time-lagged covariance for lag  8\n",
      "computing time-lagged covariance for lag  12\n",
      "computing time-lagged covariance for lag  16\n",
      "computing time-lagged covariance for lag  20\n"
     ]
    }
   ],
   "source": [
    "from sklearn.decomposition import PCA\n",
    "\n",
    "fig_path = '/home/mackelab/Desktop/Projects/Stitching/code/le_stitch/python/figs/'\n",
    "m_range = range(len(lag_range))\n",
    "kl_ = np.max(lag_range)+1\n",
    "\n",
    "y_masked = np.memmap(data_path+'y_zscore', dtype=np.float, mode='c', shape=(T,p))\n",
    "\n",
    "y_masked[:obs_time[0], np.setdiff1d(np.arange(p), sub_pops[obs_pops[0]])] = 0\n",
    "for i in range(1,len(obs_time)):\n",
    "    y_masked[np.ix_(np.arange(obs_time[i-1],obs_time[i]), np.setdiff1d(np.arange(p), sub_pops[obs_pops[i]]))] = 0\n",
    "    \n",
    "pca = PCA()\n",
    "pca.fit(y_masked)\n",
    "del y_masked\n",
    "\n",
    "pars_pca = {}\n",
    "pars_pca['C'] = pca.components_[:n].T\n",
    "pars_pca['Pi'] = np.diag(pca.explained_variance_[:n])    \n",
    "\n",
    "print('done PCA')\n",
    "\n",
    "\n",
    "idxc_a = np.setdiff1d(np.arange(p), sub_pops[1])\n",
    "if len(sub_pops) > 0:\n",
    "    idxc_b = np.setdiff1d(np.arange(p), sub_pops[0]) # those only in subpop #2 \n",
    "else:\n",
    "    idxc_b = idx_a.copy()\n",
    "pa, pb = len(idxc_a), len(idxc_b)\n",
    "\n",
    "#pa, pb = 1000, 1000\n",
    "#idxc_a = idxc_a[np.sort(np.random.choice(idxc_a.size, pa, replace=False))] # subsample for \\\n",
    "#idxc_b = idxc_b[np.sort(np.random.choice(idxc_b.size, pb, replace=False))] # memory reasons\n",
    "\n",
    "\n",
    "Qs = []\n",
    "if mmap:\n",
    "    y = np.memmap(data_path+'y_zscore', dtype=np.float, mode='r', shape=(T,p))\n",
    "    \n",
    "\n",
    "corrs_est = np.zeros((len(m_range), 2))\n",
    "MSE_est = np.zeros((len(m_range), 2))    \n",
    "for m in m_range:\n",
    "    m_ = lag_range[m]\n",
    "    print('computing time-lagged covariance for lag ', str(m_))\n",
    "    Qs.append(None)\n",
    "    if mmap:\n",
    "        Q = np.memmap(data_path+'Qs_'+str(m_), dtype=np.float, \n",
    "                      mode='w+', shape=(pa,pb))\n",
    "    else:\n",
    "        Q = np.empty((pa,pb))\n",
    "    Q[:] = np.cov(y[m_:m_-(kl_),idxc_a].T, y[:-(kl_),idxc_b].T)[:pa,pa:]     \n",
    "    if mmap:\n",
    "        del Q\n",
    "        Qs[m] = np.memmap(data_path+'Qs_'+str(m_), dtype=np.float, \n",
    "                          mode='r', shape=(pa,pb))\n",
    "    else:\n",
    "        Qs[m] = Q\n",
    "            \n",
    "    Q = (pars_est['C'][idxc_a,:].dot(pars_est['X'][m*n:(m+1)*n,:]).dot(pars_est['C'][idxc_b,:].T))\n",
    "    corrs_est[m,0] = np.corrcoef(Qs[m][:].reshape(-1), Q.reshape(-1))[0,1]\n",
    "    MSE_est[m,0] = np.mean( (Qs[m] - Q)**2 )\n",
    "\n",
    "    \"\"\"\n",
    "    plt.figure(figsize=(20,20))\n",
    "    if m_ == 0:\n",
    "        plt.plot(-10,-10, 'r.')    \n",
    "        plt.hold(True)\n",
    "        plt.plot(-10,-10, 'b.')    \n",
    "        plt.plot(Qs[m][:], Q[:], 'r.')\n",
    "        plt.hold(True)\n",
    "        plt.title('corr. est. us:' + str(np.corrcoef(Qs[m][:].reshape(-1), Q.reshape(-1))[0,1]))\n",
    "    \"\"\"\n",
    "    \n",
    "    tmp  = np.abs(Q.reshape(-1) - Qs[m].reshape(-1))\n",
    "        \n",
    "    Q = (pars_pca['C'][idxc_a,:].dot(pars_pca['Pi']).dot(pars_pca['C'][idxc_b,:].T))\n",
    "    corrs_est[m,1] = np.corrcoef(Qs[m][:].reshape(-1), Q.reshape(-1))[0,1]      \n",
    "    MSE_est[m,1] = np.mean( (Qs[m] - Q)**2 )    \n",
    "    \n",
    "    \"\"\"\n",
    "    if m_ == 0:\n",
    "        plt.plot(Qs[m][:], Q[:], 'b.')\n",
    "        plt.plot([-1,1], [-1,1], 'k--')\n",
    "\n",
    "        plt.legend(('stitched', 'naive PCA'), 'northwest')    \n",
    "        plt.axis([-1,1,-1,1])\n",
    "        plt.xlabel('corr. est. PCA:' + str(np.corrcoef(Qs[m][:].reshape(-1), Q.reshape(-1))[0,1]))\n",
    "        plt.savefig(fig_path + 'stitched_covs.png', bbox_inches=\"tight\"); \n",
    "        plt.show()\n",
    "    \"\"\"\n",
    "    \n",
    "    del Q\n",
    "    if mmap:\n",
    "        del y # releases RAM, forces flush to disk\n",
    "        y = np.memmap(data_path+'y_zscore', dtype=np.float, mode='r', shape=(T,p)) \n"
   ]
  },
  {
   "cell_type": "code",
   "execution_count": 25,
   "metadata": {
    "collapsed": false
   },
   "outputs": [
    {
     "data": {
      "image/png": "[encoded data removed]",
      "text/plain": [
       "<matplotlib.figure.Figure at 0x7fddd96049b0>"
      ]
     },
     "metadata": {},
     "output_type": "display_data"
    }
   ],
   "source": [
    "plt.figure(figsize=(11,6))\n",
    "ax = plt.subplot(121)\n",
    "plt.bar(-.4+np.arange(len(lag_range)), corrs_est[:,0], color='r')\n",
    "plt.hold(True)\n",
    "plt.bar(-.4+np.arange(len(lag_range))+.1, corrs_est[:,1], color='b')\n",
    "plt.xticks(np.arange(len(lag_range)), [str(x) for x in lag_range], fontsize=14)\n",
    "plt.yticks(np.arange(0,0.61, 0.2), fontsize=14)\n",
    "plt.xlabel('time-lag')\n",
    "plt.ylabel('correlation')\n",
    "plt.box('off')\n",
    "ax.get_xaxis().tick_bottom()    \n",
    "ax.get_yaxis().tick_left()    \n",
    "\n",
    "ax = plt.subplot(122)\n",
    "plt.bar(-.4+np.arange(len(lag_range))+.1, MSE_est[:,1], color='b')\n",
    "plt.hold(True)\n",
    "plt.bar(-.4+np.arange(len(lag_range)), MSE_est[:,0], color='r')\n",
    "plt.xticks(np.arange(len(lag_range)), [str(x) for x in lag_range], fontsize=14)\n",
    "plt.yticks(np.arange(0,0.0013,0.0004), fontsize=14)\n",
    "plt.xlabel('time-lag')\n",
    "plt.ylabel('MSE')\n",
    "plt.box('off')\n",
    "ax.get_xaxis().tick_bottom()    \n",
    "ax.get_yaxis().tick_left()    \n",
    "\n",
    "plt.savefig(fig_path + 'd_lsfm_stitch_us_vs_pca.pdf', bbox_inches=\"tight\");        \n",
    "plt.show()"
   ]
  },
  {
   "cell_type": "code",
   "execution_count": 24,
   "metadata": {
    "collapsed": false
   },
   "outputs": [
    {
     "data": {
      "text/plain": [
       "(5120, 5120)"
      ]
     },
     "execution_count": 24,
     "metadata": {},
     "output_type": "execute_result"
    }
   ],
   "source": [
    "pa, pb"
   ]
  },
  {
   "cell_type": "code",
   "execution_count": null,
   "metadata": {
    "collapsed": false
   },
   "outputs": [],
   "source": [
    "if False:\n",
    "    save_file = 'stitch_2pops_zsplit_6_lags'\n",
    "    np.savez(data_path + save_file, \n",
    "             pars_true=None, \n",
    "             pars_est=pars_est,\n",
    "             pars_pca=pars_pca,\n",
    "             sub_pops=sub_pops,\n",
    "             p=p,n=n,T=T,lag_range=lag_range)          "
   ]
  }
 ],
 "metadata": {
  "kernelspec": {
   "display_name": "Python 3",
   "language": "python",
   "name": "python3"
  },
  "language_info": {
   "codemirror_mode": {
    "name": "ipython",
    "version": 3
   },
   "file_extension": ".py",
   "mimetype": "text/x-python",
   "name": "python",
   "nbconvert_exporter": "python",
   "pygments_lexer": "ipython3",
   "version": "3.5.1"
  }
 },
 "nbformat": 4,
 "nbformat_minor": 0
}
