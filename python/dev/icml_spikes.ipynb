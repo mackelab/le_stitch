{
 "cells": [
  {
   "cell_type": "code",
   "execution_count": null,
   "metadata": {
    "collapsed": false
   },
   "outputs": [],
   "source": [
    "%matplotlib inline\n",
    "import matplotlib.pyplot as plt\n",
    "import numpy as np\n",
    "import scipy as sp\n",
    "import glob, os\n",
    "import psutil\n",
    "import time\n",
    "from scipy.io import loadmat\n",
    "from scipy.io import savemat # store results for comparison with Matlab code   \n",
    "\n",
    "print('loading data')\n",
    "spikes = loadmat('/home/mackelab/Desktop/Projects/Stitching/results/cosyne_poster/gb_net/spikes_20trials_10msBins')\n",
    "spikes= spikes['spikes_out']\n",
    "\n",
    "num_iter = 0\n",
    "pi_method = 'heuristic'\n",
    "\n",
    "print('concatenating trials')\n",
    "p, T = 1000, 600\n",
    "#data = spikes[0][0].T\n",
    "\n",
    "print('number trials: ', spikes.size)\n",
    "idx_n = np.sort(np.random.choice(1000, size=p, replace=False))\n",
    "y = np.vstack([spikes[i][0].T[:,idx_n] for i in range(spikes.size)]).astype(np.float)\n",
    "T *= spikes.size\n",
    "del spikes\n",
    "\n",
    "T,p = y.shape\n",
    "idx_shuffle = np.arange(p)\n",
    "np.random.shuffle(idx_shuffle)\n",
    "y = y[:,idx_shuffle]\n",
    "\n",
    "\n",
    "plt.figure(figsize=(20,20))\n",
    "plt.imshow(y[1000:2000,:].T, aspect='auto', interpolation='None', cmap='gray')\n",
    "plt.show()"
   ]
  },
  {
   "cell_type": "code",
   "execution_count": null,
   "metadata": {
    "collapsed": false
   },
   "outputs": [],
   "source": [
    "from ssidid.SSID_Hankel_loss import run_bad, plot_slim, print_slim, f_l2_Hankel_nl, f_l2_Hankel_comp_Q_Om\n",
    "from ssidid.utility import get_subpop_stats, gen_data\n",
    "from ssidid import ObservationScheme\n",
    "from ssidid.icml_scripts import run_default\n",
    "\n",
    "\n",
    "p,n = 1000, 10\n",
    "lag_range = np.arange(20)\n",
    "overlap = 1000\n",
    "sso=True\n",
    "mmap, data_path = False, None\n",
    "idx_a, idx_b = np.arange(p), np.arange(p)\n",
    "sub_pops = (np.arange((p+overlap)//2),np.arange((p-overlap)//2,p))\n",
    "\n",
    "reps = 1\n",
    "obs_pops = np.concatenate([ np.arange(len(sub_pops)) for r in range(reps) ])\n",
    "obs_time = np.linspace(0,T, len(obs_pops)+1)[1:].astype(int)\n",
    "obs_scheme = ObservationScheme(p=p, T=T, \n",
    "                                sub_pops=sub_pops, \n",
    "                                obs_pops=obs_pops, \n",
    "                                obs_time=obs_time)\n",
    "\n",
    "W = obs_scheme.comp_coocurrence_weights(lag_range, sso=sso, idx_a=idx_a, idx_b=idx_b)\n",
    "if overlap < p:\n",
    "    for m in range(len(lag_range)):\n",
    "        W[m][0,1] = 0\n",
    "        W[m][1,0] = 0\n",
    "\n",
    "print('computing time-lagged covariances')\n",
    "Qs, Om = f_l2_Hankel_comp_Q_Om(n=n,y=y,lag_range=lag_range,obs_scheme=obs_scheme,\n",
    "                      idx_a=idx_a,idx_b=idx_b,W=W,sso=sso,\n",
    "                      mmap=mmap,data_path=data_path,ts=None,ms=None)    \n",
    "if overlap < p:\n",
    "    for m in range(len(lag_range)):    \n",
    "        Om[m][np.ix_(obs_scheme.idx_grp[0], obs_scheme.idx_grp[1])] = False\n",
    "        Om[m][np.ix_(obs_scheme.idx_grp[1], obs_scheme.idx_grp[0])] = False\n",
    "\n",
    "\n",
    "rnd_seed = np.random.get_state()\n",
    "#np.random.seed(rnd_seed)\n",
    "pars_est, traces, ts= run_default(\n",
    "            alphas    = (0.1, 0.01), \n",
    "            b1s       = (0.9, 0.95), \n",
    "            a_decays  = (0.95, 0.98), \n",
    "            batch_sizes = (1, 10), \n",
    "            max_zip_sizes =  (100,100), \n",
    "            max_iters = (100, 100 ),\n",
    "            parametrizations = ('nl', 'nl'),\n",
    "            pars_est='default', pars_true=None, n=n, \n",
    "            y=y, sso=sso, obs_scheme=obs_scheme, lag_range=lag_range, \n",
    "            idx_a=idx_a, idx_b=idx_b,Qs=Qs,Om=Om, W=W,\n",
    "            traces=[[], [], []], ts = [])    "
   ]
  },
  {
   "cell_type": "code",
   "execution_count": null,
   "metadata": {
    "collapsed": false
   },
   "outputs": [],
   "source": [
    "rnd_seed = np.random.get_state()\n",
    "#np.random.seed(rnd_seed)\n",
    "pars_est, traces, ts= run_default(\n",
    "            alphas    = (0.1, 0.01), \n",
    "            b1s       = (0.9, 0.95), \n",
    "            a_decays  = (0.95, 0.98), \n",
    "            batch_sizes = (1, 10), \n",
    "            max_zip_sizes =  (100,100), \n",
    "            max_iters = (100, 100 ),\n",
    "            parametrizations = ('nl', 'nl'),\n",
    "            pars_est='default', pars_true=None, n=n, \n",
    "            y=y, sso=sso, obs_scheme=obs_scheme, lag_range=lag_range, \n",
    "            idx_a=idx_a, idx_b=idx_b,Qs=Qs,Om=Om, W=W,\n",
    "            traces=[[], [], []], ts = [])    "
   ]
  }
 ],
 "metadata": {
  "kernelspec": {
   "display_name": "Python 3",
   "language": "python",
   "name": "python3"
  },
  "language_info": {
   "codemirror_mode": {
    "name": "ipython",
    "version": 3
   },
   "file_extension": ".py",
   "mimetype": "text/x-python",
   "name": "python",
   "nbconvert_exporter": "python",
   "pygments_lexer": "ipython3",
   "version": "3.5.1"
  }
 },
 "nbformat": 4,
 "nbformat_minor": 0
}
