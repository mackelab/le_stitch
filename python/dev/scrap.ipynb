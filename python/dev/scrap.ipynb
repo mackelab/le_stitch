{
 "cells": [
  {
   "cell_type": "markdown",
   "metadata": {},
   "source": [
    "# implementation of non-linear (locally (bi-)linear) models\n",
    "\n",
    "Zhao et al. (2016), \"Interpretable Nonlinear Dynamic Modeling\n",
    "of Neural Trajectories\"\n",
    "\n",
    "\\begin{align}\n",
    "y_{t+1} &= (1-\\exp(-\\tau^2)) y_t + C x_t + B_t u_t + \\epsilon_t \\\\\n",
    "\\mbox{vec}\\left(B_t\\right) &= W x_t \\nonumber \\\\\n",
    "x_{i,t} &= \\Phi_i(y_t) = \\frac{1}{Z} \\exp\\left(- \\frac{||y_t - z_i ||}{2\\sigma_i^2}\\right) \\nonumber \\\\\n",
    "\\epsilon_t &\\sim \\mathcal{N}(0, R) \\nonumber\n",
    "\\end{align}\n",
    "Parameters: \n",
    "- $C \\in \\mathbb{R}^{p \\times n}$, \n",
    "- $\\mbox{diag}(R) \\in \\mathbb{R}^p$, \n",
    "- $W \\in \\mathbb{R}^{p\\cdot{}m \\times n}$, \n",
    "- $\\tau \\in \\mathbb{R}$, \n",
    "- $\\forall i = 1, \\ldots,n: z_i \\in \\mathbb{R}^p, \\sigma_i^2 \\in \\mathbb{R}$\n",
    "\n",
    "Notice that $B_t u_t = \\left( u_t^\\top \\otimes \\mathbb{1}_{p}  \\right) W x_t$, i.e. the input-dependent terms are bilinear in $x_t, u_t$. \n"
   ]
  },
  {
   "cell_type": "code",
   "execution_count": null,
   "metadata": {
    "collapsed": false,
    "scrolled": false
   },
   "outputs": [],
   "source": [
    "import numpy as np\n",
    "import scipy as sp\n",
    "\n",
    "\n",
    "p,n,m,T = 20,5,3,100000\n",
    "pars = {}\n",
    "\n",
    "# classic LDS pars\n",
    "pars['C'] = np.random.normal(size=(p,n))/np.sqrt(n)\n",
    "pars['R'] = np.ones(p)\n",
    "\n",
    "# auto-regression on observed variables\n",
    "pars['tau'] = 0#np.sqrt(-np.log( 0.99 ))\n",
    "\n",
    "# fixed non-linear mapping from observed to latents\n",
    "pars['Z'] = np.random.normal(size=(n,p))\n",
    "pars['sig2'] =  np.ones(n) * p \n",
    "\n",
    "# bilinear dependence on inputs & latents\n",
    "pars['W'] = np.random.normal(size=(p*m,n))\n",
    "pars['B'] = lambda x: np.reshape((pars['W'].dot(x)), (m,p)).T\n",
    "\n",
    "# input\n",
    "u_const = np.random.normal(size=m)\n",
    "u = np.zeros((T,m))\n",
    "for t in range(T):\n",
    "    u[t] = u_const.copy()\n",
    "\n",
    "# technical convenience parameters\n",
    "pars['e'] = 10e-10\n",
    "pars['sqR'] = np.sqrt(pars['R'])\n",
    "pars['alpha'] = 1 - np.exp(-pars['tau']**2)\n",
    "pars['Ceff'] = pars['C'] + np.kron(u_const.T, np.eye(p)).dot(pars['W']) \n",
    "print('alpha = ', pars['alpha'])\n",
    "\n",
    "\n",
    "def condition_on(y):\n",
    "    phi = np.exp( - np.sum((y-pars['Z'])**2,1) / (2*pars['sig2']) )\n",
    "    return phi / (pars['e'] + phi.sum())\n",
    "\n",
    "def predict(y, u, x,pars, eps):\n",
    "    return pars['alpha']*y + pars['C'].dot(x) + pars['B'](x).dot(u) + pars['sqR'] * eps\n",
    "\n",
    "\n",
    "#u = np.random.normal(size=(T,m))\n",
    "y,x = np.zeros((T,p)), np.zeros((T,n))\n",
    "y2 =  np.zeros((T,p))\n",
    "#y[0] =  np.array([0,1])\n",
    "for t in range(1,T):\n",
    "    x[t-1] = condition_on(y[t-1])\n",
    "    eps = np.random.normal(size=p)\n",
    "    y[ t ] = predict(y[t-1], u[t-1], x[t-1], pars, eps)\n",
    "x[T-1] = condition_on(y[T-1])\n",
    "\n",
    "%matplotlib inline\n",
    "import matplotlib.pyplot as plt\n",
    "\n",
    "plt.figure(figsize=(20,10))\n",
    "plt.subplot(3,1,1)\n",
    "plt.plot(y)\n",
    "plt.xlabel('t')\n",
    "plt.ylabel('y')\n",
    "plt.subplot(3,1,2)\n",
    "plt.plot(x)\n",
    "plt.xlabel('t')\n",
    "plt.ylabel('x')\n",
    "plt.subplot(3,1,3)\n",
    "plt.show()\n",
    "    "
   ]
  },
  {
   "cell_type": "code",
   "execution_count": null,
   "metadata": {
    "collapsed": false
   },
   "outputs": [],
   "source": [
    "Pi = np.cov(x.T)\n",
    "L0 = np.cov(y.T)\n",
    "L0[np.diag_indices(p)] *= 0\n",
    "Lr = (pars['Ceff']).dot(Pi).dot((pars['Ceff']).T) + np.diag(pars['R'])\n",
    "Lr[np.diag_indices(p)] *= 0\n",
    "\n",
    "plt.figure(figsize=(15,8))\n",
    "plt.subplot(1,2,1)\n",
    "plt.imshow(L0, interpolation='None')\n",
    "plt.subplot(1,2,2)\n",
    "plt.imshow(Lr, interpolation='None')\n",
    "plt.show()\n"
   ]
  },
  {
   "cell_type": "code",
   "execution_count": null,
   "metadata": {
    "collapsed": false
   },
   "outputs": [],
   "source": [
    "plt.plot(y[101:111,0],pars['Ceff'][0,:].dot(x[100:110,:].T).T)\n",
    "plt.show()"
   ]
  },
  {
   "cell_type": "code",
   "execution_count": null,
   "metadata": {
    "collapsed": false
   },
   "outputs": [],
   "source": [
    "import time\n",
    "for t in range(T):\n",
    "    print('t =', t)\n",
    "    plt.subplot(1,2,1)\n",
    "    plt.plot(y[t][0],y[t][1], color='k', marker='o')\n",
    "    plt.hold(True)\n",
    "    plt.plot(pars['Z'][0,0], pars['Z'][0,1], marker='o')\n",
    "    plt.plot(pars['Z'][1,0], pars['Z'][1,1], marker='o')\n",
    "    plt.plot(pars['Z'][2,0], pars['Z'][2,1], marker='o')\n",
    "    plt.subplot(1,2,2)\n",
    "    plt.bar(0, x[t][0], color='b')\n",
    "    plt.hold(True)\n",
    "    plt.bar(1, x[t][1], color='g')\n",
    "    plt.bar(2, x[t][2], color='r')\n",
    "    plt.show()\n"
   ]
  },
  {
   "cell_type": "code",
   "execution_count": null,
   "metadata": {
    "collapsed": false
   },
   "outputs": [],
   "source": [
    "plt.bar?"
   ]
  },
  {
   "cell_type": "code",
   "execution_count": null,
   "metadata": {
    "collapsed": false
   },
   "outputs": [],
   "source": [
    "plt.plot(y[37], color='k')\n",
    "plt.hold(True)\n",
    "plt.plot(pars['Z'].T)\n",
    "plt.show"
   ]
  },
  {
   "cell_type": "code",
   "execution_count": null,
   "metadata": {
    "collapsed": false
   },
   "outputs": [],
   "source": [
    "np.exp( - np.sum((y[0]-pars['Z'])**2,1) / (2*pars['sig2']) )"
   ]
  }
 ],
 "metadata": {
  "kernelspec": {
   "display_name": "Python 3",
   "language": "python",
   "name": "python3"
  },
  "language_info": {
   "codemirror_mode": {
    "name": "ipython",
    "version": 3
   },
   "file_extension": ".py",
   "mimetype": "text/x-python",
   "name": "python",
   "nbconvert_exporter": "python",
   "pygments_lexer": "ipython3",
   "version": "3.5.1"
  }
 },
 "nbformat": 4,
 "nbformat_minor": 0
}
