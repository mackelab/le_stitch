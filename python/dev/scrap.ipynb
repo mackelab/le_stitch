{
 "cells": [
  {
   "cell_type": "code",
   "execution_count": 1,
   "metadata": {
    "collapsed": false,
    "scrolled": false
   },
   "outputs": [],
   "source": [
    "% matplotlib inline\n",
    "import matplotlib.pyplot as plt\n",
    "import numpy as np\n",
    "import scipy as sp\n",
    "import glob, os, psutil, time\n",
    "\n",
    "from ssidid.SSID_Hankel_loss import run_bad, plot_slim, print_slim, f_l2_Hankel_nl\n",
    "from ssidid.utility import get_subpop_stats, gen_data\n",
    "from ssidid import ObservationScheme\n",
    "from subtracking import Grouse, calc_subspace_proj_error\n",
    "\n",
    "data_path = '/home/mackelab/Desktop/Projects/Stitching/code/le_stitch/python/fits/compare_vs_grouse/'\n",
    "\n",
    "\n",
    "num_runs = 1\n",
    "res = np.zeros((num_runs, 3))\n",
    "rgt = np.zeros((num_runs, 2))\n",
    "for run in range(num_runs):\n",
    "    \n",
    "    print('run ' + str(run+1) + '/' + str(num_runs))\n",
    "\n",
    "    file_name = 'p' + str(p) + 'n' + str(n) + 'T' + str(T) + 'snr' + str(np.int(np.mean(snr)//1)) + '_run' + str(run) + '_partial_dat'\n",
    "    load_file = np.load(data_path + file_name + '.npz')\n",
    "\n",
    "    p,n,T,snr = load_file['p'], load_file['n'], load_file['T'], load_file['snr']    \n",
    "    obs_scheme, lag_range_full, res[run,:], rgt[run,:] = load_file['obs_scheme'], load_file['lag_range'], load_file['res'], load_file['rgt']\n",
    "\n",
    "    traces_m, traces_s, traces_g = load_file['traces_m'], load_file['traces_s'], load_file['traces_g']\n",
    "    t_s, t_m, t_g = load_file['t_s'], load_file['t_m'], load_file['t_g']\n",
    "\n",
    "    pars_true, pars_est_g = load_file['pars_true'], load_file['pars_g']\n",
    "    pars_est_m, pars_est_s = load_file['pars_m'], load_file['pars_s']\n",
    "   \n",
    "    x,y = load_file['x'], load_file['y']  \n",
    "    \n",
    "    plt.figure(figsize=(20,10))\n",
    "    plt.subplot(1,3,1)\n",
    "    plt.loglog(traces_m[0])\n",
    "    plt.xlabel('norm. SE')\n",
    "    plt.title('final error multiple time-lags: ' + str(calc_subspace_proj_error(pars_true['C'], pars_est_m['C'])))    \n",
    "    plt.subplot(1,3,2)\n",
    "    plt.loglog(traces_s[0])\n",
    "    plt.xlabel('norm. SE')\n",
    "    plt.title('final error single time-lag: ' + str(calc_subspace_proj_error(pars_true['C'], pars_est_s['C'])))\n",
    "    plt.subplot(1,3,3)\n",
    "    plt.loglog(range(1,max_iter_grouse+1), error)\n",
    "    plt.title('final error GROUSE: ' + str(error[-1]))\n",
    "    plt.show()\n",
    "    \n",
    "    plt.figure(figsize=(20,10))\n",
    "    plt.plot(proj_errors[:,0])\n",
    "    plt.hold(True)\n",
    "    plt.plot(proj_errors[:,1])\n",
    "    plt.show()\n",
    "\n",
    "    "
   ]
  },
  {
   "cell_type": "code",
   "execution_count": null,
   "metadata": {
    "collapsed": true
   },
   "outputs": [],
   "source": []
  }
 ],
 "metadata": {
  "kernelspec": {
   "display_name": "Python 3",
   "language": "python",
   "name": "python3"
  },
  "language_info": {
   "codemirror_mode": {
    "name": "ipython",
    "version": 3
   },
   "file_extension": ".py",
   "mimetype": "text/x-python",
   "name": "python",
   "nbconvert_exporter": "python",
   "pygments_lexer": "ipython3",
   "version": "3.5.1"
  }
 },
 "nbformat": 4,
 "nbformat_minor": 0
}
