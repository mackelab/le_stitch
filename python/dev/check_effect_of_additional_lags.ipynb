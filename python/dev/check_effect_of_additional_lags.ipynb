{
 "cells": [
  {
   "cell_type": "markdown",
   "metadata": {
    "collapsed": true
   },
   "source": [
    "# checking information within additional time lags for reconstruction of $C$\n",
    "- fitting small systems ($p=5, n=2$) to short noisy data ($T=50, SNR=0.5$) with several ($\\tau=0,\\ldots,4$) or a single time-lag ($\\tau =0$)"
   ]
  },
  {
   "cell_type": "code",
   "execution_count": 1,
   "metadata": {
    "collapsed": false,
    "scrolled": false
   },
   "outputs": [
    {
     "name": "stdout",
     "output_type": "stream",
     "text": [
      "(p,n,k+l,T) =  (5, 2, 5, 50) \n",
      "\n",
      "computing empirical covariances\n",
      "computing time-lagged covariance for lag  0\n",
      "computing time-lagged covariance for lag  1\n",
      "computing time-lagged covariance for lag  2\n",
      "computing time-lagged covariance for lag  3\n",
      "computing time-lagged covariance for lag  4\n",
      "\n",
      "\n",
      "svmem(total=12277600256, available=9273073664, percent=24.5, used=6638002176, free=5639598080, active=3293990912, inactive=2797096960, buffers=235278336, cached=3398197248, shared=412778496)\n",
      "sswap(total=0, used=0, free=0, percent=0, sin=0, sout=0)\n"
     ]
    }
   ],
   "source": [
    "import matplotlib.pyplot as plt\n",
    "import numpy as np\n",
    "import scipy as sp\n",
    "import glob, os, psutil, time\n",
    "\n",
    "os.chdir('../core')\n",
    "import ssm_scripts, ssm_fit\n",
    "from utility import get_subpop_stats, gen_data\n",
    "from SSID_Hankel_loss import run_bad, plot_slim, print_slim\n",
    "os.chdir('../dev')\n",
    "\n",
    "#np.random.seed(0)\n",
    "\n",
    "# define problem size\n",
    "p, n, T = 5, 2, 50\n",
    "lag_range = np.arange(0, 5)\n",
    "kl_ = np.max(lag_range)+1\n",
    "\n",
    "# I/O matter\n",
    "mmap, chunksize = True, np.min((p,2000))\n",
    "data_path, save_file = '../fits/', 'test'\n",
    "verbose=True\n",
    "\n",
    "data_path = '../fits/test_SSID_gain_from_lags/p5n2T50snr05/run1/'\n",
    "try:\n",
    "    os.mkdir(data_path)\n",
    "except:\n",
    "    pass\n",
    "\n",
    "# draw system matrices \n",
    "print('(p,n,k+l,T) = ', (p,n,len(lag_range),T), '\\n')\n",
    "nr = n//2 if n > 2 else 0 # number of real eigenvalues\n",
    "snr = (0.5, 0.5)\n",
    "eig_m_r, eig_M_r, eig_m_c, eig_M_c = 0.8, 0.95, 0.8, 0.95\n",
    "pars_true, x, y, Qs, idx_a, idx_b = gen_data(p,n,lag_range,T, nr,\n",
    "                                             eig_m_r, eig_M_r, \n",
    "                                             eig_m_c, eig_M_c,\n",
    "                                             mmap, chunksize,\n",
    "                                             data_path,snr=snr)    \n",
    "\n",
    "print('\\n')\n",
    "print(psutil.virtual_memory())\n",
    "print(psutil.swap_memory())\n"
   ]
  },
  {
   "cell_type": "code",
   "execution_count": 4,
   "metadata": {
    "collapsed": false
   },
   "outputs": [],
   "source": [
    "try:\n",
    "    os.mkdir(data_path)\n",
    "except:\n",
    "    pass"
   ]
  },
  {
   "cell_type": "markdown",
   "metadata": {},
   "source": [
    "# peek at data & observation scheme"
   ]
  },
  {
   "cell_type": "code",
   "execution_count": null,
   "metadata": {
    "collapsed": false
   },
   "outputs": [],
   "source": [
    "%matplotlib inline\n",
    "\n",
    "# create subpopulations\n",
    "sub_pops = (np.arange(0,p),) \n",
    "\n",
    "#assert(p==105)\n",
    "#sub_pops = (np.arange(0,25), np.arange(20,45),np.arange(40,65),np.arange(60,85),np.arange(80,105))\n",
    "\n",
    "obs_sweeps = 50\n",
    "\n",
    "#assert(p==105)\n",
    "#sub_pops = (np.arange(0,65),np.arange(40,p)) \n",
    "\n",
    "obs_pops = np.hstack([np.arange(len(sub_pops)) for i in range(obs_sweeps)])\n",
    "obs_time = np.array([i*T//len(obs_pops) for i in range(1,len(obs_pops)+1)])\n",
    "\n",
    "\n",
    "obs_idx, idx_grp, co_obs, _, _, _, Om, _, _ = \\\n",
    "    get_subpop_stats(sub_pops=sub_pops, p=p, verbose=False)\n",
    "\n",
    "\n",
    "y_masked = np.memmap(data_path+'y', dtype=np.float, mode='c', shape=(T,p))\n",
    "y_masked[:obs_time[0], np.setdiff1d(np.arange(p), sub_pops[obs_pops[0]])] = np.nan\n",
    "for i in range(1,len(obs_time)):\n",
    "    y_masked[np.ix_(np.arange(obs_time[i-1],obs_time[i]), np.setdiff1d(np.arange(p), sub_pops[obs_pops[i]]))] = np.nan\n",
    "plt.figure(figsize=(20,10))\n",
    "plt.imshow(y_masked.T, interpolation='None')\n",
    "plt.show()\n",
    "\n",
    "y_masked = np.memmap(data_path+'y', dtype=np.float, mode='c', shape=(T,p))\n",
    "y_masked[:obs_time[0], np.setdiff1d(np.arange(p), sub_pops[obs_pops[0]])] = 0\n",
    "for i in range(1,len(obs_time)):\n",
    "    y_masked[np.ix_(np.arange(obs_time[i-1],obs_time[i]), np.setdiff1d(np.arange(p), sub_pops[obs_pops[i]]))] = 0\n",
    "\n",
    "del y\n",
    "y = np.memmap(data_path+'y', dtype=np.float, mode='r', shape=(T,p))\n"
   ]
  },
  {
   "cell_type": "markdown",
   "metadata": {},
   "source": [
    "# peek at latent covariances"
   ]
  },
  {
   "cell_type": "code",
   "execution_count": null,
   "metadata": {
    "collapsed": false
   },
   "outputs": [],
   "source": [
    "\n",
    "plt.figure(figsize=(10,len(sub_pops)*5))\n",
    "\n",
    "idx = np.array([],dtype=np.int)\n",
    "for j in np.where(obs_pops==0)[0]:\n",
    "    idxj = np.arange(obs_time[j-1],obs_time[j],dtype=np.int) if j > 0 else np.arange(obs_time[j],dtype=np.int)\n",
    "    idx = np.hstack((idx, idxj)) \n",
    "cov_1 = np.cov(x[idx,:].T)\n",
    "\n",
    "for i in range(len(sub_pops)):\n",
    "    plt.subplot(len(sub_pops),2,2*i+1)\n",
    "    idx = np.array([],dtype=np.int)\n",
    "    for j in np.where(obs_pops==i)[0]:\n",
    "        idxj = np.arange(obs_time[j-1],obs_time[j],dtype=np.int) if j > 0 else np.arange(obs_time[j],dtype=np.int)\n",
    "        idx = np.hstack((idx, idxj)) \n",
    "    cov_i = np.cov(x[idx,:].T)\n",
    "    plt.imshow(cov_i, interpolation='None')\n",
    "    plt.subplot(len(sub_pops),2,2*i+2)\n",
    "    plt.plot(cov_1.reshape(-1), cov_i.reshape(-1), '.')\n",
    "    plt.title('corr = ' + str(np.corrcoef(cov_1.reshape(-1), cov_i.reshape(-1))[0,1]))\n",
    "plt.show()"
   ]
  },
  {
   "cell_type": "markdown",
   "metadata": {},
   "source": [
    "# fit with several lags"
   ]
  },
  {
   "cell_type": "code",
   "execution_count": null,
   "metadata": {
    "collapsed": false
   },
   "outputs": [],
   "source": [
    "\n",
    "cheat = False\n",
    "if cheat:\n",
    "    pars_est = pars_true.copy()  \n",
    "    pars_est['X'] = np.zeros((len(lag_range)*n, n))\n",
    "    for i in range(len(lag_range)):\n",
    "        pars_est['X'][i*n:(i+1)*n,:] = np.linalg.matrix_power(pars_est['A'],lag_range[i]).dot(pars_est['Pi'])\n",
    "        \n",
    "else: \n",
    "    pars_est = 'default'"
   ]
  },
  {
   "cell_type": "code",
   "execution_count": null,
   "metadata": {
    "collapsed": false,
    "scrolled": false
   },
   "outputs": [],
   "source": [
    "%matplotlib inline\n",
    "\n",
    "# settings for fitting algorithm\n",
    "batch_size, max_zip_size, max_iter = None, np.inf, 20000\n",
    "a, b1, b2, e = 0.001, 0.9, 0.99, 1e-8\n",
    "a_R = 1. * a\n",
    "\n",
    "t = time.time()\n",
    "_, pars_est, traces = run_bad(lag_range=lag_range,n=n,y=y_masked, Qs=Qs,Om=Om,idx_a=idx_a, idx_b=idx_b,\n",
    "                                      sub_pops=sub_pops,idx_grp=idx_grp,co_obs=co_obs,obs_idx=obs_idx,\n",
    "                                      obs_pops=obs_pops,obs_time=obs_time,init=pars_est,\n",
    "                                      alpha_C=a,alpha_R=a_R,b1_C=b1,b2_C=b2,e_C=e,max_iter=max_iter,batch_size=batch_size,\n",
    "                                      max_zip_size=max_zip_size)\n",
    "\n",
    "print('fitting time was ', time.time() - t, 's')\n",
    "print('\\n')\n",
    "print(psutil.virtual_memory())\n",
    "print(psutil.swap_memory())\n",
    "\n",
    "print_slim(Qs,lag_range,pars_est,idx_a,idx_b,traces,mmap,data_path)\n"
   ]
  },
  {
   "cell_type": "code",
   "execution_count": null,
   "metadata": {
    "collapsed": false
   },
   "outputs": [],
   "source": [
    "plot_slim(Qs,lag_range,pars_est,idx_a,idx_b,traces,mmap,data_path)"
   ]
  },
  {
   "cell_type": "code",
   "execution_count": null,
   "metadata": {
    "collapsed": false,
    "scrolled": true
   },
   "outputs": [],
   "source": [
    "_, _, _ = run_bad(lag_range=lag_range,n=n,y=y_masked, Qs=Qs,Om=Om,idx_a=idx_a, idx_b=idx_b,\n",
    "                                      sub_pops=sub_pops,idx_grp=idx_grp,co_obs=co_obs,obs_idx=obs_idx,\n",
    "                                      obs_pops=obs_pops,obs_time=obs_time,init=pars_est,\n",
    "                                      alpha_C=0,alpha_R=0,b1_C=b1,b2_C=b2,e_C=e,max_iter=1,batch_size=1,\n",
    "                                      max_zip_size=1)\n",
    "\n",
    "pars=pars_est\n",
    "tmp =  pars['C'][idx_a,:].dot(pars['X'][:n,:]).dot(pars['C'][idx_b,:].T) + np.diag(pars['R'])[np.ix_(idx_a,idx_b)]\n",
    "np.sum((tmp - Qs[0])**2)\n"
   ]
  },
  {
   "cell_type": "code",
   "execution_count": null,
   "metadata": {
    "collapsed": true
   },
   "outputs": [],
   "source": [
    "np.save(data_path + 'pars_est_' + str(len(lag_range)) + 'lags', pars_est)"
   ]
  },
  {
   "cell_type": "markdown",
   "metadata": {},
   "source": [
    "# fit with single lag"
   ]
  },
  {
   "cell_type": "code",
   "execution_count": null,
   "metadata": {
    "collapsed": true
   },
   "outputs": [],
   "source": [
    "lag_range =  np.array([0])\n",
    "cheat = False\n",
    "if cheat:\n",
    "    pars_est = pars_true.copy()  \n",
    "    pars_est['X'] = np.zeros((len(lag_range)*n, n))\n",
    "    for i in range(len(lag_range)):\n",
    "        pars_est['X'][i*n:(i+1)*n,:] = np.linalg.matrix_power(pars_est['A'],lag_range[i]).dot(pars_est['Pi'])\n",
    "        \n",
    "else: \n",
    "    pars_est = 'default'"
   ]
  },
  {
   "cell_type": "code",
   "execution_count": null,
   "metadata": {
    "collapsed": false
   },
   "outputs": [],
   "source": [
    "%matplotlib inline\n",
    "\n",
    "# settings for fitting algorithm\n",
    "batch_size, max_zip_size, max_iter = None, np.inf, 20000\n",
    "a, b1, b2, e = 0.001, 0.9, 0.99, 1e-8\n",
    "a_R = 1. * a\n",
    "\n",
    "t = time.time()\n",
    "_, pars_est, traces = run_bad(lag_range=lag_range,n=n,y=y_masked, Qs=Qs,Om=Om,idx_a=idx_a, idx_b=idx_b,\n",
    "                                      sub_pops=sub_pops,idx_grp=idx_grp,co_obs=co_obs,obs_idx=obs_idx,\n",
    "                                      obs_pops=obs_pops,obs_time=obs_time,init=pars_est,\n",
    "                                      alpha_C=a,alpha_R=a_R,b1_C=b1,b2_C=b2,e_C=e,max_iter=max_iter,batch_size=batch_size,\n",
    "                                      max_zip_size=max_zip_size)\n",
    "\n",
    "print('fitting time was ', time.time() - t, 's')\n",
    "print('\\n')\n",
    "print(psutil.virtual_memory())\n",
    "print(psutil.swap_memory())\n",
    "\n",
    "print_slim(Qs,lag_range,pars_est,idx_a,idx_b,traces,mmap,data_path)\n"
   ]
  },
  {
   "cell_type": "code",
   "execution_count": null,
   "metadata": {
    "collapsed": false
   },
   "outputs": [],
   "source": [
    "plot_slim(Qs,lag_range,pars_est,idx_a,idx_b,traces,mmap,data_path)"
   ]
  },
  {
   "cell_type": "code",
   "execution_count": null,
   "metadata": {
    "collapsed": true
   },
   "outputs": [],
   "source": [
    "np.save(data_path + 'pars_est_' + str(len(lag_range)) + 'lags', pars_est)"
   ]
  },
  {
   "cell_type": "markdown",
   "metadata": {},
   "source": [
    "# compare to PCA"
   ]
  },
  {
   "cell_type": "code",
   "execution_count": null,
   "metadata": {
    "collapsed": false
   },
   "outputs": [],
   "source": [
    "from sklearn.decomposition import PCA\n",
    "\n",
    "pca = PCA()\n",
    "pca.fit(y_masked)\n",
    "explained_variance_ratio_ = np.hstack((pca.explained_variance_ratio_, np.zeros(np.max((p-T,0)))))\n",
    "plt.plot(range(1,p+1), np.cumsum(explained_variance_ratio_)/np.sum(explained_variance_ratio_))\n",
    "plt.hold(True)\n",
    "plt.plot(np.linspace(0,p+1,np.min((20,p))), \n",
    "         np.cumsum(pca.explained_variance_ratio_[:np.min((20,p))])/np.sum(pca.explained_variance_ratio_), \n",
    "         'r--')\n",
    "plt.legend(('cum. var. expl.', 'first 20, x-axis rescaled'))\n",
    "\n",
    "pars_pca = {}\n",
    "pars_pca['C'] = pca.components_[:n].T\n",
    "pars_pca['Pi'] = np.diag(pca.explained_variance_[:n])    \n",
    "pars_pca['X'] = np.vstack([pars_pca['Pi'] for m in range(len(lag_range))])\n",
    "pars_pca['R'] = np.zeros(p)\n",
    "plot_slim(Qs,lag_range,pars_pca,idx_a,idx_b,(0,0),mmap,data_path)"
   ]
  },
  {
   "cell_type": "code",
   "execution_count": null,
   "metadata": {
    "collapsed": false
   },
   "outputs": [],
   "source": [
    "plt.imshow(pars_pca['C'].dot(pars_pca['X'][:n,:]).dot(pars_pca['C'].T), interpolation='None')\n",
    "plt.show()"
   ]
  },
  {
   "cell_type": "markdown",
   "metadata": {},
   "source": [
    "# compare to FA"
   ]
  },
  {
   "cell_type": "code",
   "execution_count": null,
   "metadata": {
    "collapsed": false,
    "scrolled": false
   },
   "outputs": [],
   "source": [
    "%matplotlib inline\n",
    "from sklearn.decomposition import FactorAnalysis\n",
    "\n",
    "fa = FactorAnalysis()\n",
    "fa.noise_variance_init=pars_true['R']\n",
    "fa.fit(y_masked)\n",
    "pars_fa = {}\n",
    "pars_fa['C'] = fa.components_[:n].T\n",
    "pars_fa['Pi'] = np.eye(n)\n",
    "pars_fa['X'] = np.vstack([pars_fa['Pi'] for m in range(len(lag_range))])\n",
    "pars_fa['R'] = fa.noise_variance_\n",
    "plot_slim(Qs,lag_range,pars_fa,idx_a,idx_b,(0,0),mmap,data_path)\n"
   ]
  },
  {
   "cell_type": "code",
   "execution_count": null,
   "metadata": {
    "collapsed": false
   },
   "outputs": [],
   "source": [
    "savedict = {'x' : x, \n",
    "            'y' : y,\n",
    "            'snr' : snr, \n",
    "            'pars_true' : pars_true,\n",
    "            'pars_pca' : pars_pca,\n",
    "            'pars_fa' : pars_fa\n",
    "           }\n",
    "\n",
    "np.savez(data_path + 'data', savedict)\n"
   ]
  },
  {
   "cell_type": "markdown",
   "metadata": {},
   "source": [
    "# compare to ground-truth parameters"
   ]
  },
  {
   "cell_type": "code",
   "execution_count": null,
   "metadata": {
    "collapsed": false
   },
   "outputs": [],
   "source": [
    "pars_true['X'] = np.zeros((len(lag_range)*n, n))\n",
    "kl_ = np.max(lag_range)+1\n",
    "for i in range(len(lag_range)):\n",
    "    m_ = lag_range[i]\n",
    "    pars_true['X'][i*n:(i+1)*n,:] = np.cov(x[m_:m_-(kl_),:].T, x[:-(kl_),:].T)[:n,n:]     \n",
    "\n",
    "plot_slim(Qs,lag_range,pars_true,idx_a,idx_b,(0,0),mmap,data_path)\n"
   ]
  },
  {
   "cell_type": "code",
   "execution_count": null,
   "metadata": {
    "collapsed": false
   },
   "outputs": [],
   "source": [
    "_, _, traces = run_bad(lag_range=lag_range,n=n,y=y_masked, Qs=Qs,Om=Om,idx_a=idx_a, idx_b=idx_b,\n",
    "                       sub_pops=sub_pops,idx_grp=idx_grp,co_obs=co_obs,obs_idx=obs_idx,\n",
    "                       obs_pops=obs_pops,obs_time=obs_time,init=pars_true,\n",
    "                       alpha_C=0,max_iter=1,batch_size=1,\n",
    "                       max_zip_size=1)\n",
    "\n",
    "print_slim(Qs,lag_range,pars_true,idx_a,idx_b,traces,mmap,data_path)\n",
    "\n",
    "#plot_slim(Qs,lag_range,pars_est,idx_a,idx_b,traces,mmap,data_path)\n",
    "\n",
    "pars=pars_true\n",
    "tmp =  pars['C'][idx_a,:].dot(pars['X'][:n,:]).dot(pars['C'][idx_b,:].T) + np.diag(pars['R'])[np.ix_(idx_a,idx_b)]\n",
    "np.sum((tmp - Qs[0])**2)"
   ]
  },
  {
   "cell_type": "markdown",
   "metadata": {},
   "source": [
    "# load and compare fits"
   ]
  },
  {
   "cell_type": "code",
   "execution_count": null,
   "metadata": {
    "collapsed": true
   },
   "outputs": [],
   "source": [
    "data_path = '../fits/test_SSID_gain_from_lags/p5n2T50snr05/run5/'  "
   ]
  },
  {
   "cell_type": "code",
   "execution_count": null,
   "metadata": {
    "collapsed": false
   },
   "outputs": [],
   "source": [
    "import numpy as np\n",
    "import matplotlib.pyplot as plt\n",
    "import scipy as sp\n",
    "import glob, os, psutil, time\n",
    "\n",
    "os.chdir('../core')\n",
    "import ssm_scripts, ssm_fit\n",
    "from utility import get_subpop_stats, gen_data\n",
    "from SSID_Hankel_loss import run_bad, plot_slim, print_slim\n",
    "os.chdir('../dev')\n",
    "\n",
    "run = 0\n",
    "data_path = '../fits/test_SSID_gain_from_lags/p5n2T50snr05/run' + str(run) + '/'  \n",
    "\n",
    "tmp = np.load(data_path + 'data.npz')['arr_0'].tolist()\n",
    "x,y,snr,pars_true,pars_pca = tmp['x'],tmp['y'],tmp['snr'],tmp['pars_true'],tmp['pars_pca']\n",
    "\n",
    "p,n = pars_true['C'].shape\n",
    "T = x.shape[0]\n",
    "pars_est1 = np.load(data_path + 'pars_est_1lags.npy').tolist()\n",
    "pars_est5 = np.load(data_path + 'pars_est_5lags.npy').tolist()\n",
    "\n",
    "lag_range = np.arange(5)\n",
    "idx_a, idx_b = np.arange(p), np.arange(p)\n",
    "pa, pb = p, p\n",
    "mmap = True\n",
    "kl = len(lag_range)\n",
    "Qs = []\n",
    "for m_ in range(kl):\n",
    "    Qs.append(np.memmap(data_path+'Qs_'+str(m_), dtype=np.float, \n",
    "                      mode='r', shape=(pa,pb)))\n",
    "\n",
    "\n"
   ]
  },
  {
   "cell_type": "code",
   "execution_count": null,
   "metadata": {
    "collapsed": false
   },
   "outputs": [],
   "source": [
    "import numpy as np\n",
    "import matplotlib.pyplot as plt\n",
    "import scipy as sp\n",
    "import glob, os, psutil, time\n",
    "from scipy.io import savemat\n",
    "\n",
    "os.chdir('../core')\n",
    "import ssm_scripts, ssm_fit\n",
    "from utility import get_subpop_stats, gen_data\n",
    "from SSID_Hankel_loss import run_bad, plot_slim, print_slim\n",
    "os.chdir('../dev')\n",
    "\n",
    "for run in range(10):\n",
    "\n",
    "    data_path = '../fits/test_SSID_gain_from_lags/p5n2T50snr05/run' + str(run) + '/'  \n",
    "\n",
    "    tmp = np.load(data_path + 'data.npz')['arr_0'].tolist()\n",
    "    x,y,snr,pars_true,pars_pca = tmp['x'],tmp['y'],tmp['snr'],tmp['pars_true'],tmp['pars_pca']\n",
    "\n",
    "    p,n = pars_true['C'].shape\n",
    "    T = x.shape[0]\n",
    "    pars_est1 = np.load(data_path + 'pars_est_1lags.npy').tolist()\n",
    "    pars_est5 = np.load(data_path + 'pars_est_5lags.npy').tolist()\n",
    "\n",
    "    W = np.linalg.pinv(pars_est1['C']).dot( pars_true['C'] )\n",
    "    print('1 lag :', np.mean( (pars_est1['C'].dot(W) - pars_true['C'])**2 ) )\n",
    "\n",
    "    W = np.linalg.pinv(pars_est5['C']).dot( pars_true['C'] )\n",
    "    print('5 lags:', np.mean( (pars_est5['C'].dot(W) - pars_true['C'])**2 ) )\n",
    "    \n",
    "    savemat(data_path + '_m', {'pars_true' : pars_true,\n",
    "                               'pars_est1' : pars_est1, \n",
    "                               'pars_est5' : pars_est5, \n",
    "                               'pars_pca' : pars_pca, \n",
    "                               'pars_fa' : pars_fa\n",
    "                              })\n",
    "\n"
   ]
  },
  {
   "cell_type": "code",
   "execution_count": null,
   "metadata": {
    "collapsed": false
   },
   "outputs": [],
   "source": [
    "from scipy.io import savemat\n",
    "savemat?"
   ]
  },
  {
   "cell_type": "code",
   "execution_count": null,
   "metadata": {
    "collapsed": false
   },
   "outputs": [],
   "source": [
    "%matplotlib inline\n",
    "\n",
    "print(pars_true['C'])\n",
    "plt.imshow(pars_true['C'], interpolation='None')\n",
    "plt.show()\n",
    "\n",
    "W = np.linalg.pinv(pars_est1['C']).dot( pars_true['C'] )\n",
    "print(pars_est1['C'].dot(W))\n",
    "plt.imshow(pars_est1['C'].dot(W), interpolation='None')\n",
    "plt.show()\n",
    "\n",
    "\n",
    "W = np.linalg.pinv(pars_est5['C']).dot( pars_true['C'] )\n",
    "print(pars_est5['C'].dot(W))\n",
    "plt.imshow(pars_est5['C'].dot(W), interpolation='None')\n",
    "plt.show()\n"
   ]
  },
  {
   "cell_type": "markdown",
   "metadata": {},
   "source": [
    "# check details"
   ]
  },
  {
   "cell_type": "code",
   "execution_count": null,
   "metadata": {
    "collapsed": false
   },
   "outputs": [],
   "source": [
    "#idxc_a = np.arange(p)\n",
    "#idxc_b = np.arange(p)\n",
    "\n",
    "#idxc_a = sub_pops[1].copy()\n",
    "#idxc_b = sub_pops[1].copy()\n",
    "\n",
    "# non-co-observed\n",
    "i = 0\n",
    "idxc_a = sub_pops[i]\n",
    "idxc_b = np.setdiff1d(np.arange(p), sub_pops[i])\n",
    "\n",
    "# only in first subpop\n",
    "#idxc_a = np.setdiff1d(np.arange(p), sub_pops[1])\n",
    "#idxc_b = np.setdiff1d(np.arange(p), sub_pops[1])\n",
    "\n",
    "# only in second subpop\n",
    "#idxc_a = np.setdiff1d(np.arange(p), sub_pops[0])\n",
    "#idxc_b = np.setdiff1d(np.arange(p), sub_pops[0])\n",
    "\n",
    "# get intersection\n",
    "#idxc_a = np.intersect1d(sub_pops[0], sub_pops[1])\n",
    "#idxc_b = idxc_a.copy()\n",
    "\n",
    "\n",
    "#idx_i = 1\n",
    "#if len(sub_pops) > 0:\n",
    "#    idxc_b = np.setdiff1d(np.arange(p), sub_pops[idx_i]) # those only in subpop #2 \n",
    "#else:\n",
    "#    idxc_b = idx_a.copy()\n",
    "#idxc_b = idx_a.copy()\n",
    "    \n",
    "pa, pb = len(idxc_a), len(idxc_b)\n",
    "\n",
    "\n",
    "Qsc = []\n",
    "m_range = range(len(lag_range))\n",
    "corrs_est = np.zeros((len(m_range), 2))\n",
    "MSE_est = np.zeros((len(m_range), 2))    \n",
    "for m in m_range:\n",
    "    m_ = lag_range[m]\n",
    "    print('computing time-lagged covariance for lag ', str(m_))\n",
    "    Qsc.append(None)\n",
    "    if mmap:\n",
    "        Q = np.memmap(data_path+'Qsc_'+str(m_), dtype=np.float, \n",
    "                      mode='w+', shape=(pa,pb))\n",
    "    else:\n",
    "        Q = np.empty((pa,pb))\n",
    "    Q[:] = np.cov(y[m_:m_-(kl_),idxc_a].T, y[:-(kl_),idxc_b].T)[:pa,pa:]     \n",
    "    if mmap:\n",
    "        del Q\n",
    "        Qsc[m] = np.memmap(data_path+'Qsc_'+str(m_), dtype=np.float, \n",
    "                          mode='r', shape=(pa,pb))\n",
    "    else:\n",
    "        Qsc[m] = Q\n",
    "    \n",
    "    pars = pars_est\n",
    "    Q = (pars['C'][idxc_a,:].dot(pars['X'][m*n:(m+1)*n,:]).dot(pars['C'][idxc_b,:].T))\n",
    "    if m_ == 0:\n",
    "        Q += np.diag(pars['R'])[np.ix_(idxc_a, idxc_b)]\n",
    "    corrs_est[m,0] = np.corrcoef(Qsc[m][:].reshape(-1), Q.reshape(-1))[0,1]\n",
    "    MSE_est[m,0] = np.sum( (Qsc[m] - Q)**2 ) #/ np.mean(Qsc[m]**2)\n",
    "\n",
    "    pars = pars_true\n",
    "    Q = (pars['C'][idxc_a,:].dot(pars['X'][m*n:(m+1)*n,:]).dot(pars['C'][idxc_b,:].T))\n",
    "    if m_ == 0:\n",
    "        Q += np.diag(pars['R'])[np.ix_(idxc_a, idxc_b)]\n",
    "    corrs_est[m,1] = np.corrcoef(Qsc[m][:].reshape(-1), Q.reshape(-1))[0,1]\n",
    "    MSE_est[m,1] = np.sum( (Qsc[m] - Q)**2 ) #/ np.mean(Qsc[m]**2)\n",
    "    \n",
    "\n",
    "print('SE est. ' + str(np.mean(MSE_est[:,0])))\n",
    "print('SE true ' + str(np.mean(MSE_est[:,1])))\n",
    "    \n",
    "plt.figure(figsize=(11,6))\n",
    "ax = plt.subplot(121)\n",
    "plt.bar(-.4+np.arange(len(m_range)), corrs_est[:,0], color='r')\n",
    "plt.hold(True)\n",
    "plt.bar(-.4+np.arange(len(m_range))+.1, corrs_est[:,1], color='b')\n",
    "plt.xticks(np.arange(len(m_range)), [str(x) for x in lag_range], fontsize=14)\n",
    "#plt.yticks(np.arange(0,1.01, 0.2), fontsize=14)\n",
    "plt.xlabel('time-lag')\n",
    "plt.ylabel('correlation')\n",
    "plt.box('off')\n",
    "ax.get_xaxis().tick_bottom()    \n",
    "ax.get_yaxis().tick_left()    \n",
    "\n",
    "ax = plt.subplot(122)\n",
    "plt.bar(-.4+np.arange(len(m_range))+.1, MSE_est[:,1], color='b')\n",
    "plt.hold(True)\n",
    "plt.bar(-.4+np.arange(len(m_range)), MSE_est[:,0], color='r')\n",
    "plt.xticks(np.arange(len(m_range)), [str(x) for x in lag_range], fontsize=14)\n",
    "#plt.yticks(np.arange(0,0.0013,0.0004), fontsize=14)\n",
    "plt.xlabel('time-lag')\n",
    "plt.ylabel('norm. MSE [%]')\n",
    "plt.box('off')\n",
    "plt.legend(('ground-truth','stitched'))\n",
    "ax.get_xaxis().tick_bottom()    \n",
    "ax.get_yaxis().tick_left()    \n",
    "plt.show()\n",
    "print('corrs_est', corrs_est)\n",
    "\n",
    "plt.figure()\n",
    "plt.plot(Q.reshape(-1), Qsc[m].reshape(-1), '.')\n",
    "plt.hold(True)\n",
    "plt.plot(Qsc[m].reshape(-1), Qsc[m].reshape(-1), 'k.')\n",
    "plt.show()"
   ]
  },
  {
   "cell_type": "code",
   "execution_count": null,
   "metadata": {
    "collapsed": false
   },
   "outputs": [],
   "source": [
    "out = 0\n",
    "pars = pars_est\n",
    "for i in range(len(idx_grp)):\n",
    "    Q = (pars['C'][idxc_a,:].dot(pars['X'][m*n:(m+1)*n,:]).dot(pars['C'][idxc_b,:].T))\n",
    "    if m_ == 0:\n",
    "        Q += np.diag(pars['R'])[np.ix_(idxc_a, idxc_b)]    \n",
    "    tmp = np.sum( (Qsc[m][np.ix_(idx_grp[i],co_obs[i])] - Q[np.ix_(idx_grp[i],co_obs[i])])**2 )\n",
    "    print(tmp)\n",
    "    print(idx_grp[i],co_obs[i])\n",
    "    out += tmp\n",
    "print(out)"
   ]
  },
  {
   "cell_type": "code",
   "execution_count": null,
   "metadata": {
    "collapsed": false
   },
   "outputs": [],
   "source": [
    "os.chdir('../core')\n",
    "import ssm_scripts, ssm_fit\n",
    "from SSID_Hankel_loss import f_l2_Hankel_nl, f_l2_inst, f_l2_block\n",
    "os.chdir('../dev')\n",
    "\n",
    "\n",
    "obs_idx, idx_grp, co_obs, _, _, _, Om, _, _ = \\\n",
    "    get_subpop_stats(sub_pops=(np.arange(p),), p=p, verbose=False)\n",
    "pars = pars_est\n",
    "print(f_l2_Hankel_nl(pars['C'],pars['X'],None,pars['R'],lag_range,Qs,idx_grp,co_obs,\n",
    "                   idx_a=idx_a,idx_b=idx_b,W=None))\n",
    "\n",
    "pars = pars_true\n",
    "print(f_l2_Hankel_nl(pars['C'],pars['X'],None,pars['R'],lag_range,Qs,idx_grp,co_obs,\n",
    "                   idx_a=idx_a,idx_b=idx_b,W=None))"
   ]
  },
  {
   "cell_type": "code",
   "execution_count": null,
   "metadata": {
    "collapsed": false
   },
   "outputs": [],
   "source": [
    "pars = pars_est\n",
    "C,Pi,R,Q,W = pars['C'],pars['X'][:n,:],pars['R'],Qsc[0],None\n",
    "err = 0.\n",
    "for i in range(len(idx_grp)):\n",
    "\n",
    "    a = np.intersect1d(idx_grp[i],idx_a)\n",
    "    b = np.intersect1d(co_obs[i], idx_b)\n",
    "    a_Q = np.in1d(idx_a, idx_grp[i])\n",
    "    b_Q = np.in1d(idx_b, co_obs[i])\n",
    "\n",
    "    v = (C[a,:].dot(Pi).dot(C[b,:].T) - Q[np.ix_(a_Q,b_Q)])\n",
    "    idx_R = np.where(np.in1d(b,a))[0]\n",
    "    v[np.arange(len(idx_R)), idx_R] += R[a]\n",
    "    v = v.reshape(-1,) if  W is None else W.reshape(-1,)*v.reshape(-1,)\n",
    "\n",
    "    err += v.dot(v)\n",
    "err"
   ]
  },
  {
   "cell_type": "code",
   "execution_count": null,
   "metadata": {
    "collapsed": false
   },
   "outputs": [],
   "source": [
    "pars = pars_true\n",
    "C,Pi,R,Q,W = pars['C'],pars['X'][:n,:],pars['R'],Qsc[0],None\n",
    "err = 0.\n",
    "for i in range(len(idx_grp)):\n",
    "\n",
    "    a = np.intersect1d(idx_grp[i],idx_a)\n",
    "    b = np.intersect1d(co_obs[i], idx_b)\n",
    "    a_Q = np.in1d(idx_a, idx_grp[i])\n",
    "    b_Q = np.in1d(idx_b, co_obs[i])\n",
    "\n",
    "    v = (C[a,:].dot(Pi).dot(C[b,:].T) - Q[np.ix_(a_Q,b_Q)])\n",
    "    idx_R = np.where(np.in1d(b,a))[0]\n",
    "    v[np.arange(len(idx_R)), idx_R] += R[a]\n",
    "    v = v.reshape(-1,) if  W is None else W.reshape(-1,)*v.reshape(-1,)\n",
    "\n",
    "    err += v.dot(v)\n",
    "err"
   ]
  },
  {
   "cell_type": "code",
   "execution_count": null,
   "metadata": {
    "collapsed": false
   },
   "outputs": [],
   "source": [
    "pars=pars_est\n",
    "mask = np.zeros((p,p))\n",
    "idx = sub_pops[0]\n",
    "Qest = pars['C'][idx,:].dot(pars['X'][:n,:]).dot(pars['C'][idx,:].T)+np.diag(pars['R'][idx])\n",
    "tmp = np.sum((Qest - Qs[0][np.ix_(idx,idx)])**2)\n",
    "mask[np.ix_(idx,idx)] += 1\n",
    "\n",
    "idx = sub_pops[1]\n",
    "Qest = pars['C'][idx,:].dot(pars['X'][:n,:]).dot(pars['C'][idx,:].T)+np.diag(pars['R'][idx])\n",
    "tmp += np.sum((Qest - Qs[0][np.ix_(idx,idx)])**2)\n",
    "mask[np.ix_(idx,idx)] += 1\n",
    "\n",
    "idx = np.intersect1d(sub_pops[0],sub_pops[1])\n",
    "Qest = pars['C'][idx,:].dot(pars['X'][:n,:]).dot(pars['C'][idx,:].T)+np.diag(pars['R'][idx])\n",
    "tmp -= np.sum((Qest - Qs[0][np.ix_(idx,idx)])**2)\n",
    "mask[np.ix_(idx,idx)] -= 1\n",
    "\n",
    "plt.imshow(mask, interpolation='None')\n",
    "plt.show()\n",
    "\n",
    "tmp"
   ]
  },
  {
   "cell_type": "code",
   "execution_count": null,
   "metadata": {
    "collapsed": false
   },
   "outputs": [],
   "source": [
    "pars = pars_est\n",
    "print(f_l2_inst(pars['C'],pars['X'][:n,:],pars['R'],Qs[0],idx_grp,co_obs,\n",
    "                   idx_a=idx_a,idx_b=idx_b,W=None))"
   ]
  }
 ],
 "metadata": {
  "kernelspec": {
   "display_name": "Python 3",
   "language": "python",
   "name": "python3"
  },
  "language_info": {
   "codemirror_mode": {
    "name": "ipython",
    "version": 3
   },
   "file_extension": ".py",
   "mimetype": "text/x-python",
   "name": "python",
   "nbconvert_exporter": "python",
   "pygments_lexer": "ipython3",
   "version": "3.5.1"
  }
 },
 "nbformat": 4,
 "nbformat_minor": 0
}
