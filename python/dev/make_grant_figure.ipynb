{
 "cells": [
  {
   "cell_type": "code",
   "execution_count": null,
   "metadata": {
    "collapsed": false
   },
   "outputs": [],
   "source": [
    "%matplotlib inline\n",
    "import numpy as np\n",
    "import scipy as sp\n",
    "from sklearn.decomposition import PCA\n",
    "import matplotlib.pyplot as plt\n",
    "import glob, os, psutil, time\n",
    "\n",
    "data_path = '../fits/nonlinear_fitzhughnagumo/'\n",
    "fig_path = '../figs/'\n",
    "\n",
    "pars=np.load(data_path+'pars.npz')['pars'].tolist()\n",
    "pars_est_full   = np.load(data_path+'pars_est_full.npz')['arr_0'].tolist()['pars_est_full']\n",
    "pars_est_partial= np.load(data_path+'pars_est_partial.npz')['pars'].tolist()\n",
    "pars_pca        = np.load(data_path+'pars_pca.npz')['pars'].tolist()\n",
    "#pars_est_pca= np.load(data_path+'pars_est_pca.npz')['pars'].tolist()\n",
    "\n",
    "idx_a = pars['idx_a']\n",
    "idx_b = pars['idx_b']\n",
    "pa, pb = idx_a.size, idx_b.size\n",
    "x=np.load(data_path+'x.npz')['x']\n",
    "\n",
    "p,n = pars['C'].shape\n",
    "T = x.shape[0]\n",
    "k,l = pars['k'],pars['l']\n",
    "\n",
    "mmap, chunksize = True, np.min((T,p))\n",
    "Qs = []\n",
    "for m in range(k+l):\n",
    "        Qs.append(np.memmap(data_path+'Qs_'+str(m), dtype=np.float, \n",
    "                      mode='r', shape=(pa,pb)))\n",
    "        \n",
    "y = np.memmap(data_path+'y', dtype=np.float, mode='r', shape=(T,p))"
   ]
  },
  {
   "cell_type": "markdown",
   "metadata": {},
   "source": [
    "# nonlinear dynamics + linear emissions, latent and observed traces"
   ]
  },
  {
   "cell_type": "code",
   "execution_count": null,
   "metadata": {
    "collapsed": false
   },
   "outputs": [],
   "source": [
    "tmin, tmax = 1000, 1500\n",
    "\n",
    "idx_showy = np.arange(15)\n",
    "yshow = y[tmin:tmax,idx_showy]\n",
    "ydiff = yshow.max() - yshow.min()\n",
    "\n",
    "idx_showx = np.array([0,10,1,11,2,12])\n",
    "xshow = x[tmin:tmax,idx_showx]\n",
    "xdiff = xshow.max() - xshow.min()\n",
    "\n",
    "plt.figure(figsize=(2.5,2.5))\n",
    "ax = plt.subplot(111)\n",
    "for i in range(idx_showy.size):\n",
    "    plt.plot(range(tmin,tmax), i*ydiff + yshow[:,i], 'k')\n",
    "    plt.hold(True)\n",
    "    \n",
    "ax.get_xaxis().tick_bottom()    \n",
    "ax.get_yaxis().tick_left()    \n",
    "\n",
    "plt.xlim(tmin, tmax)    \n",
    "plt.xticks(range(tmin, tmax+1, 500), [str(x) for x in range(tmin, tmax+1, 500)], fontsize=14)    \n",
    "\n",
    "ax.get_xaxis().tick_bottom()    \n",
    "ax.get_yaxis().tick_left()    \n",
    "plt.yticks([])    \n",
    "\n",
    "ax.get_xaxis().tick_bottom()    \n",
    "ax.get_yaxis().tick_left()    \n",
    "plt.xlim(tmin, tmax)    \n",
    "\n",
    "plt.tick_params(axis=\"both\", which=\"both\", top=\"off\", left='off', right=\"off\", labelleft=\"on\")    \n",
    "plt.box('off')\n",
    "\n",
    "plt.savefig(fig_path + 'figA_y.pdf', bbox_inches=\"tight\"); \n",
    "plt.show()\n",
    "\n",
    "\n",
    "\n",
    "plt.figure(figsize=(2.5,2.5))\n",
    "ax = plt.subplot(111)\n",
    "\n",
    "for i in range(idx_showx.size):\n",
    "    plt.plot(range(tmin,tmax), -(xdiff+ydiff)-i*xdiff + xshow[:,i], color=[.7,.7,.7])\n",
    "    \n",
    "ax.get_xaxis().tick_bottom()    \n",
    "ax.get_yaxis().tick_left()    \n",
    "\n",
    "plt.xlim(tmin, tmax)    \n",
    "plt.xticks(range(tmin, tmax+1, 500), [str(x) for x in range(tmin, tmax+1, 500)], fontsize=14)    \n",
    "\n",
    "ax.get_xaxis().tick_bottom()    \n",
    "ax.get_yaxis().tick_left()    \n",
    "plt.yticks([])    \n",
    "# Remove the tick marks\n",
    "plt.tick_params(axis=\"both\", which=\"both\", top=\"off\", left='off', right=\"off\", labelleft=\"on\")    \n",
    "plt.box('off')\n",
    "plt.savefig(fig_path + 'figA_x.pdf', bbox_inches=\"tight\"); \n",
    "plt.show()\n"
   ]
  },
  {
   "cell_type": "markdown",
   "metadata": {},
   "source": [
    "# quiver plot"
   ]
  },
  {
   "cell_type": "code",
   "execution_count": null,
   "metadata": {
    "collapsed": false
   },
   "outputs": [],
   "source": [
    "I = 0\n",
    "def ddt_const(x):\n",
    "    v,w = x[0],x[1]\n",
    "    return np.array((v - v**3/3 -w + I, 0.08*(v +0.7-0.8*w)))\n",
    "\n",
    "# quiver plot\n",
    "\n",
    "N = 16\n",
    "V, W = np.meshgrid(np.linspace(-2.9,2.9,N), np.linspace(-2.9,2.9,N))\n",
    "dV, dW = np.zeros((N,N)), np.zeros((N,N))\n",
    "for i in range(N):\n",
    "    for j in range(N):\n",
    "        tmp = ddt_const(np.array((V[i,j], W[i,j])))\n",
    "        dV[i,j], dW[i,j] = tmp[0], tmp[1]\n",
    "\n",
    "        \n",
    "plt.figure(figsize=(10,10))\n",
    "plt.quiver(V, W, dV, dW, \n",
    "           edgecolor='None', facecolor='b',linewidth=.5, scale=150)\n",
    "\n",
    "ax = plt.subplot(111)\n",
    "ax.get_xaxis().tick_bottom()    \n",
    "ax.get_yaxis().tick_left()    \n",
    "\n",
    "#plt.xlim(tmin, tmax)    \n",
    "#plt.xticks(range(tmin, tmax+1, 50), [str(x) for x in range(tmin, tmax+1, 50)], fontsize=14)    \n",
    "\n",
    "ax.get_xaxis().tick_bottom()    \n",
    "ax.get_yaxis().tick_left()    \n",
    "#plt.xlim(tmin, tmax)    \n",
    "plt.xticks(range(-2, 3, 2), [str(x) for x in range(-2, 3, 2)], fontsize=14)    \n",
    "plt.yticks(range(-2, 3, 2), [str(x) for x in range(-2, 3, 2)], fontsize=14)    \n",
    "\n",
    "plt.savefig(fig_path + 'figA_quiver.pdf', bbox_inches=\"tight\"); \n",
    "\n",
    "plt.show()\n"
   ]
  },
  {
   "cell_type": "markdown",
   "metadata": {},
   "source": [
    "# goodness of fit for fully observed case (scatter for time-lag m = 0)"
   ]
  },
  {
   "cell_type": "code",
   "execution_count": null,
   "metadata": {
    "collapsed": false
   },
   "outputs": [],
   "source": [
    "plt.figure(figsize=(10, 10))\n",
    "for m in range(1):\n",
    "    print('computing time-lagged covariance for lag ', str(m))\n",
    "    \n",
    "    idx_b = idx_a.copy()\n",
    "    Qf= np.cov(y[m:m-(k+l),idx_a].T, y[:-(k+l),idx_b].T)[:pa,pa:]    \n",
    "    \n",
    "    Q = np.empty((pa,pb))\n",
    "    Q[:] = (pars_est_full['C'][idx_a,:].dot(pars_est_full['X'][:n,:]).dot(pars_est_full['C'][idx_b,:].T)) + np.diag(pars_est_full['R'])[np.ix_(idx_a,idx_b)]\n",
    "    plt.plot(Qf[:], Q[:], 'k.')\n",
    "    plt.hold(True)\n",
    "    plt.title('corr. est. us:' + str(np.corrcoef(Qf.reshape(-1), Q.reshape(-1))[0,1]))\n",
    "    \n",
    "    #Q = np.empty((pa,pb))\n",
    "    #Q[:] = (pars_pca['C'][idx_a,:].dot(pars_pca['Pi']).dot(pars_pca['C'][idx_b,:].T))\n",
    "    #plt.plot(Qf[:], Q[:], 'b.')\n",
    "    \n",
    "    #plt.xlabel('corr. est. PCA:' + str(np.corrcoef(Qf.reshape(-1), Q.reshape(-1))[0,1]))\n",
    "    #plt.savefig(fig_path + 'figC_main.pdf', bbox_inches=\"tight\"); \n",
    "    plt.show()"
   ]
  },
  {
   "cell_type": "markdown",
   "metadata": {},
   "source": [
    "# correlations ground-truth-vs.-fit accross time-lags"
   ]
  },
  {
   "cell_type": "code",
   "execution_count": null,
   "metadata": {
    "collapsed": false
   },
   "outputs": [],
   "source": [
    "corrs_true, corrs_est = np.zeros(k+l), np.zeros(k+l)\n",
    "for m in range(k+l):\n",
    "    print('computing time-lagged covariance for lag ', str(m))\n",
    "    \n",
    "    Qf= np.cov(y[m:m-(k+l),idx_a].T, y[:-(k+l),idx_b].T)[:pa,pa:]   \n",
    "\n",
    "    Qr = pars['C'][idx_a,:].dot(np.cov(x[m:m-(k+l),:].T, x[0:-(k+l),:].T)[:n,n:]).dot(pars['C'][idx_b,:].T)\n",
    "    Qr = Qr + np.diag(pars['R'])[idx_a,idx_b] if m == 0 else Qr\n",
    "    \n",
    "    corrs_true[m] = np.corrcoef(Qf.reshape(-1), Qr.reshape(-1))[0,1]\n",
    "    \n",
    "    Qr = pars_est_full['C'][idx_a,:].dot(pars_est_full['X'][m*n:(m+1)*n,:]).dot(pars_est_full['C'][idx_b,:].T)\n",
    "\n",
    "    corrs_est[m] = np.corrcoef(Qf.reshape(-1), Qr.reshape(-1))[0,1]\n",
    "    \n",
    "plt.figure(figsize=(8, 4))\n",
    "taus = np.arange(0, k+l)\n",
    "#Qr = pars_pca['C'][idx_a,:].dot(pars_pca['Pi']).dot(pars_pca['C'][idx_b,:].T)\n",
    "#plt.plot(0.05, np.corrcoef(Qs[0].reshape(-1), Qr.reshape(-1))[0,1], color='g')\n",
    "#plt.hold(True)\n",
    "plt.plot(taus, corrs_true, 'o-', color='k')\n",
    "plt.hold(True)\n",
    "plt.plot(taus, corrs_est, 'd-', color='b')\n",
    "plt.axis([-0.5, k+l-0.5, 0.97, 1])\n",
    "plt.legend(('ground-truth pars.', 'model fit'))\n",
    "plt.xlabel('tau')\n",
    "plt.ylabel('corr(\\cov(y_{t+tau}, y_t), C X_tau C'')')\n",
    "\n",
    "ax = plt.subplot(111)\n",
    "ax.get_xaxis().tick_bottom()    \n",
    "ax.get_yaxis().tick_left()    \n",
    "\n",
    "plt.yticks(np.arange(0.97, 1, 0.01), [str(x) for x in np.arange(0.97, 1, 0.01)], fontsize=10)    \n",
    "plt.xticks(fontsize=10)    \n",
    "\n",
    "ax.get_xaxis().tick_bottom()    \n",
    "ax.get_yaxis().tick_left()    \n",
    "\n",
    "plt.tick_params(axis=\"both\", which=\"both\", top=\"off\", right=\"off\", labelleft=\"on\")    \n",
    "\n",
    "plt.savefig(fig_path + 'corrs_vs_tau_fully_obs.pdf', bbox_inches=\"tight\"); \n",
    "plt.show()\n",
    "np.savez(fig_path + 'corrs_vs_tau_fully_obs', {'corrs_true' : corrs_true, 'corrs_est' : corrs_est})        "
   ]
  },
  {
   "cell_type": "markdown",
   "metadata": {},
   "source": [
    "# nonlinear dynamics + linear emissions, partially observed case"
   ]
  },
  {
   "cell_type": "markdown",
   "metadata": {},
   "source": [
    "# observed traces (latent same as above)"
   ]
  },
  {
   "cell_type": "code",
   "execution_count": null,
   "metadata": {
    "collapsed": false
   },
   "outputs": [],
   "source": [
    "tmin, tmax = 1000, 1200\n",
    "tmid  = (tmax+tmin) // 2\n",
    "\n",
    "idx_showy1  = np.arange(5,7)\n",
    "idx_showy12 = np.array([7])\n",
    "idx_showy2  = np.arange(8,10)\n",
    "\n",
    "yshow = y[tmin:tmax,:]\n",
    "ydiff = yshow.max() - yshow.min()\n",
    "\n",
    "idx_showx = np.array([0,10])\n",
    "xshow = x[tmin:tmax,idx_showx]\n",
    "xdiff = xshow.max() - xshow.min()\n",
    "\n",
    "plt.figure(figsize=(10,6))\n",
    "ax = plt.subplot(111)\n",
    "for i in idx_showy1:\n",
    "    plt.plot(range(tmin,tmid), i*ydiff + yshow[np.arange(0,tmid-tmin),i], 'k')\n",
    "    plt.hold(True)\n",
    "for i in idx_showy12:\n",
    "    plt.plot(range(tmin,tmax), i*ydiff + yshow[np.arange(0,tmax-tmin),i], 'k')\n",
    "for i in idx_showy2:\n",
    "    plt.plot(range(tmid,tmax), i*ydiff + yshow[np.arange(tmid-tmin,tmax-tmin),i], 'k')\n",
    "    \n",
    "    \n",
    "ax.get_xaxis().tick_bottom()    \n",
    "ax.get_yaxis().tick_left()    \n",
    "\n",
    "plt.xlim(tmin, tmax)    \n",
    "plt.xticks(range(tmin, tmax+1, 50), [str(x) for x in range(tmin, tmax+1, 50)], fontsize=14)    \n",
    "\"\"\"\n",
    "for i in range(idx_showx.size):\n",
    "    plt.plot(range(tmin,tmax), -(xdiff+ydiff)-i*xdiff + xshow[:,i], color=[.7,.7,.7])\n",
    "\"\"\"\n",
    "ax.get_xaxis().tick_bottom()    \n",
    "ax.get_yaxis().tick_left()    \n",
    "plt.xlim(tmin, tmax)    \n",
    "plt.xticks(range(tmin, tmax+1, 50), [str(x) for x in range(tmin, tmax+1, 50)], fontsize=14)    \n",
    "plt.yticks([])    \n",
    "\n",
    "# Remove the tick marks\n",
    "plt.tick_params(axis=\"both\", which=\"both\", top=\"off\", right=\"off\", labelleft=\"on\")    \n",
    "\n",
    "plt.savefig('figD_y.pdf', bbox_inches=\"tight\")  \n",
    "plt.show()\n"
   ]
  },
  {
   "cell_type": "markdown",
   "metadata": {},
   "source": [
    "# scatter plots for observed covariances (moving to Matlab for this)"
   ]
  },
  {
   "cell_type": "code",
   "execution_count": null,
   "metadata": {
    "collapsed": false
   },
   "outputs": [],
   "source": [
    "plt.figure(figsize=(10, 10))\n",
    "for m in range(1):\n",
    "    \n",
    "    idx_sa = np.arange(5500,p) # lower square of not concurrently \n",
    "    idx_sb = idx_sa.copy()\n",
    "    #idx_sb = np.arange(0,4500) # observed covariance\n",
    "    psa, psb = idx_sa.size, idx_sb.size\n",
    "    \n",
    "    print('computing time-lagged covariance for lag ', str(m))\n",
    "    \n",
    "    \n",
    "    Qf = np.cov(y[m:m-(k+l),idx_sa].T, y[:-(k+l),idx_sb].T)[:psa,psb:]    \n",
    "    \n",
    "    Q = (pars_est_partial['C'][idx_sa,:].dot(pars_est_partial['X'][:n,:]).dot(pars_est_partial['C'][idx_sb,:].T))\n",
    "    Q += np.diag(pars_est_partial['R'])[np.ix_(idx_sa,idx_sb)]\n",
    "    plt.plot(Qf[:], Q[:], 'k.')\n",
    "    plt.hold(True)\n",
    "    plt.title('corr. est. us:' + str(np.corrcoef(Qf.reshape(-1), Q.reshape(-1))[0,1]))\n",
    "    \n",
    "    #Q = np.empty((pa,pb))\n",
    "    #Q[:] = (pars_pca['C'][idx_a,:].dot(pars_pca['Pi']).dot(pars_pca['C'][idx_b,:].T))\n",
    "    #plt.plot(Qf[:], Q[:], 'b.')    \n",
    "    #plt.xlabel('corr. est. PCA:' + str(np.corrcoef(Qf.reshape(-1), Q.reshape(-1))[0,1]))\n",
    "    plt.show()"
   ]
  },
  {
   "cell_type": "code",
   "execution_count": null,
   "metadata": {
    "collapsed": false
   },
   "outputs": [],
   "source": [
    "#from scipy.io import savemat\n",
    "#savemat('../fits/partially_obs_covs', {'Q': Q, 'Q_true' : Qf})"
   ]
  },
  {
   "cell_type": "markdown",
   "metadata": {},
   "source": [
    "# scatter plots for stitched covariances (moving to Matlab for this)"
   ]
  },
  {
   "cell_type": "code",
   "execution_count": null,
   "metadata": {
    "collapsed": false,
    "scrolled": true
   },
   "outputs": [],
   "source": [
    "plt.figure(figsize=(10, 10))\n",
    "for m in range(1):\n",
    "    \n",
    "    idx_sa = np.arange(0,4500) # lower square of not concurrently \n",
    "    idx_sb = np.arange(5500,p) # observed covariance\n",
    "    psa, psb = idx_sa.size, idx_sb.size\n",
    "    \n",
    "    print('computing time-lagged covariance for lag ', str(m))\n",
    "    \n",
    "    \n",
    "    Qf = np.cov(y[m:m-(k+l),idx_sa].T, y[:-(k+l),idx_sb].T)[:psa,psb:]    \n",
    "    \n",
    "    Q = (pars_est_partial['C'][idx_sa,:].dot(pars_est_partial['X'][:n,:]).dot(pars_est_partial['C'][idx_sb,:].T))\n",
    "    Q += np.diag(pars_est_partial['R'])[np.ix_(idx_sa,idx_sb)]\n",
    "    #plt.plot(Qf[:], Q[:], 'k.')\n",
    "    #plt.hold(True)\n",
    "    plt.title('corr. est. us:' + str(np.corrcoef(Qf.reshape(-1), Q.reshape(-1))[0,1]))\n",
    "    \n",
    "    #Q = np.empty((pa,pb))\n",
    "    #Q[:] = (pars_pca['C'][idx_a,:].dot(pars_pca['Pi']).dot(pars_pca['C'][idx_b,:].T))\n",
    "    #plt.plot(Qf[:], Q[:], 'b.')    \n",
    "    #plt.xlabel('corr. est. PCA:' + str(np.corrcoef(Qf.reshape(-1), Q.reshape(-1))[0,1]))\n",
    "    plt.show()"
   ]
  },
  {
   "cell_type": "code",
   "execution_count": null,
   "metadata": {
    "collapsed": true
   },
   "outputs": [],
   "source": [
    "#from scipy.io import savemat\n",
    "#savemat('../fits/fully_obs_covs', {'Q': Q, 'Q_true' : Qf})"
   ]
  },
  {
   "cell_type": "markdown",
   "metadata": {},
   "source": [
    "# correlations ground-truth-vs.-fit accross time-lags"
   ]
  },
  {
   "cell_type": "code",
   "execution_count": null,
   "metadata": {
    "collapsed": false
   },
   "outputs": [],
   "source": [
    "corrs_true, corrs_est = np.zeros(k+l), np.zeros(k+l)\n",
    "for m in range(k+l):\n",
    "    print('computing time-lagged covariance for lag ', str(m))\n",
    "    \n",
    "    Qf= np.cov(y[m:m-(k+l),idx_a].T, y[:-(k+l),idx_b].T)[:pa,pa:]   \n",
    "\n",
    "    Qr = pars['C'][idx_a,:].dot(np.cov(x[m:m-(k+l),:].T, x[0:-(k+l),:].T)[:n,n:]).dot(pars['C'][idx_b,:].T)\n",
    "    Qr = Qr + np.diag(pars['R'])[idx_a,idx_b] if m == 0 else Qr\n",
    "    \n",
    "    corrs_true[m] = np.corrcoef(Qf.reshape(-1), Qr.reshape(-1))[0,1]\n",
    "    \n",
    "    Qr = pars_est_partial['C'][idx_a,:].dot(pars_est_partial['X'][m*n:(m+1)*n,:]).dot(pars_est_partial['C'][idx_b,:].T)\n",
    "\n",
    "    corrs_est[m] = np.corrcoef(Qf.reshape(-1), Qr.reshape(-1))[0,1]\n",
    "    \n",
    "#Qr = pars_pca['C'][idx_a,:].dot(pars_pca['Pi']).dot(pars_pca['C'][idx_b,:].T)\n",
    "#plt.plot(0.05, np.corrcoef(Qs[0].reshape(-1), Qr.reshape(-1))[0,1], color='g')\n",
    "        \n",
    "plt.figure(figsize=(8, 4))\n",
    "taus = np.arange(0, k+l)\n",
    "plt.plot(taus, corrs_true, 'o-', color='k')\n",
    "plt.hold(True)\n",
    "plt.plot(taus, corrs_est, 'd-', color='b')\n",
    "plt.axis([-0.5, k+l-0.5, 0.91, 0.99])\n",
    "\n",
    "plt.legend(('ground-truth pars.', 'model fit'))\n",
    "plt.xlabel('tau')\n",
    "plt.ylabel('corr(\\cov(y_{t+tau}, y_t), C X_tau C'')')\n",
    "plt.savefig(fig_path + 'corrs_vs_tau_stitched.pdf', bbox_inches=\"tight\"); \n",
    "\n",
    "ax = plt.subplot(111)\n",
    "ax.get_xaxis().tick_bottom()    \n",
    "ax.get_yaxis().tick_left()    \n",
    "\n",
    "plt.yticks(np.arange(0.92, 0.99, 0.02), [str(x) for x in np.arange(0.92, 0.99, 0.02)], fontsize=10)    \n",
    "plt.xticks(fontsize=10)    \n",
    "\n",
    "ax.get_xaxis().tick_bottom()    \n",
    "ax.get_yaxis().tick_left()    \n",
    "\n",
    "\n",
    "plt.show()\n",
    "np.savez(fig_path + 'corrs_vs_tau_stitched', {'corrs_true' : corrs_true, 'corrs_est' : corrs_est})    "
   ]
  },
  {
   "cell_type": "markdown",
   "metadata": {},
   "source": [
    "# combining fully / partially obs traces tau vs. corr"
   ]
  },
  {
   "cell_type": "code",
   "execution_count": null,
   "metadata": {
    "collapsed": false
   },
   "outputs": [],
   "source": [
    "corrs_true, corrs_est_full, corrs_est_partial = np.zeros(k+l), np.zeros(k+l), np.zeros(k+l)\n",
    "for m in range(k+l):\n",
    "    print('computing time-lagged covariance for lag ', str(m))\n",
    "    \n",
    "    Qf= np.cov(y[m:m-(k+l),idx_a].T, y[:-(k+l),idx_b].T)[:pa,pa:]   \n",
    "\n",
    "    Qr = pars['C'][idx_a,:].dot(np.cov(x[m:m-(k+l),:].T, x[0:-(k+l),:].T)[:n,n:]).dot(pars['C'][idx_b,:].T)\n",
    "    Qr = Qr + np.diag(pars['R'])[idx_a,idx_b] if m == 0 else Qr\n",
    "    \n",
    "    corrs_true[m] = np.corrcoef(Qf.reshape(-1), Qr.reshape(-1))[0,1]\n",
    "    \n",
    "    Qr = pars_est_full['C'][idx_a,:].dot(pars_est_full['X'][m*n:(m+1)*n,:]).dot(pars_est_full['C'][idx_b,:].T)\n",
    "\n",
    "    corrs_est_full[m] = np.corrcoef(Qf.reshape(-1), Qr.reshape(-1))[0,1]\n",
    "\n",
    "    Qr = pars_est_partial['C'][idx_a,:].dot(pars_est_partial['X'][m*n:(m+1)*n,:]).dot(pars_est_partial['C'][idx_b,:].T)\n",
    "\n",
    "    corrs_est_partial[m] = np.corrcoef(Qf.reshape(-1), Qr.reshape(-1))[0,1]\n",
    "    \n",
    "    \n",
    "plt.figure(figsize=(8, 4))\n",
    "taus = np.arange(0, k+l)\n",
    "#Qr = pars_pca['C'][idx_a,:].dot(pars_pca['Pi']).dot(pars_pca['C'][idx_b,:].T)\n",
    "#plt.plot(0.05, np.corrcoef(Qs[0].reshape(-1), Qr.reshape(-1))[0,1], color='g')\n",
    "#plt.hold(True)\n",
    "plt.plot(taus, corrs_est_full, 'd-', color='b')\n",
    "#plt.plot(taus, corrs_true, 'o-', color='k')\n",
    "plt.hold(True)\n",
    "plt.plot(taus, corrs_est_partial, 'd-', color='r')\n",
    "plt.axis([-0.5, k+l-0.5, 0.915, 1])\n",
    "plt.legend(('fully obs. fit', 'part. obs. fit'))\n",
    "plt.xlabel('tau')\n",
    "plt.ylabel('corr(\\cov(y_{t+tau}, y_t), C X_tau C'')')\n",
    "\n",
    "ax = plt.subplot(111)\n",
    "ax.get_xaxis().tick_bottom()    \n",
    "ax.get_yaxis().tick_left()    \n",
    "\n",
    "plt.yticks(np.arange(0.90, 1.01, 0.02), [str(x) for x in np.arange(0.90, 1.01, 0.02)], fontsize=10)    \n",
    "plt.xticks(fontsize=10)    \n",
    "\n",
    "ax.get_xaxis().tick_bottom()    \n",
    "ax.get_yaxis().tick_left()    \n",
    "\n",
    "plt.tick_params(axis=\"both\", which=\"both\", top=\"off\", right=\"off\", labelleft=\"on\")    \n",
    "\n",
    "#plt.savefig(fig_path + 'corrs_vs_tau_fully_obs.pdf', bbox_inches=\"tight\"); \n",
    "plt.show()\n",
    "#np.savez(fig_path + 'corrs_vs_tau_fully_obs', {'corrs_true' : corrs_true, 'corrs_est' : corrs_est})        "
   ]
  },
  {
   "cell_type": "markdown",
   "metadata": {},
   "source": [
    "# large linear system"
   ]
  },
  {
   "cell_type": "markdown",
   "metadata": {},
   "source": [
    "# latent and observed traces"
   ]
  },
  {
   "cell_type": "code",
   "execution_count": null,
   "metadata": {
    "collapsed": false
   },
   "outputs": [],
   "source": [
    "tmin, tmax = 1000, 1200\n",
    "\n",
    "y = np.load('../fits/y_lin_n100.npz')['arr_0'].tolist()['y']     \n",
    "\n",
    "idx_showy = np.arange(5)\n",
    "yshow = y[tmin:tmax,idx_showy]\n",
    "ydiff = yshow.max() - yshow.min()\n",
    "\n",
    "plt.figure(figsize=(10,6))\n",
    "ax = plt.subplot(111)\n",
    "for i in range(idx_showy.size):\n",
    "    plt.plot(range(tmin,tmax), i*ydiff + yshow[:,i], 'k')\n",
    "    plt.hold(True)\n",
    "    \n",
    "ax.get_xaxis().tick_bottom()    \n",
    "ax.get_yaxis().tick_left()    \n",
    "\n",
    "plt.xlim(tmin, tmax)    \n",
    "plt.xticks(range(tmin, tmax+1, 50), [str(x) for x in range(tmin, tmax+1, 50)], fontsize=14)    \n",
    "plt.yticks([])    \n",
    "\n",
    "ax.get_xaxis().tick_bottom()    \n",
    "ax.get_yaxis().tick_left()    \n",
    "plt.xlim(tmin, tmax)    \n",
    "\n",
    "plt.tick_params(axis=\"both\", which=\"both\", top=\"off\", left='off', right=\"off\", labelleft=\"on\")    \n",
    "\n",
    "plt.savefig(fig_path + 'linear_dynamics_full_activity.pdf', bbox_inches=\"tight\"); \n",
    "plt.show()\n",
    "\n",
    "x = np.load('../fits/x_lin_n100.npz')['arr_0'].tolist()['x']                 # ...\n",
    "\n",
    "idx_showx = np.array([0,1,2])\n",
    "xshow = x[tmin:tmax,idx_showx]\n",
    "xdiff = xshow.max() - xshow.min()\n",
    "\n",
    "plt.figure(figsize=(10,3))\n",
    "ax = plt.subplot(111)\n",
    "\n",
    "for i in range(idx_showx.size):\n",
    "    plt.plot(range(tmin,tmax), -(xdiff+ydiff)-i*xdiff + xshow[:,i], color=[.7,.7,.7])\n",
    "    \n",
    "ax.get_xaxis().tick_bottom()    \n",
    "ax.get_yaxis().tick_left()    \n",
    "\n",
    "plt.xlim(tmin, tmax)    \n",
    "plt.xticks(range(tmin, tmax+1, 50), [str(x) for x in range(tmin, tmax+1, 50)], fontsize=14)    \n",
    "\n",
    "ax.get_xaxis().tick_bottom()    \n",
    "ax.get_yaxis().tick_left()    \n",
    "plt.xlim(tmin, tmax)    \n",
    "plt.xticks(range(tmin, tmax+1, 50), [str(x) for x in range(tmin, tmax+1, 50)], fontsize=14)    \n",
    "plt.yticks([])    \n",
    "# Remove the tick marks\n",
    "plt.tick_params(axis=\"both\", which=\"both\", top=\"off\", left='off', right=\"off\", labelleft=\"on\")    \n",
    "\n",
    "plt.savefig(fig_path + 'linear_dynamics_latent_traces.pdf', bbox_inches=\"tight\"); \n",
    "plt.show()\n"
   ]
  },
  {
   "cell_type": "markdown",
   "metadata": {},
   "source": [
    "# (scatter plot for m=0 directly made on the machine where the data lies) "
   ]
  },
  {
   "cell_type": "markdown",
   "metadata": {},
   "source": [
    "# (computation of corrs vs. time-lag also done directly there)"
   ]
  },
  {
   "cell_type": "code",
   "execution_count": null,
   "metadata": {
    "collapsed": false
   },
   "outputs": [],
   "source": [
    "corrs_true = np.load('../fits/linear_p100k/corrs_vs_tau.npz')['arr_0'].tolist()['corrs_true']\n",
    "corrs_est  = np.load('../fits/linear_p100k/corrs_vs_tau.npz')['arr_0'].tolist()['corrs_est']\n",
    "\n",
    "\n",
    "plt.figure(figsize=(8, 4))\n",
    "taus = np.arange(0, corrs_true.size)\n",
    "#Qr = pars_pca['C'][idx_a,:].dot(pars_pca['Pi']).dot(pars_pca['C'][idx_b,:].T)\n",
    "#plt.plot(0.05, np.corrcoef(Qs[0].reshape(-1), Qr.reshape(-1))[0,1], color='g')\n",
    "\n",
    "plt.plot(taus, corrs_true, 'o-', color='k')\n",
    "plt.hold(True)\n",
    "plt.plot(taus, corrs_est, 'd-', color='b')\n",
    "plt.axis([-0.5, corrs_true.size-0.5, 0.986, 0.998])\n",
    "\n",
    "plt.legend(('ground-truth pars.', 'model fit'))\n",
    "plt.xlabel('tau')\n",
    "plt.ylabel('corr(\\cov(y_{t+tau}, y_t), C X_tau C'')')\n",
    "plt.savefig(fig_path + 'corrs_vs_tau_stitched.pdf', bbox_inches=\"tight\"); \n",
    "\n",
    "ax = plt.subplot(111)\n",
    "ax.get_xaxis().tick_bottom()    \n",
    "ax.get_yaxis().tick_left()    \n",
    "\n",
    "plt.yticks(np.arange(0.988, 0.999, 0.004), [str(x) for x in np.arange(0.988, 0.999, 0.004)], fontsize=10)    \n",
    "plt.xticks(fontsize=10)    \n",
    "\n",
    "plt.savefig(fig_path + 'linear_corrs_vs_tau_stitched.pdf', bbox_inches=\"tight\"); \n",
    "plt.show()\n",
    "#np.savez(fig_path + 'linear_corrs_vs_tau_stitched', {'corrs_true' : corrs_true, 'corrs_est' : corrs_est})    "
   ]
  },
  {
   "cell_type": "code",
   "execution_count": null,
   "metadata": {
    "collapsed": false
   },
   "outputs": [],
   "source": [
    "fs = np.load('../fits/linear_p100k/init_error.npz')['arr_0'].tolist()['fs']\n",
    "iters = np.load('../fits/linear_p100k/init_error.npz')['arr_0'].tolist()['iters']\n",
    "\n",
    "plt.figure(figsize=(8,4))\n",
    "plt.plot(iters[:500], fs[:500])\n",
    "plt.xlabel('iterations')\n",
    "plt.ylabel('loss function')\n",
    "\n",
    "ax = plt.subplot(111)\n",
    "ax.get_xaxis().tick_bottom()    \n",
    "ax.get_yaxis().tick_left()    \n",
    "\n",
    "plt.yticks(np.arange(0.2*10e16, 1.1*10e16, 0.4*10e16), [str(x) for x in np.arange(0.2*10e16, 1.1*10e16, 0.4*10e16)], fontsize=10)    \n",
    "plt.xticks(fontsize=10)    \n",
    "\n",
    "plt.savefig(fig_path + 'linear_loss_vs_iter.pdf', bbox_inches=\"tight\"); \n",
    "plt.show()"
   ]
  },
  {
   "cell_type": "code",
   "execution_count": null,
   "metadata": {
    "collapsed": false
   },
   "outputs": [],
   "source": [
    "iters"
   ]
  }
 ],
 "metadata": {
  "kernelspec": {
   "display_name": "Python 3",
   "language": "python",
   "name": "python3"
  },
  "language_info": {
   "codemirror_mode": {
    "name": "ipython",
    "version": 3
   },
   "file_extension": ".py",
   "mimetype": "text/x-python",
   "name": "python",
   "nbconvert_exporter": "python",
   "pygments_lexer": "ipython3",
   "version": "3.5.1"
  }
 },
 "nbformat": 4,
 "nbformat_minor": 0
}
