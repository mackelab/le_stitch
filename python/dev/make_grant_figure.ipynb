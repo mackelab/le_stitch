{
 "cells": [
  {
   "cell_type": "code",
   "execution_count": null,
   "metadata": {
    "collapsed": false
   },
   "outputs": [],
   "source": [
    "%matplotlib inline\n",
    "import numpy as np\n",
    "import scipy as sp\n",
    "from sklearn.decomposition import PCA\n",
    "import matplotlib.pyplot as plt\n",
    "import glob, os, psutil, time"
   ]
  },
  {
   "cell_type": "markdown",
   "metadata": {},
   "source": [
    "# c) simulated data"
   ]
  },
  {
   "cell_type": "code",
   "execution_count": null,
   "metadata": {
    "collapsed": false
   },
   "outputs": [],
   "source": [
    "\n",
    "data_path = '../fits/ERC/nonlinear_fitzhughnagumo/'\n",
    "fig_path = '../figs/'\n",
    "\n",
    "pars=np.load(data_path+'pars_true.npz')['pars'].tolist()\n",
    "pars_est_full   = np.load(data_path+'pars_est_full.npz')['arr_0'].tolist()['pars_est']\n",
    "pars_est_partial= np.load(data_path+'pars_est_partial_cont.npz')['arr_0'].tolist()['pars_est']\n",
    "pars_pca        = np.load(data_path+'pars_pca.npz')['pars'].tolist()\n",
    "#pars_est_pca= np.load(data_path+'pars_est_pca.npz')['pars'].tolist()\n",
    "\n",
    "lag_range = range(0,21,4)\n",
    "\n",
    "idx_a = pars['idx_a']\n",
    "idx_b = pars['idx_b']\n",
    "pa, pb = idx_a.size, idx_b.size\n",
    "x=np.load(data_path+'x.npz')['x']\n",
    "\n",
    "p,n = pars['C'].shape\n",
    "T = x.shape[0]\n",
    "k,l = pars['k'],pars['l']\n",
    "\n",
    "mmap, chunksize = True, np.min((T,p))\n",
    "        \n",
    "y = np.memmap(data_path+'y', dtype=np.float, mode='r', shape=(T,p))"
   ]
  },
  {
   "cell_type": "markdown",
   "metadata": {},
   "source": [
    "# c) nonlinear dynamics + linear emissions, latent and observed traces"
   ]
  },
  {
   "cell_type": "code",
   "execution_count": null,
   "metadata": {
    "collapsed": false
   },
   "outputs": [],
   "source": [
    "tmin, tmax = 1000, 1500\n",
    "\n",
    "idx_showy = np.arange(15)\n",
    "yshow = y[tmin:tmax,idx_showy]\n",
    "ydiff = yshow.max() - yshow.min()\n",
    "\n",
    "idx_showx = np.array([0,10,1,11,2,12])\n",
    "xshow = x[tmin:tmax,idx_showx]\n",
    "xdiff = xshow.max() - xshow.min()\n",
    "\n",
    "plt.figure(figsize=(2.5,2.5))\n",
    "ax = plt.subplot(111)\n",
    "for i in range(idx_showy.size):\n",
    "    plt.plot(range(tmin,tmax), i*ydiff + yshow[:,i], 'k')\n",
    "    plt.hold(True)\n",
    "    \n",
    "ax.get_xaxis().tick_bottom()    \n",
    "ax.get_yaxis().tick_left()    \n",
    "\n",
    "plt.xlim(tmin, tmax)    \n",
    "plt.xticks(range(tmin, tmax+1, 500), [str(x) for x in range(tmin, tmax+1, 500)], fontsize=14)    \n",
    "\n",
    "ax.get_xaxis().tick_bottom()    \n",
    "ax.get_yaxis().tick_left()    \n",
    "plt.yticks([])    \n",
    "\n",
    "ax.get_xaxis().tick_bottom()    \n",
    "ax.get_yaxis().tick_left()    \n",
    "plt.xlim(tmin, tmax)    \n",
    "\n",
    "plt.tick_params(axis=\"both\", which=\"both\", top=\"off\", left='off', right=\"off\", labelleft=\"on\")    \n",
    "plt.box('off')\n",
    "\n",
    "plt.savefig(fig_path + 'c_simulated_x.pdf', bbox_inches=\"tight\"); \n",
    "plt.show()\n",
    "\n",
    "\n",
    "\n",
    "plt.figure(figsize=(2.5,2.5))\n",
    "ax = plt.subplot(111)\n",
    "\n",
    "for i in range(idx_showx.size):\n",
    "    plt.plot(range(tmin,tmax), -(xdiff+ydiff)-i*xdiff + xshow[:,i], color=[.7,.7,.7])\n",
    "    \n",
    "ax.get_xaxis().tick_bottom()    \n",
    "ax.get_yaxis().tick_left()    \n",
    "\n",
    "plt.xlim(tmin, tmax)    \n",
    "plt.xticks(range(tmin, tmax+1, 500), [str(x) for x in range(tmin, tmax+1, 500)], fontsize=14)    \n",
    "\n",
    "ax.get_xaxis().tick_bottom()    \n",
    "ax.get_yaxis().tick_left()    \n",
    "plt.yticks([])    \n",
    "# Remove the tick marks\n",
    "plt.tick_params(axis=\"both\", which=\"both\", top=\"off\", left='off', right=\"off\", labelleft=\"on\")    \n",
    "plt.box('off')\n",
    "plt.savefig(fig_path + 'c_simulated_z.pdf', bbox_inches=\"tight\"); \n",
    "plt.show()\n"
   ]
  },
  {
   "cell_type": "markdown",
   "metadata": {},
   "source": [
    "# c) quality of fit (snippets of covariance matrices)"
   ]
  },
  {
   "cell_type": "code",
   "execution_count": null,
   "metadata": {
    "collapsed": false
   },
   "outputs": [],
   "source": [
    "sub_pops = (np.arange(5500), np.arange(4500,p))\n",
    "\n",
    "nshow = 10\n",
    "idx_a_show = np.setdiff1d(np.arange(p), sub_pops[1])\n",
    "idx_b_show = np.setdiff1d(np.arange(p), sub_pops[0])\n",
    "\n",
    "idx_a_show = idx_a_show[np.random.choice(len(idx_a_show), nshow, replace=False)]\n",
    "idx_b_show = idx_b_show[np.random.choice(len(idx_b_show), nshow, replace=False)]\n",
    "\n",
    "for m in range(1):\n",
    "    print('computing time-lagged covariance for lag ', str(m))\n",
    "\n",
    "    Qr = np.cov(y[m:m-(k+l),idx_a_show].T, y[:-(k+l),idx_b_show].T)[:idx_a_show.size,idx_b_show.size:]\n",
    "    Qf = (pars_est_full['C'][idx_a_show,:].dot(pars_est_full['X'][:n,:]).dot(pars_est_full['C'][idx_b_show,:].T)) + np.diag(pars_est_full['R'])[np.ix_(idx_a_show,idx_b_show)]\n",
    "    Qp = (pars_est_partial['C'][idx_a_show,:].dot(pars_est_partial['X'][:n,:]).dot(pars_est_partial['C'][idx_b_show,:].T)) + np.diag(pars_est_full['R'])[np.ix_(idx_a_show,idx_b_show)]\n",
    "\n",
    "    cm = np.min((Qr.min(), Qf.min(), Qp.min()))\n",
    "    cM = np.max((Qr.max(), Qf.max(), Qp.max()))\n",
    "    \n",
    "    plt.figure(figsize=(3, 3))\n",
    "    plt.imshow(Qr, interpolation = 'None')\n",
    "    plt.colorbar()\n",
    "    plt.clim(cm, cM)\n",
    "    plt.gray()\n",
    "    plt.title('true')\n",
    "    plt.savefig(fig_path + 'c_simulated_true_cov.pdf', bbox_inches=\"tight\");     \n",
    "    plt.show()\n",
    "    \n",
    "\n",
    "    plt.figure(figsize=(3, 3))\n",
    "    plt.imshow(Qf, interpolation = 'None')\n",
    "    plt.colorbar()\n",
    "    plt.clim(cm, cM)\n",
    "    plt.gray()\n",
    "    plt.title('full')\n",
    "    plt.savefig(fig_path + 'c_simulated_full_cov.pdf', bbox_inches=\"tight\");     \n",
    "    plt.show()\n",
    "    \n",
    "\n",
    "    plt.figure(figsize=(3, 3))\n",
    "    plt.imshow(Qp, interpolation = 'None')\n",
    "    plt.colorbar()\n",
    "    plt.clim(cm, cM)\n",
    "    plt.gray()\n",
    "    plt.title('stitch')\n",
    "    plt.savefig(fig_path + 'c_simulated_stitch_cov.pdf', bbox_inches=\"tight\");     \n",
    "    plt.show()\n"
   ]
  },
  {
   "cell_type": "markdown",
   "metadata": {},
   "source": [
    "# c) combining fully / partially obs traces tau vs. corr"
   ]
  },
  {
   "cell_type": "code",
   "execution_count": null,
   "metadata": {
    "collapsed": false
   },
   "outputs": [],
   "source": [
    "sub_pops = (np.arange(5500), np.arange(4500,p))\n",
    "idx_a = np.setdiff1d(np.arange(p), sub_pops[1])\n",
    "idx_b = np.setdiff1d(np.arange(p), sub_pops[0])\n",
    "pa, pb = idx_a.size, idx_b.size\n",
    "\n",
    "\n",
    "corrs_true, corrs_est_full, corrs_est_partial = np.zeros(len(lag_range)), np.zeros(len(lag_range)), np.zeros(len(lag_range))\n",
    "corrs_est_pca = np.zeros(len(lag_range))\n",
    "kl_ = np.max(lag_range)+1\n",
    "for m in range(len(lag_range)):\n",
    "    m_ = lag_range[m]\n",
    "    print('computing time-lagged covariance for lag ', str(m))\n",
    "    \n",
    "    Qf= np.cov(y[m_:m_-kl_,idx_a].T, y[:-kl_,idx_b].T)[:pa,pa:]   \n",
    "\n",
    "    Qr = pars['C'][idx_a,:].dot(np.cov(x[m_:m_-kl_,:].T, x[0:-kl_,:].T)[:n,n:]).dot(pars['C'][idx_b,:].T)\n",
    "    Qr = Qr + np.diag(pars['R'])[idx_a,idx_b] if m == 0 else Qr\n",
    "    \n",
    "    corrs_true[m] = np.corrcoef(Qf.reshape(-1), Qr.reshape(-1))[0,1]\n",
    "    \n",
    "    Qr = pars_est_full['C'][idx_a,:].dot(pars_est_full['X'][m*n:(m+1)*n,:]).dot(pars_est_full['C'][idx_b,:].T)\n",
    "\n",
    "    corrs_est_full[m] = np.corrcoef(Qf.reshape(-1), Qr.reshape(-1))[0,1]\n",
    "\n",
    "    Qr = pars_est_partial['C'][idx_a,:].dot(pars_est_partial['X'][m*n:(m+1)*n,:]).dot(pars_est_partial['C'][idx_b,:].T)\n",
    "\n",
    "    corrs_est_partial[m] = np.corrcoef(Qf.reshape(-1), Qr.reshape(-1))[0,1]\n",
    "    \n",
    "    Qr = pars_pca['C'][idx_a,:].dot(pars_pca['Pi']).dot(pars_pca['C'][idx_b,:].T)\n",
    "    corrs_est_pca[m] = np.corrcoef(Qf.reshape(-1), Qr.reshape(-1))[0,1]\n",
    "   "
   ]
  },
  {
   "cell_type": "markdown",
   "metadata": {},
   "source": [
    "# (comparison full vs. partial)"
   ]
  },
  {
   "cell_type": "code",
   "execution_count": null,
   "metadata": {
    "collapsed": false,
    "scrolled": true
   },
   "outputs": [],
   "source": [
    "plt.figure(figsize=(3, 2))\n",
    "taus = lag_range\n",
    "plt.plot(taus, corrs_est_full, 'd-', color='b')\n",
    "#plt.plot(taus, corrs_true, 'o-', color='k')\n",
    "plt.hold(True)\n",
    "plt.plot(taus, corrs_est_partial, 'd-', color='r')\n",
    "#plt.plot(taus, corrs_est_pca, 'd-', color='k')\n",
    "plt.axis([-0.5, np.max(taus)+0.5, 0.8, 1])\n",
    "plt.legend(('fully obs. fit', 'part. obs. fit', 'part. obs. PCA'), 'lower left')\n",
    "plt.legend\n",
    "plt.xlabel('time-lag [frames]')\n",
    "plt.ylabel('corr(\\cov(y_{t+tau}, y_t), C X_tau C'')')\n",
    "\n",
    "ax = plt.subplot(111)\n",
    "ax.get_xaxis().tick_bottom()    \n",
    "ax.get_yaxis().tick_left()    \n",
    "\n",
    "plt.yticks(np.arange(0.80, 1.01, 0.05), [str(x) for x in np.arange(0.80, 1.01, 0.05)], fontsize=14)    \n",
    "plt.xticks(taus, [str(x) for x in taus], fontsize=14)\n",
    "\n",
    "\n",
    "ax.get_xaxis().tick_bottom()    \n",
    "ax.get_yaxis().tick_left()    \n",
    "\n",
    "plt.tick_params(axis=\"both\", which=\"both\", top=\"off\", right=\"off\", labelleft=\"on\")    \n",
    "#plt.box('off')\n",
    "\n",
    "plt.savefig(fig_path + 'c_simulated_performance.pdf', bbox_inches=\"tight\"); \n",
    "plt.show()"
   ]
  },
  {
   "cell_type": "markdown",
   "metadata": {},
   "source": [
    "# (comparison full vs. partial vs. partial PCA vs. ground-truth)"
   ]
  },
  {
   "cell_type": "code",
   "execution_count": null,
   "metadata": {
    "collapsed": false
   },
   "outputs": [],
   "source": [
    "plt.figure(figsize=(6, 4))\n",
    "taus = lag_range\n",
    "plt.plot(taus, corrs_true, 'd-', color='g')\n",
    "plt.plot(taus, corrs_est_full, 'd-', color='b')\n",
    "plt.hold(True)\n",
    "plt.plot(taus, corrs_est_partial, 'd-', color='r')\n",
    "plt.plot(taus, corrs_est_pca, 'd-', color='k')\n",
    "\n",
    "\n",
    "plt.legend(('ground-truth par.','fully obs. fit', 'part. obs. fit', 'part. obs. PCA'), 'lower left')\n",
    "plt.legend\n",
    "plt.xlabel('time-lag [frames]')\n",
    "plt.ylabel('corr(\\cov(y_{t+tau}, y_t), C X_tau C'')')\n",
    "\n",
    "ax = plt.subplot(111)\n",
    "ax.get_xaxis().tick_bottom()    \n",
    "ax.get_yaxis().tick_left()    \n",
    "\n",
    "plt.axis([-0.5, np.max(taus)+0.5, -0.3, 1.01])\n",
    "plt.yticks(np.arange(-0.2, 1.01, 0.25), [str(x) for x in np.arange(-0.20, 1.01, 0.25)], fontsize=14)    \n",
    "plt.xticks(taus, [str(x) for x in taus], fontsize=14)\n",
    "  \n",
    "\n",
    "ax.get_xaxis().tick_bottom()    \n",
    "ax.get_yaxis().tick_left()    \n",
    "\n",
    "plt.tick_params(axis=\"both\", which=\"both\", top=\"off\", right=\"off\", labelleft=\"on\")    \n",
    "#plt.box('off')\n",
    "\n",
    "plt.savefig(fig_path + 'c_simulated_performance_pca_grtr.pdf', bbox_inches=\"tight\"); \n",
    "plt.show()\n"
   ]
  },
  {
   "cell_type": "code",
   "execution_count": null,
   "metadata": {
    "collapsed": true
   },
   "outputs": [],
   "source": [
    "\n",
    "\n",
    "\n",
    "\n",
    "\n",
    "\n",
    "\n",
    "\n",
    "\n",
    "\n",
    "\n",
    "\n",
    "\n",
    "\n",
    "\n",
    "\n",
    "\n",
    "\n",
    "\n",
    "\n",
    "\n",
    "\n",
    "\n",
    "\n",
    "\n",
    "\n",
    "\n"
   ]
  },
  {
   "cell_type": "markdown",
   "metadata": {},
   "source": [
    "\n",
    "\n",
    "\n",
    "\n",
    "\n",
    "\n",
    "\n",
    "# d) real data"
   ]
  },
  {
   "cell_type": "code",
   "execution_count": null,
   "metadata": {
    "collapsed": false
   },
   "outputs": [],
   "source": [
    "\n",
    "data_path = '../fits/lsfm/grid_quick/'\n",
    "fig_path = '../figs/'\n",
    "\n",
    "tmp = np.load(data_path + 'stitch_2pops_zsplit_6_lags.npz')\n",
    "p,n,T = tmp['p'],tmp['n'],tmp['T']\n",
    "lag_range = tmp['lag_range']\n",
    "pars_est_partial = tmp['pars_est'].tolist()\n",
    "sub_pops = tmp['sub_pops']\n",
    "obs_pops = np.arange(len(sub_pops))\n",
    "obs_time = T//len(sub_pops) * np.arange(1,len(sub_pops)+1)\n",
    "    \n",
    "tmp = np.load(data_path + 'full_2pops_zsplit_6_lags.npz')\n",
    "pars_est_full = tmp['pars_est'].tolist()\n",
    "y = np.memmap(data_path+'y_zscore', dtype=np.float, mode='r', shape=(T,p))\n",
    "\n"
   ]
  },
  {
   "cell_type": "code",
   "execution_count": null,
   "metadata": {
    "collapsed": false
   },
   "outputs": [],
   "source": [
    "nz, nx, ny = 41, 1024, 2048\n",
    "filename = '/home/mackelab/data/dOMR0_20150414_112406/TM00000_CM0_CHN00.stack'\n",
    "stack = np.fromfile(filename, dtype=np.float16).reshape(nz, nx, ny).astype(dtype=np.float32)\n",
    "\n",
    "def sig(x):\n",
    "    #return 1/(1+np.exp(-x/2.))\n",
    "    return x\n",
    "\n",
    "for z in range(nz):\n",
    "    plt.figure(figsize=(4,5))\n",
    "    plt.imshow( sig((stack[z,:,:].T-stack[z,:,:].mean())/np.sqrt(np.var(stack[z,:,:]))), interpolation='None')\n",
    "    plt.gray()\n",
    "    plt.title('z =' + str(z), fontsize=14)\n",
    "    plt.yticks([0, 1024, 2048], [str(x) for x in [0, 1024, 2048]], fontsize=14)\n",
    "    plt.xticks([0, 1024], [str(x) for x in [0, 1024]], fontsize=14)\n",
    "    plt.savefig(fig_path + 'd_frame0_raw_z'+ str(z+1) +'.pdf', bbox_inches=\"tight\");     \n",
    "    plt.show()"
   ]
  },
  {
   "cell_type": "markdown",
   "metadata": {},
   "source": [
    "# d) quality of fit (snippets of covariance matrices)"
   ]
  },
  {
   "cell_type": "code",
   "execution_count": null,
   "metadata": {
    "collapsed": false
   },
   "outputs": [],
   "source": [
    "nshow = 10\n",
    "idx_a_show = np.setdiff1d(np.arange(p), sub_pops[1])\n",
    "idx_b_show = np.setdiff1d(np.arange(p), sub_pops[0])\n",
    "\n",
    "idx_a_show = idx_a_show[np.random.choice(len(idx_a_show), nshow, replace=False)]\n",
    "idx_b_show = idx_b_show[np.random.choice(len(idx_b_show), nshow, replace=False)]\n",
    "\n",
    "\n",
    "kl_ = np.max(lag_range)+1\n",
    "for m in range(1):\n",
    "    print('computing time-lagged covariance for lag ', str(m))\n",
    "    m_ = lag_range[m]\n",
    "    \n",
    "    Qr = np.cov(y[m_:m_-kl_,idx_a_show].T, y[:-kl_,idx_b_show].T)[:idx_a_show.size,idx_b_show.size:]\n",
    "    Qf = (pars_est_full['C'][idx_a_show,:].dot(pars_est_full['X'][:n,:]).dot(pars_est_full['C'][idx_b_show,:].T)) + np.diag(pars_est_full['R'])[np.ix_(idx_a_show,idx_b_show)]\n",
    "    Qp = (pars_est_partial['C'][idx_a_show,:].dot(pars_est_partial['X'][:n,:]).dot(pars_est_partial['C'][idx_b_show,:].T)) + np.diag(pars_est_full['R'])[np.ix_(idx_a_show,idx_b_show)]\n",
    "\n",
    "    cm = np.min((Qr.min(), Qf.min(), Qp.min()))\n",
    "    cM = np.max((Qr.max(), Qf.max(), Qp.max()))\n",
    "    \n",
    "    plt.figure(figsize=(3, 3))\n",
    "    plt.imshow(Qr, interpolation = 'None')\n",
    "    plt.colorbar()\n",
    "    plt.clim(cm, cM)\n",
    "    plt.gray()\n",
    "    plt.title('true')\n",
    "    plt.savefig(fig_path + 'd_lsfm_true_cov.pdf', bbox_inches=\"tight\");     \n",
    "    plt.show()\n",
    "    \n",
    "\n",
    "    plt.figure(figsize=(3, 3))\n",
    "    plt.imshow(Qf, interpolation = 'None')\n",
    "    plt.colorbar()\n",
    "    plt.clim(cm, cM)\n",
    "    plt.gray()\n",
    "    plt.title('full')\n",
    "    plt.savefig(fig_path + 'd_lsfm_full_cov.pdf', bbox_inches=\"tight\");     \n",
    "    plt.show()\n",
    "    \n",
    "\n",
    "    plt.figure(figsize=(3, 3))\n",
    "    plt.imshow(Qp, interpolation = 'None')\n",
    "    plt.colorbar()\n",
    "    plt.clim(cm, cM)\n",
    "    plt.gray()\n",
    "    plt.title('stitch')\n",
    "    plt.savefig(fig_path + 'd_lsfm_stitch_cov.pdf', bbox_inches=\"tight\");     \n",
    "    plt.savefig(fig_path + 'd_lsfm_stitch_cov.pdf', bbox_inches=\"tight\");     \n",
    "    plt.show()\n"
   ]
  },
  {
   "cell_type": "markdown",
   "metadata": {},
   "source": [
    "# d) combining fully / partially obs traces tau vs. corr"
   ]
  },
  {
   "cell_type": "code",
   "execution_count": null,
   "metadata": {
    "collapsed": true
   },
   "outputs": [],
   "source": [
    "from sklearn.decomposition import PCA\n",
    "y_masked = np.memmap(data_path+'y_zscore', dtype=np.float, mode='c', shape=(T,p))\n",
    "y_masked[:obs_time[0], np.setdiff1d(np.arange(p), sub_pops[obs_pops[0]])] = 0\n",
    "for i in range(1,len(obs_time)):\n",
    "    y_masked[np.ix_(np.arange(obs_time[i-1],obs_time[i]), np.setdiff1d(np.arange(p), sub_pops[obs_pops[i]]))] = 0\n",
    "    \n",
    "pca = PCA()\n",
    "pca.fit(y_masked)\n",
    "del y_masked\n",
    "pars_pca = {}\n",
    "pars_pca['C'] = pca.components_[:n].T\n",
    "pars_pca['Pi'] = np.diag(pca.explained_variance_[:n])    \n",
    "\n",
    "print('done PCA')"
   ]
  },
  {
   "cell_type": "code",
   "execution_count": null,
   "metadata": {
    "collapsed": false
   },
   "outputs": [],
   "source": [
    "idx_a = np.setdiff1d(np.arange(p), sub_pops[1])\n",
    "idx_b = np.setdiff1d(np.arange(p), sub_pops[0])\n",
    "pa, pb = idx_a.size, idx_b.size\n",
    "\n",
    "\n",
    "corrs_est_full, corrs_est_partial = np.zeros(len(lag_range)), np.zeros(len(lag_range))\n",
    "corrs_est_pca = np.zeros(len(lag_range))\n",
    "kl_ = np.max(lag_range)+1\n",
    "for m in range(len(lag_range)):\n",
    "    m_ = lag_range[m]\n",
    "    print('computing time-lagged covariance for lag ', str(m_))\n",
    "    Q = np.cov(y[m_:m_-kl_,idx_a].T, y[:-kl_,idx_b].T)[:pa,pa:]     \n",
    "    Qf= np.cov(y[m_:m_-kl_,idx_a].T, y[:-kl_,idx_b].T)[:pa,pa:]   \n",
    "    \n",
    "    Qr = pars_est_full['C'][idx_a,:].dot(pars_est_full['X'][m*n:(m+1)*n,:]).dot(pars_est_full['C'][idx_b,:].T)\n",
    "\n",
    "    corrs_est_full[m] = np.corrcoef(Qf.reshape(-1), Qr.reshape(-1))[0,1]\n",
    "\n",
    "    Qr = pars_est_partial['C'][idx_a,:].dot(pars_est_partial['X'][m*n:(m+1)*n,:]).dot(pars_est_partial['C'][idx_b,:].T)\n",
    "\n",
    "    corrs_est_partial[m] = np.corrcoef(Qf.reshape(-1), Qr.reshape(-1))[0,1]\n",
    "    \n",
    "    Qr = pars_pca['C'][idx_a,:].dot(pars_pca['Pi']).dot(pars_pca['C'][idx_b,:].T)\n",
    "    corrs_est_pca[m] = np.corrcoef(Qf.reshape(-1), Qr.reshape(-1))[0,1]\n"
   ]
  },
  {
   "cell_type": "code",
   "execution_count": null,
   "metadata": {
    "collapsed": false
   },
   "outputs": [],
   "source": [
    "np.diag(pars_pca['Pi'])"
   ]
  },
  {
   "cell_type": "markdown",
   "metadata": {},
   "source": [
    "# (comparison full vs. partial)"
   ]
  },
  {
   "cell_type": "code",
   "execution_count": null,
   "metadata": {
    "collapsed": false
   },
   "outputs": [],
   "source": [
    "plt.figure(figsize=(3, 2))\n",
    "taus = lag_range\n",
    "plt.plot(taus, corrs_est_full, 'd-', color='b')\n",
    "#plt.plot(taus, corrs_true, 'o-', color='k')\n",
    "plt.hold(True)\n",
    "plt.plot(taus, corrs_est_partial, 'd-', color='r')\n",
    "\n",
    "plt.axis([-0.5, np.max(taus)+0.5, 0.45, 0.67])\n",
    "\n",
    "plt.legend(('fully obs. fit', 'part. obs. fit'), 'upper right')\n",
    "plt.legend\n",
    "plt.xlabel('time-lag [frames]')\n",
    "plt.ylabel('corr(\\cov(y_{t+tau}, y_t), C X_tau C'')')\n",
    "\n",
    "ax = plt.subplot(111)\n",
    "ax.get_xaxis().tick_bottom()    \n",
    "ax.get_yaxis().tick_left()    \n",
    "\n",
    "plt.yticks(np.arange(0.45, 0.66, 0.1), [str(x) for x in np.arange(0.45, 0.66, 0.1)], fontsize=14)    \n",
    "plt.xticks(taus, [str(x) for x in taus], fontsize=14)\n",
    "\n",
    "ax.get_xaxis().tick_bottom()    \n",
    "ax.get_yaxis().tick_left()    \n",
    "\n",
    "plt.tick_params(axis=\"both\", which=\"both\", top=\"off\", right=\"off\", labelleft=\"on\")    \n",
    "#plt.box('off')\n",
    "\n",
    "plt.savefig(fig_path + 'd_real_performance.pdf', bbox_inches=\"tight\"); \n",
    "plt.show()"
   ]
  },
  {
   "cell_type": "markdown",
   "metadata": {},
   "source": [
    "# (comparison full vs. partial vs. partial PCA vs. ground-truth)"
   ]
  },
  {
   "cell_type": "code",
   "execution_count": null,
   "metadata": {
    "collapsed": false
   },
   "outputs": [],
   "source": [
    "plt.figure(figsize=(3, 2))\n",
    "taus = lag_range\n",
    "plt.plot(taus, corrs_est_full, 'd-', color='b')\n",
    "#plt.plot(taus, corrs_true, 'o-', color='k')\n",
    "plt.hold(True)\n",
    "plt.plot(taus, corrs_est_partial, 'd-', color='r')\n",
    "plt.plot(taus, corrs_est_pca, 'd-', color='k')\n",
    "\n",
    "plt.axis([-0.5, np.max(taus)+0.5, 0.45, 0.71])\n",
    "\n",
    "plt.legend(('fully obs. fit', 'part. obs. fit', 'part. obs. PCA'), 'upper right')\n",
    "plt.legend\n",
    "plt.xlabel('time-lag [frames]')\n",
    "plt.ylabel('corr(\\cov(y_{t+tau}, y_t), C X_tau C'')')\n",
    "\n",
    "ax = plt.subplot(111)\n",
    "ax.get_xaxis().tick_bottom()    \n",
    "ax.get_yaxis().tick_left()    \n",
    "\n",
    "plt.yticks(np.arange(0.4, 0.71, 0.1), [str(x) for x in np.arange(0.4, 0.71, 0.1)], fontsize=14)    \n",
    "plt.xticks(taus, [str(x) for x in taus], fontsize=14)\n",
    "plt.xticks(fontsize=10)    \n",
    "\n",
    "ax.get_xaxis().tick_bottom()    \n",
    "ax.get_yaxis().tick_left()    \n",
    "\n",
    "plt.tick_params(axis=\"both\", which=\"both\", top=\"off\", right=\"off\", labelleft=\"on\")    \n",
    "#plt.box('off')\n",
    "\n",
    "plt.savefig(fig_path + 'd_real_performance_pca.pdf', bbox_inches=\"tight\"); \n",
    "plt.show()"
   ]
  },
  {
   "cell_type": "code",
   "execution_count": null,
   "metadata": {
    "collapsed": true
   },
   "outputs": [],
   "source": []
  }
 ],
 "metadata": {
  "kernelspec": {
   "display_name": "Python 3",
   "language": "python",
   "name": "python3"
  },
  "language_info": {
   "codemirror_mode": {
    "name": "ipython",
    "version": 3
   },
   "file_extension": ".py",
   "mimetype": "text/x-python",
   "name": "python",
   "nbconvert_exporter": "python",
   "pygments_lexer": "ipython3",
   "version": "3.5.1"
  }
 },
 "nbformat": 4,
 "nbformat_minor": 0
}
