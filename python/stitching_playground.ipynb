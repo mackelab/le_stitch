{
 "cells": [
  {
   "cell_type": "code",
   "execution_count": 1,
   "metadata": {
    "collapsed": false
   },
   "outputs": [
    {
     "data": {
      "text/plain": [
       "'3.3.5 |Anaconda 2.2.0 (64-bit)| (default, Sep  2 2014, 13:55:40) \\n[GCC 4.4.7 20120313 (Red Hat 4.4.7-1)]'"
      ]
     },
     "execution_count": 1,
     "metadata": {},
     "output_type": "execute_result"
    }
   ],
   "source": [
    "import numpy as np\n",
    "import scipy as sp\n",
    "import sys\n",
    "\n",
    "sys.version\n"
   ]
  },
  {
   "cell_type": "code",
   "execution_count": 1,
   "metadata": {
    "collapsed": false,
    "scrolled": true
   },
   "outputs": [
    {
     "name": "stderr",
     "output_type": "stream",
     "text": [
      "./ssm_timeSeries.py:2353: RuntimeWarning: divide by zero encountered in log\n",
      "  LL = np.sum(np.log(c),axis=0) # sum over times, get Trial-dim. vector\n",
      "./ssm_timeSeries.py:2284: RuntimeWarning: invalid value encountered in double_scalars\n",
      "  while LL_new - LL_old > epsilon and stepCount < maxIter:\n"
     ]
    },
    {
     "name": "stdout",
     "output_type": "stream",
     "text": [
      "no data model. Assuming data is given by real experiment or other external source\n",
      "checking factorization of model ...\n",
      "... factorization (locally) describes directed acyclic graph\n",
      "no data model. Assuming data is given by real experiment or other external source\n",
      "checking factorization of model ...\n",
      "... factorization (locally) describes directed acyclic graph\n",
      "trying to update pars[i] for i=\n",
      "1\n",
      "selected new pars[i] is\n",
      "[array([[ 10.,   0.],\n",
      "       [  0.,  10.]])]\n"
     ]
    },
    {
     "ename": "Exception",
     "evalue": "convention: all parameters are ndarrays.",
     "output_type": "error",
     "traceback": [
      "\u001b[1;31m---------------------------------------------------------------------------\u001b[0m",
      "\u001b[1;31mException\u001b[0m                                 Traceback (most recent call last)",
      "\u001b[1;32m<ipython-input-1-86b3194fcd79>\u001b[0m in \u001b[0;36m<module>\u001b[1;34m()\u001b[0m\n\u001b[0;32m     55\u001b[0m \u001b[1;33m\u001b[0m\u001b[0m\n\u001b[0;32m     56\u001b[0m \u001b[0mt\u001b[0m \u001b[1;33m=\u001b[0m \u001b[0mtime\u001b[0m\u001b[1;33m.\u001b[0m\u001b[0mtime\u001b[0m\u001b[1;33m(\u001b[0m\u001b[1;33m)\u001b[0m\u001b[1;33m\u001b[0m\u001b[0m\n\u001b[1;32m---> 57\u001b[1;33m \u001b[0mLLs\u001b[0m \u001b[1;33m=\u001b[0m \u001b[0mseq\u001b[0m\u001b[1;33m.\u001b[0m\u001b[0manalysis1\u001b[0m\u001b[1;33m.\u001b[0m\u001b[0mfitModel\u001b[0m\u001b[1;33m(\u001b[0m\u001b[0mifPlotProgress\u001b[0m\u001b[1;33m=\u001b[0m\u001b[1;32mFalse\u001b[0m\u001b[1;33m,\u001b[0m \u001b[0mmaxIter\u001b[0m\u001b[1;33m=\u001b[0m\u001b[1;36m3\u001b[0m\u001b[1;33m,\u001b[0m \u001b[0minitPars\u001b[0m\u001b[1;33m=\u001b[0m\u001b[1;32mNone\u001b[0m\u001b[1;33m,\u001b[0m \u001b[0mepsilon\u001b[0m\u001b[1;33m=\u001b[0m\u001b[1;36m0.000001\u001b[0m\u001b[1;33m)\u001b[0m\u001b[1;33m\u001b[0m\u001b[0m\n\u001b[0m\u001b[0;32m     58\u001b[0m \u001b[0melapsedTime\u001b[0m \u001b[1;33m=\u001b[0m \u001b[0mtime\u001b[0m\u001b[1;33m.\u001b[0m\u001b[0mtime\u001b[0m\u001b[1;33m(\u001b[0m\u001b[1;33m)\u001b[0m \u001b[1;33m-\u001b[0m \u001b[0mt\u001b[0m\u001b[1;33m\u001b[0m\u001b[0m\n\u001b[0;32m     59\u001b[0m \u001b[0mprint\u001b[0m\u001b[1;33m(\u001b[0m\u001b[1;34m'elapsed time for fitting is'\u001b[0m\u001b[1;33m)\u001b[0m\u001b[1;33m\u001b[0m\u001b[0m\n",
      "\u001b[1;32m/home/mackelab/Desktop/Projects/Stitching/code/le_stitch/python/ssm_timeSeries.py\u001b[0m in \u001b[0;36mfitModel\u001b[1;34m(cls, maxIter, epsilon, initPars, ifPlotProgress, experiment, trials, times)\u001b[0m\n\u001b[0;32m    705\u001b[0m         \"\"\"\n\u001b[0;32m    706\u001b[0m         LLs = cls._model.fit(maxIter,epsilon,initPars,\n\u001b[1;32m--> 707\u001b[1;33m                              experiment,trials,times,ifPlotProgress)\n\u001b[0m\u001b[0;32m    708\u001b[0m         \u001b[1;32mreturn\u001b[0m \u001b[0mLLs\u001b[0m\u001b[1;33m\u001b[0m\u001b[0m\n\u001b[0;32m    709\u001b[0m \u001b[1;33m\u001b[0m\u001b[0m\n",
      "\u001b[1;32m/home/mackelab/Desktop/Projects/Stitching/code/le_stitch/python/ssm_timeSeries.py\u001b[0m in \u001b[0;36mfit\u001b[1;34m(cls, maxIter, epsilon, initPars, experiment, trials, times, ifPlotProgress)\u001b[0m\n\u001b[0;32m   2043\u001b[0m                                                       Cs[-1],Rs[-1]], \n\u001b[0;32m   2044\u001b[0m                                                       cls._modelDescr)\n\u001b[1;32m-> 2045\u001b[1;33m             \u001b[0mcls\u001b[0m\u001b[1;33m.\u001b[0m\u001b[0mupdatePars\u001b[0m\u001b[1;33m(\u001b[0m\u001b[0mlinkPars\u001b[0m\u001b[1;33m,\u001b[0m \u001b[0mnoisePars\u001b[0m\u001b[1;33m,\u001b[0m \u001b[0minitPars\u001b[0m\u001b[1;33m)\u001b[0m\u001b[1;33m\u001b[0m\u001b[0m\n\u001b[0m\u001b[0;32m   2046\u001b[0m \u001b[1;33m\u001b[0m\u001b[0m\n\u001b[0;32m   2047\u001b[0m             \u001b[0mprint\u001b[0m\u001b[1;33m(\u001b[0m\u001b[1;34m'data log-likelihood for parameter initializations:'\u001b[0m\u001b[1;33m)\u001b[0m\u001b[1;33m\u001b[0m\u001b[0m\n",
      "\u001b[1;32m/home/mackelab/Desktop/Projects/Stitching/code/le_stitch/python/ssm_timeSeries.py\u001b[0m in \u001b[0;36mupdatePars\u001b[1;34m(cls, linkPars, noisePars, initPars)\u001b[0m\n\u001b[0;32m   2657\u001b[0m             \u001b[1;32mfor\u001b[0m \u001b[0mi\u001b[0m \u001b[1;32min\u001b[0m \u001b[0mrange\u001b[0m\u001b[1;33m(\u001b[0m\u001b[0mxyuSubgroupTallies\u001b[0m\u001b[1;33m[\u001b[0m\u001b[1;36m1\u001b[0m\u001b[1;33m]\u001b[0m\u001b[1;33m)\u001b[0m\u001b[1;33m:\u001b[0m\u001b[1;33m\u001b[0m\u001b[0m\n\u001b[0;32m   2658\u001b[0m                 \u001b[1;32mif\u001b[0m \u001b[1;32mnot\u001b[0m \u001b[0mnoisePars\u001b[0m\u001b[1;33m[\u001b[0m\u001b[1;36m1\u001b[0m\u001b[1;33m]\u001b[0m\u001b[1;33m[\u001b[0m\u001b[0mi\u001b[0m\u001b[1;33m]\u001b[0m \u001b[1;32mis\u001b[0m \u001b[1;32mNone\u001b[0m\u001b[1;33m:\u001b[0m\u001b[1;33m\u001b[0m\u001b[0m\n\u001b[1;32m-> 2659\u001b[1;33m                     \u001b[0mnoiseDists\u001b[0m\u001b[1;33m[\u001b[0m\u001b[1;36m1\u001b[0m\u001b[1;33m]\u001b[0m\u001b[1;33m[\u001b[0m\u001b[0mi\u001b[0m\u001b[1;33m]\u001b[0m\u001b[1;33m.\u001b[0m\u001b[0mupdatePars\u001b[0m\u001b[1;33m(\u001b[0m\u001b[0mnoisePars\u001b[0m\u001b[1;33m[\u001b[0m\u001b[1;36m1\u001b[0m\u001b[1;33m]\u001b[0m\u001b[1;33m[\u001b[0m\u001b[0mi\u001b[0m\u001b[1;33m]\u001b[0m\u001b[1;33m)\u001b[0m\u001b[1;33m\u001b[0m\u001b[0m\n\u001b[0m\u001b[0;32m   2660\u001b[0m \u001b[1;33m\u001b[0m\u001b[0m\n\u001b[0;32m   2661\u001b[0m         \u001b[1;31m# ... to the initial distributions\u001b[0m\u001b[1;33m\u001b[0m\u001b[1;33m\u001b[0m\u001b[0m\n",
      "\u001b[1;32m/home/mackelab/Desktop/Projects/Stitching/code/le_stitch/python/ssm_timeSeries.py\u001b[0m in \u001b[0;36mupdatePars\u001b[1;34m(cls, pars, idxParsIn)\u001b[0m\n\u001b[0;32m   4815\u001b[0m                 \u001b[0mprint\u001b[0m\u001b[1;33m(\u001b[0m\u001b[1;34m'selected new pars[i] is'\u001b[0m\u001b[1;33m)\u001b[0m\u001b[1;33m\u001b[0m\u001b[0m\n\u001b[0;32m   4816\u001b[0m                 \u001b[0mprint\u001b[0m\u001b[1;33m(\u001b[0m\u001b[0mpars\u001b[0m\u001b[1;33m[\u001b[0m\u001b[0midxParsIn\u001b[0m\u001b[1;33m[\u001b[0m\u001b[0mi\u001b[0m\u001b[1;33m]\u001b[0m\u001b[1;33m]\u001b[0m\u001b[1;33m)\u001b[0m\u001b[1;33m\u001b[0m\u001b[0m\n\u001b[1;32m-> 4817\u001b[1;33m                 \u001b[1;32mraise\u001b[0m \u001b[0mException\u001b[0m\u001b[1;33m(\u001b[0m\u001b[1;34m'convention: all parameters are ndarrays.'\u001b[0m\u001b[1;33m)\u001b[0m\u001b[1;33m\u001b[0m\u001b[0m\n\u001b[0m\u001b[0;32m   4818\u001b[0m             \u001b[1;32melif\u001b[0m \u001b[0mpars\u001b[0m\u001b[1;33m[\u001b[0m\u001b[0midxParsIn\u001b[0m\u001b[1;33m[\u001b[0m\u001b[0mi\u001b[0m\u001b[1;33m]\u001b[0m\u001b[1;33m]\u001b[0m\u001b[1;33m.\u001b[0m\u001b[0mshape\u001b[0m\u001b[1;33m==\u001b[0m\u001b[0mcls\u001b[0m\u001b[1;33m.\u001b[0m\u001b[0m_pars\u001b[0m\u001b[1;33m[\u001b[0m\u001b[0midxParsIn\u001b[0m\u001b[1;33m[\u001b[0m\u001b[0mi\u001b[0m\u001b[1;33m]\u001b[0m\u001b[1;33m]\u001b[0m\u001b[1;33m.\u001b[0m\u001b[0mshape\u001b[0m\u001b[1;33m:\u001b[0m\u001b[1;33m\u001b[0m\u001b[0m\n\u001b[0;32m   4819\u001b[0m                 \u001b[0mcls\u001b[0m\u001b[1;33m.\u001b[0m\u001b[0m_pars\u001b[0m\u001b[1;33m[\u001b[0m\u001b[0midxParsIn\u001b[0m\u001b[1;33m[\u001b[0m\u001b[0mi\u001b[0m\u001b[1;33m]\u001b[0m\u001b[1;33m]\u001b[0m \u001b[1;33m=\u001b[0m \u001b[0mpars\u001b[0m\u001b[1;33m[\u001b[0m\u001b[0midxParsIn\u001b[0m\u001b[1;33m[\u001b[0m\u001b[0mi\u001b[0m\u001b[1;33m]\u001b[0m\u001b[1;33m]\u001b[0m\u001b[1;33m.\u001b[0m\u001b[0mcopy\u001b[0m\u001b[1;33m(\u001b[0m\u001b[1;33m)\u001b[0m\u001b[1;33m\u001b[0m\u001b[0m\n",
      "\u001b[1;31mException\u001b[0m: convention: all parameters are ndarrays."
     ]
    }
   ],
   "source": [
    "%matplotlib inline\n",
    "import numpy as np\n",
    "import scipy as sp\n",
    "import matplotlib\n",
    "import matplotlib.pyplot as plt\n",
    "import time\n",
    "\n",
    "import ssm_timeSeries as ts  # my self-written time series overhead\n",
    "\n",
    "from IPython import display  # for live plotting\n",
    "\n",
    "import random\n",
    "from datetime import datetime     # generate random seed for \n",
    "random.seed(datetime.now())       # np.random. Once this is fixed, all \n",
    "rngSeed = random.randint(0, 1000) # other 'randomness' is also fixed\n",
    "\n",
    "from scipy.io import savemat # store results for comparison with Matlab code\n",
    "\n",
    "xDim = 2\n",
    "yDim = 2\n",
    "while True:\n",
    "    W    = np.random.normal(size=[xDim,xDim])\n",
    "    if np.abs(np.linalg.det(W)) > 0.001:\n",
    "        break\n",
    "A    = np.diag(np.linspace(0.2,0.95,xDim))  #np.diag(np.random.uniform(size=[xDim]))\n",
    "A    = np.dot(np.dot(W, A), np.linalg.inv(W))\n",
    "Q    = np.identity(xDim)\n",
    "mu0  = np.ones(xDim) #np.random.normal(size=[xDim])\n",
    "V0   = np.identity(xDim)\n",
    "C = np.random.normal(size=[yDim, xDim])\n",
    "R = 5 * np.identity(yDim)\n",
    "\n",
    "T = 1000\n",
    "seq = ts.setStateSpaceModel('LDS', [xDim,yDim], [A,Q,mu0,V0,C,R])  # initiate true model\n",
    "seq.giveEmpirical().addData(1,T,rngSeed)                           # draw toy data\n",
    "\n",
    "# initiate parameters for analysis model\n",
    "A_0   = np.diag(np.random.uniform(size=[xDim])) #A\n",
    "Q_0   = 10*np.identity(xDim)               #Q\n",
    "mu0_0 = 5*np.random.normal(size=[xDim])   #mu0\n",
    "V0_0  = 10*np.identity(xDim)               #V0\n",
    "C_0   = np.random.normal(size=[yDim,xDim]) #C\n",
    "R_0   = 10*np.identity(yDim)               #R\n",
    "\n",
    "seq = ts.setStateSpaceModel('LDS', [xDim,yDim], [A_0,Q_0,mu0_0,V0_0,C_0,R_0], seq) # adds analysis model .analysis1\n",
    "model = seq.analysis1.giveModel()                                                        # just get the pointer to the object\n",
    "\n",
    "# check implementation of E- and M- step by doing one such step each:\n",
    "x = seq.giveEmpirical().giveData().giveTracesX()\n",
    "y = seq._empirical._data.giveTracesY()                                             # get pointer to data\n",
    "obsScheme = seq._empirical._data.giveObservationScheme()\n",
    "[Ext, Extxt, Extxtm1,LL0]    = model._LDS_E_step(A_0,Q_0,mu0_0,V0_0,[C_0],[R_0], y, obsScheme)    # do one E-step \n",
    "[A_1,Q_1,mu0_1,V0_1,C_1,R_1] = model._LDS_M_step(Ext, Extxt, Extxtm1, y, obsScheme)           # do one M-step\n",
    "[Ext1, Extxt1, Extxtm11,LL1] = model._LDS_E_step(A_1,Q_1,mu0_1,V0_1,C_1,R_1, y, obsScheme)    # do another E-step\n",
    "\n",
    "t = time.time()\n",
    "LLs = seq.analysis1.fitModel(ifPlotProgress=False, maxIter=3, initPars=None, epsilon=0.000001)\n",
    "elapsedTime = time.time() - t\n",
    "print('elapsed time for fitting is')\n",
    "print(elapsedTime)\n",
    "[A_h,Q_h,mu0_h,V0_h,C_h,R_h] = model.givePars().copy()\n",
    "\n",
    "[Ext_true, Extxt_true, Extxtm1_true, LLtr] = model._LDS_E_step(A,Q,mu0,V0,C,R, y)\n",
    "[Ext_h, Extxt_h, Extxtm1_h, LL_h]          = model._LDS_E_step(A_h,Q_h,mu0_h,V0_h,C_h,R_h, y)\n",
    "\n",
    "\n",
    "Pi_h    = np.array([sp.linalg.solve_discrete_lyapunov(A_h, Q_h)])[0,:,:]\n",
    "Pi_t_h  = np.dot(A_h.transpose(), Pi_h)\n",
    "\n",
    "Pi    = np.array([sp.linalg.solve_discrete_lyapunov(A, Q)])[0,:,:]\n",
    "Pi_t  = np.dot(A.transpose(), Pi)\n",
    "\n",
    "dataCov  = np.cov(y[:,0:T-1,0], y[:,1:T,0])\n",
    "covyy    = dataCov[np.ix_(np.arange(0, yDim), np.arange(0,     yDim))]\n",
    "covyy_m1 = dataCov[np.ix_(np.arange(0, yDim), np.arange(yDim,2*yDim))]\n",
    "m = dataCov.min()\n",
    "M = dataCov.max()\n",
    "\n",
    "plt.figure(1)\n",
    "cmap = matplotlib.cm.get_cmap('brg')\n",
    "clrs = [cmap(i) for i in np.linspace(0, 1, xDim)]\n",
    "for i in range(xDim):\n",
    "    plt.subplot(xDim,1,i)\n",
    "    plt.plot(x[i,:,0], color=clrs[i])\n",
    "    plt.hold(True)\n",
    "    if np.mean( np.square(x[i,:,0] - Ext_h[i,:,0]) ) < np.mean( np.square(x[i,:,0] + Ext_h[i,:,0]) ):\n",
    "        plt.plot( Ext_h[i,:,0], color=clrs[i], ls=':')\n",
    "    else:\n",
    "        plt.plot(-Ext_h[i,:,0], color=clrs[i], ls=':')\n",
    "plt.figure(2)\n",
    "plt.subplot(1,3,1)\n",
    "plt.imshow(np.dot(np.dot(C_h, Pi_h), C_h.transpose()) + R_h, interpolation='none')\n",
    "plt.title('\\hat{C}\\hat{\\Pi_{tt}}}\\hat{C}^T')\n",
    "plt.clim(m,M)\n",
    "plt.subplot(1,3,2)\n",
    "plt.imshow(covyy,    interpolation='none')\n",
    "plt.title('cov(y_t,y_t)')\n",
    "plt.clim(m,M)\n",
    "plt.subplot(1,3,3)\n",
    "plt.imshow(np.dot(np.dot(C, Pi), C.transpose()) + R, interpolation='none')\n",
    "plt.title('{C}{\\Pi_{tt}}}{C}^T')\n",
    "plt.clim(m,M)\n",
    "plt.figure(3)\n",
    "plt.subplot(1,3,1)\n",
    "plt.imshow(np.dot(np.dot(C_h, Pi_t_h), C_h.transpose()), interpolation='none')\n",
    "plt.title('\\hat{C}\\hat{\\Pi_{t-1,t-1}}}\\hat{C}^T')\n",
    "plt.clim(m,M)\n",
    "plt.subplot(1,3,2)\n",
    "plt.imshow(covyy_m1,    interpolation='none')\n",
    "plt.title('cov(y_t,y_{t-1})')\n",
    "plt.clim(m,M)\n",
    "plt.subplot(1,3,3)\n",
    "plt.imshow(np.dot(np.dot(C, Pi_t), C.transpose()), interpolation='none')\n",
    "plt.title('{C}{\\Pi_{t-1,t-1}}}{C}^T')\n",
    "plt.clim(m,M)\n",
    "plt.figure(4)\n",
    "plt.plot(np.sort(np.linalg.eig(A)[0]), 'r')\n",
    "plt.hold(True)\n",
    "plt.plot(np.sort(np.linalg.eig(A_h)[0]), 'b')\n",
    "plt.legend(['true', 'est'])\n",
    "\n",
    "\n",
    "matlabSaveFile = {'x': x, 'y': y, \n",
    "                  'A':A, 'Q':Q, 'mu0':mu0,'V0':V0,'C':C,'R':R,\n",
    "                  'A_0':A_0, 'Q_0':Q_0, 'mu0_0':mu0_0,'V0_0':V0_0,'C_0':C_0,'R_0':R_0,\n",
    "                  'A_1':A_1, 'Q_1':Q_1, 'mu0_1':mu0_1,'V0_1':V0_1,'C_1':C_1,'R_1':R_1,\n",
    "                  #'A_h':A_h, 'Q_h':Q_h, 'mu0_h':mu0_h,'V0_h':V0_h,'C_h':C_h,'R_h':R_h,\n",
    "                  'Ext':Ext, 'Extxt':Extxt, 'Extxtm1':Extxtm1,\n",
    "                  'T':T,\n",
    "                  'LL0': LL0, 'LL1': LL1}\n",
    "savemat('LDS_data.mat',matlabSaveFile)\n"
   ]
  },
  {
   "cell_type": "code",
   "execution_count": 4,
   "metadata": {
    "collapsed": false
   },
   "outputs": [
    {
     "name": "stdout",
     "output_type": "stream",
     "text": [
      "{'subpops': [[0], [0, 1]], 'obsPops': [0, 1], 'obsTimes': array([ 500, 1000])}\n",
      "[[0], [0, 1]]\n"
     ]
    },
    {
     "data": {
      "text/plain": [
       "(2, 1000, 1)"
      ]
     },
     "execution_count": 4,
     "metadata": {},
     "output_type": "execute_result"
    }
   ],
   "source": [
    "data = seq.giveEmpirical().giveData()\n",
    "subpops = [[0], [0,1]]\n",
    "obsTimes=[int(T/2), int(T)]\n",
    "obsPops = [ 0,  1 ]\n",
    "experiment=0\n",
    "data.setObservationScheme(experiment, subpops, obsTimes, obsPops)\n",
    "print(data.giveObservationScheme(experiment=0))\n",
    "print(data._obsScheme[experiment]['subpops'])\n",
    "data.simulateObservationScheme(experiment=0)\n",
    "y = data.giveTracesYobs()\n",
    "y[:,:,0].transpose()\n",
    "y.shape"
   ]
  },
  {
   "cell_type": "code",
   "execution_count": 5,
   "metadata": {
    "collapsed": false
   },
   "outputs": [],
   "source": [
    "matlabSaveFile = {'x': x, 'y': y, \n",
    "                  'A':A, 'Q':Q, 'mu0':mu0,'V0':V0,'C':C,'R':R,\n",
    "                  'A_0':A_0, 'Q_0':Q_0, 'mu0_0':mu0_0,'V0_0':V0_0,'C_0':C_0,'R_0':R_0,\n",
    "                  'A_1':A_1, 'Q_1':Q_1, 'mu0_1':mu0_1,'V0_1':V0_1,'C_1':C_1,'R_1':R_1,\n",
    "                  #'A_h':A_h, 'Q_h':Q_h, 'mu0_h':mu0_h,'V0_h':V0_h,'C_h':C_h,'R_h':R_h,\n",
    "                  'Ext':Ext, 'Extxt':Extxt, 'Extxtm1':Extxtm1,\n",
    "                  'T':T,\n",
    "                  'LL0': LL0, 'LL1': LL1}\n",
    "savemat('LDS_data.mat',matlabSaveFile)"
   ]
  },
  {
   "cell_type": "code",
   "execution_count": 6,
   "metadata": {
    "collapsed": false
   },
   "outputs": [
    {
     "data": {
      "text/plain": [
       "1000.0"
      ]
     },
     "execution_count": 6,
     "metadata": {},
     "output_type": "execute_result"
    }
   ],
   "source": [
    "obsScheme['obsTime'][0]"
   ]
  }
 ],
 "metadata": {
  "kernelspec": {
   "display_name": "Python 3",
   "language": "python",
   "name": "python3"
  },
  "language_info": {
   "codemirror_mode": {
    "name": "ipython",
    "version": 3
   },
   "file_extension": ".py",
   "mimetype": "text/x-python",
   "name": "python",
   "nbconvert_exporter": "python",
   "pygments_lexer": "ipython3",
   "version": "3.3.5"
  }
 },
 "nbformat": 4,
 "nbformat_minor": 0
}
