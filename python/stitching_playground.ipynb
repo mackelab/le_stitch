{
 "cells": [
  {
   "cell_type": "code",
   "execution_count": null,
   "metadata": {
    "collapsed": false,
    "scrolled": true
   },
   "outputs": [
    {
     "name": "stdout",
     "output_type": "stream",
     "text": [
      "(800, 800)\n",
      "Warning: Using full data information for initialisation of C. When doing spatial stitching, this is cheating."
     ]
    }
   ],
   "source": [
    "import numpy as np\n",
    "import scipy as sp\n",
    "import matplotlib\n",
    "import matplotlib.pyplot as plt\n",
    "\n",
    "import ssm_timeSeries as ts  # my self-written time series overhead\n",
    "import ssm_fit               # my self-written library for state-space model fitting\n",
    "import ssm_scripts\n",
    "\n",
    "import random\n",
    "from datetime import datetime     # generate random seed for \n",
    "random.seed(datetime.now())       # np.random. Once this is fixed, all \n",
    "rngSeed = random.randint(0, 1000) # other 'randomness' is also fixed\n",
    "\n",
    "%matplotlib inline\n",
    "\n",
    "\n",
    "\"\"\" Set problem size \"\"\"\n",
    "\n",
    "xDim = 8\n",
    "yDim = 800\n",
    "uDim = 0\n",
    "T    = 100000\n",
    "\n",
    "idxy = np.random.choice(800, yDim, replace=False) # subsamples randomly without replacement\n",
    "                                                   # unordered, which is important to mix the modes! \n",
    "\n",
    "# happy times, we fix it:\n",
    "#idxy = np.array([29, 35, 73, 66, 55, 72, 57, 97, 94, 71, 92,  4,  3, 34,  9, 77, 47,\n",
    "#       70, 98, 21, 13, 88,  7,  1, 41, 78, 93, 39, 27, 61, 52,  2, 79, 86,\n",
    "#       49, 14,  5, 26, 82, 46, 84, 51, 10, 33, 17, 85, 18, 43, 64, 32, 91,\n",
    "#       50, 45, 48,  8, 36, 59, 24, 89, 81, 12, 96, 53, 63, 74, 37, 99, 25,\n",
    "#       67, 75,  0, 20, 68, 31, 87, 80,  6, 40, 90, 11, 44, 22, 42, 65, 76,\n",
    "#       54, 23, 16, 19, 58, 69, 28, 56, 38, 30, 62, 60, 15, 83, 95])\n",
    "\n",
    "\n",
    "from scipy.io import loadmat\n",
    "OUT = loadmat('/home/mackelab/Desktop/Projects/Stitching/data/clustered_networks/calcium_traces/calcTraces800.mat')\n",
    "yReal = OUT['y']\n",
    "yReal = yReal[np.ix_(idxy,range(T))]\n",
    "Trial=1\n",
    "yReal = yReal.reshape(yDim,T,1)\n",
    "del OUT\n",
    "\n",
    "\"\"\" Set observation protocol \"\"\"\n",
    "        \n",
    "subpops = [[], list(range(0,yDim)), list(range(0,51)),list(range(50,yDim))]\n",
    "obsTime = [1] # start with observation of\n",
    "obsPops = [1] # full population at t = 0\n",
    "\n",
    "temporalStitchingOrder = 2\n",
    "for i in range(1,int(T/3)+1): # first third of data\n",
    "    if np.mod(i,temporalStitchingOrder)==0:\n",
    "        obsTime.append(i)\n",
    "        obsPops.append(0)\n",
    "        obsTime.append(i+1)\n",
    "        obsPops.append(1)\n",
    "while obsTime[-1] >= int(T/3)+1: # if we overshoot,\n",
    "    obsTime.pop()                # just delete\n",
    "    obsPops.pop()                #\n",
    "obsTime.append(int(T/3)+1)  # fill gap with empty\n",
    "obsPops.append(0)           # subpopulation\n",
    "    \n",
    "obsTime.append(int(2*T/3)) # second and last third of data\n",
    "obsPops.append(2)          #\n",
    "obsTime.append(int(T))     # observe the two subpops densely   \n",
    "obsPops.append(3)          #      \n",
    "\n",
    "obsScheme = {'subpops': subpops,\n",
    "             'obsTime': obsTime,\n",
    "             'obsPops': obsPops}\n",
    "\n",
    "fitOptions = {'ifUseB' : False,  \n",
    "              'maxIter': 100, \n",
    "              'ifPlotProgress' : True,\n",
    "              'covConvEps' : 1e-50,\n",
    "              'ifTraceParamHist': False,\n",
    "              'ifFitA' : True,\n",
    "              'ifInitCwithPCA' : True\n",
    "             }\n",
    "\n",
    "\"\"\" Fit the model, save results \"\"\"\n",
    "\n",
    "sf = '/home/mackelab/Desktop/Projects/Stitching/results/test_problems/LDS_save'\n",
    "[yOut,xOut,u,learnedPars,initPars,truePars] = ssm_scripts.run(xDim, yDim, uDim, T, \n",
    "                                                              obsScheme, fitOptions,\n",
    "                                                              y = yReal, x = [],\n",
    "                                                              truePars=None,\n",
    "                                                              initPars=None,\n",
    "                                                              saveFile=sf)"
   ]
  },
  {
   "cell_type": "code",
   "execution_count": null,
   "metadata": {
    "collapsed": false,
    "scrolled": true
   },
   "outputs": [],
   "source": [
    "%matplotlib inline\n",
    "corry = np.corrcoef(yOut[:,:,0])\n",
    "corry.shape\n",
    "plt.figure(figsize=(16,12))\n",
    "plt.subplot(1,2,1)\n",
    "plt.imshow(corry, interpolation='none')\n",
    "plt.colorbar()\n",
    "plt.subplot(1,2,2)\n",
    "plt.plot(np.sort(corry.reshape(yDim*yDim,)))"
   ]
  },
  {
   "cell_type": "code",
   "execution_count": null,
   "metadata": {
    "collapsed": false,
    "scrolled": true
   },
   "outputs": [],
   "source": [
    "[A,B,Q,mu0,V0,C,d,R] = learnedPars \n",
    "Pi    = np.array([sp.linalg.solve_discrete_lyapunov(A, Q)])[0,:,:]\n",
    "\n",
    "covy_h= np.dot(np.dot(C, Pi), C.transpose()) + np.diag(R)\n",
    "\n",
    "y_tl = np.zeros([2*yDim,T-1])\n",
    "y_tl[range(yDim),:] = yOut[:,range(0,T-1),0]\n",
    "y_tl[range(yDim,2*yDim),:] = yOut[:,range(1,T),0]\n",
    "covy = np.cov(y_tl)\n",
    "\n",
    "covy_e=   covy[np.ix_(range(yDim),range(yDim))]\n",
    "covy_tl_e=covy[np.ix_(range(0,yDim),range(yDim,2*yDim))]\n",
    "\n",
    "covy_tl_h= np.dot(np.dot(C, np.dot(A,Pi)), C.transpose())\n",
    "\n",
    "plt.figure(1,figsize=(15,15))\n",
    "plt.subplot(2,2,1)\n",
    "plt.imshow(np.dot(np.dot(C, Pi), C.transpose()) + np.diag(R), interpolation='none')\n",
    "plt.colorbar()\n",
    "plt.title('inst. covariances est.')\n",
    "plt.subplot(2,2,2)\n",
    "plt.imshow(covy_e, interpolation='none')\n",
    "plt.title('inst. covariances true')\n",
    "plt.colorbar()\n",
    "plt.subplot(2,2,3)\n",
    "plt.imshow(np.dot(np.dot(np.dot(C, A), Pi), C.transpose()), interpolation='none' )\n",
    "plt.colorbar()\n",
    "plt.title('time-lagged. covariances est.')\n",
    "plt.subplot(2,2,4)\n",
    "plt.imshow(covy_tl_e, interpolation='none' )\n",
    "plt.colorbar()\n",
    "plt.title('time-lagged. covariances true')\n",
    "\n",
    "plt.figure(2,figsize=(15,15))\n",
    "plt.subplot(2,2,1)\n",
    "plt.plot(d)\n",
    "plt.title('d')\n",
    "plt.subplot(2,2,2)\n",
    "plt.plot(R)\n",
    "plt.legend(['true', 'est'])\n",
    "plt.title('R')\n",
    "plt.subplot(2,2,3)\n",
    "plt.plot(np.sort(np.linalg.eig(A)[0]))\n",
    "plt.title('eig(A)')\n",
    "plt.subplot(2,2,4)\n"
   ]
  },
  {
   "cell_type": "code",
   "execution_count": null,
   "metadata": {
    "collapsed": false,
    "scrolled": true
   },
   "outputs": [],
   "source": [
    "%matplotlib inline\n",
    "idxStitched = np.ones([yDim,yDim],dtype = bool)\n",
    "for i in range(len(obsScheme['subpops'])):\n",
    "    if len(obsScheme['subpops'][i])>0:\n",
    "        idxStitched[np.ix_(obsScheme['subpops'][i],obsScheme['subpops'][i])] = False\n",
    "\n",
    "\n",
    "plt.imshow(idxStitched,interpolation='none')"
   ]
  },
  {
   "cell_type": "code",
   "execution_count": null,
   "metadata": {
    "collapsed": false
   },
   "outputs": [],
   "source": [
    "\n",
    "    \n",
    "%matplotlib inline\n",
    "plt.figure(1, figsize=(15,8))\n",
    "plt.plot(covy_e[np.invert(idxStitched)], covy_h[np.invert(idxStitched)], '.')\n",
    "plt.title('emp vs. stitched')\n",
    "\n",
    "plt.figure(2, figsize=(15,8))\n",
    "plt.plot(covy_tl_e[np.invert(idxStitched)], covy_tl_h[np.invert(idxStitched)], '.')\n",
    "plt.title('emp vs. stitched')\n",
    "\n",
    "plt.figure(3, figsize=(15,8))\n",
    "plt.plot(covy_e[idxStitched], covy_h[idxStitched], '.')\n",
    "plt.title('emp vs. stitched')\n",
    "\n",
    "plt.figure(4, figsize=(15,8))\n",
    "plt.plot(covy_tl_e[idxStitched], covy_tl_h[idxStitched], '.')\n",
    "plt.title('emp vs. stitched')\n"
   ]
  },
  {
   "cell_type": "code",
   "execution_count": null,
   "metadata": {
    "collapsed": true
   },
   "outputs": [],
   "source": []
  }
 ],
 "metadata": {
  "kernelspec": {
   "display_name": "Python 3",
   "language": "python",
   "name": "python3"
  },
  "language_info": {
   "codemirror_mode": {
    "name": "ipython",
    "version": 3
   },
   "file_extension": ".py",
   "mimetype": "text/x-python",
   "name": "python",
   "nbconvert_exporter": "python",
   "pygments_lexer": "ipython3",
   "version": "3.3.5"
  }
 },
 "nbformat": 4,
 "nbformat_minor": 0
}
