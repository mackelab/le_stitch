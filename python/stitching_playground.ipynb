{
 "cells": [
  {
   "cell_type": "code",
   "execution_count": 2,
   "metadata": {
    "collapsed": false,
    "scrolled": true
   },
   "outputs": [
    {
     "name": "stdout",
     "output_type": "stream",
     "text": [
      "elapsed time for fitting is\n",
      "1878.0341231822968\n"
     ]
    },
    {
     "data": {
      "image/png": "[encoded data removed]",
      "text/plain": [
       "<matplotlib.figure.Figure at 0x7fab1cd7bd50>"
      ]
     },
     "metadata": {},
     "output_type": "display_data"
    },
    {
     "data": {
      "text/plain": [
       "<matplotlib.figure.Figure at 0x7fab1b0f3990>"
      ]
     },
     "metadata": {},
     "output_type": "display_data"
    }
   ],
   "source": [
    "import numpy as np\n",
    "import scipy as sp\n",
    "import matplotlib\n",
    "import matplotlib.pyplot as plt\n",
    "\n",
    "import ssm_timeSeries as ts  # my self-written time series overhead\n",
    "import ssm_fit               # my self-written library for state-space model fitting\n",
    "import ssm_scripts\n",
    "\n",
    "import random\n",
    "from datetime import datetime     # generate random seed for \n",
    "random.seed(datetime.now())       # np.random. Once this is fixed, all \n",
    "rngSeed = random.randint(0, 1000) # other 'randomness' is also fixed\n",
    "\n",
    "%matplotlib inline\n",
    "\n",
    "\n",
    "yDim = 15\n",
    "xDim = 5\n",
    "uDim = 0\n",
    "\n",
    "T = 100000\n",
    "Trial = 1\n",
    "\n",
    "#subpops = [list(range(0,yDim)), list(range(0,yDim))]\n",
    "#obsTime = [int(T/2), T]\n",
    "#obsPops = [1,0]\n",
    "\n",
    "subpops = [list(range(0,yDim)), []]\n",
    "obsPops = []\n",
    "obsTime = []\n",
    "for t in range(1,T+1):\n",
    "    obsTime.append(t)\n",
    "    if np.mod(t,2)==0:\n",
    "        obsPops.append(0)\n",
    "    elif np.mod(t,2)==1:\n",
    "        obsPops.append(1)\n",
    "#for t in range(1,int(T/2+1)):\n",
    "#    obsTime.append(t)\n",
    "#    if np.mod(t,2)==0:\n",
    "#        obsPops.append(0)\n",
    "#    elif np.mod(t,2)==1:\n",
    "#        obsPops.append(1)\n",
    "#obsTime.append(T)        \n",
    "#obsPops.append(1)\n",
    "    \n",
    "obsScheme = {'subpops': subpops,\n",
    "             'obsTime': obsTime,\n",
    "             'obsPops': obsPops}\n",
    "\n",
    "fitOptions = {'ifUseB' : False,  \n",
    "              'maxIter': 50, \n",
    "              'ifPlotProgress' : True,\n",
    "              'covConvEps' : 0,\n",
    "              'ifTraceParamHist': False\n",
    "             }\n",
    "\n",
    "sf = '/home/mackelab/Desktop/Projects/Stitching/results/test_problems/LDS_save.mat'\n",
    "[yOut,xOut,u,learnedPars,initPars,truePars] = ssm_scripts.run(xDim, yDim, uDim, T, obsScheme, fitOptions,saveFile=sf)\n",
    "\n"
   ]
  },
  {
   "cell_type": "code",
   "execution_count": 10,
   "metadata": {
    "collapsed": false
   },
   "outputs": [
    {
     "name": "stdout",
     "output_type": "stream",
     "text": [
      "[ 0.8751961   0.34130984  0.77311261  0.94072794  0.83902154]\n"
     ]
    }
   ],
   "source": [
    "[A_0,B_0,Q_0,mu0_0, V0_0, C_0,d_0,R_0] = initPars\n",
    "[A_h,B_h,Q_h,mu0_h, V0_h, C_h,d_h,R_h] = learnedPars\n",
    "[A,B,Q,mu0, V0, C,d,R] = truePars\n",
    "\n",
    "print(np.linalg.eig(A_0)[0])\n",
    "\n"
   ]
  },
  {
   "cell_type": "code",
   "execution_count": 52,
   "metadata": {
    "collapsed": false
   },
   "outputs": [
    {
     "name": "stdout",
     "output_type": "stream",
     "text": [
      "no data model. Assuming data is given by real experiment or other external source\n",
      "checking factorization of model ...\n",
      "... factorization (locally) describes directed acyclic graph\n"
     ]
    }
   ],
   "source": [
    "import numpy as np\n",
    "import scipy as sp\n",
    "import matplotlib\n",
    "import matplotlib.pyplot as plt\n",
    "from scipy.io import savemat # store results for comparison with Matlab code   \n",
    "\n",
    "import ssm_timeSeries as ts  # my self-written time series overhead\n",
    "import ssm_fit               # my self-written library for state-space model fitting\n",
    "import ssm_scripts\n",
    "\n",
    "import random\n",
    "from datetime import datetime     # generate random seed for \n",
    "random.seed(datetime.now())       # np.random. Once this is fixed, all \n",
    "rngSeed = random.randint(0, 1000) # other 'randomness' is also fixed\n",
    "\n",
    "%matplotlib inline\n",
    "\n",
    "yDim = 6\n",
    "xDim = 3\n",
    "uDim = 0\n",
    "\n",
    "T = 10000\n",
    "Trial = 1\n",
    "\n",
    "subpops = [list(range(0,yDim)), []]\n",
    "obsPops = []\n",
    "obsTime = []\n",
    "for t in range(1,T+1):\n",
    "    obsTime.append(t)\n",
    "    if np.mod(t,2)==0:\n",
    "        obsPops.append(1)\n",
    "    elif np.mod(t,2)==1:\n",
    "        obsPops.append(0)\n",
    "    \n",
    "obsScheme = {'subpops': subpops,\n",
    "             'obsTime': obsTime,\n",
    "             'obsPops': obsPops}        \n",
    "        \n",
    "try:\n",
    "    obsScheme['obsIdxG']     # check for addivional  \n",
    "    obsScheme['idxgrps']     # (derivable) information\n",
    "except:                       # can fill in if missing !\n",
    "    [obsIdxG, idxgrps] = ssm_fit._computeObsIndexGroups(obsScheme,yDim)\n",
    "    obsScheme['obsIdxG'] = obsIdxG # add index groups and \n",
    "    obsScheme['idxgrps'] = idxgrps # their occurences   \n",
    "\n",
    "fitOptions = {'ifUseB' : False,  \n",
    "              'maxIter': 50, \n",
    "              'ifPlotProgress' : True,\n",
    "              'covConvEps' :0 \n",
    "             }\n",
    "pars = ssm_scripts.generatePars(xDim, yDim, uDim)\n",
    "[x,y,u] = ssm_scripts.simulateExperiment(pars,T,Trial,obsScheme)\n",
    "[A,B,Q,mu0, V0, C,d,R] = pars.copy()\n",
    "Bu = np.zeros([A.shape[0], y.shape[1], y.shape[2]])\n",
    "\n",
    "[A_0,B_0,Q_0,mu0_0, V0_0, C_0,d_0,R_0] = [A.copy(),B.copy(),Q.copy(),mu0.copy(), V0.copy(), C.copy(),d.copy(),R.copy()]\n",
    "#A_0 *= 0.9\n",
    "#Q_0 *= 1.6\n"
   ]
  },
  {
   "cell_type": "code",
   "execution_count": 53,
   "metadata": {
    "collapsed": false,
    "scrolled": false
   },
   "outputs": [],
   "source": [
    "[mu,V,P,Pinv,logc,tCovConvFt] = ssm_fit._KalmanFilter(A_0,Bu,Q_0,mu0_0,V0_0,C_0,d_0,R_0,y,obsScheme,eps=0)\n",
    "[mu_h,V_h,J,tCovConvSm] = ssm_fit._KalmanSmoother(A_0, Bu, mu.copy(), V, P, Pinv, obsTime, tCovConvFt, eps=0)\n",
    "[Ext, Extxt, Extxtm1]  = ssm_fit._KalmanParsToMoments(mu_h, V_h, J,obsTime,tCovConvFt,tCovConvSm)"
   ]
  },
  {
   "cell_type": "code",
   "execution_count": 54,
   "metadata": {
    "collapsed": false
   },
   "outputs": [],
   "source": [
    "[A_h,B_h,Q_h,mu0_h,V0_h,C_h,d_h,R_h,sy,syy,suu,suuinv,Ti] = ssm_fit._LDS_M_step(Ext, Extxt, Extxtm1, y, u, obsScheme, \n",
    "                 sy=None, syy=None, suu=None, suuinv=None, Ti=None)"
   ]
  },
  {
   "cell_type": "code",
   "execution_count": 55,
   "metadata": {
    "collapsed": false,
    "scrolled": true
   },
   "outputs": [
    {
     "name": "stdout",
     "output_type": "stream",
     "text": [
      "[[ 0.71779081 -0.47766039 -0.68528701]\n",
      " [ 0.05981419  1.02879174  0.10549889]\n",
      " [ 0.03104566  0.10135279  1.10191744]]\n",
      "[[ 0.71760047 -0.47807002 -0.68580671]\n",
      " [ 0.05917536  1.02758608  0.10384843]\n",
      " [ 0.030637    0.09978039  1.1004071 ]]\n",
      "[[ 0.71779081 -0.47766039 -0.68528701]\n",
      " [ 0.05981419  1.02879174  0.10549889]\n",
      " [ 0.03104566  0.10135279  1.10191744]]\n"
     ]
    }
   ],
   "source": [
    "print(A_0)\n",
    "print(A_h)\n",
    "print(A)"
   ]
  },
  {
   "cell_type": "code",
   "execution_count": 56,
   "metadata": {
    "collapsed": false
   },
   "outputs": [
    {
     "name": "stdout",
     "output_type": "stream",
     "text": [
      "[[ 0.5  0.   0. ]\n",
      " [ 0.   0.5  0. ]\n",
      " [ 0.   0.   0.5]]\n",
      "[[  4.99937786e-01  -1.58306127e-04  -2.19939544e-04]\n",
      " [ -1.58306127e-04   4.99550029e-01  -5.81608138e-04]\n",
      " [ -2.19939542e-04  -5.81608140e-04   4.99128315e-01]]\n",
      "[[ 0.5  0.   0. ]\n",
      " [ 0.   0.5  0. ]\n",
      " [ 0.   0.   0.5]]\n"
     ]
    }
   ],
   "source": [
    "print(Q_0)\n",
    "print(Q_h)\n",
    "print(Q)"
   ]
  },
  {
   "cell_type": "code",
   "execution_count": 31,
   "metadata": {
    "collapsed": false
   },
   "outputs": [
    {
     "name": "stdout",
     "output_type": "stream",
     "text": [
      "J[0,0,i,0]\n",
      "[[ 0.59210942 -0.00897686]\n",
      " [ 0.00102706  0.52226695]]\n",
      "V[0,0,i+1,0]\n",
      "[[ 1.18250468 -0.0041665 ]\n",
      " [-0.0041665   0.95317981]]\n",
      "P[0,0,i,0]\n",
      "[[ 1.24039986 -0.00825759]\n",
      " [-0.00825759  1.11428269]]\n",
      "V[0,0,i,0]\n",
      "[[ 1.20233394 -0.00489781]\n",
      " [-0.00489781  1.03123565]]\n",
      "V_[0,0,i,0]?\n",
      "[[ 1.20233394 -0.00489781]\n",
      " [-0.00489781  1.03123565]]\n"
     ]
    }
   ],
   "source": [
    "i = 96\n",
    "print('J[0,0,i,0]')\n",
    "print(J[:,:,i,0])\n",
    "print('V[0,0,i+1,0]')\n",
    "print(V[:,:,i+1,0])\n",
    "print('P[0,0,i,0]')\n",
    "print(P[:,:,i,0])\n",
    "print('V[0,0,i,0]')\n",
    "print(V_h[:,:,i,0])\n",
    "print('V_[0,0,i,0]?')\n",
    "print(np.dot(J[:,:,i,0], np.dot(V_h[:,:,i+1,0]-P[:,:,i,0], J[:,:,i,0].transpose())) + V[:,:,i,0])\n",
    "      "
   ]
  },
  {
   "cell_type": "code",
   "execution_count": 37,
   "metadata": {
    "collapsed": false,
    "scrolled": true
   },
   "outputs": [
    {
     "name": "stdout",
     "output_type": "stream",
     "text": [
      "[[ 1.08246649 -0.06186843]\n",
      " [-0.05786525  0.49975021]]\n",
      "[[ 1.08246649 -0.06186843]\n",
      " [-0.05786525  0.49975021]]\n"
     ]
    }
   ],
   "source": [
    "i = 93\n",
    "print(Extxtm1[:,:,i,0])\n",
    "print(np.dot(V_h[:,:,i,0], J[:,:,i-1,0].transpose()) + np.outer(Ext[:,i,0],Ext[:,i-1,0]))"
   ]
  },
  {
   "cell_type": "code",
   "execution_count": 14,
   "metadata": {
    "collapsed": false
   },
   "outputs": [
    {
     "name": "stdout",
     "output_type": "stream",
     "text": [
      "[[ 0.57867963 -0.00813537]\n",
      " [ 0.0016417   0.477408  ]]\n",
      "[[ 0.57867963 -0.00813537]\n",
      " [ 0.0016417   0.477408  ]]\n"
     ]
    }
   ],
   "source": [
    "i = 73\n",
    "print(J[:,:,i,0])\n",
    "print(np.dot(np.dot(V[:,:,i,0], A_0.transpose()), sp.linalg.inv(P[:,:,i,0])))\n",
    "      "
   ]
  },
  {
   "cell_type": "code",
   "execution_count": 16,
   "metadata": {
    "collapsed": false
   },
   "outputs": [
    {
     "name": "stdout",
     "output_type": "stream",
     "text": [
      "[[ 1.2250507  -0.007139  ]\n",
      " [-0.007139    1.07790277]]\n",
      "[[ 1.2250507  -0.007139  ]\n",
      " [-0.007139    1.07790277]]\n"
     ]
    }
   ],
   "source": [
    "i = 7\n",
    "print(P[:,:,i,0])\n",
    "print(np.dot(A_0, np.dot(V[:,:,i,0], A_0.transpose())) + Q_0)"
   ]
  },
  {
   "cell_type": "code",
   "execution_count": 19,
   "metadata": {
    "collapsed": false
   },
   "outputs": [
    {
     "name": "stdout",
     "output_type": "stream",
     "text": [
      "[ 0.24377933  0.26387999]\n",
      "[ 0.24377933  0.26387999]\n"
     ]
    }
   ],
   "source": [
    "i = 39\n",
    "print(mu_h[:,i,0])\n",
    "print(mu[:,i,0] + np.dot(J[:,:,i,0], mu_h[:,i+1,0]-np.dot(A_0,mu[:,i,0])))\n",
    "\n"
   ]
  },
  {
   "cell_type": "code",
   "execution_count": 24,
   "metadata": {
    "collapsed": false
   },
   "outputs": [
    {
     "name": "stdout",
     "output_type": "stream",
     "text": [
      "[[ 1.22509356 -0.00714214]\n",
      " [-0.00714214  1.07790417]]\n",
      "[[ 1.22509356 -0.00714214]\n",
      " [-0.00714214  1.07790417]]\n"
     ]
    }
   ],
   "source": [
    "i = 30\n",
    "print(V[:,:,i,0])\n",
    "print(P[:,:,i-1,0])"
   ]
  },
  {
   "cell_type": "code",
   "execution_count": 28,
   "metadata": {
    "collapsed": false
   },
   "outputs": [
    {
     "name": "stdout",
     "output_type": "stream",
     "text": [
      "[ 0.38531438 -0.13316378]\n",
      "[ 0.38531438 -0.13316378]\n"
     ]
    }
   ],
   "source": [
    "i = 78\n",
    "print(mu[:,i,0])\n",
    "print(np.dot(A_0,mu[:,i-1,0]))\n"
   ]
  }
 ],
 "metadata": {
  "kernelspec": {
   "display_name": "Python 3",
   "language": "python",
   "name": "python3"
  },
  "language_info": {
   "codemirror_mode": {
    "name": "ipython",
    "version": 3
   },
   "file_extension": ".py",
   "mimetype": "text/x-python",
   "name": "python",
   "nbconvert_exporter": "python",
   "pygments_lexer": "ipython3",
   "version": "3.3.5"
  }
 },
 "nbformat": 4,
 "nbformat_minor": 0
}
