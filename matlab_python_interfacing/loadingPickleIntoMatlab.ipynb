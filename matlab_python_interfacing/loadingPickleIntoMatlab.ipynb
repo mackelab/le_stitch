{
 "metadata": {
  "name": ""
 },
 "nbformat": 3,
 "nbformat_minor": 0,
 "worksheets": [
  {
   "cells": [
    {
     "cell_type": "code",
     "collapsed": false,
     "input": [
      "import sys\n",
      "import cPickle as pickle\n",
      "import numpy as np\n",
      "from scipy.io import savemat\n",
      "\n",
      "print('system version needs to be 2.x to be able to use cPickle and load the data as it is stored')\n",
      "print(sys.version)\n",
      "\n",
      "# loading data\n",
      "exc = pickle.load(open('/home/mackelab/Desktop/Projects/Stitching/data/clustered_networks/raw_spikes/spiketimes_e_long.p','rb'))\n",
      "inh = pickle.load(open('/home/mackelab/Desktop/Projects/Stitching/data/clustered_networks/raw_spikes/spiketimes_i_long.p','rb')) \n",
      "print('number of excitatory cells:')\n",
      "print(len(exc.keys()))\n",
      "print('number of inhibitory cells:')\n",
      "print(len(inh.keys()))\n",
      "\n",
      "for j in range(len(exc.keys())):\n",
      "    exc['n'+str(j)] = exc.pop(j)\n",
      "for j in range(len(inh.keys())):\n",
      "    inh['n'+str(j)] = inh.pop(j)\n",
      "    \n",
      "matlabSaveFile = {'exc': exc, 'inh': inh}\n",
      "\n",
      "fileName = '091115_v1' \n",
      "\n",
      "savemat('/home/mackelab/Desktop/Projects/Stitching/data/clustered_networks/raw_spikes/'+fileName+'.mat',matlabSaveFile)"
     ],
     "language": "python",
     "metadata": {},
     "outputs": [
      {
       "output_type": "stream",
       "stream": "stdout",
       "text": [
        "system version needs to be 2.x to be able to use cPickle and load the data as it is stored\n",
        "2.7.6 (default, Jun 22 2015, 17:58:13) \n",
        "[GCC 4.8.2]\n",
        "number of excitatory cells:"
       ]
      },
      {
       "output_type": "stream",
       "stream": "stdout",
       "text": [
        "\n",
        "1040\n",
        "number of inhibitory cells:\n",
        "260\n"
       ]
      }
     ],
     "prompt_number": 2
    },
    {
     "cell_type": "code",
     "collapsed": false,
     "input": [
      "\n"
     ],
     "language": "python",
     "metadata": {},
     "outputs": [
      {
       "metadata": {},
       "output_type": "pyout",
       "prompt_number": 27,
       "text": [
        "array([   0.2514,    0.4822,    0.6115, ...,  199.5026,  199.5475,\n",
        "        199.6482])"
       ]
      }
     ],
     "prompt_number": 27
    }
   ],
   "metadata": {}
  }
 ]
}