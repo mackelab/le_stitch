{
 "metadata": {
  "name": "Untitled0"
 },
 "nbformat": 3,
 "nbformat_minor": 0,
 "worksheets": [
  {
   "cells": [
    {
     "cell_type": "code",
     "collapsed": false,
     "input": "import sys\nimport cPickle as pickle\nimport numpy as np\nfrom scipy.io import savemat\n\nprint('system version needs to be 2.x to be able to use cPickle and load the data as it is stored')\nprint(sys.version)\n\n# loading data\nexc = pickle.load(open('/home/mackelab/Desktop/Projects/Stitching/data/clustered_networks/raw_spikes/spiketimes_e.p','rb'))\ninh = pickle.load(open('/home/mackelab/Desktop/Projects/Stitching/data/clustered_networks/raw_spikes/spiketimes_i.p','rb')) \nprint('number of excitatory cells:')\nprint(len(e.keys()))\nprint('number of inhibitory cells:')\nprint(len(i.keys()))\n\nfor j in range(len(exc.keys())):\n    exc['n'+str(j)] = exc.pop(j)\nfor j in range(len(inh.keys())):\n    inh['n'+str(j)] = inh.pop(j)\n    \nmatlabSaveFile = {'exc': exc, 'inh': inh}\nsavemat('/home/mackelab/Desktop/Projects/Stitching/data/clustered_networks/raw_spikes/81115_v1.mat',matlabSaveFile)",
     "language": "python",
     "metadata": {},
     "outputs": [
      {
       "output_type": "stream",
       "stream": "stdout",
       "text": "system version needs to be 2.x to be able to use cPickle and load the data as it is stored\n2.7.6 (default, Jun 22 2015, 17:58:13) \n[GCC 4.8.2]\nnumber of excitatory cells:"
      },
      {
       "output_type": "stream",
       "stream": "stdout",
       "text": "\n1040\nnumber of inhibitory cells:\n259\n"
      }
     ],
     "prompt_number": 28
    },
    {
     "cell_type": "code",
     "collapsed": false,
     "input": "\n",
     "language": "python",
     "metadata": {},
     "outputs": [
      {
       "metadata": {},
       "output_type": "pyout",
       "prompt_number": 27,
       "text": "array([   0.2514,    0.4822,    0.6115, ...,  199.5026,  199.5475,\n        199.6482])"
      }
     ],
     "prompt_number": 27
    }
   ],
   "metadata": {}
  }
 ]
}