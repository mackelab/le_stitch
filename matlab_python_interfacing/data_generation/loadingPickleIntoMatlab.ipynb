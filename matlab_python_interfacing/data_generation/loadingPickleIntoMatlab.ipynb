{
 "cells": [
  {
   "cell_type": "code",
   "execution_count": 2,
   "metadata": {
    "collapsed": false
   },
   "outputs": [
    {
     "name": "stdout",
     "output_type": "stream",
     "text": [
      "system version needs to be 2.x to be able to use cPickle and load the data as it is stored\n",
      "2.7.6 (default, Jun 22 2015, 17:58:13) \n",
      "[GCC 4.8.2]\n",
      "number of excitatory cells:\n",
      "1040\n",
      "number of inhibitory cells:\n",
      "260\n"
     ]
    }
   ],
   "source": [
    "import sys\n",
    "import cPickle as pickle\n",
    "import numpy as np\n",
    "from scipy.io import savemat\n",
    "\n",
    "print('system version needs to be 2.x to be able to use cPickle and load the data as it is stored')\n",
    "print(sys.version)\n",
    "\n",
    "# loading data\n",
    "exc = pickle.load(open('/home/mackelab/Desktop/Projects/Stitching/data/clustered_networks/raw_spikes/spiketimes_e_long.p','rb'))\n",
    "inh = pickle.load(open('/home/mackelab/Desktop/Projects/Stitching/data/clustered_networks/raw_spikes/spiketimes_i_long.p','rb')) \n",
    "print('number of excitatory cells:')\n",
    "print(len(exc.keys()))\n",
    "print('number of inhibitory cells:')\n",
    "print(len(inh.keys()))\n",
    "\n",
    "for j in range(len(exc.keys())):\n",
    "    exc['n'+str(j)] = exc.pop(j)\n",
    "for j in range(len(inh.keys())):\n",
    "    inh['n'+str(j)] = inh.pop(j)\n",
    "    \n",
    "matlabSaveFile = {'exc': exc, 'inh': inh}\n",
    "fileName = '091115_v1' \n",
    "\n",
    "savemat('/home/mackelab/Desktop/Projects/Stitching/data/clustered_networks/raw_spikes/'+fileName+'.mat',matlabSaveFile)"
   ]
  },
  {
   "cell_type": "code",
   "execution_count": 27,
   "metadata": {
    "collapsed": false
   },
   "outputs": [
    {
     "data": {
      "text/plain": [
       "array([   0.2514,    0.4822,    0.6115, ...,  199.5026,  199.5475,\n",
       "        199.6482])"
      ]
     },
     "execution_count": 27,
     "metadata": {},
     "output_type": "execute_result"
    }
   ],
   "source": [
    "\n"
   ]
  }
 ],
 "metadata": {
  "kernelspec": {
   "display_name": "Python 3",
   "language": "python",
   "name": "python3"
  },
  "language_info": {
   "codemirror_mode": {
    "name": "ipython",
    "version": 3
   },
   "file_extension": ".py",
   "mimetype": "text/x-python",
   "name": "python",
   "nbconvert_exporter": "python",
   "pygments_lexer": "ipython3",
   "version": "3.5.1"
  }
 },
 "nbformat": 4,
 "nbformat_minor": 0
}
